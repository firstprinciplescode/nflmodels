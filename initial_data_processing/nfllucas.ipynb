{
  "cells": [
    {
      "cell_type": "code",
      "execution_count": null,
      "metadata": {
        "colab": {
          "base_uri": "https://localhost:8080/"
        },
        "id": "G0PuG0u_5-cc",
        "outputId": "a31a1ef6-2bbc-4a19-a68c-7182bb6c5f02"
      },
      "outputs": [
        {
          "output_type": "stream",
          "name": "stdout",
          "text": [
            "Requirement already satisfied: pandas in /usr/local/lib/python3.11/dist-packages (2.2.2)\n",
            "Requirement already satisfied: requests in /usr/local/lib/python3.11/dist-packages (2.32.3)\n",
            "Requirement already satisfied: numpy>=1.23.2 in /usr/local/lib/python3.11/dist-packages (from pandas) (1.26.4)\n",
            "Requirement already satisfied: python-dateutil>=2.8.2 in /usr/local/lib/python3.11/dist-packages (from pandas) (2.8.2)\n",
            "Requirement already satisfied: pytz>=2020.1 in /usr/local/lib/python3.11/dist-packages (from pandas) (2025.1)\n",
            "Requirement already satisfied: tzdata>=2022.7 in /usr/local/lib/python3.11/dist-packages (from pandas) (2025.1)\n",
            "Requirement already satisfied: charset-normalizer<4,>=2 in /usr/local/lib/python3.11/dist-packages (from requests) (3.4.1)\n",
            "Requirement already satisfied: idna<4,>=2.5 in /usr/local/lib/python3.11/dist-packages (from requests) (3.10)\n",
            "Requirement already satisfied: urllib3<3,>=1.21.1 in /usr/local/lib/python3.11/dist-packages (from requests) (2.3.0)\n",
            "Requirement already satisfied: certifi>=2017.4.17 in /usr/local/lib/python3.11/dist-packages (from requests) (2025.1.31)\n",
            "Requirement already satisfied: six>=1.5 in /usr/local/lib/python3.11/dist-packages (from python-dateutil>=2.8.2->pandas) (1.17.0)\n"
          ]
        }
      ],
      "source": [
        "pip install pandas requests"
      ]
    },
    {
      "cell_type": "code",
      "execution_count": null,
      "metadata": {
        "colab": {
          "base_uri": "https://localhost:8080/"
        },
        "id": "w1PVN_E56A-F",
        "outputId": "f5a3d1b1-9d22-4c9e-f5f4-66df4678a71c"
      },
      "outputs": [
        {
          "output_type": "stream",
          "name": "stdout",
          "text": [
            "Requirement already satisfied: openpyxl in /usr/local/lib/python3.11/dist-packages (3.1.5)\n",
            "Requirement already satisfied: et-xmlfile in /usr/local/lib/python3.11/dist-packages (from openpyxl) (2.0.0)\n"
          ]
        }
      ],
      "source": [
        "import pandas\n",
        "import requests\n",
        "from pandas import DataFrame\n",
        "from google.colab import files\n",
        "\n",
        "!pip install openpyxl"
      ]
    },
    {
      "cell_type": "code",
      "execution_count": null,
      "metadata": {
        "id": "B5hwvFStIzOu"
      },
      "outputs": [],
      "source": [
        "cookies = {\n",
        "    '_premium_key': 'SFMyNTY.g3QAAAABbQAAABZndWFyZGlhbl9kZWZhdWx0X3Rva2VubQAAAlhleUpoYkdjaU9pSklVelV4TWlJc0luUjVjQ0k2SWtwWFZDSjkuZXlKaGRXUWlPaUpRY21WdGFYVnRJaXdpWlhod0lqb3hOek16TVRBMk5UQXhMQ0pwWVhRaU9qRTNNek14TURJNU1ERXNJbWx6Y3lJNklsQnlaVzFwZFcwaUxDSnFkR2tpT2lKalpXRmtPVFl6TlMxaVltWXdMVFF3WXprdFltVTFOUzB3TVRObE5tTTNNMkV3WkRjaUxDSnVZbVlpT2pFM016TXhNREk1TURBc0luQmxiU0k2ZXlKaFlXWWlPakVzSW01allXRWlPakVzSW01bWJDSTZNU3dpZFdac0lqb3hmU3dpYzNWaUlqb2llMXdpWlcxaGFXeGNJanBjSW1GdVpIbHNhVFpBZVdGb2IyOHVZMjl0WENJc1hDSm1aV0YwZFhKbGMxd2lPbHRkTEZ3aVptbHljM1JmYm1GdFpWd2lPbTUxYkd3c1hDSnNZWE4wWDI1aGJXVmNJanB1ZFd4c0xGd2lkV2xrWENJNlhDSXdaamMyTjJFNE5pMDFNREl5TFRReU9XWXRZV0poTUMwNFlURTNaV1F6TmpRNE1ESmNJaXhjSW5abGNuUnBZMkZzWENJNlhDSkRiMjV6ZFcxbGNsd2lmU0lzSW5SNWNDSTZJbUZqWTJWemN5SjkuR1FBeENHRmRBSmlfdkt3SDRaWmViS2dUOVJqV3RwSENDZ3RJWWhRUkJnZm00Qkp4VE9vTGtTT1d5R0t3UEwzX0dPLW83Q2g3eWc3WmhQZVhwOVBrVFE.TCyA1N5u3stTaSBGYclF5QdfX5Et_bu55I8Mfwtknbw'\n",
        "    , 'c_groot_access_token': 'tbghyksOlISnmdqC0_3YKViVgfmIY22131SROB8_XMI1gn6exa1D9QirGI_cmMGY'\n",
        "    , 'c_groot_refresh_token': 'IZV_4eU2n0J_Zm8PC2v1HjcLMDdoSlCOLoDaANkWg4oxvbvoBY95v8yxMZD4Z3MN'\n",
        "    , 'c_groot_access_ts': '2025-03-03T03:34:58Z'\n",
        "}"
      ]
    },
    {
      "cell_type": "code",
      "source": [
        "# NOTE: ALL FILES NEED TO BE BROUGHT IN OVER AND OVER AGAIN DUE TO PRESENCE OF \"PHANTOM\" FIELDS / COLUMNS"
      ],
      "metadata": {
        "id": "agzbyPKA0Q5h"
      },
      "execution_count": null,
      "outputs": []
    },
    {
      "cell_type": "code",
      "execution_count": null,
      "metadata": {
        "id": "w0Mx4xRO6jxR"
      },
      "outputs": [],
      "source": [
        "import requests\n",
        "import pandas as pd\n",
        "\n",
        "# Lists of years and weeks to iterate through\n",
        "years = [2024, 2023, 2022, 2021, 2020, 2019, 2018, 2017, 2016]\n",
        "weeks = [1,2,3,4,5,6,7,8,9,10,11,12,13,14,15,16,17,18,28,29,30,32]\n",
        "\n",
        "# Creating a list to store the flattened data\n",
        "flattened_data = []\n",
        "\n",
        "\n",
        "### ALL THE GAME IDS\n",
        "\n",
        "# ALL THE OTHER STUFF - HAVE ONLY WEEK BY WEEK NOW"
      ]
    },
    {
      "cell_type": "code",
      "execution_count": null,
      "metadata": {
        "colab": {
          "base_uri": "https://localhost:8080/"
        },
        "id": "7IooR6aR6n6M",
        "outputId": "8be7c30a-3ffd-4ba0-94a4-ad11e903439a"
      },
      "outputs": [
        {
          "output_type": "stream",
          "name": "stdout",
          "text": [
            "https://premium.pff.com/api/v1/games?league=nfl&season=2024&week=1\n",
            "https://premium.pff.com/api/v1/games?league=nfl&season=2024&week=2\n",
            "https://premium.pff.com/api/v1/games?league=nfl&season=2024&week=3\n",
            "https://premium.pff.com/api/v1/games?league=nfl&season=2024&week=4\n",
            "https://premium.pff.com/api/v1/games?league=nfl&season=2024&week=5\n",
            "https://premium.pff.com/api/v1/games?league=nfl&season=2024&week=6\n",
            "https://premium.pff.com/api/v1/games?league=nfl&season=2024&week=7\n",
            "https://premium.pff.com/api/v1/games?league=nfl&season=2024&week=8\n",
            "https://premium.pff.com/api/v1/games?league=nfl&season=2024&week=9\n",
            "https://premium.pff.com/api/v1/games?league=nfl&season=2024&week=10\n",
            "https://premium.pff.com/api/v1/games?league=nfl&season=2024&week=11\n",
            "https://premium.pff.com/api/v1/games?league=nfl&season=2024&week=12\n",
            "https://premium.pff.com/api/v1/games?league=nfl&season=2024&week=13\n",
            "https://premium.pff.com/api/v1/games?league=nfl&season=2024&week=14\n",
            "https://premium.pff.com/api/v1/games?league=nfl&season=2024&week=15\n",
            "https://premium.pff.com/api/v1/games?league=nfl&season=2024&week=16\n",
            "https://premium.pff.com/api/v1/games?league=nfl&season=2024&week=17\n",
            "https://premium.pff.com/api/v1/games?league=nfl&season=2024&week=18\n",
            "https://premium.pff.com/api/v1/games?league=nfl&season=2024&week=28\n",
            "https://premium.pff.com/api/v1/games?league=nfl&season=2024&week=29\n",
            "https://premium.pff.com/api/v1/games?league=nfl&season=2024&week=30\n",
            "https://premium.pff.com/api/v1/games?league=nfl&season=2024&week=32\n",
            "https://premium.pff.com/api/v1/games?league=nfl&season=2023&week=1\n",
            "https://premium.pff.com/api/v1/games?league=nfl&season=2023&week=2\n",
            "https://premium.pff.com/api/v1/games?league=nfl&season=2023&week=3\n",
            "https://premium.pff.com/api/v1/games?league=nfl&season=2023&week=4\n",
            "https://premium.pff.com/api/v1/games?league=nfl&season=2023&week=5\n",
            "https://premium.pff.com/api/v1/games?league=nfl&season=2023&week=6\n",
            "https://premium.pff.com/api/v1/games?league=nfl&season=2023&week=7\n",
            "https://premium.pff.com/api/v1/games?league=nfl&season=2023&week=8\n",
            "https://premium.pff.com/api/v1/games?league=nfl&season=2023&week=9\n",
            "https://premium.pff.com/api/v1/games?league=nfl&season=2023&week=10\n",
            "https://premium.pff.com/api/v1/games?league=nfl&season=2023&week=11\n",
            "https://premium.pff.com/api/v1/games?league=nfl&season=2023&week=12\n",
            "https://premium.pff.com/api/v1/games?league=nfl&season=2023&week=13\n",
            "https://premium.pff.com/api/v1/games?league=nfl&season=2023&week=14\n",
            "https://premium.pff.com/api/v1/games?league=nfl&season=2023&week=15\n",
            "https://premium.pff.com/api/v1/games?league=nfl&season=2023&week=16\n",
            "https://premium.pff.com/api/v1/games?league=nfl&season=2023&week=17\n",
            "https://premium.pff.com/api/v1/games?league=nfl&season=2023&week=18\n",
            "https://premium.pff.com/api/v1/games?league=nfl&season=2023&week=28\n",
            "https://premium.pff.com/api/v1/games?league=nfl&season=2023&week=29\n",
            "https://premium.pff.com/api/v1/games?league=nfl&season=2023&week=30\n",
            "https://premium.pff.com/api/v1/games?league=nfl&season=2023&week=32\n",
            "https://premium.pff.com/api/v1/games?league=nfl&season=2022&week=1\n",
            "https://premium.pff.com/api/v1/games?league=nfl&season=2022&week=2\n",
            "https://premium.pff.com/api/v1/games?league=nfl&season=2022&week=3\n",
            "https://premium.pff.com/api/v1/games?league=nfl&season=2022&week=4\n",
            "https://premium.pff.com/api/v1/games?league=nfl&season=2022&week=5\n",
            "https://premium.pff.com/api/v1/games?league=nfl&season=2022&week=6\n",
            "https://premium.pff.com/api/v1/games?league=nfl&season=2022&week=7\n",
            "https://premium.pff.com/api/v1/games?league=nfl&season=2022&week=8\n",
            "https://premium.pff.com/api/v1/games?league=nfl&season=2022&week=9\n",
            "https://premium.pff.com/api/v1/games?league=nfl&season=2022&week=10\n",
            "https://premium.pff.com/api/v1/games?league=nfl&season=2022&week=11\n",
            "https://premium.pff.com/api/v1/games?league=nfl&season=2022&week=12\n",
            "https://premium.pff.com/api/v1/games?league=nfl&season=2022&week=13\n",
            "https://premium.pff.com/api/v1/games?league=nfl&season=2022&week=14\n",
            "https://premium.pff.com/api/v1/games?league=nfl&season=2022&week=15\n",
            "https://premium.pff.com/api/v1/games?league=nfl&season=2022&week=16\n",
            "https://premium.pff.com/api/v1/games?league=nfl&season=2022&week=17\n",
            "https://premium.pff.com/api/v1/games?league=nfl&season=2022&week=18\n",
            "https://premium.pff.com/api/v1/games?league=nfl&season=2022&week=28\n",
            "https://premium.pff.com/api/v1/games?league=nfl&season=2022&week=29\n",
            "https://premium.pff.com/api/v1/games?league=nfl&season=2022&week=30\n",
            "https://premium.pff.com/api/v1/games?league=nfl&season=2022&week=32\n",
            "https://premium.pff.com/api/v1/games?league=nfl&season=2021&week=1\n",
            "https://premium.pff.com/api/v1/games?league=nfl&season=2021&week=2\n",
            "https://premium.pff.com/api/v1/games?league=nfl&season=2021&week=3\n",
            "https://premium.pff.com/api/v1/games?league=nfl&season=2021&week=4\n",
            "https://premium.pff.com/api/v1/games?league=nfl&season=2021&week=5\n",
            "https://premium.pff.com/api/v1/games?league=nfl&season=2021&week=6\n",
            "https://premium.pff.com/api/v1/games?league=nfl&season=2021&week=7\n",
            "https://premium.pff.com/api/v1/games?league=nfl&season=2021&week=8\n",
            "https://premium.pff.com/api/v1/games?league=nfl&season=2021&week=9\n",
            "https://premium.pff.com/api/v1/games?league=nfl&season=2021&week=10\n",
            "https://premium.pff.com/api/v1/games?league=nfl&season=2021&week=11\n",
            "https://premium.pff.com/api/v1/games?league=nfl&season=2021&week=12\n",
            "https://premium.pff.com/api/v1/games?league=nfl&season=2021&week=13\n",
            "https://premium.pff.com/api/v1/games?league=nfl&season=2021&week=14\n",
            "https://premium.pff.com/api/v1/games?league=nfl&season=2021&week=15\n",
            "https://premium.pff.com/api/v1/games?league=nfl&season=2021&week=16\n",
            "https://premium.pff.com/api/v1/games?league=nfl&season=2021&week=17\n",
            "https://premium.pff.com/api/v1/games?league=nfl&season=2021&week=18\n",
            "https://premium.pff.com/api/v1/games?league=nfl&season=2021&week=28\n",
            "https://premium.pff.com/api/v1/games?league=nfl&season=2021&week=29\n",
            "https://premium.pff.com/api/v1/games?league=nfl&season=2021&week=30\n",
            "https://premium.pff.com/api/v1/games?league=nfl&season=2021&week=32\n",
            "https://premium.pff.com/api/v1/games?league=nfl&season=2020&week=1\n",
            "https://premium.pff.com/api/v1/games?league=nfl&season=2020&week=2\n",
            "https://premium.pff.com/api/v1/games?league=nfl&season=2020&week=3\n",
            "https://premium.pff.com/api/v1/games?league=nfl&season=2020&week=4\n",
            "https://premium.pff.com/api/v1/games?league=nfl&season=2020&week=5\n",
            "https://premium.pff.com/api/v1/games?league=nfl&season=2020&week=6\n",
            "https://premium.pff.com/api/v1/games?league=nfl&season=2020&week=7\n",
            "https://premium.pff.com/api/v1/games?league=nfl&season=2020&week=8\n",
            "https://premium.pff.com/api/v1/games?league=nfl&season=2020&week=9\n",
            "https://premium.pff.com/api/v1/games?league=nfl&season=2020&week=10\n",
            "https://premium.pff.com/api/v1/games?league=nfl&season=2020&week=11\n",
            "https://premium.pff.com/api/v1/games?league=nfl&season=2020&week=12\n",
            "https://premium.pff.com/api/v1/games?league=nfl&season=2020&week=13\n",
            "https://premium.pff.com/api/v1/games?league=nfl&season=2020&week=14\n",
            "https://premium.pff.com/api/v1/games?league=nfl&season=2020&week=15\n",
            "https://premium.pff.com/api/v1/games?league=nfl&season=2020&week=16\n",
            "https://premium.pff.com/api/v1/games?league=nfl&season=2020&week=17\n",
            "https://premium.pff.com/api/v1/games?league=nfl&season=2020&week=18\n",
            "https://premium.pff.com/api/v1/games?league=nfl&season=2020&week=28\n",
            "https://premium.pff.com/api/v1/games?league=nfl&season=2020&week=29\n",
            "https://premium.pff.com/api/v1/games?league=nfl&season=2020&week=30\n",
            "https://premium.pff.com/api/v1/games?league=nfl&season=2020&week=32\n",
            "https://premium.pff.com/api/v1/games?league=nfl&season=2019&week=1\n",
            "https://premium.pff.com/api/v1/games?league=nfl&season=2019&week=2\n",
            "https://premium.pff.com/api/v1/games?league=nfl&season=2019&week=3\n",
            "https://premium.pff.com/api/v1/games?league=nfl&season=2019&week=4\n",
            "https://premium.pff.com/api/v1/games?league=nfl&season=2019&week=5\n",
            "https://premium.pff.com/api/v1/games?league=nfl&season=2019&week=6\n",
            "https://premium.pff.com/api/v1/games?league=nfl&season=2019&week=7\n",
            "https://premium.pff.com/api/v1/games?league=nfl&season=2019&week=8\n",
            "https://premium.pff.com/api/v1/games?league=nfl&season=2019&week=9\n",
            "https://premium.pff.com/api/v1/games?league=nfl&season=2019&week=10\n",
            "https://premium.pff.com/api/v1/games?league=nfl&season=2019&week=11\n",
            "https://premium.pff.com/api/v1/games?league=nfl&season=2019&week=12\n",
            "https://premium.pff.com/api/v1/games?league=nfl&season=2019&week=13\n",
            "https://premium.pff.com/api/v1/games?league=nfl&season=2019&week=14\n",
            "https://premium.pff.com/api/v1/games?league=nfl&season=2019&week=15\n",
            "https://premium.pff.com/api/v1/games?league=nfl&season=2019&week=16\n",
            "https://premium.pff.com/api/v1/games?league=nfl&season=2019&week=17\n",
            "https://premium.pff.com/api/v1/games?league=nfl&season=2019&week=18\n",
            "https://premium.pff.com/api/v1/games?league=nfl&season=2019&week=28\n",
            "https://premium.pff.com/api/v1/games?league=nfl&season=2019&week=29\n",
            "https://premium.pff.com/api/v1/games?league=nfl&season=2019&week=30\n",
            "https://premium.pff.com/api/v1/games?league=nfl&season=2019&week=32\n",
            "https://premium.pff.com/api/v1/games?league=nfl&season=2018&week=1\n",
            "https://premium.pff.com/api/v1/games?league=nfl&season=2018&week=2\n",
            "https://premium.pff.com/api/v1/games?league=nfl&season=2018&week=3\n",
            "https://premium.pff.com/api/v1/games?league=nfl&season=2018&week=4\n",
            "https://premium.pff.com/api/v1/games?league=nfl&season=2018&week=5\n",
            "https://premium.pff.com/api/v1/games?league=nfl&season=2018&week=6\n",
            "https://premium.pff.com/api/v1/games?league=nfl&season=2018&week=7\n",
            "https://premium.pff.com/api/v1/games?league=nfl&season=2018&week=8\n",
            "https://premium.pff.com/api/v1/games?league=nfl&season=2018&week=9\n",
            "https://premium.pff.com/api/v1/games?league=nfl&season=2018&week=10\n",
            "https://premium.pff.com/api/v1/games?league=nfl&season=2018&week=11\n",
            "https://premium.pff.com/api/v1/games?league=nfl&season=2018&week=12\n",
            "https://premium.pff.com/api/v1/games?league=nfl&season=2018&week=13\n",
            "https://premium.pff.com/api/v1/games?league=nfl&season=2018&week=14\n",
            "https://premium.pff.com/api/v1/games?league=nfl&season=2018&week=15\n",
            "https://premium.pff.com/api/v1/games?league=nfl&season=2018&week=16\n",
            "https://premium.pff.com/api/v1/games?league=nfl&season=2018&week=17\n",
            "https://premium.pff.com/api/v1/games?league=nfl&season=2018&week=18\n",
            "https://premium.pff.com/api/v1/games?league=nfl&season=2018&week=28\n",
            "https://premium.pff.com/api/v1/games?league=nfl&season=2018&week=29\n",
            "https://premium.pff.com/api/v1/games?league=nfl&season=2018&week=30\n",
            "https://premium.pff.com/api/v1/games?league=nfl&season=2018&week=32\n",
            "https://premium.pff.com/api/v1/games?league=nfl&season=2017&week=1\n",
            "https://premium.pff.com/api/v1/games?league=nfl&season=2017&week=2\n",
            "https://premium.pff.com/api/v1/games?league=nfl&season=2017&week=3\n",
            "https://premium.pff.com/api/v1/games?league=nfl&season=2017&week=4\n",
            "https://premium.pff.com/api/v1/games?league=nfl&season=2017&week=5\n",
            "https://premium.pff.com/api/v1/games?league=nfl&season=2017&week=6\n",
            "https://premium.pff.com/api/v1/games?league=nfl&season=2017&week=7\n",
            "https://premium.pff.com/api/v1/games?league=nfl&season=2017&week=8\n",
            "https://premium.pff.com/api/v1/games?league=nfl&season=2017&week=9\n",
            "https://premium.pff.com/api/v1/games?league=nfl&season=2017&week=10\n",
            "https://premium.pff.com/api/v1/games?league=nfl&season=2017&week=11\n",
            "https://premium.pff.com/api/v1/games?league=nfl&season=2017&week=12\n",
            "https://premium.pff.com/api/v1/games?league=nfl&season=2017&week=13\n",
            "https://premium.pff.com/api/v1/games?league=nfl&season=2017&week=14\n",
            "https://premium.pff.com/api/v1/games?league=nfl&season=2017&week=15\n",
            "https://premium.pff.com/api/v1/games?league=nfl&season=2017&week=16\n",
            "https://premium.pff.com/api/v1/games?league=nfl&season=2017&week=17\n",
            "https://premium.pff.com/api/v1/games?league=nfl&season=2017&week=18\n",
            "https://premium.pff.com/api/v1/games?league=nfl&season=2017&week=28\n",
            "https://premium.pff.com/api/v1/games?league=nfl&season=2017&week=29\n",
            "https://premium.pff.com/api/v1/games?league=nfl&season=2017&week=30\n",
            "https://premium.pff.com/api/v1/games?league=nfl&season=2017&week=32\n",
            "https://premium.pff.com/api/v1/games?league=nfl&season=2016&week=1\n",
            "https://premium.pff.com/api/v1/games?league=nfl&season=2016&week=2\n",
            "https://premium.pff.com/api/v1/games?league=nfl&season=2016&week=3\n",
            "https://premium.pff.com/api/v1/games?league=nfl&season=2016&week=4\n",
            "https://premium.pff.com/api/v1/games?league=nfl&season=2016&week=5\n",
            "https://premium.pff.com/api/v1/games?league=nfl&season=2016&week=6\n",
            "https://premium.pff.com/api/v1/games?league=nfl&season=2016&week=7\n",
            "https://premium.pff.com/api/v1/games?league=nfl&season=2016&week=8\n",
            "https://premium.pff.com/api/v1/games?league=nfl&season=2016&week=9\n",
            "https://premium.pff.com/api/v1/games?league=nfl&season=2016&week=10\n",
            "https://premium.pff.com/api/v1/games?league=nfl&season=2016&week=11\n",
            "https://premium.pff.com/api/v1/games?league=nfl&season=2016&week=12\n",
            "https://premium.pff.com/api/v1/games?league=nfl&season=2016&week=13\n",
            "https://premium.pff.com/api/v1/games?league=nfl&season=2016&week=14\n",
            "https://premium.pff.com/api/v1/games?league=nfl&season=2016&week=15\n",
            "https://premium.pff.com/api/v1/games?league=nfl&season=2016&week=16\n",
            "https://premium.pff.com/api/v1/games?league=nfl&season=2016&week=17\n",
            "https://premium.pff.com/api/v1/games?league=nfl&season=2016&week=18\n",
            "https://premium.pff.com/api/v1/games?league=nfl&season=2016&week=28\n",
            "https://premium.pff.com/api/v1/games?league=nfl&season=2016&week=29\n",
            "https://premium.pff.com/api/v1/games?league=nfl&season=2016&week=30\n",
            "https://premium.pff.com/api/v1/games?league=nfl&season=2016&week=32\n"
          ]
        }
      ],
      "source": [
        "# Loop through each year and week to get data\n",
        "for year in years:\n",
        "    for week in weeks:\n",
        "        # Construct the URL\n",
        "        url = f'https://premium.pff.com/api/v1/games?league=nfl&season={year}&week={week}'\n",
        "\n",
        "        print(url)\n",
        "        # Make the request\n",
        "        response = requests.get(url, cookies=cookies)\n",
        "\n",
        "        # Check if the request was successful\n",
        "        if response.status_code == 200:\n",
        "            # Parsing JSON response\n",
        "            games = response.json().get('games', [])\n",
        "\n",
        "            # Loop through each game in the JSON response\n",
        "            for game in games:\n",
        "                # Extract relevant fields\n",
        "                flattened_game = {\n",
        "                    'id': game.get('id', None),\n",
        "                    'season': game.get('season', None),\n",
        "                    'week': game.get('week', None),\n",
        "                    'away_abbreviation': game['away_team'].get('abbreviation', None),\n",
        "                    'away_franchise_id': game.get('away_franchise_id', None),\n",
        "                    'home_abbreviation': game['home_team'].get('abbreviation', None),\n",
        "                    'home_franchise_id': game.get('home_franchise_id', None),\n",
        "                    'away_score': game.get('score', {}).get('away_team', None),\n",
        "                    'home_score': game.get('score', {}).get('home_team', None)\n",
        "                }\n",
        "                # Append the flattened data to the list\n",
        "                flattened_data.append(flattened_game)\n",
        "        else:\n",
        "            print(f\"Failed to fetch data for year {year}, week {week}. Status code: {response.status_code}\")\n",
        "\n",
        "# Convert the list to a DataFrame\n",
        "df_flattened = pd.DataFrame(flattened_data)"
      ]
    },
    {
      "cell_type": "code",
      "execution_count": null,
      "metadata": {
        "colab": {
          "base_uri": "https://localhost:8080/",
          "height": 52
        },
        "id": "av6FLgPbAKUj",
        "outputId": "294af3e0-01f6-489b-ff5f-bf3b91f4b4c6"
      },
      "outputs": [
        {
          "output_type": "stream",
          "name": "stdout",
          "text": [
            "Requirement already satisfied: openpyxl in /usr/local/lib/python3.11/dist-packages (3.1.5)\n",
            "Requirement already satisfied: et-xmlfile in /usr/local/lib/python3.11/dist-packages (from openpyxl) (2.0.0)\n"
          ]
        },
        {
          "output_type": "display_data",
          "data": {
            "text/plain": [
              "<IPython.core.display.Javascript object>"
            ],
            "application/javascript": [
              "\n",
              "    async function download(id, filename, size) {\n",
              "      if (!google.colab.kernel.accessAllowed) {\n",
              "        return;\n",
              "      }\n",
              "      const div = document.createElement('div');\n",
              "      const label = document.createElement('label');\n",
              "      label.textContent = `Downloading \"${filename}\": `;\n",
              "      div.appendChild(label);\n",
              "      const progress = document.createElement('progress');\n",
              "      progress.max = size;\n",
              "      div.appendChild(progress);\n",
              "      document.body.appendChild(div);\n",
              "\n",
              "      const buffers = [];\n",
              "      let downloaded = 0;\n",
              "\n",
              "      const channel = await google.colab.kernel.comms.open(id);\n",
              "      // Send a message to notify the kernel that we're ready.\n",
              "      channel.send({})\n",
              "\n",
              "      for await (const message of channel.messages) {\n",
              "        // Send a message to notify the kernel that we're ready.\n",
              "        channel.send({})\n",
              "        if (message.buffers) {\n",
              "          for (const buffer of message.buffers) {\n",
              "            buffers.push(buffer);\n",
              "            downloaded += buffer.byteLength;\n",
              "            progress.value = downloaded;\n",
              "          }\n",
              "        }\n",
              "      }\n",
              "      const blob = new Blob(buffers, {type: 'application/binary'});\n",
              "      const a = document.createElement('a');\n",
              "      a.href = window.URL.createObjectURL(blob);\n",
              "      a.download = filename;\n",
              "      div.appendChild(a);\n",
              "      a.click();\n",
              "      div.remove();\n",
              "    }\n",
              "  "
            ]
          },
          "metadata": {}
        },
        {
          "output_type": "display_data",
          "data": {
            "text/plain": [
              "<IPython.core.display.Javascript object>"
            ],
            "application/javascript": [
              "download(\"download_f7d1c0bf-6bcc-4c61-861a-86bb989cfcb5\", \"nfl_game_ids.xlsx\", 104242)"
            ]
          },
          "metadata": {}
        }
      ],
      "source": [
        "!pip install openpyxl\n",
        "\n",
        "df_flattened.to_excel(\"nfl_game_ids.xlsx\", index = False)\n",
        "files.download(\"nfl_game_ids.xlsx\")"
      ]
    },
    {
      "cell_type": "code",
      "execution_count": null,
      "metadata": {
        "id": "nXAK0cpKDeVf"
      },
      "outputs": [],
      "source": [
        "snaps_df = pandas.DataFrame()"
      ]
    },
    {
      "cell_type": "code",
      "execution_count": null,
      "metadata": {
        "colab": {
          "base_uri": "https://localhost:8080/"
        },
        "id": "OK14ArBnILjd",
        "outputId": "744a42de-f883-4c55-e564-af3f6eee76a5"
      },
      "outputs": [
        {
          "output_type": "stream",
          "name": "stdout",
          "text": [
            "https://premium.pff.com/api/v1/facet/offense/summary?game_id=25907\n",
            "https://premium.pff.com/api/v1/facet/offense/summary?game_id=25899\n",
            "https://premium.pff.com/api/v1/facet/offense/summary?game_id=25895\n",
            "https://premium.pff.com/api/v1/facet/offense/summary?game_id=25893\n",
            "https://premium.pff.com/api/v1/facet/offense/summary?game_id=25900\n",
            "https://premium.pff.com/api/v1/facet/offense/summary?game_id=25906\n",
            "https://premium.pff.com/api/v1/facet/offense/summary?game_id=25905\n",
            "https://premium.pff.com/api/v1/facet/offense/summary?game_id=25903\n",
            "https://premium.pff.com/api/v1/facet/offense/summary?game_id=25896\n",
            "https://premium.pff.com/api/v1/facet/offense/summary?game_id=25892\n",
            "https://premium.pff.com/api/v1/facet/offense/summary?game_id=25901\n",
            "https://premium.pff.com/api/v1/facet/offense/summary?game_id=25894\n",
            "https://premium.pff.com/api/v1/facet/offense/summary?game_id=25898\n",
            "https://premium.pff.com/api/v1/facet/offense/summary?game_id=25904\n",
            "https://premium.pff.com/api/v1/facet/offense/summary?game_id=25897\n",
            "https://premium.pff.com/api/v1/facet/offense/summary?game_id=25902\n",
            "https://premium.pff.com/api/v1/facet/offense/summary?game_id=25914\n",
            "https://premium.pff.com/api/v1/facet/offense/summary?game_id=25909\n",
            "https://premium.pff.com/api/v1/facet/offense/summary?game_id=25915\n",
            "https://premium.pff.com/api/v1/facet/offense/summary?game_id=25908\n",
            "https://premium.pff.com/api/v1/facet/offense/summary?game_id=25910\n",
            "https://premium.pff.com/api/v1/facet/offense/summary?game_id=25911\n",
            "https://premium.pff.com/api/v1/facet/offense/summary?game_id=25922\n",
            "https://premium.pff.com/api/v1/facet/offense/summary?game_id=25913\n",
            "https://premium.pff.com/api/v1/facet/offense/summary?game_id=25920\n",
            "https://premium.pff.com/api/v1/facet/offense/summary?game_id=25916\n",
            "https://premium.pff.com/api/v1/facet/offense/summary?game_id=25918\n",
            "https://premium.pff.com/api/v1/facet/offense/summary?game_id=25923\n",
            "https://premium.pff.com/api/v1/facet/offense/summary?game_id=25912\n",
            "https://premium.pff.com/api/v1/facet/offense/summary?game_id=25919\n",
            "https://premium.pff.com/api/v1/facet/offense/summary?game_id=25921\n",
            "https://premium.pff.com/api/v1/facet/offense/summary?game_id=25917\n",
            "https://premium.pff.com/api/v1/facet/offense/summary?game_id=25925\n",
            "https://premium.pff.com/api/v1/facet/offense/summary?game_id=25929\n",
            "https://premium.pff.com/api/v1/facet/offense/summary?game_id=25935\n",
            "https://premium.pff.com/api/v1/facet/offense/summary?game_id=25934\n",
            "https://premium.pff.com/api/v1/facet/offense/summary?game_id=25939\n",
            "https://premium.pff.com/api/v1/facet/offense/summary?game_id=25938\n",
            "https://premium.pff.com/api/v1/facet/offense/summary?game_id=25936\n",
            "https://premium.pff.com/api/v1/facet/offense/summary?game_id=25932\n",
            "https://premium.pff.com/api/v1/facet/offense/summary?game_id=25924\n",
            "https://premium.pff.com/api/v1/facet/offense/summary?game_id=25937\n",
            "https://premium.pff.com/api/v1/facet/offense/summary?game_id=25931\n",
            "https://premium.pff.com/api/v1/facet/offense/summary?game_id=25928\n",
            "https://premium.pff.com/api/v1/facet/offense/summary?game_id=25930\n",
            "https://premium.pff.com/api/v1/facet/offense/summary?game_id=25926\n",
            "https://premium.pff.com/api/v1/facet/offense/summary?game_id=25927\n",
            "https://premium.pff.com/api/v1/facet/offense/summary?game_id=25933\n",
            "https://premium.pff.com/api/v1/facet/offense/summary?game_id=25940\n",
            "https://premium.pff.com/api/v1/facet/offense/summary?game_id=25953\n",
            "https://premium.pff.com/api/v1/facet/offense/summary?game_id=25941\n",
            "https://premium.pff.com/api/v1/facet/offense/summary?game_id=25951\n",
            "https://premium.pff.com/api/v1/facet/offense/summary?game_id=25952\n",
            "https://premium.pff.com/api/v1/facet/offense/summary?game_id=25944\n",
            "https://premium.pff.com/api/v1/facet/offense/summary?game_id=25942\n",
            "https://premium.pff.com/api/v1/facet/offense/summary?game_id=25948\n",
            "https://premium.pff.com/api/v1/facet/offense/summary?game_id=25949\n",
            "https://premium.pff.com/api/v1/facet/offense/summary?game_id=25954\n",
            "https://premium.pff.com/api/v1/facet/offense/summary?game_id=25946\n",
            "https://premium.pff.com/api/v1/facet/offense/summary?game_id=25947\n",
            "https://premium.pff.com/api/v1/facet/offense/summary?game_id=25943\n",
            "https://premium.pff.com/api/v1/facet/offense/summary?game_id=25945\n",
            "https://premium.pff.com/api/v1/facet/offense/summary?game_id=25950\n",
            "https://premium.pff.com/api/v1/facet/offense/summary?game_id=25955\n",
            "https://premium.pff.com/api/v1/facet/offense/summary?game_id=25964\n",
            "https://premium.pff.com/api/v1/facet/offense/summary?game_id=25956\n",
            "https://premium.pff.com/api/v1/facet/offense/summary?game_id=25961\n",
            "https://premium.pff.com/api/v1/facet/offense/summary?game_id=25965\n",
            "https://premium.pff.com/api/v1/facet/offense/summary?game_id=25967\n",
            "https://premium.pff.com/api/v1/facet/offense/summary?game_id=25959\n",
            "https://premium.pff.com/api/v1/facet/offense/summary?game_id=25966\n",
            "https://premium.pff.com/api/v1/facet/offense/summary?game_id=25963\n",
            "https://premium.pff.com/api/v1/facet/offense/summary?game_id=25960\n",
            "https://premium.pff.com/api/v1/facet/offense/summary?game_id=25968\n",
            "https://premium.pff.com/api/v1/facet/offense/summary?game_id=25969\n",
            "https://premium.pff.com/api/v1/facet/offense/summary?game_id=25957\n",
            "https://premium.pff.com/api/v1/facet/offense/summary?game_id=25962\n",
            "https://premium.pff.com/api/v1/facet/offense/summary?game_id=25958\n",
            "https://premium.pff.com/api/v1/facet/offense/summary?game_id=25978\n",
            "https://premium.pff.com/api/v1/facet/offense/summary?game_id=25970\n",
            "https://premium.pff.com/api/v1/facet/offense/summary?game_id=25976\n",
            "https://premium.pff.com/api/v1/facet/offense/summary?game_id=25979\n",
            "https://premium.pff.com/api/v1/facet/offense/summary?game_id=25973\n",
            "https://premium.pff.com/api/v1/facet/offense/summary?game_id=25981\n",
            "https://premium.pff.com/api/v1/facet/offense/summary?game_id=25971\n",
            "https://premium.pff.com/api/v1/facet/offense/summary?game_id=25982\n",
            "https://premium.pff.com/api/v1/facet/offense/summary?game_id=25980\n",
            "https://premium.pff.com/api/v1/facet/offense/summary?game_id=25974\n",
            "https://premium.pff.com/api/v1/facet/offense/summary?game_id=25975\n",
            "https://premium.pff.com/api/v1/facet/offense/summary?game_id=25977\n",
            "https://premium.pff.com/api/v1/facet/offense/summary?game_id=25972\n",
            "https://premium.pff.com/api/v1/facet/offense/summary?game_id=25983\n",
            "https://premium.pff.com/api/v1/facet/offense/summary?game_id=25987\n",
            "https://premium.pff.com/api/v1/facet/offense/summary?game_id=25985\n",
            "https://premium.pff.com/api/v1/facet/offense/summary?game_id=25992\n",
            "https://premium.pff.com/api/v1/facet/offense/summary?game_id=25991\n",
            "https://premium.pff.com/api/v1/facet/offense/summary?game_id=25988\n",
            "https://premium.pff.com/api/v1/facet/offense/summary?game_id=25995\n",
            "https://premium.pff.com/api/v1/facet/offense/summary?game_id=25993\n",
            "https://premium.pff.com/api/v1/facet/offense/summary?game_id=25997\n",
            "https://premium.pff.com/api/v1/facet/offense/summary?game_id=25984\n",
            "https://premium.pff.com/api/v1/facet/offense/summary?game_id=25994\n",
            "https://premium.pff.com/api/v1/facet/offense/summary?game_id=25989\n",
            "https://premium.pff.com/api/v1/facet/offense/summary?game_id=25990\n",
            "https://premium.pff.com/api/v1/facet/offense/summary?game_id=25996\n",
            "https://premium.pff.com/api/v1/facet/offense/summary?game_id=25986\n",
            "https://premium.pff.com/api/v1/facet/offense/summary?game_id=25998\n",
            "https://premium.pff.com/api/v1/facet/offense/summary?game_id=26014\n",
            "https://premium.pff.com/api/v1/facet/offense/summary?game_id=26006\n",
            "https://premium.pff.com/api/v1/facet/offense/summary?game_id=26004\n",
            "https://premium.pff.com/api/v1/facet/offense/summary?game_id=26007\n",
            "https://premium.pff.com/api/v1/facet/offense/summary?game_id=26001\n",
            "https://premium.pff.com/api/v1/facet/offense/summary?game_id=26000\n",
            "https://premium.pff.com/api/v1/facet/offense/summary?game_id=26013\n",
            "https://premium.pff.com/api/v1/facet/offense/summary?game_id=26002\n",
            "https://premium.pff.com/api/v1/facet/offense/summary?game_id=26009\n",
            "https://premium.pff.com/api/v1/facet/offense/summary?game_id=26003\n",
            "https://premium.pff.com/api/v1/facet/offense/summary?game_id=26008\n",
            "https://premium.pff.com/api/v1/facet/offense/summary?game_id=25999\n",
            "https://premium.pff.com/api/v1/facet/offense/summary?game_id=26010\n",
            "https://premium.pff.com/api/v1/facet/offense/summary?game_id=26005\n",
            "https://premium.pff.com/api/v1/facet/offense/summary?game_id=26011\n",
            "https://premium.pff.com/api/v1/facet/offense/summary?game_id=26012\n",
            "https://premium.pff.com/api/v1/facet/offense/summary?game_id=26021\n",
            "https://premium.pff.com/api/v1/facet/offense/summary?game_id=26023\n",
            "https://premium.pff.com/api/v1/facet/offense/summary?game_id=26029\n",
            "https://premium.pff.com/api/v1/facet/offense/summary?game_id=26016\n",
            "https://premium.pff.com/api/v1/facet/offense/summary?game_id=26020\n",
            "https://premium.pff.com/api/v1/facet/offense/summary?game_id=26025\n",
            "https://premium.pff.com/api/v1/facet/offense/summary?game_id=26027\n",
            "https://premium.pff.com/api/v1/facet/offense/summary?game_id=26015\n",
            "https://premium.pff.com/api/v1/facet/offense/summary?game_id=26024\n",
            "https://premium.pff.com/api/v1/facet/offense/summary?game_id=26026\n",
            "https://premium.pff.com/api/v1/facet/offense/summary?game_id=26028\n",
            "https://premium.pff.com/api/v1/facet/offense/summary?game_id=26022\n",
            "https://premium.pff.com/api/v1/facet/offense/summary?game_id=26017\n",
            "https://premium.pff.com/api/v1/facet/offense/summary?game_id=26019\n",
            "https://premium.pff.com/api/v1/facet/offense/summary?game_id=26018\n",
            "https://premium.pff.com/api/v1/facet/offense/summary?game_id=26034\n",
            "https://premium.pff.com/api/v1/facet/offense/summary?game_id=26037\n",
            "https://premium.pff.com/api/v1/facet/offense/summary?game_id=26041\n",
            "https://premium.pff.com/api/v1/facet/offense/summary?game_id=26040\n",
            "https://premium.pff.com/api/v1/facet/offense/summary?game_id=26032\n",
            "https://premium.pff.com/api/v1/facet/offense/summary?game_id=26036\n",
            "https://premium.pff.com/api/v1/facet/offense/summary?game_id=26039\n",
            "https://premium.pff.com/api/v1/facet/offense/summary?game_id=26038\n",
            "https://premium.pff.com/api/v1/facet/offense/summary?game_id=26031\n",
            "https://premium.pff.com/api/v1/facet/offense/summary?game_id=26042\n",
            "https://premium.pff.com/api/v1/facet/offense/summary?game_id=26035\n",
            "https://premium.pff.com/api/v1/facet/offense/summary?game_id=26033\n",
            "https://premium.pff.com/api/v1/facet/offense/summary?game_id=26043\n",
            "https://premium.pff.com/api/v1/facet/offense/summary?game_id=26030\n",
            "https://premium.pff.com/api/v1/facet/offense/summary?game_id=26057\n",
            "https://premium.pff.com/api/v1/facet/offense/summary?game_id=26054\n",
            "https://premium.pff.com/api/v1/facet/offense/summary?game_id=26052\n",
            "https://premium.pff.com/api/v1/facet/offense/summary?game_id=26047\n",
            "https://premium.pff.com/api/v1/facet/offense/summary?game_id=26055\n",
            "https://premium.pff.com/api/v1/facet/offense/summary?game_id=26044\n",
            "https://premium.pff.com/api/v1/facet/offense/summary?game_id=26048\n",
            "https://premium.pff.com/api/v1/facet/offense/summary?game_id=26046\n",
            "https://premium.pff.com/api/v1/facet/offense/summary?game_id=26056\n",
            "https://premium.pff.com/api/v1/facet/offense/summary?game_id=26045\n",
            "https://premium.pff.com/api/v1/facet/offense/summary?game_id=26053\n",
            "https://premium.pff.com/api/v1/facet/offense/summary?game_id=26051\n",
            "https://premium.pff.com/api/v1/facet/offense/summary?game_id=26050\n",
            "https://premium.pff.com/api/v1/facet/offense/summary?game_id=26049\n",
            "https://premium.pff.com/api/v1/facet/offense/summary?game_id=26064\n",
            "https://premium.pff.com/api/v1/facet/offense/summary?game_id=26069\n",
            "https://premium.pff.com/api/v1/facet/offense/summary?game_id=26063\n",
            "https://premium.pff.com/api/v1/facet/offense/summary?game_id=26058\n",
            "https://premium.pff.com/api/v1/facet/offense/summary?game_id=26059\n",
            "https://premium.pff.com/api/v1/facet/offense/summary?game_id=26066\n",
            "https://premium.pff.com/api/v1/facet/offense/summary?game_id=26067\n",
            "https://premium.pff.com/api/v1/facet/offense/summary?game_id=26061\n",
            "https://premium.pff.com/api/v1/facet/offense/summary?game_id=26065\n",
            "https://premium.pff.com/api/v1/facet/offense/summary?game_id=26062\n",
            "https://premium.pff.com/api/v1/facet/offense/summary?game_id=26070\n",
            "https://premium.pff.com/api/v1/facet/offense/summary?game_id=26068\n",
            "https://premium.pff.com/api/v1/facet/offense/summary?game_id=26060\n",
            "https://premium.pff.com/api/v1/facet/offense/summary?game_id=26083\n",
            "https://premium.pff.com/api/v1/facet/offense/summary?game_id=26075\n",
            "https://premium.pff.com/api/v1/facet/offense/summary?game_id=26086\n",
            "https://premium.pff.com/api/v1/facet/offense/summary?game_id=26072\n",
            "https://premium.pff.com/api/v1/facet/offense/summary?game_id=26082\n",
            "https://premium.pff.com/api/v1/facet/offense/summary?game_id=26071\n",
            "https://premium.pff.com/api/v1/facet/offense/summary?game_id=26080\n",
            "https://premium.pff.com/api/v1/facet/offense/summary?game_id=26079\n",
            "https://premium.pff.com/api/v1/facet/offense/summary?game_id=26074\n",
            "https://premium.pff.com/api/v1/facet/offense/summary?game_id=26076\n",
            "https://premium.pff.com/api/v1/facet/offense/summary?game_id=26078\n",
            "https://premium.pff.com/api/v1/facet/offense/summary?game_id=26073\n",
            "https://premium.pff.com/api/v1/facet/offense/summary?game_id=26077\n",
            "https://premium.pff.com/api/v1/facet/offense/summary?game_id=26081\n",
            "https://premium.pff.com/api/v1/facet/offense/summary?game_id=26084\n",
            "https://premium.pff.com/api/v1/facet/offense/summary?game_id=26085\n",
            "https://premium.pff.com/api/v1/facet/offense/summary?game_id=26097\n",
            "https://premium.pff.com/api/v1/facet/offense/summary?game_id=26090\n",
            "https://premium.pff.com/api/v1/facet/offense/summary?game_id=26096\n",
            "https://premium.pff.com/api/v1/facet/offense/summary?game_id=26091\n",
            "https://premium.pff.com/api/v1/facet/offense/summary?game_id=26088\n",
            "https://premium.pff.com/api/v1/facet/offense/summary?game_id=26087\n",
            "https://premium.pff.com/api/v1/facet/offense/summary?game_id=26099\n",
            "https://premium.pff.com/api/v1/facet/offense/summary?game_id=26089\n",
            "https://premium.pff.com/api/v1/facet/offense/summary?game_id=26092\n",
            "https://premium.pff.com/api/v1/facet/offense/summary?game_id=26098\n",
            "https://premium.pff.com/api/v1/facet/offense/summary?game_id=26094\n",
            "https://premium.pff.com/api/v1/facet/offense/summary?game_id=26095\n",
            "https://premium.pff.com/api/v1/facet/offense/summary?game_id=26093\n",
            "https://premium.pff.com/api/v1/facet/offense/summary?game_id=26100\n",
            "https://premium.pff.com/api/v1/facet/offense/summary?game_id=26101\n",
            "https://premium.pff.com/api/v1/facet/offense/summary?game_id=26102\n",
            "https://premium.pff.com/api/v1/facet/offense/summary?game_id=26103\n",
            "https://premium.pff.com/api/v1/facet/offense/summary?game_id=26104\n",
            "https://premium.pff.com/api/v1/facet/offense/summary?game_id=26105\n",
            "https://premium.pff.com/api/v1/facet/offense/summary?game_id=26106\n",
            "https://premium.pff.com/api/v1/facet/offense/summary?game_id=26107\n",
            "https://premium.pff.com/api/v1/facet/offense/summary?game_id=26108\n",
            "https://premium.pff.com/api/v1/facet/offense/summary?game_id=26109\n",
            "https://premium.pff.com/api/v1/facet/offense/summary?game_id=26110\n",
            "https://premium.pff.com/api/v1/facet/offense/summary?game_id=26111\n",
            "https://premium.pff.com/api/v1/facet/offense/summary?game_id=26112\n",
            "https://premium.pff.com/api/v1/facet/offense/summary?game_id=26113\n",
            "https://premium.pff.com/api/v1/facet/offense/summary?game_id=26114\n",
            "https://premium.pff.com/api/v1/facet/offense/summary?game_id=26115\n",
            "https://premium.pff.com/api/v1/facet/offense/summary?game_id=26116\n",
            "https://premium.pff.com/api/v1/facet/offense/summary?game_id=26117\n",
            "https://premium.pff.com/api/v1/facet/offense/summary?game_id=26118\n",
            "https://premium.pff.com/api/v1/facet/offense/summary?game_id=26119\n",
            "https://premium.pff.com/api/v1/facet/offense/summary?game_id=26120\n",
            "https://premium.pff.com/api/v1/facet/offense/summary?game_id=26121\n",
            "https://premium.pff.com/api/v1/facet/offense/summary?game_id=26122\n",
            "https://premium.pff.com/api/v1/facet/offense/summary?game_id=26123\n",
            "https://premium.pff.com/api/v1/facet/offense/summary?game_id=26124\n",
            "https://premium.pff.com/api/v1/facet/offense/summary?game_id=26125\n",
            "https://premium.pff.com/api/v1/facet/offense/summary?game_id=26126\n",
            "https://premium.pff.com/api/v1/facet/offense/summary?game_id=26127\n",
            "https://premium.pff.com/api/v1/facet/offense/summary?game_id=26128\n",
            "https://premium.pff.com/api/v1/facet/offense/summary?game_id=26129\n",
            "https://premium.pff.com/api/v1/facet/offense/summary?game_id=26130\n",
            "https://premium.pff.com/api/v1/facet/offense/summary?game_id=26131\n",
            "https://premium.pff.com/api/v1/facet/offense/summary?game_id=26132\n",
            "https://premium.pff.com/api/v1/facet/offense/summary?game_id=26133\n",
            "https://premium.pff.com/api/v1/facet/offense/summary?game_id=26134\n",
            "https://premium.pff.com/api/v1/facet/offense/summary?game_id=26135\n",
            "https://premium.pff.com/api/v1/facet/offense/summary?game_id=26136\n",
            "https://premium.pff.com/api/v1/facet/offense/summary?game_id=26137\n",
            "https://premium.pff.com/api/v1/facet/offense/summary?game_id=26138\n",
            "https://premium.pff.com/api/v1/facet/offense/summary?game_id=26139\n",
            "https://premium.pff.com/api/v1/facet/offense/summary?game_id=26140\n",
            "https://premium.pff.com/api/v1/facet/offense/summary?game_id=26141\n",
            "https://premium.pff.com/api/v1/facet/offense/summary?game_id=26142\n",
            "https://premium.pff.com/api/v1/facet/offense/summary?game_id=26143\n",
            "https://premium.pff.com/api/v1/facet/offense/summary?game_id=26144\n",
            "https://premium.pff.com/api/v1/facet/offense/summary?game_id=26145\n",
            "https://premium.pff.com/api/v1/facet/offense/summary?game_id=26146\n",
            "https://premium.pff.com/api/v1/facet/offense/summary?game_id=26147\n",
            "https://premium.pff.com/api/v1/facet/offense/summary?game_id=26148\n",
            "https://premium.pff.com/api/v1/facet/offense/summary?game_id=26149\n",
            "https://premium.pff.com/api/v1/facet/offense/summary?game_id=26150\n",
            "https://premium.pff.com/api/v1/facet/offense/summary?game_id=26151\n",
            "https://premium.pff.com/api/v1/facet/offense/summary?game_id=26152\n",
            "https://premium.pff.com/api/v1/facet/offense/summary?game_id=26153\n",
            "https://premium.pff.com/api/v1/facet/offense/summary?game_id=26154\n",
            "https://premium.pff.com/api/v1/facet/offense/summary?game_id=26155\n",
            "https://premium.pff.com/api/v1/facet/offense/summary?game_id=26156\n",
            "https://premium.pff.com/api/v1/facet/offense/summary?game_id=26157\n",
            "https://premium.pff.com/api/v1/facet/offense/summary?game_id=26158\n",
            "https://premium.pff.com/api/v1/facet/offense/summary?game_id=26159\n",
            "https://premium.pff.com/api/v1/facet/offense/summary?game_id=26160\n",
            "https://premium.pff.com/api/v1/facet/offense/summary?game_id=26161\n",
            "https://premium.pff.com/api/v1/facet/offense/summary?game_id=26162\n",
            "https://premium.pff.com/api/v1/facet/offense/summary?game_id=26163\n",
            "https://premium.pff.com/api/v1/facet/offense/summary?game_id=28302\n",
            "https://premium.pff.com/api/v1/facet/offense/summary?game_id=28303\n",
            "https://premium.pff.com/api/v1/facet/offense/summary?game_id=28304\n",
            "https://premium.pff.com/api/v1/facet/offense/summary?game_id=28305\n",
            "https://premium.pff.com/api/v1/facet/offense/summary?game_id=28306\n",
            "https://premium.pff.com/api/v1/facet/offense/summary?game_id=28307\n",
            "https://premium.pff.com/api/v1/facet/offense/summary?game_id=28313\n",
            "https://premium.pff.com/api/v1/facet/offense/summary?game_id=28314\n",
            "https://premium.pff.com/api/v1/facet/offense/summary?game_id=28315\n",
            "https://premium.pff.com/api/v1/facet/offense/summary?game_id=28316\n",
            "https://premium.pff.com/api/v1/facet/offense/summary?game_id=28317\n",
            "https://premium.pff.com/api/v1/facet/offense/summary?game_id=28318\n",
            "https://premium.pff.com/api/v1/facet/offense/summary?game_id=28327\n",
            "https://premium.pff.com/api/v1/facet/offense/summary?game_id=23811\n",
            "https://premium.pff.com/api/v1/facet/offense/summary?game_id=23805\n",
            "https://premium.pff.com/api/v1/facet/offense/summary?game_id=23804\n",
            "https://premium.pff.com/api/v1/facet/offense/summary?game_id=23798\n",
            "https://premium.pff.com/api/v1/facet/offense/summary?game_id=23803\n",
            "https://premium.pff.com/api/v1/facet/offense/summary?game_id=23797\n",
            "https://premium.pff.com/api/v1/facet/offense/summary?game_id=23799\n",
            "https://premium.pff.com/api/v1/facet/offense/summary?game_id=23796\n",
            "https://premium.pff.com/api/v1/facet/offense/summary?game_id=23807\n",
            "https://premium.pff.com/api/v1/facet/offense/summary?game_id=23808\n",
            "https://premium.pff.com/api/v1/facet/offense/summary?game_id=23810\n",
            "https://premium.pff.com/api/v1/facet/offense/summary?game_id=23801\n",
            "https://premium.pff.com/api/v1/facet/offense/summary?game_id=23809\n",
            "https://premium.pff.com/api/v1/facet/offense/summary?game_id=23806\n",
            "https://premium.pff.com/api/v1/facet/offense/summary?game_id=23802\n",
            "https://premium.pff.com/api/v1/facet/offense/summary?game_id=23800\n",
            "https://premium.pff.com/api/v1/facet/offense/summary?game_id=23820\n",
            "https://premium.pff.com/api/v1/facet/offense/summary?game_id=23819\n",
            "https://premium.pff.com/api/v1/facet/offense/summary?game_id=23813\n",
            "https://premium.pff.com/api/v1/facet/offense/summary?game_id=23823\n",
            "https://premium.pff.com/api/v1/facet/offense/summary?game_id=23821\n",
            "https://premium.pff.com/api/v1/facet/offense/summary?game_id=23814\n",
            "https://premium.pff.com/api/v1/facet/offense/summary?game_id=23822\n",
            "https://premium.pff.com/api/v1/facet/offense/summary?game_id=23818\n",
            "https://premium.pff.com/api/v1/facet/offense/summary?game_id=23825\n",
            "https://premium.pff.com/api/v1/facet/offense/summary?game_id=23817\n",
            "https://premium.pff.com/api/v1/facet/offense/summary?game_id=23816\n",
            "https://premium.pff.com/api/v1/facet/offense/summary?game_id=23815\n",
            "https://premium.pff.com/api/v1/facet/offense/summary?game_id=23826\n",
            "https://premium.pff.com/api/v1/facet/offense/summary?game_id=23824\n",
            "https://premium.pff.com/api/v1/facet/offense/summary?game_id=23827\n",
            "https://premium.pff.com/api/v1/facet/offense/summary?game_id=23812\n",
            "https://premium.pff.com/api/v1/facet/offense/summary?game_id=23829\n",
            "https://premium.pff.com/api/v1/facet/offense/summary?game_id=23832\n",
            "https://premium.pff.com/api/v1/facet/offense/summary?game_id=23828\n",
            "https://premium.pff.com/api/v1/facet/offense/summary?game_id=23833\n",
            "https://premium.pff.com/api/v1/facet/offense/summary?game_id=23841\n",
            "https://premium.pff.com/api/v1/facet/offense/summary?game_id=23830\n",
            "https://premium.pff.com/api/v1/facet/offense/summary?game_id=23840\n",
            "https://premium.pff.com/api/v1/facet/offense/summary?game_id=23837\n",
            "https://premium.pff.com/api/v1/facet/offense/summary?game_id=23835\n",
            "https://premium.pff.com/api/v1/facet/offense/summary?game_id=23831\n",
            "https://premium.pff.com/api/v1/facet/offense/summary?game_id=23838\n",
            "https://premium.pff.com/api/v1/facet/offense/summary?game_id=23842\n",
            "https://premium.pff.com/api/v1/facet/offense/summary?game_id=23843\n",
            "https://premium.pff.com/api/v1/facet/offense/summary?game_id=23836\n",
            "https://premium.pff.com/api/v1/facet/offense/summary?game_id=23834\n",
            "https://premium.pff.com/api/v1/facet/offense/summary?game_id=23839\n",
            "https://premium.pff.com/api/v1/facet/offense/summary?game_id=23854\n",
            "https://premium.pff.com/api/v1/facet/offense/summary?game_id=23851\n",
            "https://premium.pff.com/api/v1/facet/offense/summary?game_id=23845\n",
            "https://premium.pff.com/api/v1/facet/offense/summary?game_id=23850\n",
            "https://premium.pff.com/api/v1/facet/offense/summary?game_id=23847\n",
            "https://premium.pff.com/api/v1/facet/offense/summary?game_id=23844\n",
            "https://premium.pff.com/api/v1/facet/offense/summary?game_id=23846\n",
            "https://premium.pff.com/api/v1/facet/offense/summary?game_id=23855\n",
            "https://premium.pff.com/api/v1/facet/offense/summary?game_id=23849\n",
            "https://premium.pff.com/api/v1/facet/offense/summary?game_id=23858\n",
            "https://premium.pff.com/api/v1/facet/offense/summary?game_id=23852\n",
            "https://premium.pff.com/api/v1/facet/offense/summary?game_id=23853\n",
            "https://premium.pff.com/api/v1/facet/offense/summary?game_id=23856\n",
            "https://premium.pff.com/api/v1/facet/offense/summary?game_id=23848\n",
            "https://premium.pff.com/api/v1/facet/offense/summary?game_id=23859\n",
            "https://premium.pff.com/api/v1/facet/offense/summary?game_id=23857\n",
            "https://premium.pff.com/api/v1/facet/offense/summary?game_id=23864\n",
            "https://premium.pff.com/api/v1/facet/offense/summary?game_id=23872\n",
            "https://premium.pff.com/api/v1/facet/offense/summary?game_id=23869\n",
            "https://premium.pff.com/api/v1/facet/offense/summary?game_id=23862\n",
            "https://premium.pff.com/api/v1/facet/offense/summary?game_id=23860\n",
            "https://premium.pff.com/api/v1/facet/offense/summary?game_id=23868\n",
            "https://premium.pff.com/api/v1/facet/offense/summary?game_id=23870\n",
            "https://premium.pff.com/api/v1/facet/offense/summary?game_id=23861\n",
            "https://premium.pff.com/api/v1/facet/offense/summary?game_id=23865\n",
            "https://premium.pff.com/api/v1/facet/offense/summary?game_id=23871\n",
            "https://premium.pff.com/api/v1/facet/offense/summary?game_id=23873\n",
            "https://premium.pff.com/api/v1/facet/offense/summary?game_id=23863\n",
            "https://premium.pff.com/api/v1/facet/offense/summary?game_id=23867\n",
            "https://premium.pff.com/api/v1/facet/offense/summary?game_id=23866\n",
            "https://premium.pff.com/api/v1/facet/offense/summary?game_id=23887\n",
            "https://premium.pff.com/api/v1/facet/offense/summary?game_id=23876\n",
            "https://premium.pff.com/api/v1/facet/offense/summary?game_id=23883\n",
            "https://premium.pff.com/api/v1/facet/offense/summary?game_id=23885\n",
            "https://premium.pff.com/api/v1/facet/offense/summary?game_id=23874\n",
            "https://premium.pff.com/api/v1/facet/offense/summary?game_id=23880\n",
            "https://premium.pff.com/api/v1/facet/offense/summary?game_id=23882\n",
            "https://premium.pff.com/api/v1/facet/offense/summary?game_id=23884\n",
            "https://premium.pff.com/api/v1/facet/offense/summary?game_id=23888\n",
            "https://premium.pff.com/api/v1/facet/offense/summary?game_id=23881\n",
            "https://premium.pff.com/api/v1/facet/offense/summary?game_id=23875\n",
            "https://premium.pff.com/api/v1/facet/offense/summary?game_id=23877\n",
            "https://premium.pff.com/api/v1/facet/offense/summary?game_id=23879\n",
            "https://premium.pff.com/api/v1/facet/offense/summary?game_id=23878\n",
            "https://premium.pff.com/api/v1/facet/offense/summary?game_id=23886\n",
            "https://premium.pff.com/api/v1/facet/offense/summary?game_id=23899\n",
            "https://premium.pff.com/api/v1/facet/offense/summary?game_id=23893\n",
            "https://premium.pff.com/api/v1/facet/offense/summary?game_id=23896\n",
            "https://premium.pff.com/api/v1/facet/offense/summary?game_id=23897\n",
            "https://premium.pff.com/api/v1/facet/offense/summary?game_id=23900\n",
            "https://premium.pff.com/api/v1/facet/offense/summary?game_id=23894\n",
            "https://premium.pff.com/api/v1/facet/offense/summary?game_id=23898\n",
            "https://premium.pff.com/api/v1/facet/offense/summary?game_id=23895\n",
            "https://premium.pff.com/api/v1/facet/offense/summary?game_id=23891\n",
            "https://premium.pff.com/api/v1/facet/offense/summary?game_id=23890\n",
            "https://premium.pff.com/api/v1/facet/offense/summary?game_id=23892\n",
            "https://premium.pff.com/api/v1/facet/offense/summary?game_id=23901\n",
            "https://premium.pff.com/api/v1/facet/offense/summary?game_id=23889\n",
            "https://premium.pff.com/api/v1/facet/offense/summary?game_id=23912\n",
            "https://premium.pff.com/api/v1/facet/offense/summary?game_id=23906\n",
            "https://premium.pff.com/api/v1/facet/offense/summary?game_id=23909\n",
            "https://premium.pff.com/api/v1/facet/offense/summary?game_id=23916\n",
            "https://premium.pff.com/api/v1/facet/offense/summary?game_id=23915\n",
            "https://premium.pff.com/api/v1/facet/offense/summary?game_id=23902\n",
            "https://premium.pff.com/api/v1/facet/offense/summary?game_id=23910\n",
            "https://premium.pff.com/api/v1/facet/offense/summary?game_id=23903\n",
            "https://premium.pff.com/api/v1/facet/offense/summary?game_id=23911\n",
            "https://premium.pff.com/api/v1/facet/offense/summary?game_id=23914\n",
            "https://premium.pff.com/api/v1/facet/offense/summary?game_id=23904\n",
            "https://premium.pff.com/api/v1/facet/offense/summary?game_id=23905\n",
            "https://premium.pff.com/api/v1/facet/offense/summary?game_id=23913\n",
            "https://premium.pff.com/api/v1/facet/offense/summary?game_id=23908\n",
            "https://premium.pff.com/api/v1/facet/offense/summary?game_id=23917\n",
            "https://premium.pff.com/api/v1/facet/offense/summary?game_id=23907\n",
            "https://premium.pff.com/api/v1/facet/offense/summary?game_id=23918\n",
            "https://premium.pff.com/api/v1/facet/offense/summary?game_id=23924\n",
            "https://premium.pff.com/api/v1/facet/offense/summary?game_id=23925\n",
            "https://premium.pff.com/api/v1/facet/offense/summary?game_id=23927\n",
            "https://premium.pff.com/api/v1/facet/offense/summary?game_id=23926\n",
            "https://premium.pff.com/api/v1/facet/offense/summary?game_id=23922\n",
            "https://premium.pff.com/api/v1/facet/offense/summary?game_id=23923\n",
            "https://premium.pff.com/api/v1/facet/offense/summary?game_id=23929\n",
            "https://premium.pff.com/api/v1/facet/offense/summary?game_id=23921\n",
            "https://premium.pff.com/api/v1/facet/offense/summary?game_id=23919\n",
            "https://premium.pff.com/api/v1/facet/offense/summary?game_id=23920\n",
            "https://premium.pff.com/api/v1/facet/offense/summary?game_id=23928\n",
            "https://premium.pff.com/api/v1/facet/offense/summary?game_id=23931\n",
            "https://premium.pff.com/api/v1/facet/offense/summary?game_id=23930\n",
            "https://premium.pff.com/api/v1/facet/offense/summary?game_id=23940\n",
            "https://premium.pff.com/api/v1/facet/offense/summary?game_id=23937\n",
            "https://premium.pff.com/api/v1/facet/offense/summary?game_id=23936\n",
            "https://premium.pff.com/api/v1/facet/offense/summary?game_id=23935\n",
            "https://premium.pff.com/api/v1/facet/offense/summary?game_id=23942\n",
            "https://premium.pff.com/api/v1/facet/offense/summary?game_id=23944\n",
            "https://premium.pff.com/api/v1/facet/offense/summary?game_id=23933\n",
            "https://premium.pff.com/api/v1/facet/offense/summary?game_id=23939\n",
            "https://premium.pff.com/api/v1/facet/offense/summary?game_id=23941\n",
            "https://premium.pff.com/api/v1/facet/offense/summary?game_id=23945\n",
            "https://premium.pff.com/api/v1/facet/offense/summary?game_id=23932\n",
            "https://premium.pff.com/api/v1/facet/offense/summary?game_id=23934\n",
            "https://premium.pff.com/api/v1/facet/offense/summary?game_id=23943\n",
            "https://premium.pff.com/api/v1/facet/offense/summary?game_id=23938\n",
            "https://premium.pff.com/api/v1/facet/offense/summary?game_id=23947\n",
            "https://premium.pff.com/api/v1/facet/offense/summary?game_id=23956\n",
            "https://premium.pff.com/api/v1/facet/offense/summary?game_id=23954\n",
            "https://premium.pff.com/api/v1/facet/offense/summary?game_id=23952\n",
            "https://premium.pff.com/api/v1/facet/offense/summary?game_id=23958\n",
            "https://premium.pff.com/api/v1/facet/offense/summary?game_id=23949\n",
            "https://premium.pff.com/api/v1/facet/offense/summary?game_id=23957\n",
            "https://premium.pff.com/api/v1/facet/offense/summary?game_id=23948\n",
            "https://premium.pff.com/api/v1/facet/offense/summary?game_id=23955\n",
            "https://premium.pff.com/api/v1/facet/offense/summary?game_id=23946\n",
            "https://premium.pff.com/api/v1/facet/offense/summary?game_id=23950\n",
            "https://premium.pff.com/api/v1/facet/offense/summary?game_id=23959\n",
            "https://premium.pff.com/api/v1/facet/offense/summary?game_id=23951\n",
            "https://premium.pff.com/api/v1/facet/offense/summary?game_id=23953\n",
            "https://premium.pff.com/api/v1/facet/offense/summary?game_id=23960\n",
            "https://premium.pff.com/api/v1/facet/offense/summary?game_id=23963\n",
            "https://premium.pff.com/api/v1/facet/offense/summary?game_id=23965\n",
            "https://premium.pff.com/api/v1/facet/offense/summary?game_id=23961\n",
            "https://premium.pff.com/api/v1/facet/offense/summary?game_id=23962\n",
            "https://premium.pff.com/api/v1/facet/offense/summary?game_id=23972\n",
            "https://premium.pff.com/api/v1/facet/offense/summary?game_id=23969\n",
            "https://premium.pff.com/api/v1/facet/offense/summary?game_id=23974\n",
            "https://premium.pff.com/api/v1/facet/offense/summary?game_id=23966\n",
            "https://premium.pff.com/api/v1/facet/offense/summary?game_id=23968\n",
            "https://premium.pff.com/api/v1/facet/offense/summary?game_id=23967\n",
            "https://premium.pff.com/api/v1/facet/offense/summary?game_id=23970\n",
            "https://premium.pff.com/api/v1/facet/offense/summary?game_id=23975\n",
            "https://premium.pff.com/api/v1/facet/offense/summary?game_id=23971\n",
            "https://premium.pff.com/api/v1/facet/offense/summary?game_id=23964\n",
            "https://premium.pff.com/api/v1/facet/offense/summary?game_id=23973\n",
            "https://premium.pff.com/api/v1/facet/offense/summary?game_id=23985\n",
            "https://premium.pff.com/api/v1/facet/offense/summary?game_id=23982\n",
            "https://premium.pff.com/api/v1/facet/offense/summary?game_id=23984\n",
            "https://premium.pff.com/api/v1/facet/offense/summary?game_id=23986\n",
            "https://premium.pff.com/api/v1/facet/offense/summary?game_id=23977\n",
            "https://premium.pff.com/api/v1/facet/offense/summary?game_id=23988\n",
            "https://premium.pff.com/api/v1/facet/offense/summary?game_id=23978\n",
            "https://premium.pff.com/api/v1/facet/offense/summary?game_id=23979\n",
            "https://premium.pff.com/api/v1/facet/offense/summary?game_id=23987\n",
            "https://premium.pff.com/api/v1/facet/offense/summary?game_id=23976\n",
            "https://premium.pff.com/api/v1/facet/offense/summary?game_id=23983\n",
            "https://premium.pff.com/api/v1/facet/offense/summary?game_id=23981\n",
            "https://premium.pff.com/api/v1/facet/offense/summary?game_id=23980\n",
            "https://premium.pff.com/api/v1/facet/offense/summary?game_id=23993\n",
            "https://premium.pff.com/api/v1/facet/offense/summary?game_id=23998\n",
            "https://premium.pff.com/api/v1/facet/offense/summary?game_id=23990\n",
            "https://premium.pff.com/api/v1/facet/offense/summary?game_id=23995\n",
            "https://premium.pff.com/api/v1/facet/offense/summary?game_id=24003\n",
            "https://premium.pff.com/api/v1/facet/offense/summary?game_id=24000\n",
            "https://premium.pff.com/api/v1/facet/offense/summary?game_id=23994\n",
            "https://premium.pff.com/api/v1/facet/offense/summary?game_id=24001\n",
            "https://premium.pff.com/api/v1/facet/offense/summary?game_id=23991\n",
            "https://premium.pff.com/api/v1/facet/offense/summary?game_id=23997\n",
            "https://premium.pff.com/api/v1/facet/offense/summary?game_id=23996\n",
            "https://premium.pff.com/api/v1/facet/offense/summary?game_id=23999\n",
            "https://premium.pff.com/api/v1/facet/offense/summary?game_id=23992\n",
            "https://premium.pff.com/api/v1/facet/offense/summary?game_id=24002\n",
            "https://premium.pff.com/api/v1/facet/offense/summary?game_id=23989\n",
            "https://premium.pff.com/api/v1/facet/offense/summary?game_id=24004\n",
            "https://premium.pff.com/api/v1/facet/offense/summary?game_id=24005\n",
            "https://premium.pff.com/api/v1/facet/offense/summary?game_id=24006\n",
            "https://premium.pff.com/api/v1/facet/offense/summary?game_id=24007\n",
            "https://premium.pff.com/api/v1/facet/offense/summary?game_id=24008\n",
            "https://premium.pff.com/api/v1/facet/offense/summary?game_id=24009\n",
            "https://premium.pff.com/api/v1/facet/offense/summary?game_id=24010\n",
            "https://premium.pff.com/api/v1/facet/offense/summary?game_id=24011\n",
            "https://premium.pff.com/api/v1/facet/offense/summary?game_id=24012\n",
            "https://premium.pff.com/api/v1/facet/offense/summary?game_id=24013\n",
            "https://premium.pff.com/api/v1/facet/offense/summary?game_id=24014\n",
            "https://premium.pff.com/api/v1/facet/offense/summary?game_id=24015\n",
            "https://premium.pff.com/api/v1/facet/offense/summary?game_id=24016\n",
            "https://premium.pff.com/api/v1/facet/offense/summary?game_id=24017\n",
            "https://premium.pff.com/api/v1/facet/offense/summary?game_id=24018\n",
            "https://premium.pff.com/api/v1/facet/offense/summary?game_id=24019\n",
            "https://premium.pff.com/api/v1/facet/offense/summary?game_id=24020\n",
            "https://premium.pff.com/api/v1/facet/offense/summary?game_id=24021\n",
            "https://premium.pff.com/api/v1/facet/offense/summary?game_id=24022\n",
            "https://premium.pff.com/api/v1/facet/offense/summary?game_id=24023\n",
            "https://premium.pff.com/api/v1/facet/offense/summary?game_id=24024\n",
            "https://premium.pff.com/api/v1/facet/offense/summary?game_id=24025\n",
            "https://premium.pff.com/api/v1/facet/offense/summary?game_id=24026\n",
            "https://premium.pff.com/api/v1/facet/offense/summary?game_id=24027\n",
            "https://premium.pff.com/api/v1/facet/offense/summary?game_id=24028\n",
            "https://premium.pff.com/api/v1/facet/offense/summary?game_id=24029\n",
            "https://premium.pff.com/api/v1/facet/offense/summary?game_id=24030\n",
            "https://premium.pff.com/api/v1/facet/offense/summary?game_id=24031\n",
            "https://premium.pff.com/api/v1/facet/offense/summary?game_id=24032\n",
            "https://premium.pff.com/api/v1/facet/offense/summary?game_id=24033\n",
            "https://premium.pff.com/api/v1/facet/offense/summary?game_id=24034\n",
            "https://premium.pff.com/api/v1/facet/offense/summary?game_id=24035\n",
            "https://premium.pff.com/api/v1/facet/offense/summary?game_id=24036\n",
            "https://premium.pff.com/api/v1/facet/offense/summary?game_id=24037\n",
            "https://premium.pff.com/api/v1/facet/offense/summary?game_id=24038\n",
            "https://premium.pff.com/api/v1/facet/offense/summary?game_id=24039\n",
            "https://premium.pff.com/api/v1/facet/offense/summary?game_id=24040\n",
            "https://premium.pff.com/api/v1/facet/offense/summary?game_id=24041\n",
            "https://premium.pff.com/api/v1/facet/offense/summary?game_id=24042\n",
            "https://premium.pff.com/api/v1/facet/offense/summary?game_id=24043\n",
            "https://premium.pff.com/api/v1/facet/offense/summary?game_id=24044\n",
            "https://premium.pff.com/api/v1/facet/offense/summary?game_id=24045\n",
            "https://premium.pff.com/api/v1/facet/offense/summary?game_id=24046\n",
            "https://premium.pff.com/api/v1/facet/offense/summary?game_id=24047\n",
            "https://premium.pff.com/api/v1/facet/offense/summary?game_id=24048\n",
            "https://premium.pff.com/api/v1/facet/offense/summary?game_id=24049\n",
            "https://premium.pff.com/api/v1/facet/offense/summary?game_id=24050\n",
            "https://premium.pff.com/api/v1/facet/offense/summary?game_id=24051\n",
            "https://premium.pff.com/api/v1/facet/offense/summary?game_id=24052\n",
            "https://premium.pff.com/api/v1/facet/offense/summary?game_id=24053\n",
            "https://premium.pff.com/api/v1/facet/offense/summary?game_id=24054\n",
            "https://premium.pff.com/api/v1/facet/offense/summary?game_id=24055\n",
            "https://premium.pff.com/api/v1/facet/offense/summary?game_id=24056\n",
            "https://premium.pff.com/api/v1/facet/offense/summary?game_id=24057\n",
            "https://premium.pff.com/api/v1/facet/offense/summary?game_id=24058\n",
            "https://premium.pff.com/api/v1/facet/offense/summary?game_id=24059\n",
            "https://premium.pff.com/api/v1/facet/offense/summary?game_id=24060\n",
            "https://premium.pff.com/api/v1/facet/offense/summary?game_id=24061\n",
            "https://premium.pff.com/api/v1/facet/offense/summary?game_id=24062\n",
            "https://premium.pff.com/api/v1/facet/offense/summary?game_id=24063\n",
            "https://premium.pff.com/api/v1/facet/offense/summary?game_id=24064\n",
            "https://premium.pff.com/api/v1/facet/offense/summary?game_id=24065\n",
            "https://premium.pff.com/api/v1/facet/offense/summary?game_id=24066\n",
            "https://premium.pff.com/api/v1/facet/offense/summary?game_id=24067\n",
            "https://premium.pff.com/api/v1/facet/offense/summary?game_id=25744\n",
            "https://premium.pff.com/api/v1/facet/offense/summary?game_id=25745\n",
            "https://premium.pff.com/api/v1/facet/offense/summary?game_id=25746\n",
            "https://premium.pff.com/api/v1/facet/offense/summary?game_id=25747\n",
            "https://premium.pff.com/api/v1/facet/offense/summary?game_id=25748\n",
            "https://premium.pff.com/api/v1/facet/offense/summary?game_id=25749\n",
            "https://premium.pff.com/api/v1/facet/offense/summary?game_id=25750\n",
            "https://premium.pff.com/api/v1/facet/offense/summary?game_id=25751\n",
            "https://premium.pff.com/api/v1/facet/offense/summary?game_id=25752\n",
            "https://premium.pff.com/api/v1/facet/offense/summary?game_id=25753\n",
            "https://premium.pff.com/api/v1/facet/offense/summary?game_id=25754\n",
            "https://premium.pff.com/api/v1/facet/offense/summary?game_id=25755\n",
            "https://premium.pff.com/api/v1/facet/offense/summary?game_id=25756\n",
            "https://premium.pff.com/api/v1/facet/offense/summary?game_id=23101\n",
            "https://premium.pff.com/api/v1/facet/offense/summary?game_id=23098\n",
            "https://premium.pff.com/api/v1/facet/offense/summary?game_id=23111\n",
            "https://premium.pff.com/api/v1/facet/offense/summary?game_id=23105\n",
            "https://premium.pff.com/api/v1/facet/offense/summary?game_id=23106\n",
            "https://premium.pff.com/api/v1/facet/offense/summary?game_id=23108\n",
            "https://premium.pff.com/api/v1/facet/offense/summary?game_id=23099\n",
            "https://premium.pff.com/api/v1/facet/offense/summary?game_id=23104\n",
            "https://premium.pff.com/api/v1/facet/offense/summary?game_id=23110\n",
            "https://premium.pff.com/api/v1/facet/offense/summary?game_id=23102\n",
            "https://premium.pff.com/api/v1/facet/offense/summary?game_id=23113\n",
            "https://premium.pff.com/api/v1/facet/offense/summary?game_id=23107\n",
            "https://premium.pff.com/api/v1/facet/offense/summary?game_id=23103\n",
            "https://premium.pff.com/api/v1/facet/offense/summary?game_id=23109\n",
            "https://premium.pff.com/api/v1/facet/offense/summary?game_id=23100\n",
            "https://premium.pff.com/api/v1/facet/offense/summary?game_id=23112\n",
            "https://premium.pff.com/api/v1/facet/offense/summary?game_id=23129\n",
            "https://premium.pff.com/api/v1/facet/offense/summary?game_id=23124\n",
            "https://premium.pff.com/api/v1/facet/offense/summary?game_id=23119\n",
            "https://premium.pff.com/api/v1/facet/offense/summary?game_id=23123\n",
            "https://premium.pff.com/api/v1/facet/offense/summary?game_id=23115\n",
            "https://premium.pff.com/api/v1/facet/offense/summary?game_id=23116\n",
            "https://premium.pff.com/api/v1/facet/offense/summary?game_id=23118\n",
            "https://premium.pff.com/api/v1/facet/offense/summary?game_id=23122\n",
            "https://premium.pff.com/api/v1/facet/offense/summary?game_id=23125\n",
            "https://premium.pff.com/api/v1/facet/offense/summary?game_id=23126\n",
            "https://premium.pff.com/api/v1/facet/offense/summary?game_id=23114\n",
            "https://premium.pff.com/api/v1/facet/offense/summary?game_id=23130\n",
            "https://premium.pff.com/api/v1/facet/offense/summary?game_id=23121\n",
            "https://premium.pff.com/api/v1/facet/offense/summary?game_id=23117\n",
            "https://premium.pff.com/api/v1/facet/offense/summary?game_id=23127\n",
            "https://premium.pff.com/api/v1/facet/offense/summary?game_id=23120\n",
            "https://premium.pff.com/api/v1/facet/offense/summary?game_id=23141\n",
            "https://premium.pff.com/api/v1/facet/offense/summary?game_id=23138\n",
            "https://premium.pff.com/api/v1/facet/offense/summary?game_id=23135\n",
            "https://premium.pff.com/api/v1/facet/offense/summary?game_id=23137\n",
            "https://premium.pff.com/api/v1/facet/offense/summary?game_id=23143\n",
            "https://premium.pff.com/api/v1/facet/offense/summary?game_id=23146\n",
            "https://premium.pff.com/api/v1/facet/offense/summary?game_id=23144\n",
            "https://premium.pff.com/api/v1/facet/offense/summary?game_id=23140\n",
            "https://premium.pff.com/api/v1/facet/offense/summary?game_id=23134\n",
            "https://premium.pff.com/api/v1/facet/offense/summary?game_id=23142\n",
            "https://premium.pff.com/api/v1/facet/offense/summary?game_id=23145\n",
            "https://premium.pff.com/api/v1/facet/offense/summary?game_id=23139\n",
            "https://premium.pff.com/api/v1/facet/offense/summary?game_id=23136\n",
            "https://premium.pff.com/api/v1/facet/offense/summary?game_id=23133\n",
            "https://premium.pff.com/api/v1/facet/offense/summary?game_id=23131\n",
            "https://premium.pff.com/api/v1/facet/offense/summary?game_id=23132\n",
            "https://premium.pff.com/api/v1/facet/offense/summary?game_id=23161\n",
            "https://premium.pff.com/api/v1/facet/offense/summary?game_id=23366\n",
            "https://premium.pff.com/api/v1/facet/offense/summary?game_id=23154\n",
            "https://premium.pff.com/api/v1/facet/offense/summary?game_id=23150\n",
            "https://premium.pff.com/api/v1/facet/offense/summary?game_id=23147\n",
            "https://premium.pff.com/api/v1/facet/offense/summary?game_id=23153\n",
            "https://premium.pff.com/api/v1/facet/offense/summary?game_id=23155\n",
            "https://premium.pff.com/api/v1/facet/offense/summary?game_id=23149\n",
            "https://premium.pff.com/api/v1/facet/offense/summary?game_id=23151\n",
            "https://premium.pff.com/api/v1/facet/offense/summary?game_id=23159\n",
            "https://premium.pff.com/api/v1/facet/offense/summary?game_id=23148\n",
            "https://premium.pff.com/api/v1/facet/offense/summary?game_id=23158\n",
            "https://premium.pff.com/api/v1/facet/offense/summary?game_id=23157\n",
            "https://premium.pff.com/api/v1/facet/offense/summary?game_id=23152\n",
            "https://premium.pff.com/api/v1/facet/offense/summary?game_id=23156\n",
            "https://premium.pff.com/api/v1/facet/offense/summary?game_id=23160\n",
            "https://premium.pff.com/api/v1/facet/offense/summary?game_id=23169\n",
            "https://premium.pff.com/api/v1/facet/offense/summary?game_id=23166\n",
            "https://premium.pff.com/api/v1/facet/offense/summary?game_id=23367\n",
            "https://premium.pff.com/api/v1/facet/offense/summary?game_id=23174\n",
            "https://premium.pff.com/api/v1/facet/offense/summary?game_id=23168\n",
            "https://premium.pff.com/api/v1/facet/offense/summary?game_id=23173\n",
            "https://premium.pff.com/api/v1/facet/offense/summary?game_id=23165\n",
            "https://premium.pff.com/api/v1/facet/offense/summary?game_id=23162\n",
            "https://premium.pff.com/api/v1/facet/offense/summary?game_id=23170\n",
            "https://premium.pff.com/api/v1/facet/offense/summary?game_id=23175\n",
            "https://premium.pff.com/api/v1/facet/offense/summary?game_id=23171\n",
            "https://premium.pff.com/api/v1/facet/offense/summary?game_id=23164\n",
            "https://premium.pff.com/api/v1/facet/offense/summary?game_id=23128\n",
            "https://premium.pff.com/api/v1/facet/offense/summary?game_id=23167\n",
            "https://premium.pff.com/api/v1/facet/offense/summary?game_id=23163\n",
            "https://premium.pff.com/api/v1/facet/offense/summary?game_id=23172\n",
            "https://premium.pff.com/api/v1/facet/offense/summary?game_id=23186\n",
            "https://premium.pff.com/api/v1/facet/offense/summary?game_id=23185\n",
            "https://premium.pff.com/api/v1/facet/offense/summary?game_id=23180\n",
            "https://premium.pff.com/api/v1/facet/offense/summary?game_id=23182\n",
            "https://premium.pff.com/api/v1/facet/offense/summary?game_id=23177\n",
            "https://premium.pff.com/api/v1/facet/offense/summary?game_id=23181\n",
            "https://premium.pff.com/api/v1/facet/offense/summary?game_id=23195\n",
            "https://premium.pff.com/api/v1/facet/offense/summary?game_id=23187\n",
            "https://premium.pff.com/api/v1/facet/offense/summary?game_id=23176\n",
            "https://premium.pff.com/api/v1/facet/offense/summary?game_id=23184\n",
            "https://premium.pff.com/api/v1/facet/offense/summary?game_id=23179\n",
            "https://premium.pff.com/api/v1/facet/offense/summary?game_id=23183\n",
            "https://premium.pff.com/api/v1/facet/offense/summary?game_id=23178\n",
            "https://premium.pff.com/api/v1/facet/offense/summary?game_id=23188\n",
            "https://premium.pff.com/api/v1/facet/offense/summary?game_id=23189\n",
            "https://premium.pff.com/api/v1/facet/offense/summary?game_id=23202\n",
            "https://premium.pff.com/api/v1/facet/offense/summary?game_id=23199\n",
            "https://premium.pff.com/api/v1/facet/offense/summary?game_id=23191\n",
            "https://premium.pff.com/api/v1/facet/offense/summary?game_id=23201\n",
            "https://premium.pff.com/api/v1/facet/offense/summary?game_id=23194\n",
            "https://premium.pff.com/api/v1/facet/offense/summary?game_id=23203\n",
            "https://premium.pff.com/api/v1/facet/offense/summary?game_id=23192\n",
            "https://premium.pff.com/api/v1/facet/offense/summary?game_id=23196\n",
            "https://premium.pff.com/api/v1/facet/offense/summary?game_id=23204\n",
            "https://premium.pff.com/api/v1/facet/offense/summary?game_id=23200\n",
            "https://premium.pff.com/api/v1/facet/offense/summary?game_id=23190\n",
            "https://premium.pff.com/api/v1/facet/offense/summary?game_id=23193\n",
            "https://premium.pff.com/api/v1/facet/offense/summary?game_id=23197\n",
            "https://premium.pff.com/api/v1/facet/offense/summary?game_id=23205\n",
            "https://premium.pff.com/api/v1/facet/offense/summary?game_id=23212\n",
            "https://premium.pff.com/api/v1/facet/offense/summary?game_id=23368\n",
            "https://premium.pff.com/api/v1/facet/offense/summary?game_id=23213\n",
            "https://premium.pff.com/api/v1/facet/offense/summary?game_id=23215\n",
            "https://premium.pff.com/api/v1/facet/offense/summary?game_id=23218\n",
            "https://premium.pff.com/api/v1/facet/offense/summary?game_id=23217\n",
            "https://premium.pff.com/api/v1/facet/offense/summary?game_id=23207\n",
            "https://premium.pff.com/api/v1/facet/offense/summary?game_id=23208\n",
            "https://premium.pff.com/api/v1/facet/offense/summary?game_id=23211\n",
            "https://premium.pff.com/api/v1/facet/offense/summary?game_id=23214\n",
            "https://premium.pff.com/api/v1/facet/offense/summary?game_id=23216\n",
            "https://premium.pff.com/api/v1/facet/offense/summary?game_id=23210\n",
            "https://premium.pff.com/api/v1/facet/offense/summary?game_id=23206\n",
            "https://premium.pff.com/api/v1/facet/offense/summary?game_id=23209\n",
            "https://premium.pff.com/api/v1/facet/offense/summary?game_id=23290\n",
            "https://premium.pff.com/api/v1/facet/offense/summary?game_id=23228\n",
            "https://premium.pff.com/api/v1/facet/offense/summary?game_id=23230\n",
            "https://premium.pff.com/api/v1/facet/offense/summary?game_id=23222\n",
            "https://premium.pff.com/api/v1/facet/offense/summary?game_id=23219\n",
            "https://premium.pff.com/api/v1/facet/offense/summary?game_id=23226\n",
            "https://premium.pff.com/api/v1/facet/offense/summary?game_id=23227\n",
            "https://premium.pff.com/api/v1/facet/offense/summary?game_id=23224\n",
            "https://premium.pff.com/api/v1/facet/offense/summary?game_id=23221\n",
            "https://premium.pff.com/api/v1/facet/offense/summary?game_id=23225\n",
            "https://premium.pff.com/api/v1/facet/offense/summary?game_id=23231\n",
            "https://premium.pff.com/api/v1/facet/offense/summary?game_id=23220\n",
            "https://premium.pff.com/api/v1/facet/offense/summary?game_id=23229\n",
            "https://premium.pff.com/api/v1/facet/offense/summary?game_id=23238\n",
            "https://premium.pff.com/api/v1/facet/offense/summary?game_id=23232\n",
            "https://premium.pff.com/api/v1/facet/offense/summary?game_id=23235\n",
            "https://premium.pff.com/api/v1/facet/offense/summary?game_id=23234\n",
            "https://premium.pff.com/api/v1/facet/offense/summary?game_id=23242\n",
            "https://premium.pff.com/api/v1/facet/offense/summary?game_id=23243\n",
            "https://premium.pff.com/api/v1/facet/offense/summary?game_id=23340\n",
            "https://premium.pff.com/api/v1/facet/offense/summary?game_id=23241\n",
            "https://premium.pff.com/api/v1/facet/offense/summary?game_id=23240\n",
            "https://premium.pff.com/api/v1/facet/offense/summary?game_id=23369\n",
            "https://premium.pff.com/api/v1/facet/offense/summary?game_id=23236\n",
            "https://premium.pff.com/api/v1/facet/offense/summary?game_id=23233\n",
            "https://premium.pff.com/api/v1/facet/offense/summary?game_id=23239\n",
            "https://premium.pff.com/api/v1/facet/offense/summary?game_id=23237\n",
            "https://premium.pff.com/api/v1/facet/offense/summary?game_id=23251\n",
            "https://premium.pff.com/api/v1/facet/offense/summary?game_id=23256\n",
            "https://premium.pff.com/api/v1/facet/offense/summary?game_id=23247\n",
            "https://premium.pff.com/api/v1/facet/offense/summary?game_id=23253\n",
            "https://premium.pff.com/api/v1/facet/offense/summary?game_id=23255\n",
            "https://premium.pff.com/api/v1/facet/offense/summary?game_id=23250\n",
            "https://premium.pff.com/api/v1/facet/offense/summary?game_id=23252\n",
            "https://premium.pff.com/api/v1/facet/offense/summary?game_id=23254\n",
            "https://premium.pff.com/api/v1/facet/offense/summary?game_id=23248\n",
            "https://premium.pff.com/api/v1/facet/offense/summary?game_id=23244\n",
            "https://premium.pff.com/api/v1/facet/offense/summary?game_id=23249\n",
            "https://premium.pff.com/api/v1/facet/offense/summary?game_id=23245\n",
            "https://premium.pff.com/api/v1/facet/offense/summary?game_id=23257\n",
            "https://premium.pff.com/api/v1/facet/offense/summary?game_id=23246\n",
            "https://premium.pff.com/api/v1/facet/offense/summary?game_id=23261\n",
            "https://premium.pff.com/api/v1/facet/offense/summary?game_id=23269\n",
            "https://premium.pff.com/api/v1/facet/offense/summary?game_id=23263\n",
            "https://premium.pff.com/api/v1/facet/offense/summary?game_id=23258\n",
            "https://premium.pff.com/api/v1/facet/offense/summary?game_id=23260\n",
            "https://premium.pff.com/api/v1/facet/offense/summary?game_id=23266\n",
            "https://premium.pff.com/api/v1/facet/offense/summary?game_id=23272\n",
            "https://premium.pff.com/api/v1/facet/offense/summary?game_id=23264\n",
            "https://premium.pff.com/api/v1/facet/offense/summary?game_id=23259\n",
            "https://premium.pff.com/api/v1/facet/offense/summary?game_id=23270\n",
            "https://premium.pff.com/api/v1/facet/offense/summary?game_id=23268\n",
            "https://premium.pff.com/api/v1/facet/offense/summary?game_id=23262\n",
            "https://premium.pff.com/api/v1/facet/offense/summary?game_id=23271\n",
            "https://premium.pff.com/api/v1/facet/offense/summary?game_id=23265\n",
            "https://premium.pff.com/api/v1/facet/offense/summary?game_id=23267\n",
            "https://premium.pff.com/api/v1/facet/offense/summary?game_id=23273\n",
            "https://premium.pff.com/api/v1/facet/offense/summary?game_id=23285\n",
            "https://premium.pff.com/api/v1/facet/offense/summary?game_id=23275\n",
            "https://premium.pff.com/api/v1/facet/offense/summary?game_id=23283\n",
            "https://premium.pff.com/api/v1/facet/offense/summary?game_id=23284\n",
            "https://premium.pff.com/api/v1/facet/offense/summary?game_id=23364\n",
            "https://premium.pff.com/api/v1/facet/offense/summary?game_id=23276\n",
            "https://premium.pff.com/api/v1/facet/offense/summary?game_id=23279\n",
            "https://premium.pff.com/api/v1/facet/offense/summary?game_id=23287\n",
            "https://premium.pff.com/api/v1/facet/offense/summary?game_id=23286\n",
            "https://premium.pff.com/api/v1/facet/offense/summary?game_id=23281\n",
            "https://premium.pff.com/api/v1/facet/offense/summary?game_id=23282\n",
            "https://premium.pff.com/api/v1/facet/offense/summary?game_id=23288\n",
            "https://premium.pff.com/api/v1/facet/offense/summary?game_id=23280\n",
            "https://premium.pff.com/api/v1/facet/offense/summary?game_id=23274\n",
            "https://premium.pff.com/api/v1/facet/offense/summary?game_id=23278\n",
            "https://premium.pff.com/api/v1/facet/offense/summary?game_id=23302\n",
            "https://premium.pff.com/api/v1/facet/offense/summary?game_id=23294\n",
            "https://premium.pff.com/api/v1/facet/offense/summary?game_id=23293\n",
            "https://premium.pff.com/api/v1/facet/offense/summary?game_id=23299\n",
            "https://premium.pff.com/api/v1/facet/offense/summary?game_id=23297\n",
            "https://premium.pff.com/api/v1/facet/offense/summary?game_id=23289\n",
            "https://premium.pff.com/api/v1/facet/offense/summary?game_id=23295\n",
            "https://premium.pff.com/api/v1/facet/offense/summary?game_id=23303\n",
            "https://premium.pff.com/api/v1/facet/offense/summary?game_id=23291\n",
            "https://premium.pff.com/api/v1/facet/offense/summary?game_id=23296\n",
            "https://premium.pff.com/api/v1/facet/offense/summary?game_id=23301\n",
            "https://premium.pff.com/api/v1/facet/offense/summary?game_id=23300\n",
            "https://premium.pff.com/api/v1/facet/offense/summary?game_id=23298\n",
            "https://premium.pff.com/api/v1/facet/offense/summary?game_id=23198\n",
            "https://premium.pff.com/api/v1/facet/offense/summary?game_id=23277\n",
            "https://premium.pff.com/api/v1/facet/offense/summary?game_id=23292\n",
            "https://premium.pff.com/api/v1/facet/offense/summary?game_id=23304\n",
            "https://premium.pff.com/api/v1/facet/offense/summary?game_id=23305\n",
            "https://premium.pff.com/api/v1/facet/offense/summary?game_id=23306\n",
            "https://premium.pff.com/api/v1/facet/offense/summary?game_id=23307\n",
            "https://premium.pff.com/api/v1/facet/offense/summary?game_id=23308\n",
            "https://premium.pff.com/api/v1/facet/offense/summary?game_id=23309\n",
            "https://premium.pff.com/api/v1/facet/offense/summary?game_id=23310\n",
            "https://premium.pff.com/api/v1/facet/offense/summary?game_id=23311\n",
            "https://premium.pff.com/api/v1/facet/offense/summary?game_id=23312\n",
            "https://premium.pff.com/api/v1/facet/offense/summary?game_id=23313\n",
            "https://premium.pff.com/api/v1/facet/offense/summary?game_id=23314\n",
            "https://premium.pff.com/api/v1/facet/offense/summary?game_id=23315\n",
            "https://premium.pff.com/api/v1/facet/offense/summary?game_id=23316\n",
            "https://premium.pff.com/api/v1/facet/offense/summary?game_id=23317\n",
            "https://premium.pff.com/api/v1/facet/offense/summary?game_id=23318\n",
            "https://premium.pff.com/api/v1/facet/offense/summary?game_id=23319\n",
            "https://premium.pff.com/api/v1/facet/offense/summary?game_id=23320\n",
            "https://premium.pff.com/api/v1/facet/offense/summary?game_id=23321\n",
            "https://premium.pff.com/api/v1/facet/offense/summary?game_id=23322\n",
            "https://premium.pff.com/api/v1/facet/offense/summary?game_id=23323\n",
            "https://premium.pff.com/api/v1/facet/offense/summary?game_id=23325\n",
            "https://premium.pff.com/api/v1/facet/offense/summary?game_id=23326\n",
            "https://premium.pff.com/api/v1/facet/offense/summary?game_id=23327\n",
            "https://premium.pff.com/api/v1/facet/offense/summary?game_id=23328\n",
            "https://premium.pff.com/api/v1/facet/offense/summary?game_id=23329\n",
            "https://premium.pff.com/api/v1/facet/offense/summary?game_id=23330\n",
            "https://premium.pff.com/api/v1/facet/offense/summary?game_id=23331\n",
            "https://premium.pff.com/api/v1/facet/offense/summary?game_id=23332\n",
            "https://premium.pff.com/api/v1/facet/offense/summary?game_id=23333\n",
            "https://premium.pff.com/api/v1/facet/offense/summary?game_id=23324\n",
            "https://premium.pff.com/api/v1/facet/offense/summary?game_id=23334\n",
            "https://premium.pff.com/api/v1/facet/offense/summary?game_id=23335\n",
            "https://premium.pff.com/api/v1/facet/offense/summary?game_id=23336\n",
            "https://premium.pff.com/api/v1/facet/offense/summary?game_id=23337\n",
            "https://premium.pff.com/api/v1/facet/offense/summary?game_id=23338\n",
            "https://premium.pff.com/api/v1/facet/offense/summary?game_id=23339\n",
            "https://premium.pff.com/api/v1/facet/offense/summary?game_id=23341\n",
            "https://premium.pff.com/api/v1/facet/offense/summary?game_id=23342\n",
            "https://premium.pff.com/api/v1/facet/offense/summary?game_id=23343\n",
            "https://premium.pff.com/api/v1/facet/offense/summary?game_id=23344\n",
            "https://premium.pff.com/api/v1/facet/offense/summary?game_id=23345\n",
            "https://premium.pff.com/api/v1/facet/offense/summary?game_id=23346\n",
            "https://premium.pff.com/api/v1/facet/offense/summary?game_id=23347\n",
            "https://premium.pff.com/api/v1/facet/offense/summary?game_id=23348\n",
            "https://premium.pff.com/api/v1/facet/offense/summary?game_id=23365\n",
            "https://premium.pff.com/api/v1/facet/offense/summary?game_id=23223\n",
            "https://premium.pff.com/api/v1/facet/offense/summary?game_id=23349\n",
            "https://premium.pff.com/api/v1/facet/offense/summary?game_id=23350\n",
            "https://premium.pff.com/api/v1/facet/offense/summary?game_id=23351\n",
            "https://premium.pff.com/api/v1/facet/offense/summary?game_id=23352\n",
            "https://premium.pff.com/api/v1/facet/offense/summary?game_id=23353\n",
            "https://premium.pff.com/api/v1/facet/offense/summary?game_id=23354\n",
            "https://premium.pff.com/api/v1/facet/offense/summary?game_id=23355\n",
            "https://premium.pff.com/api/v1/facet/offense/summary?game_id=23356\n",
            "https://premium.pff.com/api/v1/facet/offense/summary?game_id=23357\n",
            "https://premium.pff.com/api/v1/facet/offense/summary?game_id=23358\n",
            "https://premium.pff.com/api/v1/facet/offense/summary?game_id=23359\n",
            "https://premium.pff.com/api/v1/facet/offense/summary?game_id=23360\n",
            "https://premium.pff.com/api/v1/facet/offense/summary?game_id=23361\n",
            "https://premium.pff.com/api/v1/facet/offense/summary?game_id=23362\n",
            "https://premium.pff.com/api/v1/facet/offense/summary?game_id=23363\n",
            "https://premium.pff.com/api/v1/facet/offense/summary?game_id=23637\n",
            "https://premium.pff.com/api/v1/facet/offense/summary?game_id=23638\n",
            "https://premium.pff.com/api/v1/facet/offense/summary?game_id=23639\n",
            "https://premium.pff.com/api/v1/facet/offense/summary?game_id=23640\n",
            "https://premium.pff.com/api/v1/facet/offense/summary?game_id=23641\n",
            "https://premium.pff.com/api/v1/facet/offense/summary?game_id=23642\n",
            "https://premium.pff.com/api/v1/facet/offense/summary?game_id=23656\n",
            "https://premium.pff.com/api/v1/facet/offense/summary?game_id=23657\n",
            "https://premium.pff.com/api/v1/facet/offense/summary?game_id=23658\n",
            "https://premium.pff.com/api/v1/facet/offense/summary?game_id=23659\n",
            "https://premium.pff.com/api/v1/facet/offense/summary?game_id=23660\n",
            "https://premium.pff.com/api/v1/facet/offense/summary?game_id=23661\n",
            "https://premium.pff.com/api/v1/facet/offense/summary?game_id=23662\n",
            "https://premium.pff.com/api/v1/facet/offense/summary?game_id=19612\n",
            "https://premium.pff.com/api/v1/facet/offense/summary?game_id=19620\n",
            "https://premium.pff.com/api/v1/facet/offense/summary?game_id=19615\n",
            "https://premium.pff.com/api/v1/facet/offense/summary?game_id=19611\n",
            "https://premium.pff.com/api/v1/facet/offense/summary?game_id=19623\n",
            "https://premium.pff.com/api/v1/facet/offense/summary?game_id=19618\n",
            "https://premium.pff.com/api/v1/facet/offense/summary?game_id=19616\n",
            "https://premium.pff.com/api/v1/facet/offense/summary?game_id=19613\n",
            "https://premium.pff.com/api/v1/facet/offense/summary?game_id=19609\n",
            "https://premium.pff.com/api/v1/facet/offense/summary?game_id=19608\n",
            "https://premium.pff.com/api/v1/facet/offense/summary?game_id=19619\n",
            "https://premium.pff.com/api/v1/facet/offense/summary?game_id=19621\n",
            "https://premium.pff.com/api/v1/facet/offense/summary?game_id=19617\n",
            "https://premium.pff.com/api/v1/facet/offense/summary?game_id=19622\n",
            "https://premium.pff.com/api/v1/facet/offense/summary?game_id=19614\n",
            "https://premium.pff.com/api/v1/facet/offense/summary?game_id=19610\n",
            "https://premium.pff.com/api/v1/facet/offense/summary?game_id=19631\n",
            "https://premium.pff.com/api/v1/facet/offense/summary?game_id=19627\n",
            "https://premium.pff.com/api/v1/facet/offense/summary?game_id=19629\n",
            "https://premium.pff.com/api/v1/facet/offense/summary?game_id=19625\n",
            "https://premium.pff.com/api/v1/facet/offense/summary?game_id=19630\n",
            "https://premium.pff.com/api/v1/facet/offense/summary?game_id=19639\n",
            "https://premium.pff.com/api/v1/facet/offense/summary?game_id=19638\n",
            "https://premium.pff.com/api/v1/facet/offense/summary?game_id=19633\n",
            "https://premium.pff.com/api/v1/facet/offense/summary?game_id=19632\n",
            "https://premium.pff.com/api/v1/facet/offense/summary?game_id=19626\n",
            "https://premium.pff.com/api/v1/facet/offense/summary?game_id=19624\n",
            "https://premium.pff.com/api/v1/facet/offense/summary?game_id=19636\n",
            "https://premium.pff.com/api/v1/facet/offense/summary?game_id=19634\n",
            "https://premium.pff.com/api/v1/facet/offense/summary?game_id=19635\n",
            "https://premium.pff.com/api/v1/facet/offense/summary?game_id=19637\n",
            "https://premium.pff.com/api/v1/facet/offense/summary?game_id=19628\n",
            "https://premium.pff.com/api/v1/facet/offense/summary?game_id=19642\n",
            "https://premium.pff.com/api/v1/facet/offense/summary?game_id=19643\n",
            "https://premium.pff.com/api/v1/facet/offense/summary?game_id=19648\n",
            "https://premium.pff.com/api/v1/facet/offense/summary?game_id=19646\n",
            "https://premium.pff.com/api/v1/facet/offense/summary?game_id=19644\n",
            "https://premium.pff.com/api/v1/facet/offense/summary?game_id=19641\n",
            "https://premium.pff.com/api/v1/facet/offense/summary?game_id=19652\n",
            "https://premium.pff.com/api/v1/facet/offense/summary?game_id=19651\n",
            "https://premium.pff.com/api/v1/facet/offense/summary?game_id=19647\n",
            "https://premium.pff.com/api/v1/facet/offense/summary?game_id=19653\n",
            "https://premium.pff.com/api/v1/facet/offense/summary?game_id=19640\n",
            "https://premium.pff.com/api/v1/facet/offense/summary?game_id=19649\n",
            "https://premium.pff.com/api/v1/facet/offense/summary?game_id=19654\n",
            "https://premium.pff.com/api/v1/facet/offense/summary?game_id=19655\n",
            "https://premium.pff.com/api/v1/facet/offense/summary?game_id=19650\n",
            "https://premium.pff.com/api/v1/facet/offense/summary?game_id=19645\n",
            "https://premium.pff.com/api/v1/facet/offense/summary?game_id=19659\n",
            "https://premium.pff.com/api/v1/facet/offense/summary?game_id=19670\n",
            "https://premium.pff.com/api/v1/facet/offense/summary?game_id=19664\n",
            "https://premium.pff.com/api/v1/facet/offense/summary?game_id=19662\n",
            "https://premium.pff.com/api/v1/facet/offense/summary?game_id=19668\n",
            "https://premium.pff.com/api/v1/facet/offense/summary?game_id=19671\n",
            "https://premium.pff.com/api/v1/facet/offense/summary?game_id=19660\n",
            "https://premium.pff.com/api/v1/facet/offense/summary?game_id=19669\n",
            "https://premium.pff.com/api/v1/facet/offense/summary?game_id=19658\n",
            "https://premium.pff.com/api/v1/facet/offense/summary?game_id=19663\n",
            "https://premium.pff.com/api/v1/facet/offense/summary?game_id=19665\n",
            "https://premium.pff.com/api/v1/facet/offense/summary?game_id=19656\n",
            "https://premium.pff.com/api/v1/facet/offense/summary?game_id=19661\n",
            "https://premium.pff.com/api/v1/facet/offense/summary?game_id=19657\n",
            "https://premium.pff.com/api/v1/facet/offense/summary?game_id=19666\n",
            "https://premium.pff.com/api/v1/facet/offense/summary?game_id=19667\n",
            "https://premium.pff.com/api/v1/facet/offense/summary?game_id=19674\n",
            "https://premium.pff.com/api/v1/facet/offense/summary?game_id=19679\n",
            "https://premium.pff.com/api/v1/facet/offense/summary?game_id=19672\n",
            "https://premium.pff.com/api/v1/facet/offense/summary?game_id=19681\n",
            "https://premium.pff.com/api/v1/facet/offense/summary?game_id=19678\n",
            "https://premium.pff.com/api/v1/facet/offense/summary?game_id=19682\n",
            "https://premium.pff.com/api/v1/facet/offense/summary?game_id=19684\n",
            "https://premium.pff.com/api/v1/facet/offense/summary?game_id=19686\n",
            "https://premium.pff.com/api/v1/facet/offense/summary?game_id=19673\n",
            "https://premium.pff.com/api/v1/facet/offense/summary?game_id=19680\n",
            "https://premium.pff.com/api/v1/facet/offense/summary?game_id=19687\n",
            "https://premium.pff.com/api/v1/facet/offense/summary?game_id=19685\n",
            "https://premium.pff.com/api/v1/facet/offense/summary?game_id=19683\n",
            "https://premium.pff.com/api/v1/facet/offense/summary?game_id=19676\n",
            "https://premium.pff.com/api/v1/facet/offense/summary?game_id=19677\n",
            "https://premium.pff.com/api/v1/facet/offense/summary?game_id=19675\n",
            "https://premium.pff.com/api/v1/facet/offense/summary?game_id=19693\n",
            "https://premium.pff.com/api/v1/facet/offense/summary?game_id=19698\n",
            "https://premium.pff.com/api/v1/facet/offense/summary?game_id=19689\n",
            "https://premium.pff.com/api/v1/facet/offense/summary?game_id=19695\n",
            "https://premium.pff.com/api/v1/facet/offense/summary?game_id=19699\n",
            "https://premium.pff.com/api/v1/facet/offense/summary?game_id=19701\n",
            "https://premium.pff.com/api/v1/facet/offense/summary?game_id=19697\n",
            "https://premium.pff.com/api/v1/facet/offense/summary?game_id=19692\n",
            "https://premium.pff.com/api/v1/facet/offense/summary?game_id=19688\n",
            "https://premium.pff.com/api/v1/facet/offense/summary?game_id=19690\n",
            "https://premium.pff.com/api/v1/facet/offense/summary?game_id=19700\n",
            "https://premium.pff.com/api/v1/facet/offense/summary?game_id=19696\n",
            "https://premium.pff.com/api/v1/facet/offense/summary?game_id=19694\n",
            "https://premium.pff.com/api/v1/facet/offense/summary?game_id=19691\n",
            "https://premium.pff.com/api/v1/facet/offense/summary?game_id=19706\n",
            "https://premium.pff.com/api/v1/facet/offense/summary?game_id=19707\n",
            "https://premium.pff.com/api/v1/facet/offense/summary?game_id=19702\n",
            "https://premium.pff.com/api/v1/facet/offense/summary?game_id=19713\n",
            "https://premium.pff.com/api/v1/facet/offense/summary?game_id=19710\n",
            "https://premium.pff.com/api/v1/facet/offense/summary?game_id=19712\n",
            "https://premium.pff.com/api/v1/facet/offense/summary?game_id=19708\n",
            "https://premium.pff.com/api/v1/facet/offense/summary?game_id=19711\n",
            "https://premium.pff.com/api/v1/facet/offense/summary?game_id=19705\n",
            "https://premium.pff.com/api/v1/facet/offense/summary?game_id=19703\n",
            "https://premium.pff.com/api/v1/facet/offense/summary?game_id=19714\n",
            "https://premium.pff.com/api/v1/facet/offense/summary?game_id=19709\n",
            "https://premium.pff.com/api/v1/facet/offense/summary?game_id=19704\n",
            "https://premium.pff.com/api/v1/facet/offense/summary?game_id=19724\n",
            "https://premium.pff.com/api/v1/facet/offense/summary?game_id=19726\n",
            "https://premium.pff.com/api/v1/facet/offense/summary?game_id=19717\n",
            "https://premium.pff.com/api/v1/facet/offense/summary?game_id=19725\n",
            "https://premium.pff.com/api/v1/facet/offense/summary?game_id=19723\n",
            "https://premium.pff.com/api/v1/facet/offense/summary?game_id=19716\n",
            "https://premium.pff.com/api/v1/facet/offense/summary?game_id=19718\n",
            "https://premium.pff.com/api/v1/facet/offense/summary?game_id=19722\n",
            "https://premium.pff.com/api/v1/facet/offense/summary?game_id=19720\n",
            "https://premium.pff.com/api/v1/facet/offense/summary?game_id=19728\n",
            "https://premium.pff.com/api/v1/facet/offense/summary?game_id=19715\n",
            "https://premium.pff.com/api/v1/facet/offense/summary?game_id=19721\n",
            "https://premium.pff.com/api/v1/facet/offense/summary?game_id=19729\n",
            "https://premium.pff.com/api/v1/facet/offense/summary?game_id=19719\n",
            "https://premium.pff.com/api/v1/facet/offense/summary?game_id=19727\n",
            "https://premium.pff.com/api/v1/facet/offense/summary?game_id=19730\n",
            "https://premium.pff.com/api/v1/facet/offense/summary?game_id=19734\n",
            "https://premium.pff.com/api/v1/facet/offense/summary?game_id=19732\n",
            "https://premium.pff.com/api/v1/facet/offense/summary?game_id=19735\n",
            "https://premium.pff.com/api/v1/facet/offense/summary?game_id=19737\n",
            "https://premium.pff.com/api/v1/facet/offense/summary?game_id=19742\n",
            "https://premium.pff.com/api/v1/facet/offense/summary?game_id=19736\n",
            "https://premium.pff.com/api/v1/facet/offense/summary?game_id=19740\n",
            "https://premium.pff.com/api/v1/facet/offense/summary?game_id=19741\n",
            "https://premium.pff.com/api/v1/facet/offense/summary?game_id=19739\n",
            "https://premium.pff.com/api/v1/facet/offense/summary?game_id=19743\n",
            "https://premium.pff.com/api/v1/facet/offense/summary?game_id=19731\n",
            "https://premium.pff.com/api/v1/facet/offense/summary?game_id=19738\n",
            "https://premium.pff.com/api/v1/facet/offense/summary?game_id=19733\n",
            "https://premium.pff.com/api/v1/facet/offense/summary?game_id=19746\n",
            "https://premium.pff.com/api/v1/facet/offense/summary?game_id=19747\n",
            "https://premium.pff.com/api/v1/facet/offense/summary?game_id=19750\n",
            "https://premium.pff.com/api/v1/facet/offense/summary?game_id=19748\n",
            "https://premium.pff.com/api/v1/facet/offense/summary?game_id=19754\n",
            "https://premium.pff.com/api/v1/facet/offense/summary?game_id=19745\n",
            "https://premium.pff.com/api/v1/facet/offense/summary?game_id=19751\n",
            "https://premium.pff.com/api/v1/facet/offense/summary?game_id=19753\n",
            "https://premium.pff.com/api/v1/facet/offense/summary?game_id=19749\n",
            "https://premium.pff.com/api/v1/facet/offense/summary?game_id=19807\n",
            "https://premium.pff.com/api/v1/facet/offense/summary?game_id=19756\n",
            "https://premium.pff.com/api/v1/facet/offense/summary?game_id=19744\n",
            "https://premium.pff.com/api/v1/facet/offense/summary?game_id=19755\n",
            "https://premium.pff.com/api/v1/facet/offense/summary?game_id=19752\n",
            "https://premium.pff.com/api/v1/facet/offense/summary?game_id=19766\n",
            "https://premium.pff.com/api/v1/facet/offense/summary?game_id=19758\n",
            "https://premium.pff.com/api/v1/facet/offense/summary?game_id=19770\n",
            "https://premium.pff.com/api/v1/facet/offense/summary?game_id=19764\n",
            "https://premium.pff.com/api/v1/facet/offense/summary?game_id=19759\n",
            "https://premium.pff.com/api/v1/facet/offense/summary?game_id=19767\n",
            "https://premium.pff.com/api/v1/facet/offense/summary?game_id=19762\n",
            "https://premium.pff.com/api/v1/facet/offense/summary?game_id=19760\n",
            "https://premium.pff.com/api/v1/facet/offense/summary?game_id=19771\n",
            "https://premium.pff.com/api/v1/facet/offense/summary?game_id=19768\n",
            "https://premium.pff.com/api/v1/facet/offense/summary?game_id=19769\n",
            "https://premium.pff.com/api/v1/facet/offense/summary?game_id=19757\n",
            "https://premium.pff.com/api/v1/facet/offense/summary?game_id=19761\n",
            "https://premium.pff.com/api/v1/facet/offense/summary?game_id=19763\n",
            "https://premium.pff.com/api/v1/facet/offense/summary?game_id=19765\n",
            "https://premium.pff.com/api/v1/facet/offense/summary?game_id=19774\n",
            "https://premium.pff.com/api/v1/facet/offense/summary?game_id=19783\n",
            "https://premium.pff.com/api/v1/facet/offense/summary?game_id=19777\n",
            "https://premium.pff.com/api/v1/facet/offense/summary?game_id=19781\n",
            "https://premium.pff.com/api/v1/facet/offense/summary?game_id=19785\n",
            "https://premium.pff.com/api/v1/facet/offense/summary?game_id=19782\n",
            "https://premium.pff.com/api/v1/facet/offense/summary?game_id=19772\n",
            "https://premium.pff.com/api/v1/facet/offense/summary?game_id=19780\n",
            "https://premium.pff.com/api/v1/facet/offense/summary?game_id=19775\n",
            "https://premium.pff.com/api/v1/facet/offense/summary?game_id=19786\n",
            "https://premium.pff.com/api/v1/facet/offense/summary?game_id=19784\n",
            "https://premium.pff.com/api/v1/facet/offense/summary?game_id=19779\n",
            "https://premium.pff.com/api/v1/facet/offense/summary?game_id=19773\n",
            "https://premium.pff.com/api/v1/facet/offense/summary?game_id=19776\n",
            "https://premium.pff.com/api/v1/facet/offense/summary?game_id=19778\n",
            "https://premium.pff.com/api/v1/facet/offense/summary?game_id=19795\n",
            "https://premium.pff.com/api/v1/facet/offense/summary?game_id=19794\n",
            "https://premium.pff.com/api/v1/facet/offense/summary?game_id=19791\n",
            "https://premium.pff.com/api/v1/facet/offense/summary?game_id=19797\n",
            "https://premium.pff.com/api/v1/facet/offense/summary?game_id=19792\n",
            "https://premium.pff.com/api/v1/facet/offense/summary?game_id=19793\n",
            "https://premium.pff.com/api/v1/facet/offense/summary?game_id=19787\n",
            "https://premium.pff.com/api/v1/facet/offense/summary?game_id=19796\n",
            "https://premium.pff.com/api/v1/facet/offense/summary?game_id=19790\n",
            "https://premium.pff.com/api/v1/facet/offense/summary?game_id=19788\n",
            "https://premium.pff.com/api/v1/facet/offense/summary?game_id=19789\n",
            "https://premium.pff.com/api/v1/facet/offense/summary?game_id=19798\n",
            "https://premium.pff.com/api/v1/facet/offense/summary?game_id=19800\n",
            "https://premium.pff.com/api/v1/facet/offense/summary?game_id=19799\n",
            "https://premium.pff.com/api/v1/facet/offense/summary?game_id=19801\n",
            "https://premium.pff.com/api/v1/facet/offense/summary?game_id=19802\n",
            "https://premium.pff.com/api/v1/facet/offense/summary?game_id=19803\n",
            "https://premium.pff.com/api/v1/facet/offense/summary?game_id=19804\n",
            "https://premium.pff.com/api/v1/facet/offense/summary?game_id=19805\n",
            "https://premium.pff.com/api/v1/facet/offense/summary?game_id=19806\n",
            "https://premium.pff.com/api/v1/facet/offense/summary?game_id=19808\n",
            "https://premium.pff.com/api/v1/facet/offense/summary?game_id=19809\n",
            "https://premium.pff.com/api/v1/facet/offense/summary?game_id=19810\n",
            "https://premium.pff.com/api/v1/facet/offense/summary?game_id=19811\n",
            "https://premium.pff.com/api/v1/facet/offense/summary?game_id=19812\n",
            "https://premium.pff.com/api/v1/facet/offense/summary?game_id=19813\n",
            "https://premium.pff.com/api/v1/facet/offense/summary?game_id=19814\n",
            "https://premium.pff.com/api/v1/facet/offense/summary?game_id=19815\n",
            "https://premium.pff.com/api/v1/facet/offense/summary?game_id=19816\n",
            "https://premium.pff.com/api/v1/facet/offense/summary?game_id=19817\n",
            "https://premium.pff.com/api/v1/facet/offense/summary?game_id=19818\n",
            "https://premium.pff.com/api/v1/facet/offense/summary?game_id=19819\n",
            "https://premium.pff.com/api/v1/facet/offense/summary?game_id=19820\n",
            "https://premium.pff.com/api/v1/facet/offense/summary?game_id=19821\n",
            "https://premium.pff.com/api/v1/facet/offense/summary?game_id=19822\n",
            "https://premium.pff.com/api/v1/facet/offense/summary?game_id=19823\n",
            "https://premium.pff.com/api/v1/facet/offense/summary?game_id=19824\n",
            "https://premium.pff.com/api/v1/facet/offense/summary?game_id=19825\n",
            "https://premium.pff.com/api/v1/facet/offense/summary?game_id=19826\n",
            "https://premium.pff.com/api/v1/facet/offense/summary?game_id=19827\n",
            "https://premium.pff.com/api/v1/facet/offense/summary?game_id=19828\n",
            "https://premium.pff.com/api/v1/facet/offense/summary?game_id=19829\n",
            "https://premium.pff.com/api/v1/facet/offense/summary?game_id=19830\n",
            "https://premium.pff.com/api/v1/facet/offense/summary?game_id=19831\n",
            "https://premium.pff.com/api/v1/facet/offense/summary?game_id=19832\n",
            "https://premium.pff.com/api/v1/facet/offense/summary?game_id=19833\n",
            "https://premium.pff.com/api/v1/facet/offense/summary?game_id=19834\n",
            "https://premium.pff.com/api/v1/facet/offense/summary?game_id=19835\n",
            "https://premium.pff.com/api/v1/facet/offense/summary?game_id=19836\n",
            "https://premium.pff.com/api/v1/facet/offense/summary?game_id=19837\n",
            "https://premium.pff.com/api/v1/facet/offense/summary?game_id=19838\n",
            "https://premium.pff.com/api/v1/facet/offense/summary?game_id=19839\n",
            "https://premium.pff.com/api/v1/facet/offense/summary?game_id=19840\n",
            "https://premium.pff.com/api/v1/facet/offense/summary?game_id=19841\n",
            "https://premium.pff.com/api/v1/facet/offense/summary?game_id=19842\n",
            "https://premium.pff.com/api/v1/facet/offense/summary?game_id=19843\n",
            "https://premium.pff.com/api/v1/facet/offense/summary?game_id=19844\n",
            "https://premium.pff.com/api/v1/facet/offense/summary?game_id=19845\n",
            "https://premium.pff.com/api/v1/facet/offense/summary?game_id=19846\n",
            "https://premium.pff.com/api/v1/facet/offense/summary?game_id=19847\n",
            "https://premium.pff.com/api/v1/facet/offense/summary?game_id=19848\n",
            "https://premium.pff.com/api/v1/facet/offense/summary?game_id=19849\n",
            "https://premium.pff.com/api/v1/facet/offense/summary?game_id=19850\n",
            "https://premium.pff.com/api/v1/facet/offense/summary?game_id=19851\n",
            "https://premium.pff.com/api/v1/facet/offense/summary?game_id=19852\n",
            "https://premium.pff.com/api/v1/facet/offense/summary?game_id=19853\n",
            "https://premium.pff.com/api/v1/facet/offense/summary?game_id=19854\n",
            "https://premium.pff.com/api/v1/facet/offense/summary?game_id=19855\n",
            "https://premium.pff.com/api/v1/facet/offense/summary?game_id=19856\n",
            "https://premium.pff.com/api/v1/facet/offense/summary?game_id=19857\n",
            "https://premium.pff.com/api/v1/facet/offense/summary?game_id=19858\n",
            "https://premium.pff.com/api/v1/facet/offense/summary?game_id=19859\n",
            "https://premium.pff.com/api/v1/facet/offense/summary?game_id=19860\n",
            "https://premium.pff.com/api/v1/facet/offense/summary?game_id=19861\n",
            "https://premium.pff.com/api/v1/facet/offense/summary?game_id=19862\n",
            "https://premium.pff.com/api/v1/facet/offense/summary?game_id=19863\n",
            "https://premium.pff.com/api/v1/facet/offense/summary?game_id=19864\n",
            "https://premium.pff.com/api/v1/facet/offense/summary?game_id=19865\n",
            "https://premium.pff.com/api/v1/facet/offense/summary?game_id=19866\n",
            "https://premium.pff.com/api/v1/facet/offense/summary?game_id=19867\n",
            "https://premium.pff.com/api/v1/facet/offense/summary?game_id=19868\n",
            "https://premium.pff.com/api/v1/facet/offense/summary?game_id=19869\n",
            "https://premium.pff.com/api/v1/facet/offense/summary?game_id=19870\n",
            "https://premium.pff.com/api/v1/facet/offense/summary?game_id=19871\n",
            "https://premium.pff.com/api/v1/facet/offense/summary?game_id=19872\n",
            "https://premium.pff.com/api/v1/facet/offense/summary?game_id=19873\n",
            "https://premium.pff.com/api/v1/facet/offense/summary?game_id=19874\n",
            "https://premium.pff.com/api/v1/facet/offense/summary?game_id=19875\n",
            "https://premium.pff.com/api/v1/facet/offense/summary?game_id=19876\n",
            "https://premium.pff.com/api/v1/facet/offense/summary?game_id=19877\n",
            "https://premium.pff.com/api/v1/facet/offense/summary?game_id=19878\n",
            "https://premium.pff.com/api/v1/facet/offense/summary?game_id=19879\n",
            "https://premium.pff.com/api/v1/facet/offense/summary?game_id=21523\n",
            "https://premium.pff.com/api/v1/facet/offense/summary?game_id=21524\n",
            "https://premium.pff.com/api/v1/facet/offense/summary?game_id=21525\n",
            "https://premium.pff.com/api/v1/facet/offense/summary?game_id=21526\n",
            "https://premium.pff.com/api/v1/facet/offense/summary?game_id=21527\n",
            "https://premium.pff.com/api/v1/facet/offense/summary?game_id=21528\n",
            "https://premium.pff.com/api/v1/facet/offense/summary?game_id=21530\n",
            "https://premium.pff.com/api/v1/facet/offense/summary?game_id=21531\n",
            "https://premium.pff.com/api/v1/facet/offense/summary?game_id=21532\n",
            "https://premium.pff.com/api/v1/facet/offense/summary?game_id=21533\n",
            "https://premium.pff.com/api/v1/facet/offense/summary?game_id=21534\n",
            "https://premium.pff.com/api/v1/facet/offense/summary?game_id=21535\n",
            "https://premium.pff.com/api/v1/facet/offense/summary?game_id=21536\n",
            "https://premium.pff.com/api/v1/facet/offense/summary?game_id=18532\n",
            "https://premium.pff.com/api/v1/facet/offense/summary?game_id=18534\n",
            "https://premium.pff.com/api/v1/facet/offense/summary?game_id=18536\n",
            "https://premium.pff.com/api/v1/facet/offense/summary?game_id=18546\n",
            "https://premium.pff.com/api/v1/facet/offense/summary?game_id=18547\n",
            "https://premium.pff.com/api/v1/facet/offense/summary?game_id=18533\n",
            "https://premium.pff.com/api/v1/facet/offense/summary?game_id=18542\n",
            "https://premium.pff.com/api/v1/facet/offense/summary?game_id=18544\n",
            "https://premium.pff.com/api/v1/facet/offense/summary?game_id=18535\n",
            "https://premium.pff.com/api/v1/facet/offense/summary?game_id=18537\n",
            "https://premium.pff.com/api/v1/facet/offense/summary?game_id=18545\n",
            "https://premium.pff.com/api/v1/facet/offense/summary?game_id=18538\n",
            "https://premium.pff.com/api/v1/facet/offense/summary?game_id=18543\n",
            "https://premium.pff.com/api/v1/facet/offense/summary?game_id=18540\n",
            "https://premium.pff.com/api/v1/facet/offense/summary?game_id=18541\n",
            "https://premium.pff.com/api/v1/facet/offense/summary?game_id=18539\n",
            "https://premium.pff.com/api/v1/facet/offense/summary?game_id=18559\n",
            "https://premium.pff.com/api/v1/facet/offense/summary?game_id=18563\n",
            "https://premium.pff.com/api/v1/facet/offense/summary?game_id=18554\n",
            "https://premium.pff.com/api/v1/facet/offense/summary?game_id=18557\n",
            "https://premium.pff.com/api/v1/facet/offense/summary?game_id=18561\n",
            "https://premium.pff.com/api/v1/facet/offense/summary?game_id=18552\n",
            "https://premium.pff.com/api/v1/facet/offense/summary?game_id=18558\n",
            "https://premium.pff.com/api/v1/facet/offense/summary?game_id=18549\n",
            "https://premium.pff.com/api/v1/facet/offense/summary?game_id=18551\n",
            "https://premium.pff.com/api/v1/facet/offense/summary?game_id=18550\n",
            "https://premium.pff.com/api/v1/facet/offense/summary?game_id=18560\n",
            "https://premium.pff.com/api/v1/facet/offense/summary?game_id=18555\n",
            "https://premium.pff.com/api/v1/facet/offense/summary?game_id=18562\n",
            "https://premium.pff.com/api/v1/facet/offense/summary?game_id=18548\n",
            "https://premium.pff.com/api/v1/facet/offense/summary?game_id=18556\n",
            "https://premium.pff.com/api/v1/facet/offense/summary?game_id=18553\n",
            "https://premium.pff.com/api/v1/facet/offense/summary?game_id=18574\n",
            "https://premium.pff.com/api/v1/facet/offense/summary?game_id=18564\n",
            "https://premium.pff.com/api/v1/facet/offense/summary?game_id=18571\n",
            "https://premium.pff.com/api/v1/facet/offense/summary?game_id=18573\n",
            "https://premium.pff.com/api/v1/facet/offense/summary?game_id=18565\n",
            "https://premium.pff.com/api/v1/facet/offense/summary?game_id=18578\n",
            "https://premium.pff.com/api/v1/facet/offense/summary?game_id=18576\n",
            "https://premium.pff.com/api/v1/facet/offense/summary?game_id=18568\n",
            "https://premium.pff.com/api/v1/facet/offense/summary?game_id=18569\n",
            "https://premium.pff.com/api/v1/facet/offense/summary?game_id=18570\n",
            "https://premium.pff.com/api/v1/facet/offense/summary?game_id=18575\n",
            "https://premium.pff.com/api/v1/facet/offense/summary?game_id=18579\n",
            "https://premium.pff.com/api/v1/facet/offense/summary?game_id=18577\n",
            "https://premium.pff.com/api/v1/facet/offense/summary?game_id=18566\n",
            "https://premium.pff.com/api/v1/facet/offense/summary?game_id=18572\n",
            "https://premium.pff.com/api/v1/facet/offense/summary?game_id=18567\n",
            "https://premium.pff.com/api/v1/facet/offense/summary?game_id=18588\n",
            "https://premium.pff.com/api/v1/facet/offense/summary?game_id=18587\n",
            "https://premium.pff.com/api/v1/facet/offense/summary?game_id=18594\n",
            "https://premium.pff.com/api/v1/facet/offense/summary?game_id=18595\n",
            "https://premium.pff.com/api/v1/facet/offense/summary?game_id=18593\n",
            "https://premium.pff.com/api/v1/facet/offense/summary?game_id=18586\n",
            "https://premium.pff.com/api/v1/facet/offense/summary?game_id=18585\n",
            "https://premium.pff.com/api/v1/facet/offense/summary?game_id=18584\n",
            "https://premium.pff.com/api/v1/facet/offense/summary?game_id=18582\n",
            "https://premium.pff.com/api/v1/facet/offense/summary?game_id=18580\n",
            "https://premium.pff.com/api/v1/facet/offense/summary?game_id=18591\n",
            "https://premium.pff.com/api/v1/facet/offense/summary?game_id=18592\n",
            "https://premium.pff.com/api/v1/facet/offense/summary?game_id=18583\n",
            "https://premium.pff.com/api/v1/facet/offense/summary?game_id=18581\n",
            "https://premium.pff.com/api/v1/facet/offense/summary?game_id=18590\n",
            "https://premium.pff.com/api/v1/facet/offense/summary?game_id=18598\n",
            "https://premium.pff.com/api/v1/facet/offense/summary?game_id=18600\n",
            "https://premium.pff.com/api/v1/facet/offense/summary?game_id=18608\n",
            "https://premium.pff.com/api/v1/facet/offense/summary?game_id=18603\n",
            "https://premium.pff.com/api/v1/facet/offense/summary?game_id=18605\n",
            "https://premium.pff.com/api/v1/facet/offense/summary?game_id=18609\n",
            "https://premium.pff.com/api/v1/facet/offense/summary?game_id=18596\n",
            "https://premium.pff.com/api/v1/facet/offense/summary?game_id=18602\n",
            "https://premium.pff.com/api/v1/facet/offense/summary?game_id=18597\n",
            "https://premium.pff.com/api/v1/facet/offense/summary?game_id=18599\n",
            "https://premium.pff.com/api/v1/facet/offense/summary?game_id=18610\n",
            "https://premium.pff.com/api/v1/facet/offense/summary?game_id=18606\n",
            "https://premium.pff.com/api/v1/facet/offense/summary?game_id=18604\n",
            "https://premium.pff.com/api/v1/facet/offense/summary?game_id=18607\n",
            "https://premium.pff.com/api/v1/facet/offense/summary?game_id=18611\n",
            "https://premium.pff.com/api/v1/facet/offense/summary?game_id=18612\n",
            "https://premium.pff.com/api/v1/facet/offense/summary?game_id=18618\n",
            "https://premium.pff.com/api/v1/facet/offense/summary?game_id=18617\n",
            "https://premium.pff.com/api/v1/facet/offense/summary?game_id=18627\n",
            "https://premium.pff.com/api/v1/facet/offense/summary?game_id=18615\n",
            "https://premium.pff.com/api/v1/facet/offense/summary?game_id=18622\n",
            "https://premium.pff.com/api/v1/facet/offense/summary?game_id=18616\n",
            "https://premium.pff.com/api/v1/facet/offense/summary?game_id=18621\n",
            "https://premium.pff.com/api/v1/facet/offense/summary?game_id=18675\n",
            "https://premium.pff.com/api/v1/facet/offense/summary?game_id=18613\n",
            "https://premium.pff.com/api/v1/facet/offense/summary?game_id=18614\n",
            "https://premium.pff.com/api/v1/facet/offense/summary?game_id=18601\n",
            "https://premium.pff.com/api/v1/facet/offense/summary?game_id=18623\n",
            "https://premium.pff.com/api/v1/facet/offense/summary?game_id=18633\n",
            "https://premium.pff.com/api/v1/facet/offense/summary?game_id=18637\n",
            "https://premium.pff.com/api/v1/facet/offense/summary?game_id=18629\n",
            "https://premium.pff.com/api/v1/facet/offense/summary?game_id=18632\n",
            "https://premium.pff.com/api/v1/facet/offense/summary?game_id=18589\n",
            "https://premium.pff.com/api/v1/facet/offense/summary?game_id=18636\n",
            "https://premium.pff.com/api/v1/facet/offense/summary?game_id=18635\n",
            "https://premium.pff.com/api/v1/facet/offense/summary?game_id=18631\n",
            "https://premium.pff.com/api/v1/facet/offense/summary?game_id=18625\n",
            "https://premium.pff.com/api/v1/facet/offense/summary?game_id=18647\n",
            "https://premium.pff.com/api/v1/facet/offense/summary?game_id=18634\n",
            "https://premium.pff.com/api/v1/facet/offense/summary?game_id=18638\n",
            "https://premium.pff.com/api/v1/facet/offense/summary?game_id=18628\n",
            "https://premium.pff.com/api/v1/facet/offense/summary?game_id=18624\n",
            "https://premium.pff.com/api/v1/facet/offense/summary?game_id=18651\n",
            "https://premium.pff.com/api/v1/facet/offense/summary?game_id=18644\n",
            "https://premium.pff.com/api/v1/facet/offense/summary?game_id=18640\n",
            "https://premium.pff.com/api/v1/facet/offense/summary?game_id=18646\n",
            "https://premium.pff.com/api/v1/facet/offense/summary?game_id=18643\n",
            "https://premium.pff.com/api/v1/facet/offense/summary?game_id=18648\n",
            "https://premium.pff.com/api/v1/facet/offense/summary?game_id=18645\n",
            "https://premium.pff.com/api/v1/facet/offense/summary?game_id=18642\n",
            "https://premium.pff.com/api/v1/facet/offense/summary?game_id=18626\n",
            "https://premium.pff.com/api/v1/facet/offense/summary?game_id=18689\n",
            "https://premium.pff.com/api/v1/facet/offense/summary?game_id=18650\n",
            "https://premium.pff.com/api/v1/facet/offense/summary?game_id=18641\n",
            "https://premium.pff.com/api/v1/facet/offense/summary?game_id=18639\n",
            "https://premium.pff.com/api/v1/facet/offense/summary?game_id=18649\n",
            "https://premium.pff.com/api/v1/facet/offense/summary?game_id=18658\n",
            "https://premium.pff.com/api/v1/facet/offense/summary?game_id=18655\n",
            "https://premium.pff.com/api/v1/facet/offense/summary?game_id=18660\n",
            "https://premium.pff.com/api/v1/facet/offense/summary?game_id=18664\n",
            "https://premium.pff.com/api/v1/facet/offense/summary?game_id=18652\n",
            "https://premium.pff.com/api/v1/facet/offense/summary?game_id=18663\n",
            "https://premium.pff.com/api/v1/facet/offense/summary?game_id=18665\n",
            "https://premium.pff.com/api/v1/facet/offense/summary?game_id=18662\n",
            "https://premium.pff.com/api/v1/facet/offense/summary?game_id=18654\n",
            "https://premium.pff.com/api/v1/facet/offense/summary?game_id=18656\n",
            "https://premium.pff.com/api/v1/facet/offense/summary?game_id=18653\n",
            "https://premium.pff.com/api/v1/facet/offense/summary?game_id=18661\n",
            "https://premium.pff.com/api/v1/facet/offense/summary?game_id=18657\n",
            "https://premium.pff.com/api/v1/facet/offense/summary?game_id=18659\n",
            "https://premium.pff.com/api/v1/facet/offense/summary?game_id=18630\n",
            "https://premium.pff.com/api/v1/facet/offense/summary?game_id=18670\n",
            "https://premium.pff.com/api/v1/facet/offense/summary?game_id=18666\n",
            "https://premium.pff.com/api/v1/facet/offense/summary?game_id=18669\n",
            "https://premium.pff.com/api/v1/facet/offense/summary?game_id=18667\n",
            "https://premium.pff.com/api/v1/facet/offense/summary?game_id=18679\n",
            "https://premium.pff.com/api/v1/facet/offense/summary?game_id=18677\n",
            "https://premium.pff.com/api/v1/facet/offense/summary?game_id=18672\n",
            "https://premium.pff.com/api/v1/facet/offense/summary?game_id=18671\n",
            "https://premium.pff.com/api/v1/facet/offense/summary?game_id=18674\n",
            "https://premium.pff.com/api/v1/facet/offense/summary?game_id=18668\n",
            "https://premium.pff.com/api/v1/facet/offense/summary?game_id=18676\n",
            "https://premium.pff.com/api/v1/facet/offense/summary?game_id=18673\n",
            "https://premium.pff.com/api/v1/facet/offense/summary?game_id=18678\n",
            "https://premium.pff.com/api/v1/facet/offense/summary?game_id=18688\n",
            "https://premium.pff.com/api/v1/facet/offense/summary?game_id=18690\n",
            "https://premium.pff.com/api/v1/facet/offense/summary?game_id=18681\n",
            "https://premium.pff.com/api/v1/facet/offense/summary?game_id=18686\n",
            "https://premium.pff.com/api/v1/facet/offense/summary?game_id=18619\n",
            "https://premium.pff.com/api/v1/facet/offense/summary?game_id=18687\n",
            "https://premium.pff.com/api/v1/facet/offense/summary?game_id=18680\n",
            "https://premium.pff.com/api/v1/facet/offense/summary?game_id=18684\n",
            "https://premium.pff.com/api/v1/facet/offense/summary?game_id=18620\n",
            "https://premium.pff.com/api/v1/facet/offense/summary?game_id=18692\n",
            "https://premium.pff.com/api/v1/facet/offense/summary?game_id=18691\n",
            "https://premium.pff.com/api/v1/facet/offense/summary?game_id=18682\n",
            "https://premium.pff.com/api/v1/facet/offense/summary?game_id=18683\n",
            "https://premium.pff.com/api/v1/facet/offense/summary?game_id=18685\n",
            "https://premium.pff.com/api/v1/facet/offense/summary?game_id=18706\n",
            "https://premium.pff.com/api/v1/facet/offense/summary?game_id=18694\n",
            "https://premium.pff.com/api/v1/facet/offense/summary?game_id=18707\n",
            "https://premium.pff.com/api/v1/facet/offense/summary?game_id=18708\n",
            "https://premium.pff.com/api/v1/facet/offense/summary?game_id=18701\n",
            "https://premium.pff.com/api/v1/facet/offense/summary?game_id=18695\n",
            "https://premium.pff.com/api/v1/facet/offense/summary?game_id=18705\n",
            "https://premium.pff.com/api/v1/facet/offense/summary?game_id=18696\n",
            "https://premium.pff.com/api/v1/facet/offense/summary?game_id=18698\n",
            "https://premium.pff.com/api/v1/facet/offense/summary?game_id=18703\n",
            "https://premium.pff.com/api/v1/facet/offense/summary?game_id=18693\n",
            "https://premium.pff.com/api/v1/facet/offense/summary?game_id=18699\n",
            "https://premium.pff.com/api/v1/facet/offense/summary?game_id=18702\n",
            "https://premium.pff.com/api/v1/facet/offense/summary?game_id=18704\n",
            "https://premium.pff.com/api/v1/facet/offense/summary?game_id=18700\n",
            "https://premium.pff.com/api/v1/facet/offense/summary?game_id=18697\n",
            "https://premium.pff.com/api/v1/facet/offense/summary?game_id=18720\n",
            "https://premium.pff.com/api/v1/facet/offense/summary?game_id=18722\n",
            "https://premium.pff.com/api/v1/facet/offense/summary?game_id=18714\n",
            "https://premium.pff.com/api/v1/facet/offense/summary?game_id=18717\n",
            "https://premium.pff.com/api/v1/facet/offense/summary?game_id=18709\n",
            "https://premium.pff.com/api/v1/facet/offense/summary?game_id=18713\n",
            "https://premium.pff.com/api/v1/facet/offense/summary?game_id=18715\n",
            "https://premium.pff.com/api/v1/facet/offense/summary?game_id=18721\n",
            "https://premium.pff.com/api/v1/facet/offense/summary?game_id=18718\n",
            "https://premium.pff.com/api/v1/facet/offense/summary?game_id=18723\n",
            "https://premium.pff.com/api/v1/facet/offense/summary?game_id=18716\n",
            "https://premium.pff.com/api/v1/facet/offense/summary?game_id=18719\n",
            "https://premium.pff.com/api/v1/facet/offense/summary?game_id=18710\n",
            "https://premium.pff.com/api/v1/facet/offense/summary?game_id=18712\n",
            "https://premium.pff.com/api/v1/facet/offense/summary?game_id=18711\n",
            "https://premium.pff.com/api/v1/facet/offense/summary?game_id=18724\n",
            "https://premium.pff.com/api/v1/facet/offense/summary?game_id=18725\n",
            "https://premium.pff.com/api/v1/facet/offense/summary?game_id=18726\n",
            "https://premium.pff.com/api/v1/facet/offense/summary?game_id=18727\n",
            "https://premium.pff.com/api/v1/facet/offense/summary?game_id=18728\n",
            "https://premium.pff.com/api/v1/facet/offense/summary?game_id=18729\n",
            "https://premium.pff.com/api/v1/facet/offense/summary?game_id=18730\n",
            "https://premium.pff.com/api/v1/facet/offense/summary?game_id=18731\n",
            "https://premium.pff.com/api/v1/facet/offense/summary?game_id=18732\n",
            "https://premium.pff.com/api/v1/facet/offense/summary?game_id=18733\n",
            "https://premium.pff.com/api/v1/facet/offense/summary?game_id=18734\n",
            "https://premium.pff.com/api/v1/facet/offense/summary?game_id=18735\n",
            "https://premium.pff.com/api/v1/facet/offense/summary?game_id=18736\n",
            "https://premium.pff.com/api/v1/facet/offense/summary?game_id=18737\n",
            "https://premium.pff.com/api/v1/facet/offense/summary?game_id=18738\n",
            "https://premium.pff.com/api/v1/facet/offense/summary?game_id=18739\n",
            "https://premium.pff.com/api/v1/facet/offense/summary?game_id=18740\n",
            "https://premium.pff.com/api/v1/facet/offense/summary?game_id=18741\n",
            "https://premium.pff.com/api/v1/facet/offense/summary?game_id=18742\n",
            "https://premium.pff.com/api/v1/facet/offense/summary?game_id=18743\n",
            "https://premium.pff.com/api/v1/facet/offense/summary?game_id=18744\n",
            "https://premium.pff.com/api/v1/facet/offense/summary?game_id=18745\n",
            "https://premium.pff.com/api/v1/facet/offense/summary?game_id=18746\n",
            "https://premium.pff.com/api/v1/facet/offense/summary?game_id=18747\n",
            "https://premium.pff.com/api/v1/facet/offense/summary?game_id=18748\n",
            "https://premium.pff.com/api/v1/facet/offense/summary?game_id=18749\n",
            "https://premium.pff.com/api/v1/facet/offense/summary?game_id=18750\n",
            "https://premium.pff.com/api/v1/facet/offense/summary?game_id=18751\n",
            "https://premium.pff.com/api/v1/facet/offense/summary?game_id=18752\n",
            "https://premium.pff.com/api/v1/facet/offense/summary?game_id=18753\n",
            "https://premium.pff.com/api/v1/facet/offense/summary?game_id=18754\n",
            "https://premium.pff.com/api/v1/facet/offense/summary?game_id=18755\n",
            "https://premium.pff.com/api/v1/facet/offense/summary?game_id=18756\n",
            "https://premium.pff.com/api/v1/facet/offense/summary?game_id=18757\n",
            "https://premium.pff.com/api/v1/facet/offense/summary?game_id=18758\n",
            "https://premium.pff.com/api/v1/facet/offense/summary?game_id=18759\n",
            "https://premium.pff.com/api/v1/facet/offense/summary?game_id=18760\n",
            "https://premium.pff.com/api/v1/facet/offense/summary?game_id=18761\n",
            "https://premium.pff.com/api/v1/facet/offense/summary?game_id=18762\n",
            "https://premium.pff.com/api/v1/facet/offense/summary?game_id=18763\n",
            "https://premium.pff.com/api/v1/facet/offense/summary?game_id=18764\n",
            "https://premium.pff.com/api/v1/facet/offense/summary?game_id=18765\n",
            "https://premium.pff.com/api/v1/facet/offense/summary?game_id=18766\n",
            "https://premium.pff.com/api/v1/facet/offense/summary?game_id=18767\n",
            "https://premium.pff.com/api/v1/facet/offense/summary?game_id=18768\n",
            "https://premium.pff.com/api/v1/facet/offense/summary?game_id=18769\n",
            "https://premium.pff.com/api/v1/facet/offense/summary?game_id=18770\n",
            "https://premium.pff.com/api/v1/facet/offense/summary?game_id=18771\n",
            "https://premium.pff.com/api/v1/facet/offense/summary?game_id=18772\n",
            "https://premium.pff.com/api/v1/facet/offense/summary?game_id=18773\n",
            "https://premium.pff.com/api/v1/facet/offense/summary?game_id=18774\n",
            "https://premium.pff.com/api/v1/facet/offense/summary?game_id=18775\n",
            "https://premium.pff.com/api/v1/facet/offense/summary?game_id=18776\n",
            "https://premium.pff.com/api/v1/facet/offense/summary?game_id=18777\n",
            "https://premium.pff.com/api/v1/facet/offense/summary?game_id=18778\n",
            "https://premium.pff.com/api/v1/facet/offense/summary?game_id=18779\n",
            "https://premium.pff.com/api/v1/facet/offense/summary?game_id=18780\n",
            "https://premium.pff.com/api/v1/facet/offense/summary?game_id=18781\n",
            "https://premium.pff.com/api/v1/facet/offense/summary?game_id=18782\n",
            "https://premium.pff.com/api/v1/facet/offense/summary?game_id=18783\n",
            "https://premium.pff.com/api/v1/facet/offense/summary?game_id=18784\n",
            "https://premium.pff.com/api/v1/facet/offense/summary?game_id=18785\n",
            "https://premium.pff.com/api/v1/facet/offense/summary?game_id=18786\n",
            "https://premium.pff.com/api/v1/facet/offense/summary?game_id=18787\n",
            "https://premium.pff.com/api/v1/facet/offense/summary?game_id=19257\n",
            "https://premium.pff.com/api/v1/facet/offense/summary?game_id=19258\n",
            "https://premium.pff.com/api/v1/facet/offense/summary?game_id=19259\n",
            "https://premium.pff.com/api/v1/facet/offense/summary?game_id=19260\n",
            "https://premium.pff.com/api/v1/facet/offense/summary?game_id=19261\n",
            "https://premium.pff.com/api/v1/facet/offense/summary?game_id=19262\n",
            "https://premium.pff.com/api/v1/facet/offense/summary?game_id=19284\n",
            "https://premium.pff.com/api/v1/facet/offense/summary?game_id=19285\n",
            "https://premium.pff.com/api/v1/facet/offense/summary?game_id=19286\n",
            "https://premium.pff.com/api/v1/facet/offense/summary?game_id=19287\n",
            "https://premium.pff.com/api/v1/facet/offense/summary?game_id=19288\n",
            "https://premium.pff.com/api/v1/facet/offense/summary?game_id=19289\n",
            "https://premium.pff.com/api/v1/facet/offense/summary?game_id=19290\n",
            "https://premium.pff.com/api/v1/facet/offense/summary?game_id=13771\n",
            "https://premium.pff.com/api/v1/facet/offense/summary?game_id=13769\n",
            "https://premium.pff.com/api/v1/facet/offense/summary?game_id=13775\n",
            "https://premium.pff.com/api/v1/facet/offense/summary?game_id=13764\n",
            "https://premium.pff.com/api/v1/facet/offense/summary?game_id=13766\n",
            "https://premium.pff.com/api/v1/facet/offense/summary?game_id=13765\n",
            "https://premium.pff.com/api/v1/facet/offense/summary?game_id=13773\n",
            "https://premium.pff.com/api/v1/facet/offense/summary?game_id=13774\n",
            "https://premium.pff.com/api/v1/facet/offense/summary?game_id=13762\n",
            "https://premium.pff.com/api/v1/facet/offense/summary?game_id=13763\n",
            "https://premium.pff.com/api/v1/facet/offense/summary?game_id=13767\n",
            "https://premium.pff.com/api/v1/facet/offense/summary?game_id=13770\n",
            "https://premium.pff.com/api/v1/facet/offense/summary?game_id=13772\n",
            "https://premium.pff.com/api/v1/facet/offense/summary?game_id=13768\n",
            "https://premium.pff.com/api/v1/facet/offense/summary?game_id=13777\n",
            "https://premium.pff.com/api/v1/facet/offense/summary?game_id=13776\n",
            "https://premium.pff.com/api/v1/facet/offense/summary?game_id=13787\n",
            "https://premium.pff.com/api/v1/facet/offense/summary?game_id=13780\n",
            "https://premium.pff.com/api/v1/facet/offense/summary?game_id=13781\n",
            "https://premium.pff.com/api/v1/facet/offense/summary?game_id=13786\n",
            "https://premium.pff.com/api/v1/facet/offense/summary?game_id=13793\n",
            "https://premium.pff.com/api/v1/facet/offense/summary?game_id=13788\n",
            "https://premium.pff.com/api/v1/facet/offense/summary?game_id=13789\n",
            "https://premium.pff.com/api/v1/facet/offense/summary?game_id=13784\n",
            "https://premium.pff.com/api/v1/facet/offense/summary?game_id=13790\n",
            "https://premium.pff.com/api/v1/facet/offense/summary?game_id=13792\n",
            "https://premium.pff.com/api/v1/facet/offense/summary?game_id=13778\n",
            "https://premium.pff.com/api/v1/facet/offense/summary?game_id=13783\n",
            "https://premium.pff.com/api/v1/facet/offense/summary?game_id=13782\n",
            "https://premium.pff.com/api/v1/facet/offense/summary?game_id=13791\n",
            "https://premium.pff.com/api/v1/facet/offense/summary?game_id=13785\n",
            "https://premium.pff.com/api/v1/facet/offense/summary?game_id=13779\n",
            "https://premium.pff.com/api/v1/facet/offense/summary?game_id=13808\n",
            "https://premium.pff.com/api/v1/facet/offense/summary?game_id=13804\n",
            "https://premium.pff.com/api/v1/facet/offense/summary?game_id=13796\n",
            "https://premium.pff.com/api/v1/facet/offense/summary?game_id=13802\n",
            "https://premium.pff.com/api/v1/facet/offense/summary?game_id=13806\n",
            "https://premium.pff.com/api/v1/facet/offense/summary?game_id=13807\n",
            "https://premium.pff.com/api/v1/facet/offense/summary?game_id=13800\n",
            "https://premium.pff.com/api/v1/facet/offense/summary?game_id=13797\n",
            "https://premium.pff.com/api/v1/facet/offense/summary?game_id=13801\n",
            "https://premium.pff.com/api/v1/facet/offense/summary?game_id=13799\n",
            "https://premium.pff.com/api/v1/facet/offense/summary?game_id=13794\n",
            "https://premium.pff.com/api/v1/facet/offense/summary?game_id=13809\n",
            "https://premium.pff.com/api/v1/facet/offense/summary?game_id=13805\n",
            "https://premium.pff.com/api/v1/facet/offense/summary?game_id=13798\n",
            "https://premium.pff.com/api/v1/facet/offense/summary?game_id=13803\n",
            "https://premium.pff.com/api/v1/facet/offense/summary?game_id=13795\n",
            "https://premium.pff.com/api/v1/facet/offense/summary?game_id=13816\n",
            "https://premium.pff.com/api/v1/facet/offense/summary?game_id=13821\n",
            "https://premium.pff.com/api/v1/facet/offense/summary?game_id=13817\n",
            "https://premium.pff.com/api/v1/facet/offense/summary?game_id=13819\n",
            "https://premium.pff.com/api/v1/facet/offense/summary?game_id=13823\n",
            "https://premium.pff.com/api/v1/facet/offense/summary?game_id=13814\n",
            "https://premium.pff.com/api/v1/facet/offense/summary?game_id=13815\n",
            "https://premium.pff.com/api/v1/facet/offense/summary?game_id=13820\n",
            "https://premium.pff.com/api/v1/facet/offense/summary?game_id=13812\n",
            "https://premium.pff.com/api/v1/facet/offense/summary?game_id=13822\n",
            "https://premium.pff.com/api/v1/facet/offense/summary?game_id=13824\n",
            "https://premium.pff.com/api/v1/facet/offense/summary?game_id=13818\n",
            "https://premium.pff.com/api/v1/facet/offense/summary?game_id=13813\n",
            "https://premium.pff.com/api/v1/facet/offense/summary?game_id=13810\n",
            "https://premium.pff.com/api/v1/facet/offense/summary?game_id=13811\n",
            "https://premium.pff.com/api/v1/facet/offense/summary?game_id=13828\n",
            "https://premium.pff.com/api/v1/facet/offense/summary?game_id=13832\n",
            "https://premium.pff.com/api/v1/facet/offense/summary?game_id=13838\n",
            "https://premium.pff.com/api/v1/facet/offense/summary?game_id=13829\n",
            "https://premium.pff.com/api/v1/facet/offense/summary?game_id=13826\n",
            "https://premium.pff.com/api/v1/facet/offense/summary?game_id=13830\n",
            "https://premium.pff.com/api/v1/facet/offense/summary?game_id=13839\n",
            "https://premium.pff.com/api/v1/facet/offense/summary?game_id=13836\n",
            "https://premium.pff.com/api/v1/facet/offense/summary?game_id=13825\n",
            "https://premium.pff.com/api/v1/facet/offense/summary?game_id=13834\n",
            "https://premium.pff.com/api/v1/facet/offense/summary?game_id=13827\n",
            "https://premium.pff.com/api/v1/facet/offense/summary?game_id=13837\n",
            "https://premium.pff.com/api/v1/facet/offense/summary?game_id=13831\n",
            "https://premium.pff.com/api/v1/facet/offense/summary?game_id=13833\n",
            "https://premium.pff.com/api/v1/facet/offense/summary?game_id=13835\n",
            "https://premium.pff.com/api/v1/facet/offense/summary?game_id=13849\n",
            "https://premium.pff.com/api/v1/facet/offense/summary?game_id=13840\n",
            "https://premium.pff.com/api/v1/facet/offense/summary?game_id=13841\n",
            "https://premium.pff.com/api/v1/facet/offense/summary?game_id=13851\n",
            "https://premium.pff.com/api/v1/facet/offense/summary?game_id=13850\n",
            "https://premium.pff.com/api/v1/facet/offense/summary?game_id=13845\n",
            "https://premium.pff.com/api/v1/facet/offense/summary?game_id=13853\n",
            "https://premium.pff.com/api/v1/facet/offense/summary?game_id=13852\n",
            "https://premium.pff.com/api/v1/facet/offense/summary?game_id=13842\n",
            "https://premium.pff.com/api/v1/facet/offense/summary?game_id=13847\n",
            "https://premium.pff.com/api/v1/facet/offense/summary?game_id=13843\n",
            "https://premium.pff.com/api/v1/facet/offense/summary?game_id=13846\n",
            "https://premium.pff.com/api/v1/facet/offense/summary?game_id=13844\n",
            "https://premium.pff.com/api/v1/facet/offense/summary?game_id=13848\n",
            "https://premium.pff.com/api/v1/facet/offense/summary?game_id=13862\n",
            "https://premium.pff.com/api/v1/facet/offense/summary?game_id=13863\n",
            "https://premium.pff.com/api/v1/facet/offense/summary?game_id=13866\n",
            "https://premium.pff.com/api/v1/facet/offense/summary?game_id=13865\n",
            "https://premium.pff.com/api/v1/facet/offense/summary?game_id=13860\n",
            "https://premium.pff.com/api/v1/facet/offense/summary?game_id=13854\n",
            "https://premium.pff.com/api/v1/facet/offense/summary?game_id=13859\n",
            "https://premium.pff.com/api/v1/facet/offense/summary?game_id=13867\n",
            "https://premium.pff.com/api/v1/facet/offense/summary?game_id=13864\n",
            "https://premium.pff.com/api/v1/facet/offense/summary?game_id=13855\n",
            "https://premium.pff.com/api/v1/facet/offense/summary?game_id=13857\n",
            "https://premium.pff.com/api/v1/facet/offense/summary?game_id=13858\n",
            "https://premium.pff.com/api/v1/facet/offense/summary?game_id=13856\n",
            "https://premium.pff.com/api/v1/facet/offense/summary?game_id=13861\n",
            "https://premium.pff.com/api/v1/facet/offense/summary?game_id=13870\n",
            "https://premium.pff.com/api/v1/facet/offense/summary?game_id=13879\n",
            "https://premium.pff.com/api/v1/facet/offense/summary?game_id=13876\n",
            "https://premium.pff.com/api/v1/facet/offense/summary?game_id=13874\n",
            "https://premium.pff.com/api/v1/facet/offense/summary?game_id=13881\n",
            "https://premium.pff.com/api/v1/facet/offense/summary?game_id=13872\n",
            "https://premium.pff.com/api/v1/facet/offense/summary?game_id=13877\n",
            "https://premium.pff.com/api/v1/facet/offense/summary?game_id=13875\n",
            "https://premium.pff.com/api/v1/facet/offense/summary?game_id=13882\n",
            "https://premium.pff.com/api/v1/facet/offense/summary?game_id=13869\n",
            "https://premium.pff.com/api/v1/facet/offense/summary?game_id=13880\n",
            "https://premium.pff.com/api/v1/facet/offense/summary?game_id=13873\n",
            "https://premium.pff.com/api/v1/facet/offense/summary?game_id=13871\n",
            "https://premium.pff.com/api/v1/facet/offense/summary?game_id=13878\n",
            "https://premium.pff.com/api/v1/facet/offense/summary?game_id=13868\n",
            "https://premium.pff.com/api/v1/facet/offense/summary?game_id=13884\n",
            "https://premium.pff.com/api/v1/facet/offense/summary?game_id=13887\n",
            "https://premium.pff.com/api/v1/facet/offense/summary?game_id=13895\n",
            "https://premium.pff.com/api/v1/facet/offense/summary?game_id=13890\n",
            "https://premium.pff.com/api/v1/facet/offense/summary?game_id=13894\n",
            "https://premium.pff.com/api/v1/facet/offense/summary?game_id=13883\n",
            "https://premium.pff.com/api/v1/facet/offense/summary?game_id=13885\n",
            "https://premium.pff.com/api/v1/facet/offense/summary?game_id=13896\n",
            "https://premium.pff.com/api/v1/facet/offense/summary?game_id=13891\n",
            "https://premium.pff.com/api/v1/facet/offense/summary?game_id=13893\n",
            "https://premium.pff.com/api/v1/facet/offense/summary?game_id=13888\n",
            "https://premium.pff.com/api/v1/facet/offense/summary?game_id=13886\n",
            "https://premium.pff.com/api/v1/facet/offense/summary?game_id=13889\n",
            "https://premium.pff.com/api/v1/facet/offense/summary?game_id=13892\n",
            "https://premium.pff.com/api/v1/facet/offense/summary?game_id=13898\n",
            "https://premium.pff.com/api/v1/facet/offense/summary?game_id=13908\n",
            "https://premium.pff.com/api/v1/facet/offense/summary?game_id=13906\n",
            "https://premium.pff.com/api/v1/facet/offense/summary?game_id=13899\n",
            "https://premium.pff.com/api/v1/facet/offense/summary?game_id=13901\n",
            "https://premium.pff.com/api/v1/facet/offense/summary?game_id=13902\n",
            "https://premium.pff.com/api/v1/facet/offense/summary?game_id=13900\n",
            "https://premium.pff.com/api/v1/facet/offense/summary?game_id=13905\n",
            "https://premium.pff.com/api/v1/facet/offense/summary?game_id=13904\n",
            "https://premium.pff.com/api/v1/facet/offense/summary?game_id=13903\n",
            "https://premium.pff.com/api/v1/facet/offense/summary?game_id=13909\n",
            "https://premium.pff.com/api/v1/facet/offense/summary?game_id=13897\n",
            "https://premium.pff.com/api/v1/facet/offense/summary?game_id=13907\n",
            "https://premium.pff.com/api/v1/facet/offense/summary?game_id=13920\n",
            "https://premium.pff.com/api/v1/facet/offense/summary?game_id=13914\n",
            "https://premium.pff.com/api/v1/facet/offense/summary?game_id=13923\n",
            "https://premium.pff.com/api/v1/facet/offense/summary?game_id=13910\n",
            "https://premium.pff.com/api/v1/facet/offense/summary?game_id=13917\n",
            "https://premium.pff.com/api/v1/facet/offense/summary?game_id=13911\n",
            "https://premium.pff.com/api/v1/facet/offense/summary?game_id=13913\n",
            "https://premium.pff.com/api/v1/facet/offense/summary?game_id=13921\n",
            "https://premium.pff.com/api/v1/facet/offense/summary?game_id=13912\n",
            "https://premium.pff.com/api/v1/facet/offense/summary?game_id=13918\n",
            "https://premium.pff.com/api/v1/facet/offense/summary?game_id=13922\n",
            "https://premium.pff.com/api/v1/facet/offense/summary?game_id=13916\n",
            "https://premium.pff.com/api/v1/facet/offense/summary?game_id=13915\n",
            "https://premium.pff.com/api/v1/facet/offense/summary?game_id=13919\n",
            "https://premium.pff.com/api/v1/facet/offense/summary?game_id=13925\n",
            "https://premium.pff.com/api/v1/facet/offense/summary?game_id=13932\n",
            "https://premium.pff.com/api/v1/facet/offense/summary?game_id=13935\n",
            "https://premium.pff.com/api/v1/facet/offense/summary?game_id=13937\n",
            "https://premium.pff.com/api/v1/facet/offense/summary?game_id=13929\n",
            "https://premium.pff.com/api/v1/facet/offense/summary?game_id=13928\n",
            "https://premium.pff.com/api/v1/facet/offense/summary?game_id=13933\n",
            "https://premium.pff.com/api/v1/facet/offense/summary?game_id=13930\n",
            "https://premium.pff.com/api/v1/facet/offense/summary?game_id=13926\n",
            "https://premium.pff.com/api/v1/facet/offense/summary?game_id=13934\n",
            "https://premium.pff.com/api/v1/facet/offense/summary?game_id=13924\n",
            "https://premium.pff.com/api/v1/facet/offense/summary?game_id=13931\n",
            "https://premium.pff.com/api/v1/facet/offense/summary?game_id=13936\n",
            "https://premium.pff.com/api/v1/facet/offense/summary?game_id=13927\n",
            "https://premium.pff.com/api/v1/facet/offense/summary?game_id=13945\n",
            "https://premium.pff.com/api/v1/facet/offense/summary?game_id=13942\n",
            "https://premium.pff.com/api/v1/facet/offense/summary?game_id=13952\n",
            "https://premium.pff.com/api/v1/facet/offense/summary?game_id=13950\n",
            "https://premium.pff.com/api/v1/facet/offense/summary?game_id=13949\n",
            "https://premium.pff.com/api/v1/facet/offense/summary?game_id=13951\n",
            "https://premium.pff.com/api/v1/facet/offense/summary?game_id=13948\n",
            "https://premium.pff.com/api/v1/facet/offense/summary?game_id=13947\n",
            "https://premium.pff.com/api/v1/facet/offense/summary?game_id=13940\n",
            "https://premium.pff.com/api/v1/facet/offense/summary?game_id=13944\n",
            "https://premium.pff.com/api/v1/facet/offense/summary?game_id=13943\n",
            "https://premium.pff.com/api/v1/facet/offense/summary?game_id=13938\n",
            "https://premium.pff.com/api/v1/facet/offense/summary?game_id=13941\n",
            "https://premium.pff.com/api/v1/facet/offense/summary?game_id=13939\n",
            "https://premium.pff.com/api/v1/facet/offense/summary?game_id=13953\n",
            "https://premium.pff.com/api/v1/facet/offense/summary?game_id=13946\n",
            "https://premium.pff.com/api/v1/facet/offense/summary?game_id=13954\n",
            "https://premium.pff.com/api/v1/facet/offense/summary?game_id=13955\n",
            "https://premium.pff.com/api/v1/facet/offense/summary?game_id=13956\n",
            "https://premium.pff.com/api/v1/facet/offense/summary?game_id=13957\n",
            "https://premium.pff.com/api/v1/facet/offense/summary?game_id=13958\n",
            "https://premium.pff.com/api/v1/facet/offense/summary?game_id=13959\n",
            "https://premium.pff.com/api/v1/facet/offense/summary?game_id=13960\n",
            "https://premium.pff.com/api/v1/facet/offense/summary?game_id=13961\n",
            "https://premium.pff.com/api/v1/facet/offense/summary?game_id=13962\n",
            "https://premium.pff.com/api/v1/facet/offense/summary?game_id=13963\n",
            "https://premium.pff.com/api/v1/facet/offense/summary?game_id=13964\n",
            "https://premium.pff.com/api/v1/facet/offense/summary?game_id=13965\n",
            "https://premium.pff.com/api/v1/facet/offense/summary?game_id=13966\n",
            "https://premium.pff.com/api/v1/facet/offense/summary?game_id=13967\n",
            "https://premium.pff.com/api/v1/facet/offense/summary?game_id=13968\n",
            "https://premium.pff.com/api/v1/facet/offense/summary?game_id=13969\n",
            "https://premium.pff.com/api/v1/facet/offense/summary?game_id=13970\n",
            "https://premium.pff.com/api/v1/facet/offense/summary?game_id=13971\n",
            "https://premium.pff.com/api/v1/facet/offense/summary?game_id=13972\n",
            "https://premium.pff.com/api/v1/facet/offense/summary?game_id=13973\n",
            "https://premium.pff.com/api/v1/facet/offense/summary?game_id=13974\n",
            "https://premium.pff.com/api/v1/facet/offense/summary?game_id=13975\n",
            "https://premium.pff.com/api/v1/facet/offense/summary?game_id=13976\n",
            "https://premium.pff.com/api/v1/facet/offense/summary?game_id=13977\n",
            "https://premium.pff.com/api/v1/facet/offense/summary?game_id=13978\n",
            "https://premium.pff.com/api/v1/facet/offense/summary?game_id=13979\n",
            "https://premium.pff.com/api/v1/facet/offense/summary?game_id=13980\n",
            "https://premium.pff.com/api/v1/facet/offense/summary?game_id=13981\n",
            "https://premium.pff.com/api/v1/facet/offense/summary?game_id=13982\n",
            "https://premium.pff.com/api/v1/facet/offense/summary?game_id=13983\n",
            "https://premium.pff.com/api/v1/facet/offense/summary?game_id=13984\n",
            "https://premium.pff.com/api/v1/facet/offense/summary?game_id=13985\n",
            "https://premium.pff.com/api/v1/facet/offense/summary?game_id=13986\n",
            "https://premium.pff.com/api/v1/facet/offense/summary?game_id=13987\n",
            "https://premium.pff.com/api/v1/facet/offense/summary?game_id=13988\n",
            "https://premium.pff.com/api/v1/facet/offense/summary?game_id=13989\n",
            "https://premium.pff.com/api/v1/facet/offense/summary?game_id=13990\n",
            "https://premium.pff.com/api/v1/facet/offense/summary?game_id=13991\n",
            "https://premium.pff.com/api/v1/facet/offense/summary?game_id=13992\n",
            "https://premium.pff.com/api/v1/facet/offense/summary?game_id=13993\n",
            "https://premium.pff.com/api/v1/facet/offense/summary?game_id=13994\n",
            "https://premium.pff.com/api/v1/facet/offense/summary?game_id=13995\n",
            "https://premium.pff.com/api/v1/facet/offense/summary?game_id=13996\n",
            "https://premium.pff.com/api/v1/facet/offense/summary?game_id=13997\n",
            "https://premium.pff.com/api/v1/facet/offense/summary?game_id=13998\n",
            "https://premium.pff.com/api/v1/facet/offense/summary?game_id=13999\n",
            "https://premium.pff.com/api/v1/facet/offense/summary?game_id=14000\n",
            "https://premium.pff.com/api/v1/facet/offense/summary?game_id=14001\n",
            "https://premium.pff.com/api/v1/facet/offense/summary?game_id=14002\n",
            "https://premium.pff.com/api/v1/facet/offense/summary?game_id=14003\n",
            "https://premium.pff.com/api/v1/facet/offense/summary?game_id=14004\n",
            "https://premium.pff.com/api/v1/facet/offense/summary?game_id=14005\n",
            "https://premium.pff.com/api/v1/facet/offense/summary?game_id=14006\n",
            "https://premium.pff.com/api/v1/facet/offense/summary?game_id=14007\n",
            "https://premium.pff.com/api/v1/facet/offense/summary?game_id=14008\n",
            "https://premium.pff.com/api/v1/facet/offense/summary?game_id=14009\n",
            "https://premium.pff.com/api/v1/facet/offense/summary?game_id=14010\n",
            "https://premium.pff.com/api/v1/facet/offense/summary?game_id=14011\n",
            "https://premium.pff.com/api/v1/facet/offense/summary?game_id=14012\n",
            "https://premium.pff.com/api/v1/facet/offense/summary?game_id=14013\n",
            "https://premium.pff.com/api/v1/facet/offense/summary?game_id=14014\n",
            "https://premium.pff.com/api/v1/facet/offense/summary?game_id=14015\n",
            "https://premium.pff.com/api/v1/facet/offense/summary?game_id=14016\n",
            "https://premium.pff.com/api/v1/facet/offense/summary?game_id=14017\n",
            "https://premium.pff.com/api/v1/facet/offense/summary?game_id=16801\n",
            "https://premium.pff.com/api/v1/facet/offense/summary?game_id=16802\n",
            "https://premium.pff.com/api/v1/facet/offense/summary?game_id=16803\n",
            "https://premium.pff.com/api/v1/facet/offense/summary?game_id=16804\n",
            "https://premium.pff.com/api/v1/facet/offense/summary?game_id=16805\n",
            "https://premium.pff.com/api/v1/facet/offense/summary?game_id=16806\n",
            "https://premium.pff.com/api/v1/facet/offense/summary?game_id=16807\n",
            "https://premium.pff.com/api/v1/facet/offense/summary?game_id=16808\n",
            "https://premium.pff.com/api/v1/facet/offense/summary?game_id=16809\n",
            "https://premium.pff.com/api/v1/facet/offense/summary?game_id=16810\n",
            "https://premium.pff.com/api/v1/facet/offense/summary?game_id=16813\n",
            "https://premium.pff.com/api/v1/facet/offense/summary?game_id=9348\n",
            "https://premium.pff.com/api/v1/facet/offense/summary?game_id=9349\n",
            "https://premium.pff.com/api/v1/facet/offense/summary?game_id=9344\n",
            "https://premium.pff.com/api/v1/facet/offense/summary?game_id=9352\n",
            "https://premium.pff.com/api/v1/facet/offense/summary?game_id=9339\n",
            "https://premium.pff.com/api/v1/facet/offense/summary?game_id=9341\n",
            "https://premium.pff.com/api/v1/facet/offense/summary?game_id=9340\n",
            "https://premium.pff.com/api/v1/facet/offense/summary?game_id=9345\n",
            "https://premium.pff.com/api/v1/facet/offense/summary?game_id=9338\n",
            "https://premium.pff.com/api/v1/facet/offense/summary?game_id=9346\n",
            "https://premium.pff.com/api/v1/facet/offense/summary?game_id=9351\n",
            "https://premium.pff.com/api/v1/facet/offense/summary?game_id=9353\n",
            "https://premium.pff.com/api/v1/facet/offense/summary?game_id=9342\n",
            "https://premium.pff.com/api/v1/facet/offense/summary?game_id=9350\n",
            "https://premium.pff.com/api/v1/facet/offense/summary?game_id=9347\n",
            "https://premium.pff.com/api/v1/facet/offense/summary?game_id=9343\n",
            "https://premium.pff.com/api/v1/facet/offense/summary?game_id=9357\n",
            "https://premium.pff.com/api/v1/facet/offense/summary?game_id=9366\n",
            "https://premium.pff.com/api/v1/facet/offense/summary?game_id=9363\n",
            "https://premium.pff.com/api/v1/facet/offense/summary?game_id=9360\n",
            "https://premium.pff.com/api/v1/facet/offense/summary?game_id=9355\n",
            "https://premium.pff.com/api/v1/facet/offense/summary?game_id=9359\n",
            "https://premium.pff.com/api/v1/facet/offense/summary?game_id=9364\n",
            "https://premium.pff.com/api/v1/facet/offense/summary?game_id=9358\n",
            "https://premium.pff.com/api/v1/facet/offense/summary?game_id=9369\n",
            "https://premium.pff.com/api/v1/facet/offense/summary?game_id=9367\n",
            "https://premium.pff.com/api/v1/facet/offense/summary?game_id=9362\n",
            "https://premium.pff.com/api/v1/facet/offense/summary?game_id=9356\n",
            "https://premium.pff.com/api/v1/facet/offense/summary?game_id=9365\n",
            "https://premium.pff.com/api/v1/facet/offense/summary?game_id=9354\n",
            "https://premium.pff.com/api/v1/facet/offense/summary?game_id=9361\n",
            "https://premium.pff.com/api/v1/facet/offense/summary?game_id=9368\n",
            "https://premium.pff.com/api/v1/facet/offense/summary?game_id=9372\n",
            "https://premium.pff.com/api/v1/facet/offense/summary?game_id=9378\n",
            "https://premium.pff.com/api/v1/facet/offense/summary?game_id=9373\n",
            "https://premium.pff.com/api/v1/facet/offense/summary?game_id=9376\n",
            "https://premium.pff.com/api/v1/facet/offense/summary?game_id=9370\n",
            "https://premium.pff.com/api/v1/facet/offense/summary?game_id=9384\n",
            "https://premium.pff.com/api/v1/facet/offense/summary?game_id=9383\n",
            "https://premium.pff.com/api/v1/facet/offense/summary?game_id=9371\n",
            "https://premium.pff.com/api/v1/facet/offense/summary?game_id=9379\n",
            "https://premium.pff.com/api/v1/facet/offense/summary?game_id=9382\n",
            "https://premium.pff.com/api/v1/facet/offense/summary?game_id=9377\n",
            "https://premium.pff.com/api/v1/facet/offense/summary?game_id=9374\n",
            "https://premium.pff.com/api/v1/facet/offense/summary?game_id=9381\n",
            "https://premium.pff.com/api/v1/facet/offense/summary?game_id=9380\n",
            "https://premium.pff.com/api/v1/facet/offense/summary?game_id=9375\n",
            "https://premium.pff.com/api/v1/facet/offense/summary?game_id=9385\n",
            "https://premium.pff.com/api/v1/facet/offense/summary?game_id=9392\n",
            "https://premium.pff.com/api/v1/facet/offense/summary?game_id=9390\n",
            "https://premium.pff.com/api/v1/facet/offense/summary?game_id=9396\n",
            "https://premium.pff.com/api/v1/facet/offense/summary?game_id=9393\n",
            "https://premium.pff.com/api/v1/facet/offense/summary?game_id=9400\n",
            "https://premium.pff.com/api/v1/facet/offense/summary?game_id=9399\n",
            "https://premium.pff.com/api/v1/facet/offense/summary?game_id=9391\n",
            "https://premium.pff.com/api/v1/facet/offense/summary?game_id=9394\n",
            "https://premium.pff.com/api/v1/facet/offense/summary?game_id=9389\n",
            "https://premium.pff.com/api/v1/facet/offense/summary?game_id=9387\n",
            "https://premium.pff.com/api/v1/facet/offense/summary?game_id=9388\n",
            "https://premium.pff.com/api/v1/facet/offense/summary?game_id=9398\n",
            "https://premium.pff.com/api/v1/facet/offense/summary?game_id=9397\n",
            "https://premium.pff.com/api/v1/facet/offense/summary?game_id=9386\n",
            "https://premium.pff.com/api/v1/facet/offense/summary?game_id=9395\n",
            "https://premium.pff.com/api/v1/facet/offense/summary?game_id=9410\n",
            "https://premium.pff.com/api/v1/facet/offense/summary?game_id=9404\n",
            "https://premium.pff.com/api/v1/facet/offense/summary?game_id=9406\n",
            "https://premium.pff.com/api/v1/facet/offense/summary?game_id=9402\n",
            "https://premium.pff.com/api/v1/facet/offense/summary?game_id=9403\n",
            "https://premium.pff.com/api/v1/facet/offense/summary?game_id=9414\n",
            "https://premium.pff.com/api/v1/facet/offense/summary?game_id=9413\n",
            "https://premium.pff.com/api/v1/facet/offense/summary?game_id=9407\n",
            "https://premium.pff.com/api/v1/facet/offense/summary?game_id=9412\n",
            "https://premium.pff.com/api/v1/facet/offense/summary?game_id=9408\n",
            "https://premium.pff.com/api/v1/facet/offense/summary?game_id=9405\n",
            "https://premium.pff.com/api/v1/facet/offense/summary?game_id=9409\n",
            "https://premium.pff.com/api/v1/facet/offense/summary?game_id=9401\n",
            "https://premium.pff.com/api/v1/facet/offense/summary?game_id=9411\n",
            "https://premium.pff.com/api/v1/facet/offense/summary?game_id=9415\n",
            "https://premium.pff.com/api/v1/facet/offense/summary?game_id=9425\n",
            "https://premium.pff.com/api/v1/facet/offense/summary?game_id=9426\n",
            "https://premium.pff.com/api/v1/facet/offense/summary?game_id=9417\n",
            "https://premium.pff.com/api/v1/facet/offense/summary?game_id=9419\n",
            "https://premium.pff.com/api/v1/facet/offense/summary?game_id=9427\n",
            "https://premium.pff.com/api/v1/facet/offense/summary?game_id=9421\n",
            "https://premium.pff.com/api/v1/facet/offense/summary?game_id=9424\n",
            "https://premium.pff.com/api/v1/facet/offense/summary?game_id=9423\n",
            "https://premium.pff.com/api/v1/facet/offense/summary?game_id=9430\n",
            "https://premium.pff.com/api/v1/facet/offense/summary?game_id=9429\n",
            "https://premium.pff.com/api/v1/facet/offense/summary?game_id=9428\n",
            "https://premium.pff.com/api/v1/facet/offense/summary?game_id=9418\n",
            "https://premium.pff.com/api/v1/facet/offense/summary?game_id=9422\n",
            "https://premium.pff.com/api/v1/facet/offense/summary?game_id=9416\n",
            "https://premium.pff.com/api/v1/facet/offense/summary?game_id=9420\n",
            "https://premium.pff.com/api/v1/facet/offense/summary?game_id=9435\n",
            "https://premium.pff.com/api/v1/facet/offense/summary?game_id=9441\n",
            "https://premium.pff.com/api/v1/facet/offense/summary?game_id=9433\n",
            "https://premium.pff.com/api/v1/facet/offense/summary?game_id=9432\n",
            "https://premium.pff.com/api/v1/facet/offense/summary?game_id=9431\n",
            "https://premium.pff.com/api/v1/facet/offense/summary?game_id=9444\n",
            "https://premium.pff.com/api/v1/facet/offense/summary?game_id=9443\n",
            "https://premium.pff.com/api/v1/facet/offense/summary?game_id=9440\n",
            "https://premium.pff.com/api/v1/facet/offense/summary?game_id=9438\n",
            "https://premium.pff.com/api/v1/facet/offense/summary?game_id=9442\n",
            "https://premium.pff.com/api/v1/facet/offense/summary?game_id=9434\n",
            "https://premium.pff.com/api/v1/facet/offense/summary?game_id=9436\n",
            "https://premium.pff.com/api/v1/facet/offense/summary?game_id=9437\n",
            "https://premium.pff.com/api/v1/facet/offense/summary?game_id=9439\n",
            "https://premium.pff.com/api/v1/facet/offense/summary?game_id=9455\n",
            "https://premium.pff.com/api/v1/facet/offense/summary?game_id=9451\n",
            "https://premium.pff.com/api/v1/facet/offense/summary?game_id=9456\n",
            "https://premium.pff.com/api/v1/facet/offense/summary?game_id=9446\n",
            "https://premium.pff.com/api/v1/facet/offense/summary?game_id=9447\n",
            "https://premium.pff.com/api/v1/facet/offense/summary?game_id=9448\n",
            "https://premium.pff.com/api/v1/facet/offense/summary?game_id=9453\n",
            "https://premium.pff.com/api/v1/facet/offense/summary?game_id=9458\n",
            "https://premium.pff.com/api/v1/facet/offense/summary?game_id=9457\n",
            "https://premium.pff.com/api/v1/facet/offense/summary?game_id=9454\n",
            "https://premium.pff.com/api/v1/facet/offense/summary?game_id=9452\n",
            "https://premium.pff.com/api/v1/facet/offense/summary?game_id=9449\n",
            "https://premium.pff.com/api/v1/facet/offense/summary?game_id=9450\n",
            "https://premium.pff.com/api/v1/facet/offense/summary?game_id=9445\n",
            "https://premium.pff.com/api/v1/facet/offense/summary?game_id=9459\n",
            "https://premium.pff.com/api/v1/facet/offense/summary?game_id=9466\n",
            "https://premium.pff.com/api/v1/facet/offense/summary?game_id=9465\n",
            "https://premium.pff.com/api/v1/facet/offense/summary?game_id=9460\n",
            "https://premium.pff.com/api/v1/facet/offense/summary?game_id=9461\n",
            "https://premium.pff.com/api/v1/facet/offense/summary?game_id=9468\n",
            "https://premium.pff.com/api/v1/facet/offense/summary?game_id=9471\n",
            "https://premium.pff.com/api/v1/facet/offense/summary?game_id=9463\n",
            "https://premium.pff.com/api/v1/facet/offense/summary?game_id=9470\n",
            "https://premium.pff.com/api/v1/facet/offense/summary?game_id=9467\n",
            "https://premium.pff.com/api/v1/facet/offense/summary?game_id=9464\n",
            "https://premium.pff.com/api/v1/facet/offense/summary?game_id=9462\n",
            "https://premium.pff.com/api/v1/facet/offense/summary?game_id=9469\n",
            "https://premium.pff.com/api/v1/facet/offense/summary?game_id=9478\n",
            "https://premium.pff.com/api/v1/facet/offense/summary?game_id=9484\n",
            "https://premium.pff.com/api/v1/facet/offense/summary?game_id=9476\n",
            "https://premium.pff.com/api/v1/facet/offense/summary?game_id=9481\n",
            "https://premium.pff.com/api/v1/facet/offense/summary?game_id=9480\n",
            "https://premium.pff.com/api/v1/facet/offense/summary?game_id=9472\n",
            "https://premium.pff.com/api/v1/facet/offense/summary?game_id=9485\n",
            "https://premium.pff.com/api/v1/facet/offense/summary?game_id=9483\n",
            "https://premium.pff.com/api/v1/facet/offense/summary?game_id=9479\n",
            "https://premium.pff.com/api/v1/facet/offense/summary?game_id=9474\n",
            "https://premium.pff.com/api/v1/facet/offense/summary?game_id=9473\n",
            "https://premium.pff.com/api/v1/facet/offense/summary?game_id=9482\n",
            "https://premium.pff.com/api/v1/facet/offense/summary?game_id=9475\n",
            "https://premium.pff.com/api/v1/facet/offense/summary?game_id=9477\n",
            "https://premium.pff.com/api/v1/facet/offense/summary?game_id=9487\n",
            "https://premium.pff.com/api/v1/facet/offense/summary?game_id=9488\n",
            "https://premium.pff.com/api/v1/facet/offense/summary?game_id=9494\n",
            "https://premium.pff.com/api/v1/facet/offense/summary?game_id=9495\n",
            "https://premium.pff.com/api/v1/facet/offense/summary?game_id=9496\n",
            "https://premium.pff.com/api/v1/facet/offense/summary?game_id=9489\n",
            "https://premium.pff.com/api/v1/facet/offense/summary?game_id=9493\n",
            "https://premium.pff.com/api/v1/facet/offense/summary?game_id=9490\n",
            "https://premium.pff.com/api/v1/facet/offense/summary?game_id=9491\n",
            "https://premium.pff.com/api/v1/facet/offense/summary?game_id=9486\n",
            "https://premium.pff.com/api/v1/facet/offense/summary?game_id=9498\n",
            "https://premium.pff.com/api/v1/facet/offense/summary?game_id=9497\n",
            "https://premium.pff.com/api/v1/facet/offense/summary?game_id=9492\n",
            "https://premium.pff.com/api/v1/facet/offense/summary?game_id=9499\n",
            "https://premium.pff.com/api/v1/facet/offense/summary?game_id=9506\n",
            "https://premium.pff.com/api/v1/facet/offense/summary?game_id=9513\n",
            "https://premium.pff.com/api/v1/facet/offense/summary?game_id=9507\n",
            "https://premium.pff.com/api/v1/facet/offense/summary?game_id=9504\n",
            "https://premium.pff.com/api/v1/facet/offense/summary?game_id=9501\n",
            "https://premium.pff.com/api/v1/facet/offense/summary?game_id=9510\n",
            "https://premium.pff.com/api/v1/facet/offense/summary?game_id=9511\n",
            "https://premium.pff.com/api/v1/facet/offense/summary?game_id=9503\n",
            "https://premium.pff.com/api/v1/facet/offense/summary?game_id=9500\n",
            "https://premium.pff.com/api/v1/facet/offense/summary?game_id=9505\n",
            "https://premium.pff.com/api/v1/facet/offense/summary?game_id=9512\n",
            "https://premium.pff.com/api/v1/facet/offense/summary?game_id=9502\n",
            "https://premium.pff.com/api/v1/facet/offense/summary?game_id=9508\n",
            "https://premium.pff.com/api/v1/facet/offense/summary?game_id=9509\n",
            "https://premium.pff.com/api/v1/facet/offense/summary?game_id=9516\n",
            "https://premium.pff.com/api/v1/facet/offense/summary?game_id=9525\n",
            "https://premium.pff.com/api/v1/facet/offense/summary?game_id=9524\n",
            "https://premium.pff.com/api/v1/facet/offense/summary?game_id=9515\n",
            "https://premium.pff.com/api/v1/facet/offense/summary?game_id=9529\n",
            "https://premium.pff.com/api/v1/facet/offense/summary?game_id=9519\n",
            "https://premium.pff.com/api/v1/facet/offense/summary?game_id=9514\n",
            "https://premium.pff.com/api/v1/facet/offense/summary?game_id=9520\n",
            "https://premium.pff.com/api/v1/facet/offense/summary?game_id=9518\n",
            "https://premium.pff.com/api/v1/facet/offense/summary?game_id=9526\n",
            "https://premium.pff.com/api/v1/facet/offense/summary?game_id=9521\n",
            "https://premium.pff.com/api/v1/facet/offense/summary?game_id=9528\n",
            "https://premium.pff.com/api/v1/facet/offense/summary?game_id=9523\n",
            "https://premium.pff.com/api/v1/facet/offense/summary?game_id=9522\n",
            "https://premium.pff.com/api/v1/facet/offense/summary?game_id=9527\n",
            "https://premium.pff.com/api/v1/facet/offense/summary?game_id=9517\n",
            "https://premium.pff.com/api/v1/facet/offense/summary?game_id=9530\n",
            "https://premium.pff.com/api/v1/facet/offense/summary?game_id=9531\n",
            "https://premium.pff.com/api/v1/facet/offense/summary?game_id=9532\n",
            "https://premium.pff.com/api/v1/facet/offense/summary?game_id=9533\n",
            "https://premium.pff.com/api/v1/facet/offense/summary?game_id=9534\n",
            "https://premium.pff.com/api/v1/facet/offense/summary?game_id=9535\n",
            "https://premium.pff.com/api/v1/facet/offense/summary?game_id=9536\n",
            "https://premium.pff.com/api/v1/facet/offense/summary?game_id=9537\n",
            "https://premium.pff.com/api/v1/facet/offense/summary?game_id=9538\n",
            "https://premium.pff.com/api/v1/facet/offense/summary?game_id=9539\n",
            "https://premium.pff.com/api/v1/facet/offense/summary?game_id=9540\n",
            "https://premium.pff.com/api/v1/facet/offense/summary?game_id=9541\n",
            "https://premium.pff.com/api/v1/facet/offense/summary?game_id=9542\n",
            "https://premium.pff.com/api/v1/facet/offense/summary?game_id=9543\n",
            "https://premium.pff.com/api/v1/facet/offense/summary?game_id=9544\n",
            "https://premium.pff.com/api/v1/facet/offense/summary?game_id=9545\n",
            "https://premium.pff.com/api/v1/facet/offense/summary?game_id=9546\n",
            "https://premium.pff.com/api/v1/facet/offense/summary?game_id=9547\n",
            "https://premium.pff.com/api/v1/facet/offense/summary?game_id=9548\n",
            "https://premium.pff.com/api/v1/facet/offense/summary?game_id=9549\n",
            "https://premium.pff.com/api/v1/facet/offense/summary?game_id=9550\n",
            "https://premium.pff.com/api/v1/facet/offense/summary?game_id=9551\n",
            "https://premium.pff.com/api/v1/facet/offense/summary?game_id=9552\n",
            "https://premium.pff.com/api/v1/facet/offense/summary?game_id=9553\n",
            "https://premium.pff.com/api/v1/facet/offense/summary?game_id=9554\n",
            "https://premium.pff.com/api/v1/facet/offense/summary?game_id=9555\n",
            "https://premium.pff.com/api/v1/facet/offense/summary?game_id=9556\n",
            "https://premium.pff.com/api/v1/facet/offense/summary?game_id=9557\n",
            "https://premium.pff.com/api/v1/facet/offense/summary?game_id=9558\n",
            "https://premium.pff.com/api/v1/facet/offense/summary?game_id=9559\n",
            "https://premium.pff.com/api/v1/facet/offense/summary?game_id=9560\n",
            "https://premium.pff.com/api/v1/facet/offense/summary?game_id=9561\n",
            "https://premium.pff.com/api/v1/facet/offense/summary?game_id=9562\n",
            "https://premium.pff.com/api/v1/facet/offense/summary?game_id=9563\n",
            "https://premium.pff.com/api/v1/facet/offense/summary?game_id=9564\n",
            "https://premium.pff.com/api/v1/facet/offense/summary?game_id=9565\n",
            "https://premium.pff.com/api/v1/facet/offense/summary?game_id=9566\n",
            "https://premium.pff.com/api/v1/facet/offense/summary?game_id=9567\n",
            "https://premium.pff.com/api/v1/facet/offense/summary?game_id=9568\n",
            "https://premium.pff.com/api/v1/facet/offense/summary?game_id=9569\n",
            "https://premium.pff.com/api/v1/facet/offense/summary?game_id=9570\n",
            "https://premium.pff.com/api/v1/facet/offense/summary?game_id=9571\n",
            "https://premium.pff.com/api/v1/facet/offense/summary?game_id=9572\n",
            "https://premium.pff.com/api/v1/facet/offense/summary?game_id=9573\n",
            "https://premium.pff.com/api/v1/facet/offense/summary?game_id=9574\n",
            "https://premium.pff.com/api/v1/facet/offense/summary?game_id=9575\n",
            "https://premium.pff.com/api/v1/facet/offense/summary?game_id=9576\n",
            "https://premium.pff.com/api/v1/facet/offense/summary?game_id=9577\n",
            "https://premium.pff.com/api/v1/facet/offense/summary?game_id=9578\n",
            "https://premium.pff.com/api/v1/facet/offense/summary?game_id=9579\n",
            "https://premium.pff.com/api/v1/facet/offense/summary?game_id=9580\n",
            "https://premium.pff.com/api/v1/facet/offense/summary?game_id=9581\n",
            "https://premium.pff.com/api/v1/facet/offense/summary?game_id=9582\n",
            "https://premium.pff.com/api/v1/facet/offense/summary?game_id=9583\n",
            "https://premium.pff.com/api/v1/facet/offense/summary?game_id=9584\n",
            "https://premium.pff.com/api/v1/facet/offense/summary?game_id=9585\n",
            "https://premium.pff.com/api/v1/facet/offense/summary?game_id=9586\n",
            "https://premium.pff.com/api/v1/facet/offense/summary?game_id=9587\n",
            "https://premium.pff.com/api/v1/facet/offense/summary?game_id=9588\n",
            "https://premium.pff.com/api/v1/facet/offense/summary?game_id=9589\n",
            "https://premium.pff.com/api/v1/facet/offense/summary?game_id=9590\n",
            "https://premium.pff.com/api/v1/facet/offense/summary?game_id=9591\n",
            "https://premium.pff.com/api/v1/facet/offense/summary?game_id=9592\n",
            "https://premium.pff.com/api/v1/facet/offense/summary?game_id=9593\n",
            "https://premium.pff.com/api/v1/facet/offense/summary?game_id=13606\n",
            "https://premium.pff.com/api/v1/facet/offense/summary?game_id=13607\n",
            "https://premium.pff.com/api/v1/facet/offense/summary?game_id=13608\n",
            "https://premium.pff.com/api/v1/facet/offense/summary?game_id=13609\n",
            "https://premium.pff.com/api/v1/facet/offense/summary?game_id=13611\n",
            "https://premium.pff.com/api/v1/facet/offense/summary?game_id=13612\n",
            "https://premium.pff.com/api/v1/facet/offense/summary?game_id=13613\n",
            "https://premium.pff.com/api/v1/facet/offense/summary?game_id=13614\n",
            "https://premium.pff.com/api/v1/facet/offense/summary?game_id=13615\n",
            "https://premium.pff.com/api/v1/facet/offense/summary?game_id=13616\n",
            "https://premium.pff.com/api/v1/facet/offense/summary?game_id=13635\n",
            "https://premium.pff.com/api/v1/facet/offense/summary?game_id=7922\n",
            "https://premium.pff.com/api/v1/facet/offense/summary?game_id=7924\n",
            "https://premium.pff.com/api/v1/facet/offense/summary?game_id=7933\n",
            "https://premium.pff.com/api/v1/facet/offense/summary?game_id=7934\n",
            "https://premium.pff.com/api/v1/facet/offense/summary?game_id=7936\n",
            "https://premium.pff.com/api/v1/facet/offense/summary?game_id=7935\n",
            "https://premium.pff.com/api/v1/facet/offense/summary?game_id=7937\n",
            "https://premium.pff.com/api/v1/facet/offense/summary?game_id=7930\n",
            "https://premium.pff.com/api/v1/facet/offense/summary?game_id=7927\n",
            "https://premium.pff.com/api/v1/facet/offense/summary?game_id=7928\n",
            "https://premium.pff.com/api/v1/facet/offense/summary?game_id=7932\n",
            "https://premium.pff.com/api/v1/facet/offense/summary?game_id=7923\n",
            "https://premium.pff.com/api/v1/facet/offense/summary?game_id=7926\n",
            "https://premium.pff.com/api/v1/facet/offense/summary?game_id=7925\n",
            "https://premium.pff.com/api/v1/facet/offense/summary?game_id=7929\n",
            "https://premium.pff.com/api/v1/facet/offense/summary?game_id=7953\n",
            "https://premium.pff.com/api/v1/facet/offense/summary?game_id=7939\n",
            "https://premium.pff.com/api/v1/facet/offense/summary?game_id=7943\n",
            "https://premium.pff.com/api/v1/facet/offense/summary?game_id=7946\n",
            "https://premium.pff.com/api/v1/facet/offense/summary?game_id=7952\n",
            "https://premium.pff.com/api/v1/facet/offense/summary?game_id=7947\n",
            "https://premium.pff.com/api/v1/facet/offense/summary?game_id=7944\n",
            "https://premium.pff.com/api/v1/facet/offense/summary?game_id=7942\n",
            "https://premium.pff.com/api/v1/facet/offense/summary?game_id=7950\n",
            "https://premium.pff.com/api/v1/facet/offense/summary?game_id=7945\n",
            "https://premium.pff.com/api/v1/facet/offense/summary?game_id=7951\n",
            "https://premium.pff.com/api/v1/facet/offense/summary?game_id=7949\n",
            "https://premium.pff.com/api/v1/facet/offense/summary?game_id=7948\n",
            "https://premium.pff.com/api/v1/facet/offense/summary?game_id=7938\n",
            "https://premium.pff.com/api/v1/facet/offense/summary?game_id=7941\n",
            "https://premium.pff.com/api/v1/facet/offense/summary?game_id=7940\n",
            "https://premium.pff.com/api/v1/facet/offense/summary?game_id=7954\n",
            "https://premium.pff.com/api/v1/facet/offense/summary?game_id=7961\n",
            "https://premium.pff.com/api/v1/facet/offense/summary?game_id=7958\n",
            "https://premium.pff.com/api/v1/facet/offense/summary?game_id=7955\n",
            "https://premium.pff.com/api/v1/facet/offense/summary?game_id=7959\n",
            "https://premium.pff.com/api/v1/facet/offense/summary?game_id=7963\n",
            "https://premium.pff.com/api/v1/facet/offense/summary?game_id=7956\n",
            "https://premium.pff.com/api/v1/facet/offense/summary?game_id=7967\n",
            "https://premium.pff.com/api/v1/facet/offense/summary?game_id=7968\n",
            "https://premium.pff.com/api/v1/facet/offense/summary?game_id=7965\n",
            "https://premium.pff.com/api/v1/facet/offense/summary?game_id=7966\n",
            "https://premium.pff.com/api/v1/facet/offense/summary?game_id=7962\n",
            "https://premium.pff.com/api/v1/facet/offense/summary?game_id=7960\n",
            "https://premium.pff.com/api/v1/facet/offense/summary?game_id=7969\n",
            "https://premium.pff.com/api/v1/facet/offense/summary?game_id=7964\n",
            "https://premium.pff.com/api/v1/facet/offense/summary?game_id=7957\n",
            "https://premium.pff.com/api/v1/facet/offense/summary?game_id=7974\n",
            "https://premium.pff.com/api/v1/facet/offense/summary?game_id=7982\n",
            "https://premium.pff.com/api/v1/facet/offense/summary?game_id=7970\n",
            "https://premium.pff.com/api/v1/facet/offense/summary?game_id=7985\n",
            "https://premium.pff.com/api/v1/facet/offense/summary?game_id=7981\n",
            "https://premium.pff.com/api/v1/facet/offense/summary?game_id=7972\n",
            "https://premium.pff.com/api/v1/facet/offense/summary?game_id=7984\n",
            "https://premium.pff.com/api/v1/facet/offense/summary?game_id=7977\n",
            "https://premium.pff.com/api/v1/facet/offense/summary?game_id=7979\n",
            "https://premium.pff.com/api/v1/facet/offense/summary?game_id=7973\n",
            "https://premium.pff.com/api/v1/facet/offense/summary?game_id=7975\n",
            "https://premium.pff.com/api/v1/facet/offense/summary?game_id=7971\n",
            "https://premium.pff.com/api/v1/facet/offense/summary?game_id=7976\n",
            "https://premium.pff.com/api/v1/facet/offense/summary?game_id=7980\n",
            "https://premium.pff.com/api/v1/facet/offense/summary?game_id=7978\n",
            "https://premium.pff.com/api/v1/facet/offense/summary?game_id=7983\n",
            "https://premium.pff.com/api/v1/facet/offense/summary?game_id=7990\n",
            "https://premium.pff.com/api/v1/facet/offense/summary?game_id=7997\n",
            "https://premium.pff.com/api/v1/facet/offense/summary?game_id=7996\n",
            "https://premium.pff.com/api/v1/facet/offense/summary?game_id=7988\n",
            "https://premium.pff.com/api/v1/facet/offense/summary?game_id=7998\n",
            "https://premium.pff.com/api/v1/facet/offense/summary?game_id=7991\n",
            "https://premium.pff.com/api/v1/facet/offense/summary?game_id=7993\n",
            "https://premium.pff.com/api/v1/facet/offense/summary?game_id=7986\n",
            "https://premium.pff.com/api/v1/facet/offense/summary?game_id=7994\n",
            "https://premium.pff.com/api/v1/facet/offense/summary?game_id=7995\n",
            "https://premium.pff.com/api/v1/facet/offense/summary?game_id=7992\n",
            "https://premium.pff.com/api/v1/facet/offense/summary?game_id=7989\n",
            "https://premium.pff.com/api/v1/facet/offense/summary?game_id=7999\n",
            "https://premium.pff.com/api/v1/facet/offense/summary?game_id=7987\n",
            "https://premium.pff.com/api/v1/facet/offense/summary?game_id=8006\n",
            "https://premium.pff.com/api/v1/facet/offense/summary?game_id=8013\n",
            "https://premium.pff.com/api/v1/facet/offense/summary?game_id=8007\n",
            "https://premium.pff.com/api/v1/facet/offense/summary?game_id=8010\n",
            "https://premium.pff.com/api/v1/facet/offense/summary?game_id=8001\n",
            "https://premium.pff.com/api/v1/facet/offense/summary?game_id=8009\n",
            "https://premium.pff.com/api/v1/facet/offense/summary?game_id=8003\n",
            "https://premium.pff.com/api/v1/facet/offense/summary?game_id=8012\n",
            "https://premium.pff.com/api/v1/facet/offense/summary?game_id=8011\n",
            "https://premium.pff.com/api/v1/facet/offense/summary?game_id=8004\n",
            "https://premium.pff.com/api/v1/facet/offense/summary?game_id=8002\n",
            "https://premium.pff.com/api/v1/facet/offense/summary?game_id=8000\n",
            "https://premium.pff.com/api/v1/facet/offense/summary?game_id=8005\n",
            "https://premium.pff.com/api/v1/facet/offense/summary?game_id=8008\n",
            "https://premium.pff.com/api/v1/facet/offense/summary?game_id=8018\n",
            "https://premium.pff.com/api/v1/facet/offense/summary?game_id=8019\n",
            "https://premium.pff.com/api/v1/facet/offense/summary?game_id=8027\n",
            "https://premium.pff.com/api/v1/facet/offense/summary?game_id=8015\n",
            "https://premium.pff.com/api/v1/facet/offense/summary?game_id=8016\n",
            "https://premium.pff.com/api/v1/facet/offense/summary?game_id=8028\n",
            "https://premium.pff.com/api/v1/facet/offense/summary?game_id=8014\n",
            "https://premium.pff.com/api/v1/facet/offense/summary?game_id=8022\n",
            "https://premium.pff.com/api/v1/facet/offense/summary?game_id=8023\n",
            "https://premium.pff.com/api/v1/facet/offense/summary?game_id=8026\n",
            "https://premium.pff.com/api/v1/facet/offense/summary?game_id=8024\n",
            "https://premium.pff.com/api/v1/facet/offense/summary?game_id=8020\n",
            "https://premium.pff.com/api/v1/facet/offense/summary?game_id=8025\n",
            "https://premium.pff.com/api/v1/facet/offense/summary?game_id=8021\n",
            "https://premium.pff.com/api/v1/facet/offense/summary?game_id=8017\n",
            "https://premium.pff.com/api/v1/facet/offense/summary?game_id=8034\n",
            "https://premium.pff.com/api/v1/facet/offense/summary?game_id=8030\n",
            "https://premium.pff.com/api/v1/facet/offense/summary?game_id=8041\n",
            "https://premium.pff.com/api/v1/facet/offense/summary?game_id=8037\n",
            "https://premium.pff.com/api/v1/facet/offense/summary?game_id=8032\n",
            "https://premium.pff.com/api/v1/facet/offense/summary?game_id=8033\n",
            "https://premium.pff.com/api/v1/facet/offense/summary?game_id=8039\n",
            "https://premium.pff.com/api/v1/facet/offense/summary?game_id=8040\n",
            "https://premium.pff.com/api/v1/facet/offense/summary?game_id=8035\n",
            "https://premium.pff.com/api/v1/facet/offense/summary?game_id=8029\n",
            "https://premium.pff.com/api/v1/facet/offense/summary?game_id=8038\n",
            "https://premium.pff.com/api/v1/facet/offense/summary?game_id=8031\n",
            "https://premium.pff.com/api/v1/facet/offense/summary?game_id=8036\n",
            "https://premium.pff.com/api/v1/facet/offense/summary?game_id=8044\n",
            "https://premium.pff.com/api/v1/facet/offense/summary?game_id=8049\n",
            "https://premium.pff.com/api/v1/facet/offense/summary?game_id=8046\n",
            "https://premium.pff.com/api/v1/facet/offense/summary?game_id=8042\n",
            "https://premium.pff.com/api/v1/facet/offense/summary?game_id=8054\n",
            "https://premium.pff.com/api/v1/facet/offense/summary?game_id=8043\n",
            "https://premium.pff.com/api/v1/facet/offense/summary?game_id=8045\n",
            "https://premium.pff.com/api/v1/facet/offense/summary?game_id=8051\n",
            "https://premium.pff.com/api/v1/facet/offense/summary?game_id=8052\n",
            "https://premium.pff.com/api/v1/facet/offense/summary?game_id=8053\n",
            "https://premium.pff.com/api/v1/facet/offense/summary?game_id=8050\n",
            "https://premium.pff.com/api/v1/facet/offense/summary?game_id=8048\n",
            "https://premium.pff.com/api/v1/facet/offense/summary?game_id=8047\n",
            "https://premium.pff.com/api/v1/facet/offense/summary?game_id=8061\n",
            "https://premium.pff.com/api/v1/facet/offense/summary?game_id=8068\n",
            "https://premium.pff.com/api/v1/facet/offense/summary?game_id=8058\n",
            "https://premium.pff.com/api/v1/facet/offense/summary?game_id=8056\n",
            "https://premium.pff.com/api/v1/facet/offense/summary?game_id=8060\n",
            "https://premium.pff.com/api/v1/facet/offense/summary?game_id=8063\n",
            "https://premium.pff.com/api/v1/facet/offense/summary?game_id=8057\n",
            "https://premium.pff.com/api/v1/facet/offense/summary?game_id=8064\n",
            "https://premium.pff.com/api/v1/facet/offense/summary?game_id=8065\n",
            "https://premium.pff.com/api/v1/facet/offense/summary?game_id=8059\n",
            "https://premium.pff.com/api/v1/facet/offense/summary?game_id=8062\n",
            "https://premium.pff.com/api/v1/facet/offense/summary?game_id=8055\n",
            "https://premium.pff.com/api/v1/facet/offense/summary?game_id=8067\n",
            "https://premium.pff.com/api/v1/facet/offense/summary?game_id=8066\n",
            "https://premium.pff.com/api/v1/facet/offense/summary?game_id=8070\n",
            "https://premium.pff.com/api/v1/facet/offense/summary?game_id=8075\n",
            "https://premium.pff.com/api/v1/facet/offense/summary?game_id=7931\n",
            "https://premium.pff.com/api/v1/facet/offense/summary?game_id=8077\n",
            "https://premium.pff.com/api/v1/facet/offense/summary?game_id=8074\n",
            "https://premium.pff.com/api/v1/facet/offense/summary?game_id=8078\n",
            "https://premium.pff.com/api/v1/facet/offense/summary?game_id=8076\n",
            "https://premium.pff.com/api/v1/facet/offense/summary?game_id=8081\n",
            "https://premium.pff.com/api/v1/facet/offense/summary?game_id=8071\n",
            "https://premium.pff.com/api/v1/facet/offense/summary?game_id=8079\n",
            "https://premium.pff.com/api/v1/facet/offense/summary?game_id=8069\n",
            "https://premium.pff.com/api/v1/facet/offense/summary?game_id=8080\n",
            "https://premium.pff.com/api/v1/facet/offense/summary?game_id=8072\n",
            "https://premium.pff.com/api/v1/facet/offense/summary?game_id=8073\n",
            "https://premium.pff.com/api/v1/facet/offense/summary?game_id=8082\n",
            "https://premium.pff.com/api/v1/facet/offense/summary?game_id=8097\n",
            "https://premium.pff.com/api/v1/facet/offense/summary?game_id=8087\n",
            "https://premium.pff.com/api/v1/facet/offense/summary?game_id=8091\n",
            "https://premium.pff.com/api/v1/facet/offense/summary?game_id=8088\n",
            "https://premium.pff.com/api/v1/facet/offense/summary?game_id=8090\n",
            "https://premium.pff.com/api/v1/facet/offense/summary?game_id=8086\n",
            "https://premium.pff.com/api/v1/facet/offense/summary?game_id=8095\n",
            "https://premium.pff.com/api/v1/facet/offense/summary?game_id=8093\n",
            "https://premium.pff.com/api/v1/facet/offense/summary?game_id=8096\n",
            "https://premium.pff.com/api/v1/facet/offense/summary?game_id=8094\n",
            "https://premium.pff.com/api/v1/facet/offense/summary?game_id=8085\n",
            "https://premium.pff.com/api/v1/facet/offense/summary?game_id=8092\n",
            "https://premium.pff.com/api/v1/facet/offense/summary?game_id=8089\n",
            "https://premium.pff.com/api/v1/facet/offense/summary?game_id=8084\n",
            "https://premium.pff.com/api/v1/facet/offense/summary?game_id=8083\n",
            "https://premium.pff.com/api/v1/facet/offense/summary?game_id=8107\n",
            "https://premium.pff.com/api/v1/facet/offense/summary?game_id=8100\n",
            "https://premium.pff.com/api/v1/facet/offense/summary?game_id=8099\n",
            "https://premium.pff.com/api/v1/facet/offense/summary?game_id=8110\n",
            "https://premium.pff.com/api/v1/facet/offense/summary?game_id=8098\n",
            "https://premium.pff.com/api/v1/facet/offense/summary?game_id=8111\n",
            "https://premium.pff.com/api/v1/facet/offense/summary?game_id=8113\n",
            "https://premium.pff.com/api/v1/facet/offense/summary?game_id=8109\n",
            "https://premium.pff.com/api/v1/facet/offense/summary?game_id=8108\n",
            "https://premium.pff.com/api/v1/facet/offense/summary?game_id=8105\n",
            "https://premium.pff.com/api/v1/facet/offense/summary?game_id=8103\n",
            "https://premium.pff.com/api/v1/facet/offense/summary?game_id=8104\n",
            "https://premium.pff.com/api/v1/facet/offense/summary?game_id=8101\n",
            "https://premium.pff.com/api/v1/facet/offense/summary?game_id=8102\n",
            "https://premium.pff.com/api/v1/facet/offense/summary?game_id=8112\n",
            "https://premium.pff.com/api/v1/facet/offense/summary?game_id=8106\n",
            "https://premium.pff.com/api/v1/facet/offense/summary?game_id=8114\n",
            "https://premium.pff.com/api/v1/facet/offense/summary?game_id=8115\n",
            "https://premium.pff.com/api/v1/facet/offense/summary?game_id=8116\n",
            "https://premium.pff.com/api/v1/facet/offense/summary?game_id=8117\n",
            "https://premium.pff.com/api/v1/facet/offense/summary?game_id=8118\n",
            "https://premium.pff.com/api/v1/facet/offense/summary?game_id=8119\n",
            "https://premium.pff.com/api/v1/facet/offense/summary?game_id=8120\n",
            "https://premium.pff.com/api/v1/facet/offense/summary?game_id=8121\n",
            "https://premium.pff.com/api/v1/facet/offense/summary?game_id=8122\n",
            "https://premium.pff.com/api/v1/facet/offense/summary?game_id=8123\n",
            "https://premium.pff.com/api/v1/facet/offense/summary?game_id=8124\n",
            "https://premium.pff.com/api/v1/facet/offense/summary?game_id=8125\n",
            "https://premium.pff.com/api/v1/facet/offense/summary?game_id=8126\n",
            "https://premium.pff.com/api/v1/facet/offense/summary?game_id=8127\n",
            "https://premium.pff.com/api/v1/facet/offense/summary?game_id=8128\n",
            "https://premium.pff.com/api/v1/facet/offense/summary?game_id=8129\n",
            "https://premium.pff.com/api/v1/facet/offense/summary?game_id=8130\n",
            "https://premium.pff.com/api/v1/facet/offense/summary?game_id=8131\n",
            "https://premium.pff.com/api/v1/facet/offense/summary?game_id=8132\n",
            "https://premium.pff.com/api/v1/facet/offense/summary?game_id=8133\n",
            "https://premium.pff.com/api/v1/facet/offense/summary?game_id=8134\n",
            "https://premium.pff.com/api/v1/facet/offense/summary?game_id=8135\n",
            "https://premium.pff.com/api/v1/facet/offense/summary?game_id=8136\n",
            "https://premium.pff.com/api/v1/facet/offense/summary?game_id=8137\n",
            "https://premium.pff.com/api/v1/facet/offense/summary?game_id=8138\n",
            "https://premium.pff.com/api/v1/facet/offense/summary?game_id=8139\n",
            "https://premium.pff.com/api/v1/facet/offense/summary?game_id=8140\n",
            "https://premium.pff.com/api/v1/facet/offense/summary?game_id=8141\n",
            "https://premium.pff.com/api/v1/facet/offense/summary?game_id=8142\n",
            "https://premium.pff.com/api/v1/facet/offense/summary?game_id=8143\n",
            "https://premium.pff.com/api/v1/facet/offense/summary?game_id=8144\n",
            "https://premium.pff.com/api/v1/facet/offense/summary?game_id=8145\n",
            "https://premium.pff.com/api/v1/facet/offense/summary?game_id=8146\n",
            "https://premium.pff.com/api/v1/facet/offense/summary?game_id=8147\n",
            "https://premium.pff.com/api/v1/facet/offense/summary?game_id=8148\n",
            "https://premium.pff.com/api/v1/facet/offense/summary?game_id=8149\n",
            "https://premium.pff.com/api/v1/facet/offense/summary?game_id=8150\n",
            "https://premium.pff.com/api/v1/facet/offense/summary?game_id=8151\n",
            "https://premium.pff.com/api/v1/facet/offense/summary?game_id=8152\n",
            "https://premium.pff.com/api/v1/facet/offense/summary?game_id=8153\n",
            "https://premium.pff.com/api/v1/facet/offense/summary?game_id=8154\n",
            "https://premium.pff.com/api/v1/facet/offense/summary?game_id=8155\n",
            "https://premium.pff.com/api/v1/facet/offense/summary?game_id=8156\n",
            "https://premium.pff.com/api/v1/facet/offense/summary?game_id=8157\n",
            "https://premium.pff.com/api/v1/facet/offense/summary?game_id=8158\n",
            "https://premium.pff.com/api/v1/facet/offense/summary?game_id=8159\n",
            "https://premium.pff.com/api/v1/facet/offense/summary?game_id=8160\n",
            "https://premium.pff.com/api/v1/facet/offense/summary?game_id=8161\n",
            "https://premium.pff.com/api/v1/facet/offense/summary?game_id=8162\n",
            "https://premium.pff.com/api/v1/facet/offense/summary?game_id=8163\n",
            "https://premium.pff.com/api/v1/facet/offense/summary?game_id=8164\n",
            "https://premium.pff.com/api/v1/facet/offense/summary?game_id=8165\n",
            "https://premium.pff.com/api/v1/facet/offense/summary?game_id=8166\n",
            "https://premium.pff.com/api/v1/facet/offense/summary?game_id=8167\n",
            "https://premium.pff.com/api/v1/facet/offense/summary?game_id=8168\n",
            "https://premium.pff.com/api/v1/facet/offense/summary?game_id=8169\n",
            "https://premium.pff.com/api/v1/facet/offense/summary?game_id=8170\n",
            "https://premium.pff.com/api/v1/facet/offense/summary?game_id=8171\n",
            "https://premium.pff.com/api/v1/facet/offense/summary?game_id=8172\n",
            "https://premium.pff.com/api/v1/facet/offense/summary?game_id=8173\n",
            "https://premium.pff.com/api/v1/facet/offense/summary?game_id=8174\n",
            "https://premium.pff.com/api/v1/facet/offense/summary?game_id=8175\n",
            "https://premium.pff.com/api/v1/facet/offense/summary?game_id=8176\n",
            "https://premium.pff.com/api/v1/facet/offense/summary?game_id=8177\n",
            "https://premium.pff.com/api/v1/facet/offense/summary?game_id=9297\n",
            "https://premium.pff.com/api/v1/facet/offense/summary?game_id=9298\n",
            "https://premium.pff.com/api/v1/facet/offense/summary?game_id=9299\n",
            "https://premium.pff.com/api/v1/facet/offense/summary?game_id=9300\n",
            "https://premium.pff.com/api/v1/facet/offense/summary?game_id=9302\n",
            "https://premium.pff.com/api/v1/facet/offense/summary?game_id=9303\n",
            "https://premium.pff.com/api/v1/facet/offense/summary?game_id=9304\n",
            "https://premium.pff.com/api/v1/facet/offense/summary?game_id=9305\n",
            "https://premium.pff.com/api/v1/facet/offense/summary?game_id=9306\n",
            "https://premium.pff.com/api/v1/facet/offense/summary?game_id=9307\n",
            "https://premium.pff.com/api/v1/facet/offense/summary?game_id=9312\n",
            "https://premium.pff.com/api/v1/facet/offense/summary?game_id=4102\n",
            "https://premium.pff.com/api/v1/facet/offense/summary?game_id=4105\n",
            "https://premium.pff.com/api/v1/facet/offense/summary?game_id=4094\n",
            "https://premium.pff.com/api/v1/facet/offense/summary?game_id=4108\n",
            "https://premium.pff.com/api/v1/facet/offense/summary?game_id=4095\n",
            "https://premium.pff.com/api/v1/facet/offense/summary?game_id=4100\n",
            "https://premium.pff.com/api/v1/facet/offense/summary?game_id=4107\n",
            "https://premium.pff.com/api/v1/facet/offense/summary?game_id=4101\n",
            "https://premium.pff.com/api/v1/facet/offense/summary?game_id=4098\n",
            "https://premium.pff.com/api/v1/facet/offense/summary?game_id=4099\n",
            "https://premium.pff.com/api/v1/facet/offense/summary?game_id=4106\n",
            "https://premium.pff.com/api/v1/facet/offense/summary?game_id=4096\n",
            "https://premium.pff.com/api/v1/facet/offense/summary?game_id=4103\n",
            "https://premium.pff.com/api/v1/facet/offense/summary?game_id=4104\n",
            "https://premium.pff.com/api/v1/facet/offense/summary?game_id=4097\n",
            "https://premium.pff.com/api/v1/facet/offense/summary?game_id=4109\n",
            "https://premium.pff.com/api/v1/facet/offense/summary?game_id=4114\n",
            "https://premium.pff.com/api/v1/facet/offense/summary?game_id=4120\n",
            "https://premium.pff.com/api/v1/facet/offense/summary?game_id=4110\n",
            "https://premium.pff.com/api/v1/facet/offense/summary?game_id=4125\n",
            "https://premium.pff.com/api/v1/facet/offense/summary?game_id=4112\n",
            "https://premium.pff.com/api/v1/facet/offense/summary?game_id=4116\n",
            "https://premium.pff.com/api/v1/facet/offense/summary?game_id=4124\n",
            "https://premium.pff.com/api/v1/facet/offense/summary?game_id=4113\n",
            "https://premium.pff.com/api/v1/facet/offense/summary?game_id=4117\n",
            "https://premium.pff.com/api/v1/facet/offense/summary?game_id=4122\n",
            "https://premium.pff.com/api/v1/facet/offense/summary?game_id=4118\n",
            "https://premium.pff.com/api/v1/facet/offense/summary?game_id=4123\n",
            "https://premium.pff.com/api/v1/facet/offense/summary?game_id=4119\n",
            "https://premium.pff.com/api/v1/facet/offense/summary?game_id=4115\n",
            "https://premium.pff.com/api/v1/facet/offense/summary?game_id=4111\n",
            "https://premium.pff.com/api/v1/facet/offense/summary?game_id=4121\n",
            "https://premium.pff.com/api/v1/facet/offense/summary?game_id=4137\n",
            "https://premium.pff.com/api/v1/facet/offense/summary?game_id=4140\n",
            "https://premium.pff.com/api/v1/facet/offense/summary?game_id=4133\n",
            "https://premium.pff.com/api/v1/facet/offense/summary?game_id=4138\n",
            "https://premium.pff.com/api/v1/facet/offense/summary?game_id=4134\n",
            "https://premium.pff.com/api/v1/facet/offense/summary?game_id=4129\n",
            "https://premium.pff.com/api/v1/facet/offense/summary?game_id=4130\n",
            "https://premium.pff.com/api/v1/facet/offense/summary?game_id=4135\n",
            "https://premium.pff.com/api/v1/facet/offense/summary?game_id=4126\n",
            "https://premium.pff.com/api/v1/facet/offense/summary?game_id=4128\n",
            "https://premium.pff.com/api/v1/facet/offense/summary?game_id=4127\n",
            "https://premium.pff.com/api/v1/facet/offense/summary?game_id=4136\n",
            "https://premium.pff.com/api/v1/facet/offense/summary?game_id=4131\n",
            "https://premium.pff.com/api/v1/facet/offense/summary?game_id=4141\n",
            "https://premium.pff.com/api/v1/facet/offense/summary?game_id=4139\n",
            "https://premium.pff.com/api/v1/facet/offense/summary?game_id=4132\n",
            "https://premium.pff.com/api/v1/facet/offense/summary?game_id=4155\n",
            "https://premium.pff.com/api/v1/facet/offense/summary?game_id=4153\n",
            "https://premium.pff.com/api/v1/facet/offense/summary?game_id=4147\n",
            "https://premium.pff.com/api/v1/facet/offense/summary?game_id=4150\n",
            "https://premium.pff.com/api/v1/facet/offense/summary?game_id=4148\n",
            "https://premium.pff.com/api/v1/facet/offense/summary?game_id=4142\n",
            "https://premium.pff.com/api/v1/facet/offense/summary?game_id=4154\n",
            "https://premium.pff.com/api/v1/facet/offense/summary?game_id=4146\n",
            "https://premium.pff.com/api/v1/facet/offense/summary?game_id=4144\n",
            "https://premium.pff.com/api/v1/facet/offense/summary?game_id=4152\n",
            "https://premium.pff.com/api/v1/facet/offense/summary?game_id=4143\n",
            "https://premium.pff.com/api/v1/facet/offense/summary?game_id=4149\n",
            "https://premium.pff.com/api/v1/facet/offense/summary?game_id=4156\n",
            "https://premium.pff.com/api/v1/facet/offense/summary?game_id=4145\n",
            "https://premium.pff.com/api/v1/facet/offense/summary?game_id=4151\n",
            "https://premium.pff.com/api/v1/facet/offense/summary?game_id=4166\n",
            "https://premium.pff.com/api/v1/facet/offense/summary?game_id=4165\n",
            "https://premium.pff.com/api/v1/facet/offense/summary?game_id=4168\n",
            "https://premium.pff.com/api/v1/facet/offense/summary?game_id=4162\n",
            "https://premium.pff.com/api/v1/facet/offense/summary?game_id=4160\n",
            "https://premium.pff.com/api/v1/facet/offense/summary?game_id=4170\n",
            "https://premium.pff.com/api/v1/facet/offense/summary?game_id=4163\n",
            "https://premium.pff.com/api/v1/facet/offense/summary?game_id=4157\n",
            "https://premium.pff.com/api/v1/facet/offense/summary?game_id=4161\n",
            "https://premium.pff.com/api/v1/facet/offense/summary?game_id=4167\n",
            "https://premium.pff.com/api/v1/facet/offense/summary?game_id=4164\n",
            "https://premium.pff.com/api/v1/facet/offense/summary?game_id=4169\n",
            "https://premium.pff.com/api/v1/facet/offense/summary?game_id=4159\n",
            "https://premium.pff.com/api/v1/facet/offense/summary?game_id=4158\n",
            "https://premium.pff.com/api/v1/facet/offense/summary?game_id=4178\n",
            "https://premium.pff.com/api/v1/facet/offense/summary?game_id=4176\n",
            "https://premium.pff.com/api/v1/facet/offense/summary?game_id=4172\n",
            "https://premium.pff.com/api/v1/facet/offense/summary?game_id=4177\n",
            "https://premium.pff.com/api/v1/facet/offense/summary?game_id=4185\n",
            "https://premium.pff.com/api/v1/facet/offense/summary?game_id=4183\n",
            "https://premium.pff.com/api/v1/facet/offense/summary?game_id=4175\n",
            "https://premium.pff.com/api/v1/facet/offense/summary?game_id=4179\n",
            "https://premium.pff.com/api/v1/facet/offense/summary?game_id=4181\n",
            "https://premium.pff.com/api/v1/facet/offense/summary?game_id=4182\n",
            "https://premium.pff.com/api/v1/facet/offense/summary?game_id=4171\n",
            "https://premium.pff.com/api/v1/facet/offense/summary?game_id=4180\n",
            "https://premium.pff.com/api/v1/facet/offense/summary?game_id=4174\n",
            "https://premium.pff.com/api/v1/facet/offense/summary?game_id=4173\n",
            "https://premium.pff.com/api/v1/facet/offense/summary?game_id=4184\n",
            "https://premium.pff.com/api/v1/facet/offense/summary?game_id=4192\n",
            "https://premium.pff.com/api/v1/facet/offense/summary?game_id=4199\n",
            "https://premium.pff.com/api/v1/facet/offense/summary?game_id=4193\n",
            "https://premium.pff.com/api/v1/facet/offense/summary?game_id=4189\n",
            "https://premium.pff.com/api/v1/facet/offense/summary?game_id=4188\n",
            "https://premium.pff.com/api/v1/facet/offense/summary?game_id=4186\n",
            "https://premium.pff.com/api/v1/facet/offense/summary?game_id=4190\n",
            "https://premium.pff.com/api/v1/facet/offense/summary?game_id=4195\n",
            "https://premium.pff.com/api/v1/facet/offense/summary?game_id=4200\n",
            "https://premium.pff.com/api/v1/facet/offense/summary?game_id=4187\n",
            "https://premium.pff.com/api/v1/facet/offense/summary?game_id=4197\n",
            "https://premium.pff.com/api/v1/facet/offense/summary?game_id=4198\n",
            "https://premium.pff.com/api/v1/facet/offense/summary?game_id=4194\n",
            "https://premium.pff.com/api/v1/facet/offense/summary?game_id=4191\n",
            "https://premium.pff.com/api/v1/facet/offense/summary?game_id=4196\n",
            "https://premium.pff.com/api/v1/facet/offense/summary?game_id=4205\n",
            "https://premium.pff.com/api/v1/facet/offense/summary?game_id=4208\n",
            "https://premium.pff.com/api/v1/facet/offense/summary?game_id=4209\n",
            "https://premium.pff.com/api/v1/facet/offense/summary?game_id=4207\n",
            "https://premium.pff.com/api/v1/facet/offense/summary?game_id=4212\n",
            "https://premium.pff.com/api/v1/facet/offense/summary?game_id=4211\n",
            "https://premium.pff.com/api/v1/facet/offense/summary?game_id=4203\n",
            "https://premium.pff.com/api/v1/facet/offense/summary?game_id=4213\n",
            "https://premium.pff.com/api/v1/facet/offense/summary?game_id=4202\n",
            "https://premium.pff.com/api/v1/facet/offense/summary?game_id=4210\n",
            "https://premium.pff.com/api/v1/facet/offense/summary?game_id=4204\n",
            "https://premium.pff.com/api/v1/facet/offense/summary?game_id=4206\n",
            "https://premium.pff.com/api/v1/facet/offense/summary?game_id=4201\n",
            "https://premium.pff.com/api/v1/facet/offense/summary?game_id=4214\n",
            "https://premium.pff.com/api/v1/facet/offense/summary?game_id=4223\n",
            "https://premium.pff.com/api/v1/facet/offense/summary?game_id=4217\n",
            "https://premium.pff.com/api/v1/facet/offense/summary?game_id=4221\n",
            "https://premium.pff.com/api/v1/facet/offense/summary?game_id=4218\n",
            "https://premium.pff.com/api/v1/facet/offense/summary?game_id=4215\n",
            "https://premium.pff.com/api/v1/facet/offense/summary?game_id=4219\n",
            "https://premium.pff.com/api/v1/facet/offense/summary?game_id=4222\n",
            "https://premium.pff.com/api/v1/facet/offense/summary?game_id=4224\n",
            "https://premium.pff.com/api/v1/facet/offense/summary?game_id=4225\n",
            "https://premium.pff.com/api/v1/facet/offense/summary?game_id=4220\n",
            "https://premium.pff.com/api/v1/facet/offense/summary?game_id=4216\n",
            "https://premium.pff.com/api/v1/facet/offense/summary?game_id=4226\n",
            "https://premium.pff.com/api/v1/facet/offense/summary?game_id=4231\n",
            "https://premium.pff.com/api/v1/facet/offense/summary?game_id=4233\n",
            "https://premium.pff.com/api/v1/facet/offense/summary?game_id=4229\n",
            "https://premium.pff.com/api/v1/facet/offense/summary?game_id=4234\n",
            "https://premium.pff.com/api/v1/facet/offense/summary?game_id=4238\n",
            "https://premium.pff.com/api/v1/facet/offense/summary?game_id=4232\n",
            "https://premium.pff.com/api/v1/facet/offense/summary?game_id=4236\n",
            "https://premium.pff.com/api/v1/facet/offense/summary?game_id=4239\n",
            "https://premium.pff.com/api/v1/facet/offense/summary?game_id=4235\n",
            "https://premium.pff.com/api/v1/facet/offense/summary?game_id=4230\n",
            "https://premium.pff.com/api/v1/facet/offense/summary?game_id=4237\n",
            "https://premium.pff.com/api/v1/facet/offense/summary?game_id=4227\n",
            "https://premium.pff.com/api/v1/facet/offense/summary?game_id=4240\n",
            "https://premium.pff.com/api/v1/facet/offense/summary?game_id=4228\n",
            "https://premium.pff.com/api/v1/facet/offense/summary?game_id=4250\n",
            "https://premium.pff.com/api/v1/facet/offense/summary?game_id=4249\n",
            "https://premium.pff.com/api/v1/facet/offense/summary?game_id=4243\n",
            "https://premium.pff.com/api/v1/facet/offense/summary?game_id=4247\n",
            "https://premium.pff.com/api/v1/facet/offense/summary?game_id=4251\n",
            "https://premium.pff.com/api/v1/facet/offense/summary?game_id=4253\n",
            "https://premium.pff.com/api/v1/facet/offense/summary?game_id=4248\n",
            "https://premium.pff.com/api/v1/facet/offense/summary?game_id=4254\n",
            "https://premium.pff.com/api/v1/facet/offense/summary?game_id=4252\n",
            "https://premium.pff.com/api/v1/facet/offense/summary?game_id=4246\n",
            "https://premium.pff.com/api/v1/facet/offense/summary?game_id=4244\n",
            "https://premium.pff.com/api/v1/facet/offense/summary?game_id=4245\n",
            "https://premium.pff.com/api/v1/facet/offense/summary?game_id=4241\n",
            "https://premium.pff.com/api/v1/facet/offense/summary?game_id=4242\n",
            "https://premium.pff.com/api/v1/facet/offense/summary?game_id=4270\n",
            "https://premium.pff.com/api/v1/facet/offense/summary?game_id=4265\n",
            "https://premium.pff.com/api/v1/facet/offense/summary?game_id=4264\n",
            "https://premium.pff.com/api/v1/facet/offense/summary?game_id=4257\n",
            "https://premium.pff.com/api/v1/facet/offense/summary?game_id=4258\n",
            "https://premium.pff.com/api/v1/facet/offense/summary?game_id=4263\n",
            "https://premium.pff.com/api/v1/facet/offense/summary?game_id=4255\n",
            "https://premium.pff.com/api/v1/facet/offense/summary?game_id=4267\n",
            "https://premium.pff.com/api/v1/facet/offense/summary?game_id=4268\n",
            "https://premium.pff.com/api/v1/facet/offense/summary?game_id=4269\n",
            "https://premium.pff.com/api/v1/facet/offense/summary?game_id=4259\n",
            "https://premium.pff.com/api/v1/facet/offense/summary?game_id=4260\n",
            "https://premium.pff.com/api/v1/facet/offense/summary?game_id=4266\n",
            "https://premium.pff.com/api/v1/facet/offense/summary?game_id=4261\n",
            "https://premium.pff.com/api/v1/facet/offense/summary?game_id=4262\n",
            "https://premium.pff.com/api/v1/facet/offense/summary?game_id=4256\n",
            "https://premium.pff.com/api/v1/facet/offense/summary?game_id=4281\n",
            "https://premium.pff.com/api/v1/facet/offense/summary?game_id=4279\n",
            "https://premium.pff.com/api/v1/facet/offense/summary?game_id=4282\n",
            "https://premium.pff.com/api/v1/facet/offense/summary?game_id=4275\n",
            "https://premium.pff.com/api/v1/facet/offense/summary?game_id=4271\n",
            "https://premium.pff.com/api/v1/facet/offense/summary?game_id=4274\n",
            "https://premium.pff.com/api/v1/facet/offense/summary?game_id=4280\n",
            "https://premium.pff.com/api/v1/facet/offense/summary?game_id=4284\n",
            "https://premium.pff.com/api/v1/facet/offense/summary?game_id=4276\n",
            "https://premium.pff.com/api/v1/facet/offense/summary?game_id=4278\n",
            "https://premium.pff.com/api/v1/facet/offense/summary?game_id=4277\n",
            "https://premium.pff.com/api/v1/facet/offense/summary?game_id=4273\n",
            "https://premium.pff.com/api/v1/facet/offense/summary?game_id=4283\n",
            "https://premium.pff.com/api/v1/facet/offense/summary?game_id=4285\n",
            "https://premium.pff.com/api/v1/facet/offense/summary?game_id=4272\n",
            "https://premium.pff.com/api/v1/facet/offense/summary?game_id=4286\n",
            "https://premium.pff.com/api/v1/facet/offense/summary?game_id=4287\n",
            "https://premium.pff.com/api/v1/facet/offense/summary?game_id=4288\n",
            "https://premium.pff.com/api/v1/facet/offense/summary?game_id=4289\n",
            "https://premium.pff.com/api/v1/facet/offense/summary?game_id=4290\n",
            "https://premium.pff.com/api/v1/facet/offense/summary?game_id=4291\n",
            "https://premium.pff.com/api/v1/facet/offense/summary?game_id=4292\n",
            "https://premium.pff.com/api/v1/facet/offense/summary?game_id=4293\n",
            "https://premium.pff.com/api/v1/facet/offense/summary?game_id=4294\n",
            "https://premium.pff.com/api/v1/facet/offense/summary?game_id=4295\n",
            "https://premium.pff.com/api/v1/facet/offense/summary?game_id=4296\n",
            "https://premium.pff.com/api/v1/facet/offense/summary?game_id=4297\n",
            "https://premium.pff.com/api/v1/facet/offense/summary?game_id=4298\n",
            "https://premium.pff.com/api/v1/facet/offense/summary?game_id=4299\n",
            "https://premium.pff.com/api/v1/facet/offense/summary?game_id=4300\n",
            "https://premium.pff.com/api/v1/facet/offense/summary?game_id=4301\n",
            "https://premium.pff.com/api/v1/facet/offense/summary?game_id=4302\n",
            "https://premium.pff.com/api/v1/facet/offense/summary?game_id=4303\n",
            "https://premium.pff.com/api/v1/facet/offense/summary?game_id=4304\n",
            "https://premium.pff.com/api/v1/facet/offense/summary?game_id=4305\n",
            "https://premium.pff.com/api/v1/facet/offense/summary?game_id=4306\n",
            "https://premium.pff.com/api/v1/facet/offense/summary?game_id=4307\n",
            "https://premium.pff.com/api/v1/facet/offense/summary?game_id=4308\n",
            "https://premium.pff.com/api/v1/facet/offense/summary?game_id=4309\n",
            "https://premium.pff.com/api/v1/facet/offense/summary?game_id=4310\n",
            "https://premium.pff.com/api/v1/facet/offense/summary?game_id=4311\n",
            "https://premium.pff.com/api/v1/facet/offense/summary?game_id=4312\n",
            "https://premium.pff.com/api/v1/facet/offense/summary?game_id=4313\n",
            "https://premium.pff.com/api/v1/facet/offense/summary?game_id=4314\n",
            "https://premium.pff.com/api/v1/facet/offense/summary?game_id=4315\n",
            "https://premium.pff.com/api/v1/facet/offense/summary?game_id=4316\n",
            "https://premium.pff.com/api/v1/facet/offense/summary?game_id=4317\n",
            "https://premium.pff.com/api/v1/facet/offense/summary?game_id=4318\n",
            "https://premium.pff.com/api/v1/facet/offense/summary?game_id=4319\n",
            "https://premium.pff.com/api/v1/facet/offense/summary?game_id=4320\n",
            "https://premium.pff.com/api/v1/facet/offense/summary?game_id=4321\n",
            "https://premium.pff.com/api/v1/facet/offense/summary?game_id=4322\n",
            "https://premium.pff.com/api/v1/facet/offense/summary?game_id=4323\n",
            "https://premium.pff.com/api/v1/facet/offense/summary?game_id=4324\n",
            "https://premium.pff.com/api/v1/facet/offense/summary?game_id=4325\n",
            "https://premium.pff.com/api/v1/facet/offense/summary?game_id=4326\n",
            "https://premium.pff.com/api/v1/facet/offense/summary?game_id=4327\n",
            "https://premium.pff.com/api/v1/facet/offense/summary?game_id=4328\n",
            "https://premium.pff.com/api/v1/facet/offense/summary?game_id=4329\n",
            "https://premium.pff.com/api/v1/facet/offense/summary?game_id=4330\n",
            "https://premium.pff.com/api/v1/facet/offense/summary?game_id=4331\n",
            "https://premium.pff.com/api/v1/facet/offense/summary?game_id=4332\n",
            "https://premium.pff.com/api/v1/facet/offense/summary?game_id=4333\n",
            "https://premium.pff.com/api/v1/facet/offense/summary?game_id=4334\n",
            "https://premium.pff.com/api/v1/facet/offense/summary?game_id=4335\n",
            "https://premium.pff.com/api/v1/facet/offense/summary?game_id=4336\n",
            "https://premium.pff.com/api/v1/facet/offense/summary?game_id=4337\n",
            "https://premium.pff.com/api/v1/facet/offense/summary?game_id=4338\n",
            "https://premium.pff.com/api/v1/facet/offense/summary?game_id=4339\n",
            "https://premium.pff.com/api/v1/facet/offense/summary?game_id=4340\n",
            "https://premium.pff.com/api/v1/facet/offense/summary?game_id=4341\n",
            "https://premium.pff.com/api/v1/facet/offense/summary?game_id=4342\n",
            "https://premium.pff.com/api/v1/facet/offense/summary?game_id=4343\n",
            "https://premium.pff.com/api/v1/facet/offense/summary?game_id=4344\n",
            "https://premium.pff.com/api/v1/facet/offense/summary?game_id=4345\n",
            "https://premium.pff.com/api/v1/facet/offense/summary?game_id=4346\n",
            "https://premium.pff.com/api/v1/facet/offense/summary?game_id=4347\n",
            "https://premium.pff.com/api/v1/facet/offense/summary?game_id=4348\n",
            "https://premium.pff.com/api/v1/facet/offense/summary?game_id=4349\n",
            "https://premium.pff.com/api/v1/facet/offense/summary?game_id=4350\n",
            "https://premium.pff.com/api/v1/facet/offense/summary?game_id=4351\n",
            "https://premium.pff.com/api/v1/facet/offense/summary?game_id=4352\n",
            "https://premium.pff.com/api/v1/facet/offense/summary?game_id=4353\n",
            "https://premium.pff.com/api/v1/facet/offense/summary?game_id=4354\n",
            "https://premium.pff.com/api/v1/facet/offense/summary?game_id=4355\n",
            "https://premium.pff.com/api/v1/facet/offense/summary?game_id=4356\n",
            "https://premium.pff.com/api/v1/facet/offense/summary?game_id=4357\n",
            "https://premium.pff.com/api/v1/facet/offense/summary?game_id=4359\n",
            "https://premium.pff.com/api/v1/facet/offense/summary?game_id=4360\n",
            "https://premium.pff.com/api/v1/facet/offense/summary?game_id=4361\n",
            "       declined_penalties  franchise_id  grades_hands_fumble  grades_offense  \\\n",
            "0                       0            22                 76.0            86.2   \n",
            "1                       0            28                  NaN            81.6   \n",
            "2                       2            22                  NaN            65.6   \n",
            "3                       0            22                 71.4            66.1   \n",
            "4                       0            28                 65.8            72.4   \n",
            "...                   ...           ...                  ...             ...   \n",
            "92924                   0            19                  NaN            64.1   \n",
            "92925                   0            19                  NaN            75.2   \n",
            "92926                   0            19                  NaN            75.9   \n",
            "92927                   0             2                 65.8            80.6   \n",
            "92928                   0            19                 68.8            69.7   \n",
            "\n",
            "       grades_offense_penalty  grades_pass  grades_run  grades_run_block  \\\n",
            "0                        77.0         84.4        60.0              60.0   \n",
            "1                        79.7          NaN         NaN              81.1   \n",
            "2                        19.7          NaN         NaN              74.4   \n",
            "3                        73.2         59.8        65.6              60.0   \n",
            "4                        78.2          NaN         NaN              86.7   \n",
            "...                       ...          ...         ...               ...   \n",
            "92924                    69.7          NaN         NaN              65.8   \n",
            "92925                    80.1          NaN         NaN              71.7   \n",
            "92926                    78.1          NaN         NaN              69.4   \n",
            "92927                    77.0          NaN         NaN              72.4   \n",
            "92928                    78.0          NaN         NaN              58.8   \n",
            "\n",
            "      jersey_number  penalties  ... snap_counts_pass_route  snap_counts_run  \\\n",
            "0                08          0  ...                      0                1   \n",
            "1                71          0  ...                      0                0   \n",
            "2                77          2  ...                      0                0   \n",
            "3                02          0  ...                      0                0   \n",
            "4                44          0  ...                     18                0   \n",
            "...             ...        ...  ...                    ...              ...   \n",
            "92924            82          0  ...                      2                0   \n",
            "92925            60          0  ...                      0                0   \n",
            "92926            62          0  ...                      0                0   \n",
            "92927            81          0  ...                     19                0   \n",
            "92928            19          0  ...                     41                0   \n",
            "\n",
            "      snap_counts_run_block  snap_counts_total  snap_counts_total_pass  \\\n",
            "0                        15                 38                      22   \n",
            "1                        34                 70                      36   \n",
            "2                        19                 51                      32   \n",
            "3                         3                 13                      10   \n",
            "4                        20                 40                      20   \n",
            "...                     ...                ...                     ...   \n",
            "92924                     8                 10                       2   \n",
            "92925                    23                 99                      76   \n",
            "92926                    23                 99                      76   \n",
            "92927                    14                 37                      23   \n",
            "92928                    10                 52                      42   \n",
            "\n",
            "       snap_counts_total_run  status  grades_pass_block  grades_pass_route  \\\n",
            "0                         16       S                NaN                NaN   \n",
            "1                         34       S               76.4                NaN   \n",
            "2                         19       S               64.0                NaN   \n",
            "3                          3       P                NaN                NaN   \n",
            "4                         20       S               32.7               55.2   \n",
            "...                      ...     ...                ...                ...   \n",
            "92924                      8       P                NaN               56.2   \n",
            "92925                     23       S               81.1                NaN   \n",
            "92926                     23       S               81.2                NaN   \n",
            "92927                     14       P               42.6               77.4   \n",
            "92928                     10       S               66.8               68.8   \n",
            "\n",
            "       game_id  \n",
            "0        25907  \n",
            "1        25907  \n",
            "2        25907  \n",
            "3        25907  \n",
            "4        25907  \n",
            "...        ...  \n",
            "92924     4361  \n",
            "92925     4361  \n",
            "92926     4361  \n",
            "92927     4361  \n",
            "92928     4361  \n",
            "\n",
            "[92929 rows x 25 columns]\n"
          ]
        }
      ],
      "source": [
        "import requests\n",
        "import pandas as pd\n",
        "\n",
        "# Assuming df_flattened is already defined and contains game IDs\n",
        "snaps_list = []  # List to store individual DataFrames\n",
        "\n",
        "# Loop through each game ID to get data\n",
        "for game_id in df_flattened['id']:\n",
        "    # Construct the URL\n",
        "    url = f'https://premium.pff.com/api/v1/facet/offense/summary?game_id={game_id}'\n",
        "\n",
        "    print(url)\n",
        "\n",
        "    # Make the request\n",
        "    response = requests.get(url, cookies=cookies)\n",
        "\n",
        "    # Check if the request was successful\n",
        "    if response.status_code == 200:\n",
        "        # Parsing JSON response\n",
        "        snap_game = response.json().get('offense_summary', [])\n",
        "\n",
        "        # Only add to list if there's data to add\n",
        "        if snap_game:\n",
        "            snap_df = pd.DataFrame(snap_game)\n",
        "            snap_df[\"game_id\"] = game_id\n",
        "            snaps_list.append(snap_df)\n",
        "    else:\n",
        "        print(f\"Failed to fetch data for game ID {game_id}. Status code: {response.status_code}\")\n",
        "\n",
        "# Concatenate all DataFrames in the list into a single DataFrame\n",
        "snaps_df = pd.concat(snaps_list, ignore_index=True)\n",
        "\n",
        "# Display the final DataFrame\n",
        "print(snaps_df)\n"
      ]
    },
    {
      "cell_type": "code",
      "execution_count": null,
      "metadata": {
        "colab": {
          "base_uri": "https://localhost:8080/",
          "height": 17
        },
        "id": "vASphHxFCqps",
        "outputId": "30a20e41-5cf3-4a92-e046-96193c5ec110"
      },
      "outputs": [
        {
          "output_type": "display_data",
          "data": {
            "text/plain": [
              "<IPython.core.display.Javascript object>"
            ],
            "application/javascript": [
              "\n",
              "    async function download(id, filename, size) {\n",
              "      if (!google.colab.kernel.accessAllowed) {\n",
              "        return;\n",
              "      }\n",
              "      const div = document.createElement('div');\n",
              "      const label = document.createElement('label');\n",
              "      label.textContent = `Downloading \"${filename}\": `;\n",
              "      div.appendChild(label);\n",
              "      const progress = document.createElement('progress');\n",
              "      progress.max = size;\n",
              "      div.appendChild(progress);\n",
              "      document.body.appendChild(div);\n",
              "\n",
              "      const buffers = [];\n",
              "      let downloaded = 0;\n",
              "\n",
              "      const channel = await google.colab.kernel.comms.open(id);\n",
              "      // Send a message to notify the kernel that we're ready.\n",
              "      channel.send({})\n",
              "\n",
              "      for await (const message of channel.messages) {\n",
              "        // Send a message to notify the kernel that we're ready.\n",
              "        channel.send({})\n",
              "        if (message.buffers) {\n",
              "          for (const buffer of message.buffers) {\n",
              "            buffers.push(buffer);\n",
              "            downloaded += buffer.byteLength;\n",
              "            progress.value = downloaded;\n",
              "          }\n",
              "        }\n",
              "      }\n",
              "      const blob = new Blob(buffers, {type: 'application/binary'});\n",
              "      const a = document.createElement('a');\n",
              "      a.href = window.URL.createObjectURL(blob);\n",
              "      a.download = filename;\n",
              "      div.appendChild(a);\n",
              "      a.click();\n",
              "      div.remove();\n",
              "    }\n",
              "  "
            ]
          },
          "metadata": {}
        },
        {
          "output_type": "display_data",
          "data": {
            "text/plain": [
              "<IPython.core.display.Javascript object>"
            ],
            "application/javascript": [
              "download(\"download_90f369c3-67d1-410c-8e1f-da66920d8b99\", \"nfl_plays.xlsx\", 10689727)"
            ]
          },
          "metadata": {}
        }
      ],
      "source": [
        "snaps_df.to_excel(\"nfl_plays.xlsx\", index = False)\n",
        "files.download(\"nfl_plays.xlsx\")"
      ]
    },
    {
      "cell_type": "code",
      "execution_count": null,
      "metadata": {
        "id": "8mvefIqAqkKJ"
      },
      "outputs": [],
      "source": [
        "df_press_all = pandas.DataFrame()"
      ]
    },
    {
      "cell_type": "code",
      "execution_count": null,
      "metadata": {
        "colab": {
          "base_uri": "https://localhost:8080/"
        },
        "id": "RV8zI1t0B1wP",
        "outputId": "0907be91-4013-4b17-ae98-ba5ea0081f05"
      },
      "outputs": [
        {
          "output_type": "stream",
          "name": "stdout",
          "text": [
            "https://premium.pff.com/api/v1/facet/passing/pressure?league=nfl&season=2024&week=1\n",
            "-*--*--*--*--*--*--*--*--*--*-\n",
            "https://premium.pff.com/api/v1/facet/passing/pressure?league=nfl&season=2024&week=2\n",
            "-*--*--*--*--*--*--*--*--*--*-\n",
            "https://premium.pff.com/api/v1/facet/passing/pressure?league=nfl&season=2024&week=3\n",
            "-*--*--*--*--*--*--*--*--*--*-\n",
            "https://premium.pff.com/api/v1/facet/passing/pressure?league=nfl&season=2024&week=4\n",
            "-*--*--*--*--*--*--*--*--*--*-\n",
            "https://premium.pff.com/api/v1/facet/passing/pressure?league=nfl&season=2024&week=5\n",
            "-*--*--*--*--*--*--*--*--*--*-\n",
            "https://premium.pff.com/api/v1/facet/passing/pressure?league=nfl&season=2024&week=6\n",
            "-*--*--*--*--*--*--*--*--*--*-\n",
            "https://premium.pff.com/api/v1/facet/passing/pressure?league=nfl&season=2024&week=7\n",
            "-*--*--*--*--*--*--*--*--*--*-\n",
            "https://premium.pff.com/api/v1/facet/passing/pressure?league=nfl&season=2024&week=8\n",
            "-*--*--*--*--*--*--*--*--*--*-\n",
            "https://premium.pff.com/api/v1/facet/passing/pressure?league=nfl&season=2024&week=9\n",
            "-*--*--*--*--*--*--*--*--*--*-\n",
            "https://premium.pff.com/api/v1/facet/passing/pressure?league=nfl&season=2024&week=10\n",
            "-*--*--*--*--*--*--*--*--*--*-\n",
            "https://premium.pff.com/api/v1/facet/passing/pressure?league=nfl&season=2024&week=11\n",
            "-*--*--*--*--*--*--*--*--*--*-\n",
            "https://premium.pff.com/api/v1/facet/passing/pressure?league=nfl&season=2024&week=12\n",
            "-*--*--*--*--*--*--*--*--*--*-\n",
            "https://premium.pff.com/api/v1/facet/passing/pressure?league=nfl&season=2024&week=13\n",
            "-*--*--*--*--*--*--*--*--*--*-\n",
            "https://premium.pff.com/api/v1/facet/passing/pressure?league=nfl&season=2024&week=14\n",
            "-*--*--*--*--*--*--*--*--*--*-\n",
            "https://premium.pff.com/api/v1/facet/passing/pressure?league=nfl&season=2024&week=15\n",
            "-*--*--*--*--*--*--*--*--*--*-\n",
            "https://premium.pff.com/api/v1/facet/passing/pressure?league=nfl&season=2024&week=16\n",
            "-*--*--*--*--*--*--*--*--*--*-\n",
            "https://premium.pff.com/api/v1/facet/passing/pressure?league=nfl&season=2024&week=17\n",
            "-*--*--*--*--*--*--*--*--*--*-\n",
            "https://premium.pff.com/api/v1/facet/passing/pressure?league=nfl&season=2024&week=18\n",
            "-*--*--*--*--*--*--*--*--*--*-\n",
            "https://premium.pff.com/api/v1/facet/passing/pressure?league=nfl&season=2024&week=28\n",
            "-*--*--*--*--*--*--*--*--*--*-\n",
            "https://premium.pff.com/api/v1/facet/passing/pressure?league=nfl&season=2024&week=29\n",
            "-*--*--*--*--*--*--*--*--*--*-\n",
            "https://premium.pff.com/api/v1/facet/passing/pressure?league=nfl&season=2024&week=30\n",
            "-*--*--*--*--*--*--*--*--*--*-\n",
            "https://premium.pff.com/api/v1/facet/passing/pressure?league=nfl&season=2024&week=32\n",
            "-*--*--*--*--*--*--*--*--*--*-\n",
            "https://premium.pff.com/api/v1/facet/passing/pressure?league=nfl&season=2023&week=1\n",
            "-*--*--*--*--*--*--*--*--*--*-\n",
            "https://premium.pff.com/api/v1/facet/passing/pressure?league=nfl&season=2023&week=2\n",
            "-*--*--*--*--*--*--*--*--*--*-\n",
            "https://premium.pff.com/api/v1/facet/passing/pressure?league=nfl&season=2023&week=3\n",
            "-*--*--*--*--*--*--*--*--*--*-\n",
            "https://premium.pff.com/api/v1/facet/passing/pressure?league=nfl&season=2023&week=4\n",
            "-*--*--*--*--*--*--*--*--*--*-\n",
            "https://premium.pff.com/api/v1/facet/passing/pressure?league=nfl&season=2023&week=5\n",
            "-*--*--*--*--*--*--*--*--*--*-\n",
            "https://premium.pff.com/api/v1/facet/passing/pressure?league=nfl&season=2023&week=6\n",
            "-*--*--*--*--*--*--*--*--*--*-\n",
            "https://premium.pff.com/api/v1/facet/passing/pressure?league=nfl&season=2023&week=7\n",
            "-*--*--*--*--*--*--*--*--*--*-\n",
            "https://premium.pff.com/api/v1/facet/passing/pressure?league=nfl&season=2023&week=8\n",
            "-*--*--*--*--*--*--*--*--*--*-\n",
            "https://premium.pff.com/api/v1/facet/passing/pressure?league=nfl&season=2023&week=9\n",
            "-*--*--*--*--*--*--*--*--*--*-\n",
            "https://premium.pff.com/api/v1/facet/passing/pressure?league=nfl&season=2023&week=10\n",
            "-*--*--*--*--*--*--*--*--*--*-\n",
            "https://premium.pff.com/api/v1/facet/passing/pressure?league=nfl&season=2023&week=11\n",
            "-*--*--*--*--*--*--*--*--*--*-\n",
            "https://premium.pff.com/api/v1/facet/passing/pressure?league=nfl&season=2023&week=12\n",
            "-*--*--*--*--*--*--*--*--*--*-\n",
            "https://premium.pff.com/api/v1/facet/passing/pressure?league=nfl&season=2023&week=13\n",
            "-*--*--*--*--*--*--*--*--*--*-\n",
            "https://premium.pff.com/api/v1/facet/passing/pressure?league=nfl&season=2023&week=14\n",
            "-*--*--*--*--*--*--*--*--*--*-\n",
            "https://premium.pff.com/api/v1/facet/passing/pressure?league=nfl&season=2023&week=15\n",
            "-*--*--*--*--*--*--*--*--*--*-\n",
            "https://premium.pff.com/api/v1/facet/passing/pressure?league=nfl&season=2023&week=16\n",
            "-*--*--*--*--*--*--*--*--*--*-\n",
            "https://premium.pff.com/api/v1/facet/passing/pressure?league=nfl&season=2023&week=17\n",
            "-*--*--*--*--*--*--*--*--*--*-\n",
            "https://premium.pff.com/api/v1/facet/passing/pressure?league=nfl&season=2023&week=18\n",
            "-*--*--*--*--*--*--*--*--*--*-\n",
            "https://premium.pff.com/api/v1/facet/passing/pressure?league=nfl&season=2023&week=28\n",
            "-*--*--*--*--*--*--*--*--*--*-\n",
            "https://premium.pff.com/api/v1/facet/passing/pressure?league=nfl&season=2023&week=29\n",
            "-*--*--*--*--*--*--*--*--*--*-\n",
            "https://premium.pff.com/api/v1/facet/passing/pressure?league=nfl&season=2023&week=30\n",
            "-*--*--*--*--*--*--*--*--*--*-\n",
            "https://premium.pff.com/api/v1/facet/passing/pressure?league=nfl&season=2023&week=32\n",
            "-*--*--*--*--*--*--*--*--*--*-\n",
            "https://premium.pff.com/api/v1/facet/passing/pressure?league=nfl&season=2022&week=1\n",
            "-*--*--*--*--*--*--*--*--*--*-\n",
            "https://premium.pff.com/api/v1/facet/passing/pressure?league=nfl&season=2022&week=2\n",
            "-*--*--*--*--*--*--*--*--*--*-\n",
            "https://premium.pff.com/api/v1/facet/passing/pressure?league=nfl&season=2022&week=3\n",
            "-*--*--*--*--*--*--*--*--*--*-\n",
            "https://premium.pff.com/api/v1/facet/passing/pressure?league=nfl&season=2022&week=4\n",
            "-*--*--*--*--*--*--*--*--*--*-\n",
            "https://premium.pff.com/api/v1/facet/passing/pressure?league=nfl&season=2022&week=5\n",
            "-*--*--*--*--*--*--*--*--*--*-\n",
            "https://premium.pff.com/api/v1/facet/passing/pressure?league=nfl&season=2022&week=6\n",
            "-*--*--*--*--*--*--*--*--*--*-\n",
            "https://premium.pff.com/api/v1/facet/passing/pressure?league=nfl&season=2022&week=7\n",
            "-*--*--*--*--*--*--*--*--*--*-\n",
            "https://premium.pff.com/api/v1/facet/passing/pressure?league=nfl&season=2022&week=8\n",
            "-*--*--*--*--*--*--*--*--*--*-\n",
            "https://premium.pff.com/api/v1/facet/passing/pressure?league=nfl&season=2022&week=9\n",
            "-*--*--*--*--*--*--*--*--*--*-\n",
            "https://premium.pff.com/api/v1/facet/passing/pressure?league=nfl&season=2022&week=10\n",
            "-*--*--*--*--*--*--*--*--*--*-\n",
            "https://premium.pff.com/api/v1/facet/passing/pressure?league=nfl&season=2022&week=11\n",
            "-*--*--*--*--*--*--*--*--*--*-\n",
            "https://premium.pff.com/api/v1/facet/passing/pressure?league=nfl&season=2022&week=12\n",
            "-*--*--*--*--*--*--*--*--*--*-\n",
            "https://premium.pff.com/api/v1/facet/passing/pressure?league=nfl&season=2022&week=13\n",
            "-*--*--*--*--*--*--*--*--*--*-\n",
            "https://premium.pff.com/api/v1/facet/passing/pressure?league=nfl&season=2022&week=14\n",
            "-*--*--*--*--*--*--*--*--*--*-\n",
            "https://premium.pff.com/api/v1/facet/passing/pressure?league=nfl&season=2022&week=15\n",
            "-*--*--*--*--*--*--*--*--*--*-\n",
            "https://premium.pff.com/api/v1/facet/passing/pressure?league=nfl&season=2022&week=16\n",
            "-*--*--*--*--*--*--*--*--*--*-\n",
            "https://premium.pff.com/api/v1/facet/passing/pressure?league=nfl&season=2022&week=17\n",
            "-*--*--*--*--*--*--*--*--*--*-\n",
            "https://premium.pff.com/api/v1/facet/passing/pressure?league=nfl&season=2022&week=18\n",
            "-*--*--*--*--*--*--*--*--*--*-\n",
            "https://premium.pff.com/api/v1/facet/passing/pressure?league=nfl&season=2022&week=28\n",
            "-*--*--*--*--*--*--*--*--*--*-\n",
            "https://premium.pff.com/api/v1/facet/passing/pressure?league=nfl&season=2022&week=29\n",
            "-*--*--*--*--*--*--*--*--*--*-\n",
            "https://premium.pff.com/api/v1/facet/passing/pressure?league=nfl&season=2022&week=30\n",
            "-*--*--*--*--*--*--*--*--*--*-\n",
            "https://premium.pff.com/api/v1/facet/passing/pressure?league=nfl&season=2022&week=32\n",
            "-*--*--*--*--*--*--*--*--*--*-\n",
            "https://premium.pff.com/api/v1/facet/passing/pressure?league=nfl&season=2021&week=1\n",
            "-*--*--*--*--*--*--*--*--*--*-\n",
            "https://premium.pff.com/api/v1/facet/passing/pressure?league=nfl&season=2021&week=2\n",
            "-*--*--*--*--*--*--*--*--*--*-\n",
            "https://premium.pff.com/api/v1/facet/passing/pressure?league=nfl&season=2021&week=3\n",
            "-*--*--*--*--*--*--*--*--*--*-\n",
            "https://premium.pff.com/api/v1/facet/passing/pressure?league=nfl&season=2021&week=4\n",
            "-*--*--*--*--*--*--*--*--*--*-\n",
            "https://premium.pff.com/api/v1/facet/passing/pressure?league=nfl&season=2021&week=5\n",
            "-*--*--*--*--*--*--*--*--*--*-\n",
            "https://premium.pff.com/api/v1/facet/passing/pressure?league=nfl&season=2021&week=6\n",
            "-*--*--*--*--*--*--*--*--*--*-\n",
            "https://premium.pff.com/api/v1/facet/passing/pressure?league=nfl&season=2021&week=7\n",
            "-*--*--*--*--*--*--*--*--*--*-\n",
            "https://premium.pff.com/api/v1/facet/passing/pressure?league=nfl&season=2021&week=8\n",
            "-*--*--*--*--*--*--*--*--*--*-\n",
            "https://premium.pff.com/api/v1/facet/passing/pressure?league=nfl&season=2021&week=9\n",
            "-*--*--*--*--*--*--*--*--*--*-\n",
            "https://premium.pff.com/api/v1/facet/passing/pressure?league=nfl&season=2021&week=10\n",
            "-*--*--*--*--*--*--*--*--*--*-\n",
            "https://premium.pff.com/api/v1/facet/passing/pressure?league=nfl&season=2021&week=11\n",
            "-*--*--*--*--*--*--*--*--*--*-\n",
            "https://premium.pff.com/api/v1/facet/passing/pressure?league=nfl&season=2021&week=12\n",
            "-*--*--*--*--*--*--*--*--*--*-\n",
            "https://premium.pff.com/api/v1/facet/passing/pressure?league=nfl&season=2021&week=13\n",
            "-*--*--*--*--*--*--*--*--*--*-\n",
            "https://premium.pff.com/api/v1/facet/passing/pressure?league=nfl&season=2021&week=14\n",
            "-*--*--*--*--*--*--*--*--*--*-\n",
            "https://premium.pff.com/api/v1/facet/passing/pressure?league=nfl&season=2021&week=15\n",
            "-*--*--*--*--*--*--*--*--*--*-\n",
            "https://premium.pff.com/api/v1/facet/passing/pressure?league=nfl&season=2021&week=16\n",
            "-*--*--*--*--*--*--*--*--*--*-\n",
            "https://premium.pff.com/api/v1/facet/passing/pressure?league=nfl&season=2021&week=17\n",
            "-*--*--*--*--*--*--*--*--*--*-\n",
            "https://premium.pff.com/api/v1/facet/passing/pressure?league=nfl&season=2021&week=18\n",
            "-*--*--*--*--*--*--*--*--*--*-\n",
            "https://premium.pff.com/api/v1/facet/passing/pressure?league=nfl&season=2021&week=28\n",
            "-*--*--*--*--*--*--*--*--*--*-\n",
            "https://premium.pff.com/api/v1/facet/passing/pressure?league=nfl&season=2021&week=29\n",
            "-*--*--*--*--*--*--*--*--*--*-\n",
            "https://premium.pff.com/api/v1/facet/passing/pressure?league=nfl&season=2021&week=30\n",
            "-*--*--*--*--*--*--*--*--*--*-\n",
            "https://premium.pff.com/api/v1/facet/passing/pressure?league=nfl&season=2021&week=32\n",
            "-*--*--*--*--*--*--*--*--*--*-\n",
            "https://premium.pff.com/api/v1/facet/passing/pressure?league=nfl&season=2020&week=1\n",
            "-*--*--*--*--*--*--*--*--*--*-\n",
            "https://premium.pff.com/api/v1/facet/passing/pressure?league=nfl&season=2020&week=2\n",
            "-*--*--*--*--*--*--*--*--*--*-\n",
            "https://premium.pff.com/api/v1/facet/passing/pressure?league=nfl&season=2020&week=3\n",
            "-*--*--*--*--*--*--*--*--*--*-\n",
            "https://premium.pff.com/api/v1/facet/passing/pressure?league=nfl&season=2020&week=4\n",
            "-*--*--*--*--*--*--*--*--*--*-\n",
            "https://premium.pff.com/api/v1/facet/passing/pressure?league=nfl&season=2020&week=5\n",
            "-*--*--*--*--*--*--*--*--*--*-\n",
            "https://premium.pff.com/api/v1/facet/passing/pressure?league=nfl&season=2020&week=6\n",
            "-*--*--*--*--*--*--*--*--*--*-\n",
            "https://premium.pff.com/api/v1/facet/passing/pressure?league=nfl&season=2020&week=7\n",
            "-*--*--*--*--*--*--*--*--*--*-\n",
            "https://premium.pff.com/api/v1/facet/passing/pressure?league=nfl&season=2020&week=8\n",
            "-*--*--*--*--*--*--*--*--*--*-\n",
            "https://premium.pff.com/api/v1/facet/passing/pressure?league=nfl&season=2020&week=9\n",
            "-*--*--*--*--*--*--*--*--*--*-\n",
            "https://premium.pff.com/api/v1/facet/passing/pressure?league=nfl&season=2020&week=10\n",
            "-*--*--*--*--*--*--*--*--*--*-\n",
            "https://premium.pff.com/api/v1/facet/passing/pressure?league=nfl&season=2020&week=11\n",
            "-*--*--*--*--*--*--*--*--*--*-\n",
            "https://premium.pff.com/api/v1/facet/passing/pressure?league=nfl&season=2020&week=12\n",
            "-*--*--*--*--*--*--*--*--*--*-\n",
            "https://premium.pff.com/api/v1/facet/passing/pressure?league=nfl&season=2020&week=13\n",
            "-*--*--*--*--*--*--*--*--*--*-\n",
            "https://premium.pff.com/api/v1/facet/passing/pressure?league=nfl&season=2020&week=14\n",
            "-*--*--*--*--*--*--*--*--*--*-\n",
            "https://premium.pff.com/api/v1/facet/passing/pressure?league=nfl&season=2020&week=15\n",
            "-*--*--*--*--*--*--*--*--*--*-\n",
            "https://premium.pff.com/api/v1/facet/passing/pressure?league=nfl&season=2020&week=16\n",
            "-*--*--*--*--*--*--*--*--*--*-\n",
            "https://premium.pff.com/api/v1/facet/passing/pressure?league=nfl&season=2020&week=17\n",
            "-*--*--*--*--*--*--*--*--*--*-\n",
            "https://premium.pff.com/api/v1/facet/passing/pressure?league=nfl&season=2020&week=18\n",
            "-*--*--*--*--*--*--*--*--*--*-\n",
            "https://premium.pff.com/api/v1/facet/passing/pressure?league=nfl&season=2020&week=28\n",
            "-*--*--*--*--*--*--*--*--*--*-\n",
            "https://premium.pff.com/api/v1/facet/passing/pressure?league=nfl&season=2020&week=29\n",
            "-*--*--*--*--*--*--*--*--*--*-\n",
            "https://premium.pff.com/api/v1/facet/passing/pressure?league=nfl&season=2020&week=30\n",
            "-*--*--*--*--*--*--*--*--*--*-\n",
            "https://premium.pff.com/api/v1/facet/passing/pressure?league=nfl&season=2020&week=32\n",
            "-*--*--*--*--*--*--*--*--*--*-\n",
            "https://premium.pff.com/api/v1/facet/passing/pressure?league=nfl&season=2019&week=1\n",
            "-*--*--*--*--*--*--*--*--*--*-\n",
            "https://premium.pff.com/api/v1/facet/passing/pressure?league=nfl&season=2019&week=2\n",
            "-*--*--*--*--*--*--*--*--*--*-\n",
            "https://premium.pff.com/api/v1/facet/passing/pressure?league=nfl&season=2019&week=3\n",
            "-*--*--*--*--*--*--*--*--*--*-\n",
            "https://premium.pff.com/api/v1/facet/passing/pressure?league=nfl&season=2019&week=4\n",
            "-*--*--*--*--*--*--*--*--*--*-\n",
            "https://premium.pff.com/api/v1/facet/passing/pressure?league=nfl&season=2019&week=5\n",
            "-*--*--*--*--*--*--*--*--*--*-\n",
            "https://premium.pff.com/api/v1/facet/passing/pressure?league=nfl&season=2019&week=6\n",
            "-*--*--*--*--*--*--*--*--*--*-\n",
            "https://premium.pff.com/api/v1/facet/passing/pressure?league=nfl&season=2019&week=7\n",
            "-*--*--*--*--*--*--*--*--*--*-\n",
            "https://premium.pff.com/api/v1/facet/passing/pressure?league=nfl&season=2019&week=8\n",
            "-*--*--*--*--*--*--*--*--*--*-\n",
            "https://premium.pff.com/api/v1/facet/passing/pressure?league=nfl&season=2019&week=9\n",
            "-*--*--*--*--*--*--*--*--*--*-\n",
            "https://premium.pff.com/api/v1/facet/passing/pressure?league=nfl&season=2019&week=10\n",
            "-*--*--*--*--*--*--*--*--*--*-\n",
            "https://premium.pff.com/api/v1/facet/passing/pressure?league=nfl&season=2019&week=11\n",
            "-*--*--*--*--*--*--*--*--*--*-\n",
            "https://premium.pff.com/api/v1/facet/passing/pressure?league=nfl&season=2019&week=12\n",
            "-*--*--*--*--*--*--*--*--*--*-\n",
            "https://premium.pff.com/api/v1/facet/passing/pressure?league=nfl&season=2019&week=13\n",
            "-*--*--*--*--*--*--*--*--*--*-\n",
            "https://premium.pff.com/api/v1/facet/passing/pressure?league=nfl&season=2019&week=14\n",
            "-*--*--*--*--*--*--*--*--*--*-\n",
            "https://premium.pff.com/api/v1/facet/passing/pressure?league=nfl&season=2019&week=15\n",
            "-*--*--*--*--*--*--*--*--*--*-\n",
            "https://premium.pff.com/api/v1/facet/passing/pressure?league=nfl&season=2019&week=16\n",
            "-*--*--*--*--*--*--*--*--*--*-\n",
            "https://premium.pff.com/api/v1/facet/passing/pressure?league=nfl&season=2019&week=17\n",
            "-*--*--*--*--*--*--*--*--*--*-\n",
            "https://premium.pff.com/api/v1/facet/passing/pressure?league=nfl&season=2019&week=18\n",
            "-*--*--*--*--*--*--*--*--*--*-\n",
            "https://premium.pff.com/api/v1/facet/passing/pressure?league=nfl&season=2019&week=28\n",
            "-*--*--*--*--*--*--*--*--*--*-\n",
            "https://premium.pff.com/api/v1/facet/passing/pressure?league=nfl&season=2019&week=29\n",
            "-*--*--*--*--*--*--*--*--*--*-\n",
            "https://premium.pff.com/api/v1/facet/passing/pressure?league=nfl&season=2019&week=30\n",
            "-*--*--*--*--*--*--*--*--*--*-\n",
            "https://premium.pff.com/api/v1/facet/passing/pressure?league=nfl&season=2019&week=32\n"
          ]
        },
        {
          "output_type": "stream",
          "name": "stderr",
          "text": [
            "<ipython-input-11-c62eca93c0ca>:10: FutureWarning: The behavior of DataFrame concatenation with empty or all-NA entries is deprecated. In a future version, this will no longer exclude empty or all-NA columns when determining the result dtypes. To retain the old behavior, exclude the relevant entries before the concat operation.\n",
            "  df_press_all = pandas.concat([df_press_all, df_press], axis = 0)\n"
          ]
        },
        {
          "output_type": "stream",
          "name": "stdout",
          "text": [
            "-*--*--*--*--*--*--*--*--*--*-\n",
            "https://premium.pff.com/api/v1/facet/passing/pressure?league=nfl&season=2018&week=1\n",
            "-*--*--*--*--*--*--*--*--*--*-\n",
            "https://premium.pff.com/api/v1/facet/passing/pressure?league=nfl&season=2018&week=2\n",
            "-*--*--*--*--*--*--*--*--*--*-\n",
            "https://premium.pff.com/api/v1/facet/passing/pressure?league=nfl&season=2018&week=3\n",
            "-*--*--*--*--*--*--*--*--*--*-\n",
            "https://premium.pff.com/api/v1/facet/passing/pressure?league=nfl&season=2018&week=4\n",
            "-*--*--*--*--*--*--*--*--*--*-\n",
            "https://premium.pff.com/api/v1/facet/passing/pressure?league=nfl&season=2018&week=5\n",
            "-*--*--*--*--*--*--*--*--*--*-\n",
            "https://premium.pff.com/api/v1/facet/passing/pressure?league=nfl&season=2018&week=6\n",
            "-*--*--*--*--*--*--*--*--*--*-\n",
            "https://premium.pff.com/api/v1/facet/passing/pressure?league=nfl&season=2018&week=7\n",
            "-*--*--*--*--*--*--*--*--*--*-\n",
            "https://premium.pff.com/api/v1/facet/passing/pressure?league=nfl&season=2018&week=8\n",
            "-*--*--*--*--*--*--*--*--*--*-\n",
            "https://premium.pff.com/api/v1/facet/passing/pressure?league=nfl&season=2018&week=9\n",
            "-*--*--*--*--*--*--*--*--*--*-\n",
            "https://premium.pff.com/api/v1/facet/passing/pressure?league=nfl&season=2018&week=10\n",
            "-*--*--*--*--*--*--*--*--*--*-\n",
            "https://premium.pff.com/api/v1/facet/passing/pressure?league=nfl&season=2018&week=11\n",
            "-*--*--*--*--*--*--*--*--*--*-\n",
            "https://premium.pff.com/api/v1/facet/passing/pressure?league=nfl&season=2018&week=12\n",
            "-*--*--*--*--*--*--*--*--*--*-\n",
            "https://premium.pff.com/api/v1/facet/passing/pressure?league=nfl&season=2018&week=13\n",
            "-*--*--*--*--*--*--*--*--*--*-\n",
            "https://premium.pff.com/api/v1/facet/passing/pressure?league=nfl&season=2018&week=14\n",
            "-*--*--*--*--*--*--*--*--*--*-\n",
            "https://premium.pff.com/api/v1/facet/passing/pressure?league=nfl&season=2018&week=15\n",
            "-*--*--*--*--*--*--*--*--*--*-\n",
            "https://premium.pff.com/api/v1/facet/passing/pressure?league=nfl&season=2018&week=16\n",
            "-*--*--*--*--*--*--*--*--*--*-\n",
            "https://premium.pff.com/api/v1/facet/passing/pressure?league=nfl&season=2018&week=17\n",
            "-*--*--*--*--*--*--*--*--*--*-\n",
            "https://premium.pff.com/api/v1/facet/passing/pressure?league=nfl&season=2018&week=18\n",
            "-*--*--*--*--*--*--*--*--*--*-\n",
            "https://premium.pff.com/api/v1/facet/passing/pressure?league=nfl&season=2018&week=28\n",
            "-*--*--*--*--*--*--*--*--*--*-\n",
            "https://premium.pff.com/api/v1/facet/passing/pressure?league=nfl&season=2018&week=29\n",
            "-*--*--*--*--*--*--*--*--*--*-\n",
            "https://premium.pff.com/api/v1/facet/passing/pressure?league=nfl&season=2018&week=30\n",
            "-*--*--*--*--*--*--*--*--*--*-\n",
            "https://premium.pff.com/api/v1/facet/passing/pressure?league=nfl&season=2018&week=32\n",
            "-*--*--*--*--*--*--*--*--*--*-\n",
            "https://premium.pff.com/api/v1/facet/passing/pressure?league=nfl&season=2017&week=1\n",
            "-*--*--*--*--*--*--*--*--*--*-\n",
            "https://premium.pff.com/api/v1/facet/passing/pressure?league=nfl&season=2017&week=2\n",
            "-*--*--*--*--*--*--*--*--*--*-\n",
            "https://premium.pff.com/api/v1/facet/passing/pressure?league=nfl&season=2017&week=3\n",
            "-*--*--*--*--*--*--*--*--*--*-\n",
            "https://premium.pff.com/api/v1/facet/passing/pressure?league=nfl&season=2017&week=4\n",
            "-*--*--*--*--*--*--*--*--*--*-\n",
            "https://premium.pff.com/api/v1/facet/passing/pressure?league=nfl&season=2017&week=5\n",
            "-*--*--*--*--*--*--*--*--*--*-\n",
            "https://premium.pff.com/api/v1/facet/passing/pressure?league=nfl&season=2017&week=6\n",
            "-*--*--*--*--*--*--*--*--*--*-\n",
            "https://premium.pff.com/api/v1/facet/passing/pressure?league=nfl&season=2017&week=7\n",
            "-*--*--*--*--*--*--*--*--*--*-\n",
            "https://premium.pff.com/api/v1/facet/passing/pressure?league=nfl&season=2017&week=8\n",
            "-*--*--*--*--*--*--*--*--*--*-\n",
            "https://premium.pff.com/api/v1/facet/passing/pressure?league=nfl&season=2017&week=9\n",
            "-*--*--*--*--*--*--*--*--*--*-\n",
            "https://premium.pff.com/api/v1/facet/passing/pressure?league=nfl&season=2017&week=10\n",
            "-*--*--*--*--*--*--*--*--*--*-\n",
            "https://premium.pff.com/api/v1/facet/passing/pressure?league=nfl&season=2017&week=11\n",
            "-*--*--*--*--*--*--*--*--*--*-\n",
            "https://premium.pff.com/api/v1/facet/passing/pressure?league=nfl&season=2017&week=12\n",
            "-*--*--*--*--*--*--*--*--*--*-\n",
            "https://premium.pff.com/api/v1/facet/passing/pressure?league=nfl&season=2017&week=13\n",
            "-*--*--*--*--*--*--*--*--*--*-\n",
            "https://premium.pff.com/api/v1/facet/passing/pressure?league=nfl&season=2017&week=14\n",
            "-*--*--*--*--*--*--*--*--*--*-\n",
            "https://premium.pff.com/api/v1/facet/passing/pressure?league=nfl&season=2017&week=15\n",
            "-*--*--*--*--*--*--*--*--*--*-\n",
            "https://premium.pff.com/api/v1/facet/passing/pressure?league=nfl&season=2017&week=16\n",
            "-*--*--*--*--*--*--*--*--*--*-\n",
            "https://premium.pff.com/api/v1/facet/passing/pressure?league=nfl&season=2017&week=17\n",
            "-*--*--*--*--*--*--*--*--*--*-\n",
            "https://premium.pff.com/api/v1/facet/passing/pressure?league=nfl&season=2017&week=18\n",
            "-*--*--*--*--*--*--*--*--*--*-\n",
            "https://premium.pff.com/api/v1/facet/passing/pressure?league=nfl&season=2017&week=28\n",
            "-*--*--*--*--*--*--*--*--*--*-\n",
            "https://premium.pff.com/api/v1/facet/passing/pressure?league=nfl&season=2017&week=29\n",
            "-*--*--*--*--*--*--*--*--*--*-\n",
            "https://premium.pff.com/api/v1/facet/passing/pressure?league=nfl&season=2017&week=30\n",
            "-*--*--*--*--*--*--*--*--*--*-\n",
            "https://premium.pff.com/api/v1/facet/passing/pressure?league=nfl&season=2017&week=32\n",
            "-*--*--*--*--*--*--*--*--*--*-\n",
            "https://premium.pff.com/api/v1/facet/passing/pressure?league=nfl&season=2016&week=1\n",
            "-*--*--*--*--*--*--*--*--*--*-\n",
            "https://premium.pff.com/api/v1/facet/passing/pressure?league=nfl&season=2016&week=2\n",
            "-*--*--*--*--*--*--*--*--*--*-\n",
            "https://premium.pff.com/api/v1/facet/passing/pressure?league=nfl&season=2016&week=3\n",
            "-*--*--*--*--*--*--*--*--*--*-\n",
            "https://premium.pff.com/api/v1/facet/passing/pressure?league=nfl&season=2016&week=4\n",
            "-*--*--*--*--*--*--*--*--*--*-\n",
            "https://premium.pff.com/api/v1/facet/passing/pressure?league=nfl&season=2016&week=5\n",
            "-*--*--*--*--*--*--*--*--*--*-\n",
            "https://premium.pff.com/api/v1/facet/passing/pressure?league=nfl&season=2016&week=6\n",
            "-*--*--*--*--*--*--*--*--*--*-\n",
            "https://premium.pff.com/api/v1/facet/passing/pressure?league=nfl&season=2016&week=7\n",
            "-*--*--*--*--*--*--*--*--*--*-\n",
            "https://premium.pff.com/api/v1/facet/passing/pressure?league=nfl&season=2016&week=8\n",
            "-*--*--*--*--*--*--*--*--*--*-\n",
            "https://premium.pff.com/api/v1/facet/passing/pressure?league=nfl&season=2016&week=9\n",
            "-*--*--*--*--*--*--*--*--*--*-\n",
            "https://premium.pff.com/api/v1/facet/passing/pressure?league=nfl&season=2016&week=10\n",
            "-*--*--*--*--*--*--*--*--*--*-\n",
            "https://premium.pff.com/api/v1/facet/passing/pressure?league=nfl&season=2016&week=11\n",
            "-*--*--*--*--*--*--*--*--*--*-\n",
            "https://premium.pff.com/api/v1/facet/passing/pressure?league=nfl&season=2016&week=12\n",
            "-*--*--*--*--*--*--*--*--*--*-\n",
            "https://premium.pff.com/api/v1/facet/passing/pressure?league=nfl&season=2016&week=13\n",
            "-*--*--*--*--*--*--*--*--*--*-\n",
            "https://premium.pff.com/api/v1/facet/passing/pressure?league=nfl&season=2016&week=14\n",
            "-*--*--*--*--*--*--*--*--*--*-\n",
            "https://premium.pff.com/api/v1/facet/passing/pressure?league=nfl&season=2016&week=15\n",
            "-*--*--*--*--*--*--*--*--*--*-\n",
            "https://premium.pff.com/api/v1/facet/passing/pressure?league=nfl&season=2016&week=16\n",
            "-*--*--*--*--*--*--*--*--*--*-\n",
            "https://premium.pff.com/api/v1/facet/passing/pressure?league=nfl&season=2016&week=17\n",
            "-*--*--*--*--*--*--*--*--*--*-\n",
            "https://premium.pff.com/api/v1/facet/passing/pressure?league=nfl&season=2016&week=18\n",
            "-*--*--*--*--*--*--*--*--*--*-\n",
            "https://premium.pff.com/api/v1/facet/passing/pressure?league=nfl&season=2016&week=28\n",
            "-*--*--*--*--*--*--*--*--*--*-\n",
            "https://premium.pff.com/api/v1/facet/passing/pressure?league=nfl&season=2016&week=29\n",
            "-*--*--*--*--*--*--*--*--*--*-\n",
            "https://premium.pff.com/api/v1/facet/passing/pressure?league=nfl&season=2016&week=30\n",
            "-*--*--*--*--*--*--*--*--*--*-\n",
            "https://premium.pff.com/api/v1/facet/passing/pressure?league=nfl&season=2016&week=32\n",
            "-*--*--*--*--*--*--*--*--*--*-\n"
          ]
        }
      ],
      "source": [
        "#years = [2024, 2023, 2022, 2021, 2020, 2019, 2018, 2017, 2016]\n",
        "#weeks = [1,2,3,4,5,6,7,8,9,10,11,12,13,14,15,16,17,18,28,29,30,32]\n",
        "for year in years:\n",
        "    for week in weeks:\n",
        "      print(rf'https://premium.pff.com/api/v1/facet/passing/pressure?league=nfl&season={year}&week={week}')\n",
        "      pressure = requests.get(rf'https://premium.pff.com/api/v1/facet/passing/pressure?league=nfl&season={year}&week={week}', cookies = cookies)\n",
        "      df_press = pandas.DataFrame(pressure.json()['passing_pressure'])\n",
        "      df_press[\"Week\"] = week\n",
        "      df_press[\"Season\"] = year\n",
        "      df_press_all = pandas.concat([df_press_all, df_press], axis = 0)\n",
        "      print(\"-*-\"*10)\n",
        "\n",
        "# THIS IS FOR PASSING PRESSURE - 2016-2022"
      ]
    },
    {
      "cell_type": "code",
      "execution_count": null,
      "metadata": {
        "colab": {
          "base_uri": "https://localhost:8080/",
          "height": 17
        },
        "id": "XaVY76YtDBt_",
        "outputId": "ef61dcef-8dfa-488f-b22b-3a7b843faf82"
      },
      "outputs": [
        {
          "output_type": "display_data",
          "data": {
            "text/plain": [
              "<IPython.core.display.Javascript object>"
            ],
            "application/javascript": [
              "\n",
              "    async function download(id, filename, size) {\n",
              "      if (!google.colab.kernel.accessAllowed) {\n",
              "        return;\n",
              "      }\n",
              "      const div = document.createElement('div');\n",
              "      const label = document.createElement('label');\n",
              "      label.textContent = `Downloading \"${filename}\": `;\n",
              "      div.appendChild(label);\n",
              "      const progress = document.createElement('progress');\n",
              "      progress.max = size;\n",
              "      div.appendChild(progress);\n",
              "      document.body.appendChild(div);\n",
              "\n",
              "      const buffers = [];\n",
              "      let downloaded = 0;\n",
              "\n",
              "      const channel = await google.colab.kernel.comms.open(id);\n",
              "      // Send a message to notify the kernel that we're ready.\n",
              "      channel.send({})\n",
              "\n",
              "      for await (const message of channel.messages) {\n",
              "        // Send a message to notify the kernel that we're ready.\n",
              "        channel.send({})\n",
              "        if (message.buffers) {\n",
              "          for (const buffer of message.buffers) {\n",
              "            buffers.push(buffer);\n",
              "            downloaded += buffer.byteLength;\n",
              "            progress.value = downloaded;\n",
              "          }\n",
              "        }\n",
              "      }\n",
              "      const blob = new Blob(buffers, {type: 'application/binary'});\n",
              "      const a = document.createElement('a');\n",
              "      a.href = window.URL.createObjectURL(blob);\n",
              "      a.download = filename;\n",
              "      div.appendChild(a);\n",
              "      a.click();\n",
              "      div.remove();\n",
              "    }\n",
              "  "
            ]
          },
          "metadata": {}
        },
        {
          "output_type": "display_data",
          "data": {
            "text/plain": [
              "<IPython.core.display.Javascript object>"
            ],
            "application/javascript": [
              "download(\"download_733e02a7-2e9e-4c34-a01e-51c1b1e3ab82\", \"df_press_all.xlsx\", 5015018)"
            ]
          },
          "metadata": {}
        }
      ],
      "source": [
        "df_press_all.to_excel(\"df_press_all.xlsx\", index = False)\n",
        "files.download(\"df_press_all.xlsx\")"
      ]
    },
    {
      "cell_type": "code",
      "execution_count": null,
      "metadata": {
        "id": "nwwYr3po3UFb"
      },
      "outputs": [],
      "source": [
        "df_tip_all = pandas.DataFrame()"
      ]
    },
    {
      "cell_type": "code",
      "execution_count": null,
      "metadata": {
        "colab": {
          "base_uri": "https://localhost:8080/"
        },
        "id": "wLR0aAG828S0",
        "outputId": "b25cff3c-2ce8-4440-ca1d-76a4cff979c9"
      },
      "outputs": [
        {
          "output_type": "stream",
          "name": "stdout",
          "text": [
            "1 - 2024202420242024202420242024202420242024\n",
            "2 - 2024202420242024202420242024202420242024\n",
            "3 - 2024202420242024202420242024202420242024\n",
            "4 - 2024202420242024202420242024202420242024\n",
            "5 - 2024202420242024202420242024202420242024\n",
            "6 - 2024202420242024202420242024202420242024\n",
            "7 - 2024202420242024202420242024202420242024\n",
            "8 - 2024202420242024202420242024202420242024\n",
            "9 - 2024202420242024202420242024202420242024\n",
            "10 - 2024202420242024202420242024202420242024\n",
            "11 - 2024202420242024202420242024202420242024\n",
            "12 - 2024202420242024202420242024202420242024\n",
            "13 - 2024202420242024202420242024202420242024\n",
            "14 - 2024202420242024202420242024202420242024\n",
            "15 - 2024202420242024202420242024202420242024\n",
            "16 - 2024202420242024202420242024202420242024\n",
            "17 - 2024202420242024202420242024202420242024\n",
            "18 - 2024202420242024202420242024202420242024\n",
            "28 - 2024202420242024202420242024202420242024\n",
            "29 - 2024202420242024202420242024202420242024\n",
            "30 - 2024202420242024202420242024202420242024\n"
          ]
        },
        {
          "output_type": "stream",
          "name": "stderr",
          "text": [
            "<ipython-input-14-6c6ade6b922e>:9: FutureWarning: The behavior of DataFrame concatenation with empty or all-NA entries is deprecated. In a future version, this will no longer exclude empty or all-NA columns when determining the result dtypes. To retain the old behavior, exclude the relevant entries before the concat operation.\n",
            "  df_tip_all = pandas.concat([df_tip_all, df_summary], axis = 0)\n"
          ]
        },
        {
          "output_type": "stream",
          "name": "stdout",
          "text": [
            "32 - 2024202420242024202420242024202420242024\n",
            "1 - 2023202320232023202320232023202320232023\n",
            "2 - 2023202320232023202320232023202320232023\n",
            "3 - 2023202320232023202320232023202320232023\n",
            "4 - 2023202320232023202320232023202320232023\n",
            "5 - 2023202320232023202320232023202320232023\n",
            "6 - 2023202320232023202320232023202320232023\n",
            "7 - 2023202320232023202320232023202320232023\n",
            "8 - 2023202320232023202320232023202320232023\n",
            "9 - 2023202320232023202320232023202320232023\n",
            "10 - 2023202320232023202320232023202320232023\n",
            "11 - 2023202320232023202320232023202320232023\n",
            "12 - 2023202320232023202320232023202320232023\n",
            "13 - 2023202320232023202320232023202320232023\n",
            "14 - 2023202320232023202320232023202320232023\n",
            "15 - 2023202320232023202320232023202320232023\n",
            "16 - 2023202320232023202320232023202320232023\n",
            "17 - 2023202320232023202320232023202320232023\n",
            "18 - 2023202320232023202320232023202320232023\n",
            "28 - 2023202320232023202320232023202320232023\n"
          ]
        },
        {
          "output_type": "stream",
          "name": "stderr",
          "text": [
            "<ipython-input-14-6c6ade6b922e>:9: FutureWarning: The behavior of DataFrame concatenation with empty or all-NA entries is deprecated. In a future version, this will no longer exclude empty or all-NA columns when determining the result dtypes. To retain the old behavior, exclude the relevant entries before the concat operation.\n",
            "  df_tip_all = pandas.concat([df_tip_all, df_summary], axis = 0)\n"
          ]
        },
        {
          "output_type": "stream",
          "name": "stdout",
          "text": [
            "29 - 2023202320232023202320232023202320232023\n",
            "30 - 2023202320232023202320232023202320232023\n",
            "32 - 2023202320232023202320232023202320232023\n",
            "1 - 2022202220222022202220222022202220222022\n",
            "2 - 2022202220222022202220222022202220222022\n",
            "3 - 2022202220222022202220222022202220222022\n",
            "4 - 2022202220222022202220222022202220222022\n",
            "5 - 2022202220222022202220222022202220222022\n",
            "6 - 2022202220222022202220222022202220222022\n",
            "7 - 2022202220222022202220222022202220222022\n",
            "8 - 2022202220222022202220222022202220222022\n",
            "9 - 2022202220222022202220222022202220222022\n",
            "10 - 2022202220222022202220222022202220222022\n",
            "11 - 2022202220222022202220222022202220222022\n",
            "12 - 2022202220222022202220222022202220222022\n",
            "13 - 2022202220222022202220222022202220222022\n",
            "14 - 2022202220222022202220222022202220222022\n",
            "15 - 2022202220222022202220222022202220222022\n",
            "16 - 2022202220222022202220222022202220222022\n",
            "17 - 2022202220222022202220222022202220222022\n",
            "18 - 2022202220222022202220222022202220222022\n",
            "28 - 2022202220222022202220222022202220222022\n"
          ]
        },
        {
          "output_type": "stream",
          "name": "stderr",
          "text": [
            "<ipython-input-14-6c6ade6b922e>:9: FutureWarning: The behavior of DataFrame concatenation with empty or all-NA entries is deprecated. In a future version, this will no longer exclude empty or all-NA columns when determining the result dtypes. To retain the old behavior, exclude the relevant entries before the concat operation.\n",
            "  df_tip_all = pandas.concat([df_tip_all, df_summary], axis = 0)\n"
          ]
        },
        {
          "output_type": "stream",
          "name": "stdout",
          "text": [
            "29 - 2022202220222022202220222022202220222022\n",
            "30 - 2022202220222022202220222022202220222022\n"
          ]
        },
        {
          "output_type": "stream",
          "name": "stderr",
          "text": [
            "<ipython-input-14-6c6ade6b922e>:9: FutureWarning: The behavior of DataFrame concatenation with empty or all-NA entries is deprecated. In a future version, this will no longer exclude empty or all-NA columns when determining the result dtypes. To retain the old behavior, exclude the relevant entries before the concat operation.\n",
            "  df_tip_all = pandas.concat([df_tip_all, df_summary], axis = 0)\n"
          ]
        },
        {
          "output_type": "stream",
          "name": "stdout",
          "text": [
            "32 - 2022202220222022202220222022202220222022\n",
            "1 - 2021202120212021202120212021202120212021\n",
            "2 - 2021202120212021202120212021202120212021\n",
            "3 - 2021202120212021202120212021202120212021\n",
            "4 - 2021202120212021202120212021202120212021\n",
            "5 - 2021202120212021202120212021202120212021\n",
            "6 - 2021202120212021202120212021202120212021\n",
            "7 - 2021202120212021202120212021202120212021\n",
            "8 - 2021202120212021202120212021202120212021\n",
            "9 - 2021202120212021202120212021202120212021\n",
            "10 - 2021202120212021202120212021202120212021\n",
            "11 - 2021202120212021202120212021202120212021\n",
            "12 - 2021202120212021202120212021202120212021\n",
            "13 - 2021202120212021202120212021202120212021\n",
            "14 - 2021202120212021202120212021202120212021\n",
            "15 - 2021202120212021202120212021202120212021\n",
            "16 - 2021202120212021202120212021202120212021\n",
            "17 - 2021202120212021202120212021202120212021\n",
            "18 - 2021202120212021202120212021202120212021\n",
            "28 - 2021202120212021202120212021202120212021\n",
            "29 - 2021202120212021202120212021202120212021\n"
          ]
        },
        {
          "output_type": "stream",
          "name": "stderr",
          "text": [
            "<ipython-input-14-6c6ade6b922e>:9: FutureWarning: The behavior of DataFrame concatenation with empty or all-NA entries is deprecated. In a future version, this will no longer exclude empty or all-NA columns when determining the result dtypes. To retain the old behavior, exclude the relevant entries before the concat operation.\n",
            "  df_tip_all = pandas.concat([df_tip_all, df_summary], axis = 0)\n"
          ]
        },
        {
          "output_type": "stream",
          "name": "stdout",
          "text": [
            "30 - 2021202120212021202120212021202120212021\n"
          ]
        },
        {
          "output_type": "stream",
          "name": "stderr",
          "text": [
            "<ipython-input-14-6c6ade6b922e>:9: FutureWarning: The behavior of DataFrame concatenation with empty or all-NA entries is deprecated. In a future version, this will no longer exclude empty or all-NA columns when determining the result dtypes. To retain the old behavior, exclude the relevant entries before the concat operation.\n",
            "  df_tip_all = pandas.concat([df_tip_all, df_summary], axis = 0)\n"
          ]
        },
        {
          "output_type": "stream",
          "name": "stdout",
          "text": [
            "32 - 2021202120212021202120212021202120212021\n",
            "1 - 2020202020202020202020202020202020202020\n",
            "2 - 2020202020202020202020202020202020202020\n",
            "3 - 2020202020202020202020202020202020202020\n",
            "4 - 2020202020202020202020202020202020202020\n",
            "5 - 2020202020202020202020202020202020202020\n",
            "6 - 2020202020202020202020202020202020202020\n",
            "7 - 2020202020202020202020202020202020202020\n",
            "8 - 2020202020202020202020202020202020202020\n",
            "9 - 2020202020202020202020202020202020202020\n",
            "10 - 2020202020202020202020202020202020202020\n",
            "11 - 2020202020202020202020202020202020202020\n",
            "12 - 2020202020202020202020202020202020202020\n",
            "13 - 2020202020202020202020202020202020202020\n",
            "14 - 2020202020202020202020202020202020202020\n",
            "15 - 2020202020202020202020202020202020202020\n",
            "16 - 2020202020202020202020202020202020202020\n",
            "17 - 2020202020202020202020202020202020202020\n",
            "18 - 2020202020202020202020202020202020202020\n"
          ]
        },
        {
          "output_type": "stream",
          "name": "stderr",
          "text": [
            "<ipython-input-14-6c6ade6b922e>:9: FutureWarning: The behavior of DataFrame concatenation with empty or all-NA entries is deprecated. In a future version, this will no longer exclude empty or all-NA columns when determining the result dtypes. To retain the old behavior, exclude the relevant entries before the concat operation.\n",
            "  df_tip_all = pandas.concat([df_tip_all, df_summary], axis = 0)\n"
          ]
        },
        {
          "output_type": "stream",
          "name": "stdout",
          "text": [
            "28 - 2020202020202020202020202020202020202020\n",
            "29 - 2020202020202020202020202020202020202020\n",
            "30 - 2020202020202020202020202020202020202020\n"
          ]
        },
        {
          "output_type": "stream",
          "name": "stderr",
          "text": [
            "<ipython-input-14-6c6ade6b922e>:9: FutureWarning: The behavior of DataFrame concatenation with empty or all-NA entries is deprecated. In a future version, this will no longer exclude empty or all-NA columns when determining the result dtypes. To retain the old behavior, exclude the relevant entries before the concat operation.\n",
            "  df_tip_all = pandas.concat([df_tip_all, df_summary], axis = 0)\n"
          ]
        },
        {
          "output_type": "stream",
          "name": "stdout",
          "text": [
            "32 - 2020202020202020202020202020202020202020\n",
            "1 - 2019201920192019201920192019201920192019\n",
            "2 - 2019201920192019201920192019201920192019\n",
            "3 - 2019201920192019201920192019201920192019\n",
            "4 - 2019201920192019201920192019201920192019\n",
            "5 - 2019201920192019201920192019201920192019\n",
            "6 - 2019201920192019201920192019201920192019\n",
            "7 - 2019201920192019201920192019201920192019\n",
            "8 - 2019201920192019201920192019201920192019\n",
            "9 - 2019201920192019201920192019201920192019\n",
            "10 - 2019201920192019201920192019201920192019\n",
            "11 - 2019201920192019201920192019201920192019\n",
            "12 - 2019201920192019201920192019201920192019\n",
            "13 - 2019201920192019201920192019201920192019\n",
            "14 - 2019201920192019201920192019201920192019\n",
            "15 - 2019201920192019201920192019201920192019\n",
            "16 - 2019201920192019201920192019201920192019\n",
            "17 - 2019201920192019201920192019201920192019\n",
            "18 - 2019201920192019201920192019201920192019\n",
            "28 - 2019201920192019201920192019201920192019\n",
            "29 - 2019201920192019201920192019201920192019\n",
            "30 - 2019201920192019201920192019201920192019\n"
          ]
        },
        {
          "output_type": "stream",
          "name": "stderr",
          "text": [
            "<ipython-input-14-6c6ade6b922e>:9: FutureWarning: The behavior of DataFrame concatenation with empty or all-NA entries is deprecated. In a future version, this will no longer exclude empty or all-NA columns when determining the result dtypes. To retain the old behavior, exclude the relevant entries before the concat operation.\n",
            "  df_tip_all = pandas.concat([df_tip_all, df_summary], axis = 0)\n"
          ]
        },
        {
          "output_type": "stream",
          "name": "stdout",
          "text": [
            "32 - 2019201920192019201920192019201920192019\n",
            "1 - 2018201820182018201820182018201820182018\n",
            "2 - 2018201820182018201820182018201820182018\n",
            "3 - 2018201820182018201820182018201820182018\n",
            "4 - 2018201820182018201820182018201820182018\n",
            "5 - 2018201820182018201820182018201820182018\n",
            "6 - 2018201820182018201820182018201820182018\n",
            "7 - 2018201820182018201820182018201820182018\n",
            "8 - 2018201820182018201820182018201820182018\n",
            "9 - 2018201820182018201820182018201820182018\n",
            "10 - 2018201820182018201820182018201820182018\n",
            "11 - 2018201820182018201820182018201820182018\n",
            "12 - 2018201820182018201820182018201820182018\n",
            "13 - 2018201820182018201820182018201820182018\n",
            "14 - 2018201820182018201820182018201820182018\n",
            "15 - 2018201820182018201820182018201820182018\n",
            "16 - 2018201820182018201820182018201820182018\n",
            "17 - 2018201820182018201820182018201820182018\n",
            "18 - 2018201820182018201820182018201820182018\n"
          ]
        },
        {
          "output_type": "stream",
          "name": "stderr",
          "text": [
            "<ipython-input-14-6c6ade6b922e>:9: FutureWarning: The behavior of DataFrame concatenation with empty or all-NA entries is deprecated. In a future version, this will no longer exclude empty or all-NA columns when determining the result dtypes. To retain the old behavior, exclude the relevant entries before the concat operation.\n",
            "  df_tip_all = pandas.concat([df_tip_all, df_summary], axis = 0)\n"
          ]
        },
        {
          "output_type": "stream",
          "name": "stdout",
          "text": [
            "28 - 2018201820182018201820182018201820182018\n",
            "29 - 2018201820182018201820182018201820182018\n",
            "30 - 2018201820182018201820182018201820182018\n"
          ]
        },
        {
          "output_type": "stream",
          "name": "stderr",
          "text": [
            "<ipython-input-14-6c6ade6b922e>:9: FutureWarning: The behavior of DataFrame concatenation with empty or all-NA entries is deprecated. In a future version, this will no longer exclude empty or all-NA columns when determining the result dtypes. To retain the old behavior, exclude the relevant entries before the concat operation.\n",
            "  df_tip_all = pandas.concat([df_tip_all, df_summary], axis = 0)\n"
          ]
        },
        {
          "output_type": "stream",
          "name": "stdout",
          "text": [
            "32 - 2018201820182018201820182018201820182018\n",
            "1 - 2017201720172017201720172017201720172017\n",
            "2 - 2017201720172017201720172017201720172017\n",
            "3 - 2017201720172017201720172017201720172017\n",
            "4 - 2017201720172017201720172017201720172017\n",
            "5 - 2017201720172017201720172017201720172017\n",
            "6 - 2017201720172017201720172017201720172017\n",
            "7 - 2017201720172017201720172017201720172017\n",
            "8 - 2017201720172017201720172017201720172017\n",
            "9 - 2017201720172017201720172017201720172017\n",
            "10 - 2017201720172017201720172017201720172017\n",
            "11 - 2017201720172017201720172017201720172017\n",
            "12 - 2017201720172017201720172017201720172017\n",
            "13 - 2017201720172017201720172017201720172017\n",
            "14 - 2017201720172017201720172017201720172017\n",
            "15 - 2017201720172017201720172017201720172017\n",
            "16 - 2017201720172017201720172017201720172017\n",
            "17 - 2017201720172017201720172017201720172017\n",
            "18 - 2017201720172017201720172017201720172017\n",
            "28 - 2017201720172017201720172017201720172017\n",
            "29 - 2017201720172017201720172017201720172017\n",
            "30 - 2017201720172017201720172017201720172017\n",
            "32 - 2017201720172017201720172017201720172017\n",
            "1 - 2016201620162016201620162016201620162016\n",
            "2 - 2016201620162016201620162016201620162016\n",
            "3 - 2016201620162016201620162016201620162016\n",
            "4 - 2016201620162016201620162016201620162016\n",
            "5 - 2016201620162016201620162016201620162016\n",
            "6 - 2016201620162016201620162016201620162016\n",
            "7 - 2016201620162016201620162016201620162016\n",
            "8 - 2016201620162016201620162016201620162016\n",
            "9 - 2016201620162016201620162016201620162016\n",
            "10 - 2016201620162016201620162016201620162016\n",
            "11 - 2016201620162016201620162016201620162016\n",
            "12 - 2016201620162016201620162016201620162016\n",
            "13 - 2016201620162016201620162016201620162016\n",
            "14 - 2016201620162016201620162016201620162016\n",
            "15 - 2016201620162016201620162016201620162016\n",
            "16 - 2016201620162016201620162016201620162016\n",
            "17 - 2016201620162016201620162016201620162016\n",
            "18 - 2016201620162016201620162016201620162016\n",
            "28 - 2016201620162016201620162016201620162016\n"
          ]
        },
        {
          "output_type": "stream",
          "name": "stderr",
          "text": [
            "<ipython-input-14-6c6ade6b922e>:9: FutureWarning: The behavior of DataFrame concatenation with empty or all-NA entries is deprecated. In a future version, this will no longer exclude empty or all-NA columns when determining the result dtypes. To retain the old behavior, exclude the relevant entries before the concat operation.\n",
            "  df_tip_all = pandas.concat([df_tip_all, df_summary], axis = 0)\n"
          ]
        },
        {
          "output_type": "stream",
          "name": "stdout",
          "text": [
            "29 - 2016201620162016201620162016201620162016\n",
            "30 - 2016201620162016201620162016201620162016\n",
            "32 - 2016201620162016201620162016201620162016\n"
          ]
        }
      ],
      "source": [
        "#years = [2024, 2023, 2022, 2021, 2020, 2019, 2018, 2017, 2016]\n",
        "#weeks = [1,2,3,4,5,6,7,8,9,10,11,12,13,14,15,16,17,18,28,29,30,32]\n",
        "for year in years:\n",
        "    for week in weeks:\n",
        "      summary = requests.get(rf'https://premium.pff.com/api/v1/facet/signature/passing/time_in_pocket?league=nfl&season={year}&week={week}', cookies = cookies)\n",
        "      df_summary = pandas.DataFrame(summary.json()['time_in_pockets'])\n",
        "      df_summary[\"Week\"] = week\n",
        "      df_summary[\"Season\"] = year\n",
        "      df_tip_all = pandas.concat([df_tip_all, df_summary], axis = 0)\n",
        "      print(str(week) + \" - \" + str(year)*10)\n",
        "\n",
        "# THIS IS FOR PASSING TIME IN POCKET - 2016-2022"
      ]
    },
    {
      "cell_type": "code",
      "execution_count": null,
      "metadata": {
        "id": "LFUPZnLF_HyR",
        "colab": {
          "base_uri": "https://localhost:8080/",
          "height": 17
        },
        "outputId": "8b3103b2-7a6b-4bdc-d963-0f2f4c41bbbe"
      },
      "outputs": [
        {
          "output_type": "display_data",
          "data": {
            "text/plain": [
              "<IPython.core.display.Javascript object>"
            ],
            "application/javascript": [
              "\n",
              "    async function download(id, filename, size) {\n",
              "      if (!google.colab.kernel.accessAllowed) {\n",
              "        return;\n",
              "      }\n",
              "      const div = document.createElement('div');\n",
              "      const label = document.createElement('label');\n",
              "      label.textContent = `Downloading \"${filename}\": `;\n",
              "      div.appendChild(label);\n",
              "      const progress = document.createElement('progress');\n",
              "      progress.max = size;\n",
              "      div.appendChild(progress);\n",
              "      document.body.appendChild(div);\n",
              "\n",
              "      const buffers = [];\n",
              "      let downloaded = 0;\n",
              "\n",
              "      const channel = await google.colab.kernel.comms.open(id);\n",
              "      // Send a message to notify the kernel that we're ready.\n",
              "      channel.send({})\n",
              "\n",
              "      for await (const message of channel.messages) {\n",
              "        // Send a message to notify the kernel that we're ready.\n",
              "        channel.send({})\n",
              "        if (message.buffers) {\n",
              "          for (const buffer of message.buffers) {\n",
              "            buffers.push(buffer);\n",
              "            downloaded += buffer.byteLength;\n",
              "            progress.value = downloaded;\n",
              "          }\n",
              "        }\n",
              "      }\n",
              "      const blob = new Blob(buffers, {type: 'application/binary'});\n",
              "      const a = document.createElement('a');\n",
              "      a.href = window.URL.createObjectURL(blob);\n",
              "      a.download = filename;\n",
              "      div.appendChild(a);\n",
              "      a.click();\n",
              "      div.remove();\n",
              "    }\n",
              "  "
            ]
          },
          "metadata": {}
        },
        {
          "output_type": "display_data",
          "data": {
            "text/plain": [
              "<IPython.core.display.Javascript object>"
            ],
            "application/javascript": [
              "download(\"download_631d4993-7faa-4428-95da-0e1688b32cfe\", \"df_time_in_pocket_all.xlsx\", 2831105)"
            ]
          },
          "metadata": {}
        }
      ],
      "source": [
        "df_tip_all.to_excel(\"df_time_in_pocket_all.xlsx\", index = False)\n",
        "files.download(\"df_time_in_pocket_all.xlsx\")"
      ]
    },
    {
      "cell_type": "code",
      "execution_count": null,
      "metadata": {
        "id": "QxZ_7plHDLct"
      },
      "outputs": [],
      "source": [
        "df_depth_all = pandas.DataFrame()"
      ]
    },
    {
      "cell_type": "code",
      "execution_count": null,
      "metadata": {
        "colab": {
          "base_uri": "https://localhost:8080/"
        },
        "id": "PUATdrJCDNzH",
        "outputId": "ca7845f1-1864-4523-8757-4185a9ec6f3a"
      },
      "outputs": [
        {
          "output_type": "stream",
          "name": "stdout",
          "text": [
            "1 - 2024202420242024202420242024202420242024\n",
            "2 - 2024202420242024202420242024202420242024\n",
            "3 - 2024202420242024202420242024202420242024\n",
            "4 - 2024202420242024202420242024202420242024\n",
            "5 - 2024202420242024202420242024202420242024\n",
            "6 - 2024202420242024202420242024202420242024\n",
            "7 - 2024202420242024202420242024202420242024\n",
            "8 - 2024202420242024202420242024202420242024\n",
            "9 - 2024202420242024202420242024202420242024\n",
            "10 - 2024202420242024202420242024202420242024\n",
            "11 - 2024202420242024202420242024202420242024\n",
            "12 - 2024202420242024202420242024202420242024\n",
            "13 - 2024202420242024202420242024202420242024\n",
            "14 - 2024202420242024202420242024202420242024\n",
            "15 - 2024202420242024202420242024202420242024\n",
            "16 - 2024202420242024202420242024202420242024\n",
            "17 - 2024202420242024202420242024202420242024\n",
            "18 - 2024202420242024202420242024202420242024\n",
            "28 - 2024202420242024202420242024202420242024\n",
            "29 - 2024202420242024202420242024202420242024\n"
          ]
        },
        {
          "output_type": "stream",
          "name": "stderr",
          "text": [
            "<ipython-input-17-4335b1508f2c>:9: FutureWarning: The behavior of DataFrame concatenation with empty or all-NA entries is deprecated. In a future version, this will no longer exclude empty or all-NA columns when determining the result dtypes. To retain the old behavior, exclude the relevant entries before the concat operation.\n",
            "  df_depth_all = pandas.concat([df_depth_all, df_summary], axis = 0)\n"
          ]
        },
        {
          "output_type": "stream",
          "name": "stdout",
          "text": [
            "30 - 2024202420242024202420242024202420242024\n"
          ]
        },
        {
          "output_type": "stream",
          "name": "stderr",
          "text": [
            "<ipython-input-17-4335b1508f2c>:9: FutureWarning: The behavior of DataFrame concatenation with empty or all-NA entries is deprecated. In a future version, this will no longer exclude empty or all-NA columns when determining the result dtypes. To retain the old behavior, exclude the relevant entries before the concat operation.\n",
            "  df_depth_all = pandas.concat([df_depth_all, df_summary], axis = 0)\n"
          ]
        },
        {
          "output_type": "stream",
          "name": "stdout",
          "text": [
            "32 - 2024202420242024202420242024202420242024\n",
            "1 - 2023202320232023202320232023202320232023\n",
            "2 - 2023202320232023202320232023202320232023\n",
            "3 - 2023202320232023202320232023202320232023\n",
            "4 - 2023202320232023202320232023202320232023\n",
            "5 - 2023202320232023202320232023202320232023\n",
            "6 - 2023202320232023202320232023202320232023\n",
            "7 - 2023202320232023202320232023202320232023\n",
            "8 - 2023202320232023202320232023202320232023\n",
            "9 - 2023202320232023202320232023202320232023\n",
            "10 - 2023202320232023202320232023202320232023\n",
            "11 - 2023202320232023202320232023202320232023\n",
            "12 - 2023202320232023202320232023202320232023\n",
            "13 - 2023202320232023202320232023202320232023\n",
            "14 - 2023202320232023202320232023202320232023\n",
            "15 - 2023202320232023202320232023202320232023\n",
            "16 - 2023202320232023202320232023202320232023\n",
            "17 - 2023202320232023202320232023202320232023\n",
            "18 - 2023202320232023202320232023202320232023\n",
            "28 - 2023202320232023202320232023202320232023\n",
            "29 - 2023202320232023202320232023202320232023\n"
          ]
        },
        {
          "output_type": "stream",
          "name": "stderr",
          "text": [
            "<ipython-input-17-4335b1508f2c>:9: FutureWarning: The behavior of DataFrame concatenation with empty or all-NA entries is deprecated. In a future version, this will no longer exclude empty or all-NA columns when determining the result dtypes. To retain the old behavior, exclude the relevant entries before the concat operation.\n",
            "  df_depth_all = pandas.concat([df_depth_all, df_summary], axis = 0)\n"
          ]
        },
        {
          "output_type": "stream",
          "name": "stdout",
          "text": [
            "30 - 2023202320232023202320232023202320232023\n"
          ]
        },
        {
          "output_type": "stream",
          "name": "stderr",
          "text": [
            "<ipython-input-17-4335b1508f2c>:9: FutureWarning: The behavior of DataFrame concatenation with empty or all-NA entries is deprecated. In a future version, this will no longer exclude empty or all-NA columns when determining the result dtypes. To retain the old behavior, exclude the relevant entries before the concat operation.\n",
            "  df_depth_all = pandas.concat([df_depth_all, df_summary], axis = 0)\n"
          ]
        },
        {
          "output_type": "stream",
          "name": "stdout",
          "text": [
            "32 - 2023202320232023202320232023202320232023\n",
            "1 - 2022202220222022202220222022202220222022\n",
            "2 - 2022202220222022202220222022202220222022\n",
            "3 - 2022202220222022202220222022202220222022\n",
            "4 - 2022202220222022202220222022202220222022\n",
            "5 - 2022202220222022202220222022202220222022\n",
            "6 - 2022202220222022202220222022202220222022\n",
            "7 - 2022202220222022202220222022202220222022\n",
            "8 - 2022202220222022202220222022202220222022\n",
            "9 - 2022202220222022202220222022202220222022\n",
            "10 - 2022202220222022202220222022202220222022\n",
            "11 - 2022202220222022202220222022202220222022\n",
            "12 - 2022202220222022202220222022202220222022\n",
            "13 - 2022202220222022202220222022202220222022\n",
            "14 - 2022202220222022202220222022202220222022\n"
          ]
        },
        {
          "output_type": "stream",
          "name": "stderr",
          "text": [
            "<ipython-input-17-4335b1508f2c>:9: FutureWarning: The behavior of DataFrame concatenation with empty or all-NA entries is deprecated. In a future version, this will no longer exclude empty or all-NA columns when determining the result dtypes. To retain the old behavior, exclude the relevant entries before the concat operation.\n",
            "  df_depth_all = pandas.concat([df_depth_all, df_summary], axis = 0)\n"
          ]
        },
        {
          "output_type": "stream",
          "name": "stdout",
          "text": [
            "15 - 2022202220222022202220222022202220222022\n",
            "16 - 2022202220222022202220222022202220222022\n",
            "17 - 2022202220222022202220222022202220222022\n",
            "18 - 2022202220222022202220222022202220222022\n",
            "28 - 2022202220222022202220222022202220222022\n",
            "29 - 2022202220222022202220222022202220222022\n"
          ]
        },
        {
          "output_type": "stream",
          "name": "stderr",
          "text": [
            "<ipython-input-17-4335b1508f2c>:9: FutureWarning: The behavior of DataFrame concatenation with empty or all-NA entries is deprecated. In a future version, this will no longer exclude empty or all-NA columns when determining the result dtypes. To retain the old behavior, exclude the relevant entries before the concat operation.\n",
            "  df_depth_all = pandas.concat([df_depth_all, df_summary], axis = 0)\n"
          ]
        },
        {
          "output_type": "stream",
          "name": "stdout",
          "text": [
            "30 - 2022202220222022202220222022202220222022\n"
          ]
        },
        {
          "output_type": "stream",
          "name": "stderr",
          "text": [
            "<ipython-input-17-4335b1508f2c>:9: FutureWarning: The behavior of DataFrame concatenation with empty or all-NA entries is deprecated. In a future version, this will no longer exclude empty or all-NA columns when determining the result dtypes. To retain the old behavior, exclude the relevant entries before the concat operation.\n",
            "  df_depth_all = pandas.concat([df_depth_all, df_summary], axis = 0)\n"
          ]
        },
        {
          "output_type": "stream",
          "name": "stdout",
          "text": [
            "32 - 2022202220222022202220222022202220222022\n",
            "1 - 2021202120212021202120212021202120212021\n",
            "2 - 2021202120212021202120212021202120212021\n",
            "3 - 2021202120212021202120212021202120212021\n",
            "4 - 2021202120212021202120212021202120212021\n",
            "5 - 2021202120212021202120212021202120212021\n",
            "6 - 2021202120212021202120212021202120212021\n",
            "7 - 2021202120212021202120212021202120212021\n",
            "8 - 2021202120212021202120212021202120212021\n",
            "9 - 2021202120212021202120212021202120212021\n",
            "10 - 2021202120212021202120212021202120212021\n",
            "11 - 2021202120212021202120212021202120212021\n",
            "12 - 2021202120212021202120212021202120212021\n",
            "13 - 2021202120212021202120212021202120212021\n",
            "14 - 2021202120212021202120212021202120212021\n",
            "15 - 2021202120212021202120212021202120212021\n",
            "16 - 2021202120212021202120212021202120212021\n",
            "17 - 2021202120212021202120212021202120212021\n",
            "18 - 2021202120212021202120212021202120212021\n",
            "28 - 2021202120212021202120212021202120212021\n",
            "29 - 2021202120212021202120212021202120212021\n"
          ]
        },
        {
          "output_type": "stream",
          "name": "stderr",
          "text": [
            "<ipython-input-17-4335b1508f2c>:9: FutureWarning: The behavior of DataFrame concatenation with empty or all-NA entries is deprecated. In a future version, this will no longer exclude empty or all-NA columns when determining the result dtypes. To retain the old behavior, exclude the relevant entries before the concat operation.\n",
            "  df_depth_all = pandas.concat([df_depth_all, df_summary], axis = 0)\n"
          ]
        },
        {
          "output_type": "stream",
          "name": "stdout",
          "text": [
            "30 - 2021202120212021202120212021202120212021\n"
          ]
        },
        {
          "output_type": "stream",
          "name": "stderr",
          "text": [
            "<ipython-input-17-4335b1508f2c>:9: FutureWarning: The behavior of DataFrame concatenation with empty or all-NA entries is deprecated. In a future version, this will no longer exclude empty or all-NA columns when determining the result dtypes. To retain the old behavior, exclude the relevant entries before the concat operation.\n",
            "  df_depth_all = pandas.concat([df_depth_all, df_summary], axis = 0)\n"
          ]
        },
        {
          "output_type": "stream",
          "name": "stdout",
          "text": [
            "32 - 2021202120212021202120212021202120212021\n",
            "1 - 2020202020202020202020202020202020202020\n",
            "2 - 2020202020202020202020202020202020202020\n",
            "3 - 2020202020202020202020202020202020202020\n",
            "4 - 2020202020202020202020202020202020202020\n",
            "5 - 2020202020202020202020202020202020202020\n",
            "6 - 2020202020202020202020202020202020202020\n",
            "7 - 2020202020202020202020202020202020202020\n",
            "8 - 2020202020202020202020202020202020202020\n",
            "9 - 2020202020202020202020202020202020202020\n",
            "10 - 2020202020202020202020202020202020202020\n",
            "11 - 2020202020202020202020202020202020202020\n",
            "12 - 2020202020202020202020202020202020202020\n",
            "13 - 2020202020202020202020202020202020202020\n",
            "14 - 2020202020202020202020202020202020202020\n",
            "15 - 2020202020202020202020202020202020202020\n",
            "16 - 2020202020202020202020202020202020202020\n",
            "17 - 2020202020202020202020202020202020202020\n",
            "18 - 2020202020202020202020202020202020202020\n",
            "28 - 2020202020202020202020202020202020202020\n"
          ]
        },
        {
          "output_type": "stream",
          "name": "stderr",
          "text": [
            "<ipython-input-17-4335b1508f2c>:9: FutureWarning: The behavior of DataFrame concatenation with empty or all-NA entries is deprecated. In a future version, this will no longer exclude empty or all-NA columns when determining the result dtypes. To retain the old behavior, exclude the relevant entries before the concat operation.\n",
            "  df_depth_all = pandas.concat([df_depth_all, df_summary], axis = 0)\n"
          ]
        },
        {
          "output_type": "stream",
          "name": "stdout",
          "text": [
            "29 - 2020202020202020202020202020202020202020\n"
          ]
        },
        {
          "output_type": "stream",
          "name": "stderr",
          "text": [
            "<ipython-input-17-4335b1508f2c>:9: FutureWarning: The behavior of DataFrame concatenation with empty or all-NA entries is deprecated. In a future version, this will no longer exclude empty or all-NA columns when determining the result dtypes. To retain the old behavior, exclude the relevant entries before the concat operation.\n",
            "  df_depth_all = pandas.concat([df_depth_all, df_summary], axis = 0)\n"
          ]
        },
        {
          "output_type": "stream",
          "name": "stdout",
          "text": [
            "30 - 2020202020202020202020202020202020202020\n"
          ]
        },
        {
          "output_type": "stream",
          "name": "stderr",
          "text": [
            "<ipython-input-17-4335b1508f2c>:9: FutureWarning: The behavior of DataFrame concatenation with empty or all-NA entries is deprecated. In a future version, this will no longer exclude empty or all-NA columns when determining the result dtypes. To retain the old behavior, exclude the relevant entries before the concat operation.\n",
            "  df_depth_all = pandas.concat([df_depth_all, df_summary], axis = 0)\n"
          ]
        },
        {
          "output_type": "stream",
          "name": "stdout",
          "text": [
            "32 - 2020202020202020202020202020202020202020\n",
            "1 - 2019201920192019201920192019201920192019\n",
            "2 - 2019201920192019201920192019201920192019\n",
            "3 - 2019201920192019201920192019201920192019\n",
            "4 - 2019201920192019201920192019201920192019\n",
            "5 - 2019201920192019201920192019201920192019\n",
            "6 - 2019201920192019201920192019201920192019\n"
          ]
        },
        {
          "output_type": "stream",
          "name": "stderr",
          "text": [
            "<ipython-input-17-4335b1508f2c>:9: FutureWarning: The behavior of DataFrame concatenation with empty or all-NA entries is deprecated. In a future version, this will no longer exclude empty or all-NA columns when determining the result dtypes. To retain the old behavior, exclude the relevant entries before the concat operation.\n",
            "  df_depth_all = pandas.concat([df_depth_all, df_summary], axis = 0)\n"
          ]
        },
        {
          "output_type": "stream",
          "name": "stdout",
          "text": [
            "7 - 2019201920192019201920192019201920192019\n",
            "8 - 2019201920192019201920192019201920192019\n",
            "9 - 2019201920192019201920192019201920192019\n",
            "10 - 2019201920192019201920192019201920192019\n",
            "11 - 2019201920192019201920192019201920192019\n",
            "12 - 2019201920192019201920192019201920192019\n",
            "13 - 2019201920192019201920192019201920192019\n",
            "14 - 2019201920192019201920192019201920192019\n",
            "15 - 2019201920192019201920192019201920192019\n",
            "16 - 2019201920192019201920192019201920192019\n",
            "17 - 2019201920192019201920192019201920192019\n",
            "18 - 2019201920192019201920192019201920192019\n",
            "28 - 2019201920192019201920192019201920192019\n",
            "29 - 2019201920192019201920192019201920192019\n"
          ]
        },
        {
          "output_type": "stream",
          "name": "stderr",
          "text": [
            "<ipython-input-17-4335b1508f2c>:9: FutureWarning: The behavior of DataFrame concatenation with empty or all-NA entries is deprecated. In a future version, this will no longer exclude empty or all-NA columns when determining the result dtypes. To retain the old behavior, exclude the relevant entries before the concat operation.\n",
            "  df_depth_all = pandas.concat([df_depth_all, df_summary], axis = 0)\n"
          ]
        },
        {
          "output_type": "stream",
          "name": "stdout",
          "text": [
            "30 - 2019201920192019201920192019201920192019\n"
          ]
        },
        {
          "output_type": "stream",
          "name": "stderr",
          "text": [
            "<ipython-input-17-4335b1508f2c>:9: FutureWarning: The behavior of DataFrame concatenation with empty or all-NA entries is deprecated. In a future version, this will no longer exclude empty or all-NA columns when determining the result dtypes. To retain the old behavior, exclude the relevant entries before the concat operation.\n",
            "  df_depth_all = pandas.concat([df_depth_all, df_summary], axis = 0)\n"
          ]
        },
        {
          "output_type": "stream",
          "name": "stdout",
          "text": [
            "32 - 2019201920192019201920192019201920192019\n",
            "1 - 2018201820182018201820182018201820182018\n",
            "2 - 2018201820182018201820182018201820182018\n",
            "3 - 2018201820182018201820182018201820182018\n",
            "4 - 2018201820182018201820182018201820182018\n",
            "5 - 2018201820182018201820182018201820182018\n",
            "6 - 2018201820182018201820182018201820182018\n",
            "7 - 2018201820182018201820182018201820182018\n",
            "8 - 2018201820182018201820182018201820182018\n",
            "9 - 2018201820182018201820182018201820182018\n",
            "10 - 2018201820182018201820182018201820182018\n",
            "11 - 2018201820182018201820182018201820182018\n"
          ]
        },
        {
          "output_type": "stream",
          "name": "stderr",
          "text": [
            "<ipython-input-17-4335b1508f2c>:9: FutureWarning: The behavior of DataFrame concatenation with empty or all-NA entries is deprecated. In a future version, this will no longer exclude empty or all-NA columns when determining the result dtypes. To retain the old behavior, exclude the relevant entries before the concat operation.\n",
            "  df_depth_all = pandas.concat([df_depth_all, df_summary], axis = 0)\n"
          ]
        },
        {
          "output_type": "stream",
          "name": "stdout",
          "text": [
            "12 - 2018201820182018201820182018201820182018\n",
            "13 - 2018201820182018201820182018201820182018\n",
            "14 - 2018201820182018201820182018201820182018\n",
            "15 - 2018201820182018201820182018201820182018\n",
            "16 - 2018201820182018201820182018201820182018\n",
            "17 - 2018201820182018201820182018201820182018\n",
            "18 - 2018201820182018201820182018201820182018\n"
          ]
        },
        {
          "output_type": "stream",
          "name": "stderr",
          "text": [
            "<ipython-input-17-4335b1508f2c>:9: FutureWarning: The behavior of DataFrame concatenation with empty or all-NA entries is deprecated. In a future version, this will no longer exclude empty or all-NA columns when determining the result dtypes. To retain the old behavior, exclude the relevant entries before the concat operation.\n",
            "  df_depth_all = pandas.concat([df_depth_all, df_summary], axis = 0)\n"
          ]
        },
        {
          "output_type": "stream",
          "name": "stdout",
          "text": [
            "28 - 2018201820182018201820182018201820182018\n",
            "29 - 2018201820182018201820182018201820182018\n",
            "30 - 2018201820182018201820182018201820182018\n"
          ]
        },
        {
          "output_type": "stream",
          "name": "stderr",
          "text": [
            "<ipython-input-17-4335b1508f2c>:9: FutureWarning: The behavior of DataFrame concatenation with empty or all-NA entries is deprecated. In a future version, this will no longer exclude empty or all-NA columns when determining the result dtypes. To retain the old behavior, exclude the relevant entries before the concat operation.\n",
            "  df_depth_all = pandas.concat([df_depth_all, df_summary], axis = 0)\n"
          ]
        },
        {
          "output_type": "stream",
          "name": "stdout",
          "text": [
            "32 - 2018201820182018201820182018201820182018\n",
            "1 - 2017201720172017201720172017201720172017\n",
            "2 - 2017201720172017201720172017201720172017\n",
            "3 - 2017201720172017201720172017201720172017\n",
            "4 - 2017201720172017201720172017201720172017\n",
            "5 - 2017201720172017201720172017201720172017\n",
            "6 - 2017201720172017201720172017201720172017\n",
            "7 - 2017201720172017201720172017201720172017\n",
            "8 - 2017201720172017201720172017201720172017\n",
            "9 - 2017201720172017201720172017201720172017\n",
            "10 - 2017201720172017201720172017201720172017\n",
            "11 - 2017201720172017201720172017201720172017\n",
            "12 - 2017201720172017201720172017201720172017\n",
            "13 - 2017201720172017201720172017201720172017\n",
            "14 - 2017201720172017201720172017201720172017\n",
            "15 - 2017201720172017201720172017201720172017\n",
            "16 - 2017201720172017201720172017201720172017\n",
            "17 - 2017201720172017201720172017201720172017\n",
            "18 - 2017201720172017201720172017201720172017\n"
          ]
        },
        {
          "output_type": "stream",
          "name": "stderr",
          "text": [
            "<ipython-input-17-4335b1508f2c>:9: FutureWarning: The behavior of DataFrame concatenation with empty or all-NA entries is deprecated. In a future version, this will no longer exclude empty or all-NA columns when determining the result dtypes. To retain the old behavior, exclude the relevant entries before the concat operation.\n",
            "  df_depth_all = pandas.concat([df_depth_all, df_summary], axis = 0)\n"
          ]
        },
        {
          "output_type": "stream",
          "name": "stdout",
          "text": [
            "28 - 2017201720172017201720172017201720172017\n"
          ]
        },
        {
          "output_type": "stream",
          "name": "stderr",
          "text": [
            "<ipython-input-17-4335b1508f2c>:9: FutureWarning: The behavior of DataFrame concatenation with empty or all-NA entries is deprecated. In a future version, this will no longer exclude empty or all-NA columns when determining the result dtypes. To retain the old behavior, exclude the relevant entries before the concat operation.\n",
            "  df_depth_all = pandas.concat([df_depth_all, df_summary], axis = 0)\n"
          ]
        },
        {
          "output_type": "stream",
          "name": "stdout",
          "text": [
            "29 - 2017201720172017201720172017201720172017\n"
          ]
        },
        {
          "output_type": "stream",
          "name": "stderr",
          "text": [
            "<ipython-input-17-4335b1508f2c>:9: FutureWarning: The behavior of DataFrame concatenation with empty or all-NA entries is deprecated. In a future version, this will no longer exclude empty or all-NA columns when determining the result dtypes. To retain the old behavior, exclude the relevant entries before the concat operation.\n",
            "  df_depth_all = pandas.concat([df_depth_all, df_summary], axis = 0)\n"
          ]
        },
        {
          "output_type": "stream",
          "name": "stdout",
          "text": [
            "30 - 2017201720172017201720172017201720172017\n"
          ]
        },
        {
          "output_type": "stream",
          "name": "stderr",
          "text": [
            "<ipython-input-17-4335b1508f2c>:9: FutureWarning: The behavior of DataFrame concatenation with empty or all-NA entries is deprecated. In a future version, this will no longer exclude empty or all-NA columns when determining the result dtypes. To retain the old behavior, exclude the relevant entries before the concat operation.\n",
            "  df_depth_all = pandas.concat([df_depth_all, df_summary], axis = 0)\n"
          ]
        },
        {
          "output_type": "stream",
          "name": "stdout",
          "text": [
            "32 - 2017201720172017201720172017201720172017\n",
            "1 - 2016201620162016201620162016201620162016\n",
            "2 - 2016201620162016201620162016201620162016\n",
            "3 - 2016201620162016201620162016201620162016\n",
            "4 - 2016201620162016201620162016201620162016\n",
            "5 - 2016201620162016201620162016201620162016\n",
            "6 - 2016201620162016201620162016201620162016\n",
            "7 - 2016201620162016201620162016201620162016\n"
          ]
        },
        {
          "output_type": "stream",
          "name": "stderr",
          "text": [
            "<ipython-input-17-4335b1508f2c>:9: FutureWarning: The behavior of DataFrame concatenation with empty or all-NA entries is deprecated. In a future version, this will no longer exclude empty or all-NA columns when determining the result dtypes. To retain the old behavior, exclude the relevant entries before the concat operation.\n",
            "  df_depth_all = pandas.concat([df_depth_all, df_summary], axis = 0)\n"
          ]
        },
        {
          "output_type": "stream",
          "name": "stdout",
          "text": [
            "8 - 2016201620162016201620162016201620162016\n",
            "9 - 2016201620162016201620162016201620162016\n",
            "10 - 2016201620162016201620162016201620162016\n",
            "11 - 2016201620162016201620162016201620162016\n",
            "12 - 2016201620162016201620162016201620162016\n",
            "13 - 2016201620162016201620162016201620162016\n",
            "14 - 2016201620162016201620162016201620162016\n",
            "15 - 2016201620162016201620162016201620162016\n",
            "16 - 2016201620162016201620162016201620162016\n",
            "17 - 2016201620162016201620162016201620162016\n",
            "18 - 2016201620162016201620162016201620162016\n"
          ]
        },
        {
          "output_type": "stream",
          "name": "stderr",
          "text": [
            "<ipython-input-17-4335b1508f2c>:9: FutureWarning: The behavior of DataFrame concatenation with empty or all-NA entries is deprecated. In a future version, this will no longer exclude empty or all-NA columns when determining the result dtypes. To retain the old behavior, exclude the relevant entries before the concat operation.\n",
            "  df_depth_all = pandas.concat([df_depth_all, df_summary], axis = 0)\n"
          ]
        },
        {
          "output_type": "stream",
          "name": "stdout",
          "text": [
            "28 - 2016201620162016201620162016201620162016\n"
          ]
        },
        {
          "output_type": "stream",
          "name": "stderr",
          "text": [
            "<ipython-input-17-4335b1508f2c>:9: FutureWarning: The behavior of DataFrame concatenation with empty or all-NA entries is deprecated. In a future version, this will no longer exclude empty or all-NA columns when determining the result dtypes. To retain the old behavior, exclude the relevant entries before the concat operation.\n",
            "  df_depth_all = pandas.concat([df_depth_all, df_summary], axis = 0)\n"
          ]
        },
        {
          "output_type": "stream",
          "name": "stdout",
          "text": [
            "29 - 2016201620162016201620162016201620162016\n"
          ]
        },
        {
          "output_type": "stream",
          "name": "stderr",
          "text": [
            "<ipython-input-17-4335b1508f2c>:9: FutureWarning: The behavior of DataFrame concatenation with empty or all-NA entries is deprecated. In a future version, this will no longer exclude empty or all-NA columns when determining the result dtypes. To retain the old behavior, exclude the relevant entries before the concat operation.\n",
            "  df_depth_all = pandas.concat([df_depth_all, df_summary], axis = 0)\n"
          ]
        },
        {
          "output_type": "stream",
          "name": "stdout",
          "text": [
            "30 - 2016201620162016201620162016201620162016\n",
            "32 - 2016201620162016201620162016201620162016\n"
          ]
        },
        {
          "output_type": "stream",
          "name": "stderr",
          "text": [
            "<ipython-input-17-4335b1508f2c>:9: FutureWarning: The behavior of DataFrame concatenation with empty or all-NA entries is deprecated. In a future version, this will no longer exclude empty or all-NA columns when determining the result dtypes. To retain the old behavior, exclude the relevant entries before the concat operation.\n",
            "  df_depth_all = pandas.concat([df_depth_all, df_summary], axis = 0)\n"
          ]
        }
      ],
      "source": [
        "#years = [2024, 2023, 2022, 2021, 2020, 2019, 2018, 2017, 2016]\n",
        "#weeks = [1,2,3,4,5,6,7,8,9,10,11,12,13,14,15,16,17,18,28,29,30,32]\n",
        "for year in years:\n",
        "    for week in weeks:\n",
        "      summary = requests.get(rf'https://premium.pff.com/api/v1/facet/passing/depth?league=nfl&season={year}&week={week}', cookies = cookies)\n",
        "      df_summary = pandas.DataFrame(summary.json()['passing_depth'])\n",
        "      df_summary[\"Week\"] = week\n",
        "      df_summary[\"Season\"] = year\n",
        "      df_depth_all = pandas.concat([df_depth_all, df_summary], axis = 0)\n",
        "      print(str(week) + \" - \" + str(year)*10)\n",
        "\n",
        "# THIS IS FOR PASSING DEPTH - 2016-2022"
      ]
    },
    {
      "cell_type": "code",
      "execution_count": null,
      "metadata": {
        "colab": {
          "base_uri": "https://localhost:8080/",
          "height": 17
        },
        "id": "9w040882Ece-",
        "outputId": "35cc8499-4197-4f47-9c1f-533bb2df5719"
      },
      "outputs": [
        {
          "output_type": "display_data",
          "data": {
            "text/plain": [
              "<IPython.core.display.Javascript object>"
            ],
            "application/javascript": [
              "\n",
              "    async function download(id, filename, size) {\n",
              "      if (!google.colab.kernel.accessAllowed) {\n",
              "        return;\n",
              "      }\n",
              "      const div = document.createElement('div');\n",
              "      const label = document.createElement('label');\n",
              "      label.textContent = `Downloading \"${filename}\": `;\n",
              "      div.appendChild(label);\n",
              "      const progress = document.createElement('progress');\n",
              "      progress.max = size;\n",
              "      div.appendChild(progress);\n",
              "      document.body.appendChild(div);\n",
              "\n",
              "      const buffers = [];\n",
              "      let downloaded = 0;\n",
              "\n",
              "      const channel = await google.colab.kernel.comms.open(id);\n",
              "      // Send a message to notify the kernel that we're ready.\n",
              "      channel.send({})\n",
              "\n",
              "      for await (const message of channel.messages) {\n",
              "        // Send a message to notify the kernel that we're ready.\n",
              "        channel.send({})\n",
              "        if (message.buffers) {\n",
              "          for (const buffer of message.buffers) {\n",
              "            buffers.push(buffer);\n",
              "            downloaded += buffer.byteLength;\n",
              "            progress.value = downloaded;\n",
              "          }\n",
              "        }\n",
              "      }\n",
              "      const blob = new Blob(buffers, {type: 'application/binary'});\n",
              "      const a = document.createElement('a');\n",
              "      a.href = window.URL.createObjectURL(blob);\n",
              "      a.download = filename;\n",
              "      div.appendChild(a);\n",
              "      a.click();\n",
              "      div.remove();\n",
              "    }\n",
              "  "
            ]
          },
          "metadata": {}
        },
        {
          "output_type": "display_data",
          "data": {
            "text/plain": [
              "<IPython.core.display.Javascript object>"
            ],
            "application/javascript": [
              "download(\"download_18b0bcb1-0265-4b69-85f2-bdc188708a8d\", \"df_depth_all.xlsx\", 11364356)"
            ]
          },
          "metadata": {}
        }
      ],
      "source": [
        "df_depth_all.to_excel(\"df_depth_all.xlsx\", index = False)\n",
        "files.download(\"df_depth_all.xlsx\")"
      ]
    },
    {
      "cell_type": "code",
      "execution_count": null,
      "metadata": {
        "id": "r8aWOmrJHOfF"
      },
      "outputs": [],
      "source": [
        "df_concept_all = pandas.DataFrame()"
      ]
    },
    {
      "cell_type": "code",
      "execution_count": null,
      "metadata": {
        "colab": {
          "base_uri": "https://localhost:8080/"
        },
        "id": "_KLTGCNSHRmc",
        "outputId": "73591d79-461c-4221-c083-1ed90df59e32"
      },
      "outputs": [
        {
          "output_type": "stream",
          "name": "stdout",
          "text": [
            "1 - 2024202420242024202420242024202420242024\n",
            "2 - 2024202420242024202420242024202420242024\n",
            "3 - 2024202420242024202420242024202420242024\n",
            "4 - 2024202420242024202420242024202420242024\n",
            "5 - 2024202420242024202420242024202420242024\n",
            "6 - 2024202420242024202420242024202420242024\n",
            "7 - 2024202420242024202420242024202420242024\n",
            "8 - 2024202420242024202420242024202420242024\n",
            "9 - 2024202420242024202420242024202420242024\n",
            "10 - 2024202420242024202420242024202420242024\n",
            "11 - 2024202420242024202420242024202420242024\n"
          ]
        },
        {
          "output_type": "stream",
          "name": "stderr",
          "text": [
            "<ipython-input-20-122c56f937ef>:9: FutureWarning: The behavior of DataFrame concatenation with empty or all-NA entries is deprecated. In a future version, this will no longer exclude empty or all-NA columns when determining the result dtypes. To retain the old behavior, exclude the relevant entries before the concat operation.\n",
            "  df_concept_all = pandas.concat([df_concept_all, df_summary], axis = 0)\n"
          ]
        },
        {
          "output_type": "stream",
          "name": "stdout",
          "text": [
            "12 - 2024202420242024202420242024202420242024\n",
            "13 - 2024202420242024202420242024202420242024\n",
            "14 - 2024202420242024202420242024202420242024\n",
            "15 - 2024202420242024202420242024202420242024\n",
            "16 - 2024202420242024202420242024202420242024\n",
            "17 - 2024202420242024202420242024202420242024\n"
          ]
        },
        {
          "output_type": "stream",
          "name": "stderr",
          "text": [
            "<ipython-input-20-122c56f937ef>:9: FutureWarning: The behavior of DataFrame concatenation with empty or all-NA entries is deprecated. In a future version, this will no longer exclude empty or all-NA columns when determining the result dtypes. To retain the old behavior, exclude the relevant entries before the concat operation.\n",
            "  df_concept_all = pandas.concat([df_concept_all, df_summary], axis = 0)\n"
          ]
        },
        {
          "output_type": "stream",
          "name": "stdout",
          "text": [
            "18 - 2024202420242024202420242024202420242024\n",
            "28 - 2024202420242024202420242024202420242024\n",
            "29 - 2024202420242024202420242024202420242024\n"
          ]
        },
        {
          "output_type": "stream",
          "name": "stderr",
          "text": [
            "<ipython-input-20-122c56f937ef>:9: FutureWarning: The behavior of DataFrame concatenation with empty or all-NA entries is deprecated. In a future version, this will no longer exclude empty or all-NA columns when determining the result dtypes. To retain the old behavior, exclude the relevant entries before the concat operation.\n",
            "  df_concept_all = pandas.concat([df_concept_all, df_summary], axis = 0)\n"
          ]
        },
        {
          "output_type": "stream",
          "name": "stdout",
          "text": [
            "30 - 2024202420242024202420242024202420242024\n"
          ]
        },
        {
          "output_type": "stream",
          "name": "stderr",
          "text": [
            "<ipython-input-20-122c56f937ef>:9: FutureWarning: The behavior of DataFrame concatenation with empty or all-NA entries is deprecated. In a future version, this will no longer exclude empty or all-NA columns when determining the result dtypes. To retain the old behavior, exclude the relevant entries before the concat operation.\n",
            "  df_concept_all = pandas.concat([df_concept_all, df_summary], axis = 0)\n"
          ]
        },
        {
          "output_type": "stream",
          "name": "stdout",
          "text": [
            "32 - 2024202420242024202420242024202420242024\n",
            "1 - 2023202320232023202320232023202320232023\n",
            "2 - 2023202320232023202320232023202320232023\n"
          ]
        },
        {
          "output_type": "stream",
          "name": "stderr",
          "text": [
            "<ipython-input-20-122c56f937ef>:9: FutureWarning: The behavior of DataFrame concatenation with empty or all-NA entries is deprecated. In a future version, this will no longer exclude empty or all-NA columns when determining the result dtypes. To retain the old behavior, exclude the relevant entries before the concat operation.\n",
            "  df_concept_all = pandas.concat([df_concept_all, df_summary], axis = 0)\n"
          ]
        },
        {
          "output_type": "stream",
          "name": "stdout",
          "text": [
            "3 - 2023202320232023202320232023202320232023\n",
            "4 - 2023202320232023202320232023202320232023\n"
          ]
        },
        {
          "output_type": "stream",
          "name": "stderr",
          "text": [
            "<ipython-input-20-122c56f937ef>:9: FutureWarning: The behavior of DataFrame concatenation with empty or all-NA entries is deprecated. In a future version, this will no longer exclude empty or all-NA columns when determining the result dtypes. To retain the old behavior, exclude the relevant entries before the concat operation.\n",
            "  df_concept_all = pandas.concat([df_concept_all, df_summary], axis = 0)\n"
          ]
        },
        {
          "output_type": "stream",
          "name": "stdout",
          "text": [
            "5 - 2023202320232023202320232023202320232023\n",
            "6 - 2023202320232023202320232023202320232023\n",
            "7 - 2023202320232023202320232023202320232023\n",
            "8 - 2023202320232023202320232023202320232023\n"
          ]
        },
        {
          "output_type": "stream",
          "name": "stderr",
          "text": [
            "<ipython-input-20-122c56f937ef>:9: FutureWarning: The behavior of DataFrame concatenation with empty or all-NA entries is deprecated. In a future version, this will no longer exclude empty or all-NA columns when determining the result dtypes. To retain the old behavior, exclude the relevant entries before the concat operation.\n",
            "  df_concept_all = pandas.concat([df_concept_all, df_summary], axis = 0)\n"
          ]
        },
        {
          "output_type": "stream",
          "name": "stdout",
          "text": [
            "9 - 2023202320232023202320232023202320232023\n",
            "10 - 2023202320232023202320232023202320232023\n",
            "11 - 2023202320232023202320232023202320232023\n"
          ]
        },
        {
          "output_type": "stream",
          "name": "stderr",
          "text": [
            "<ipython-input-20-122c56f937ef>:9: FutureWarning: The behavior of DataFrame concatenation with empty or all-NA entries is deprecated. In a future version, this will no longer exclude empty or all-NA columns when determining the result dtypes. To retain the old behavior, exclude the relevant entries before the concat operation.\n",
            "  df_concept_all = pandas.concat([df_concept_all, df_summary], axis = 0)\n"
          ]
        },
        {
          "output_type": "stream",
          "name": "stdout",
          "text": [
            "12 - 2023202320232023202320232023202320232023\n",
            "13 - 2023202320232023202320232023202320232023\n",
            "14 - 2023202320232023202320232023202320232023\n",
            "15 - 2023202320232023202320232023202320232023\n",
            "16 - 2023202320232023202320232023202320232023\n",
            "17 - 2023202320232023202320232023202320232023\n"
          ]
        },
        {
          "output_type": "stream",
          "name": "stderr",
          "text": [
            "<ipython-input-20-122c56f937ef>:9: FutureWarning: The behavior of DataFrame concatenation with empty or all-NA entries is deprecated. In a future version, this will no longer exclude empty or all-NA columns when determining the result dtypes. To retain the old behavior, exclude the relevant entries before the concat operation.\n",
            "  df_concept_all = pandas.concat([df_concept_all, df_summary], axis = 0)\n"
          ]
        },
        {
          "output_type": "stream",
          "name": "stdout",
          "text": [
            "18 - 2023202320232023202320232023202320232023\n"
          ]
        },
        {
          "output_type": "stream",
          "name": "stderr",
          "text": [
            "<ipython-input-20-122c56f937ef>:9: FutureWarning: The behavior of DataFrame concatenation with empty or all-NA entries is deprecated. In a future version, this will no longer exclude empty or all-NA columns when determining the result dtypes. To retain the old behavior, exclude the relevant entries before the concat operation.\n",
            "  df_concept_all = pandas.concat([df_concept_all, df_summary], axis = 0)\n"
          ]
        },
        {
          "output_type": "stream",
          "name": "stdout",
          "text": [
            "28 - 2023202320232023202320232023202320232023\n"
          ]
        },
        {
          "output_type": "stream",
          "name": "stderr",
          "text": [
            "<ipython-input-20-122c56f937ef>:9: FutureWarning: The behavior of DataFrame concatenation with empty or all-NA entries is deprecated. In a future version, this will no longer exclude empty or all-NA columns when determining the result dtypes. To retain the old behavior, exclude the relevant entries before the concat operation.\n",
            "  df_concept_all = pandas.concat([df_concept_all, df_summary], axis = 0)\n"
          ]
        },
        {
          "output_type": "stream",
          "name": "stdout",
          "text": [
            "29 - 2023202320232023202320232023202320232023\n"
          ]
        },
        {
          "output_type": "stream",
          "name": "stderr",
          "text": [
            "<ipython-input-20-122c56f937ef>:9: FutureWarning: The behavior of DataFrame concatenation with empty or all-NA entries is deprecated. In a future version, this will no longer exclude empty or all-NA columns when determining the result dtypes. To retain the old behavior, exclude the relevant entries before the concat operation.\n",
            "  df_concept_all = pandas.concat([df_concept_all, df_summary], axis = 0)\n"
          ]
        },
        {
          "output_type": "stream",
          "name": "stdout",
          "text": [
            "30 - 2023202320232023202320232023202320232023\n"
          ]
        },
        {
          "output_type": "stream",
          "name": "stderr",
          "text": [
            "<ipython-input-20-122c56f937ef>:9: FutureWarning: The behavior of DataFrame concatenation with empty or all-NA entries is deprecated. In a future version, this will no longer exclude empty or all-NA columns when determining the result dtypes. To retain the old behavior, exclude the relevant entries before the concat operation.\n",
            "  df_concept_all = pandas.concat([df_concept_all, df_summary], axis = 0)\n"
          ]
        },
        {
          "output_type": "stream",
          "name": "stdout",
          "text": [
            "32 - 2023202320232023202320232023202320232023\n",
            "1 - 2022202220222022202220222022202220222022\n",
            "2 - 2022202220222022202220222022202220222022\n",
            "3 - 2022202220222022202220222022202220222022\n",
            "4 - 2022202220222022202220222022202220222022\n",
            "5 - 2022202220222022202220222022202220222022\n",
            "6 - 2022202220222022202220222022202220222022\n",
            "7 - 2022202220222022202220222022202220222022\n",
            "8 - 2022202220222022202220222022202220222022\n",
            "9 - 2022202220222022202220222022202220222022\n",
            "10 - 2022202220222022202220222022202220222022\n",
            "11 - 2022202220222022202220222022202220222022\n",
            "12 - 2022202220222022202220222022202220222022\n",
            "13 - 2022202220222022202220222022202220222022\n",
            "14 - 2022202220222022202220222022202220222022\n",
            "15 - 2022202220222022202220222022202220222022\n",
            "16 - 2022202220222022202220222022202220222022\n"
          ]
        },
        {
          "output_type": "stream",
          "name": "stderr",
          "text": [
            "<ipython-input-20-122c56f937ef>:9: FutureWarning: The behavior of DataFrame concatenation with empty or all-NA entries is deprecated. In a future version, this will no longer exclude empty or all-NA columns when determining the result dtypes. To retain the old behavior, exclude the relevant entries before the concat operation.\n",
            "  df_concept_all = pandas.concat([df_concept_all, df_summary], axis = 0)\n"
          ]
        },
        {
          "output_type": "stream",
          "name": "stdout",
          "text": [
            "17 - 2022202220222022202220222022202220222022\n",
            "18 - 2022202220222022202220222022202220222022\n"
          ]
        },
        {
          "output_type": "stream",
          "name": "stderr",
          "text": [
            "<ipython-input-20-122c56f937ef>:9: FutureWarning: The behavior of DataFrame concatenation with empty or all-NA entries is deprecated. In a future version, this will no longer exclude empty or all-NA columns when determining the result dtypes. To retain the old behavior, exclude the relevant entries before the concat operation.\n",
            "  df_concept_all = pandas.concat([df_concept_all, df_summary], axis = 0)\n"
          ]
        },
        {
          "output_type": "stream",
          "name": "stdout",
          "text": [
            "28 - 2022202220222022202220222022202220222022\n"
          ]
        },
        {
          "output_type": "stream",
          "name": "stderr",
          "text": [
            "<ipython-input-20-122c56f937ef>:9: FutureWarning: The behavior of DataFrame concatenation with empty or all-NA entries is deprecated. In a future version, this will no longer exclude empty or all-NA columns when determining the result dtypes. To retain the old behavior, exclude the relevant entries before the concat operation.\n",
            "  df_concept_all = pandas.concat([df_concept_all, df_summary], axis = 0)\n"
          ]
        },
        {
          "output_type": "stream",
          "name": "stdout",
          "text": [
            "29 - 2022202220222022202220222022202220222022\n"
          ]
        },
        {
          "output_type": "stream",
          "name": "stderr",
          "text": [
            "<ipython-input-20-122c56f937ef>:9: FutureWarning: The behavior of DataFrame concatenation with empty or all-NA entries is deprecated. In a future version, this will no longer exclude empty or all-NA columns when determining the result dtypes. To retain the old behavior, exclude the relevant entries before the concat operation.\n",
            "  df_concept_all = pandas.concat([df_concept_all, df_summary], axis = 0)\n"
          ]
        },
        {
          "output_type": "stream",
          "name": "stdout",
          "text": [
            "30 - 2022202220222022202220222022202220222022\n"
          ]
        },
        {
          "output_type": "stream",
          "name": "stderr",
          "text": [
            "<ipython-input-20-122c56f937ef>:9: FutureWarning: The behavior of DataFrame concatenation with empty or all-NA entries is deprecated. In a future version, this will no longer exclude empty or all-NA columns when determining the result dtypes. To retain the old behavior, exclude the relevant entries before the concat operation.\n",
            "  df_concept_all = pandas.concat([df_concept_all, df_summary], axis = 0)\n"
          ]
        },
        {
          "output_type": "stream",
          "name": "stdout",
          "text": [
            "32 - 2022202220222022202220222022202220222022\n",
            "1 - 2021202120212021202120212021202120212021\n",
            "2 - 2021202120212021202120212021202120212021\n"
          ]
        },
        {
          "output_type": "stream",
          "name": "stderr",
          "text": [
            "<ipython-input-20-122c56f937ef>:9: FutureWarning: The behavior of DataFrame concatenation with empty or all-NA entries is deprecated. In a future version, this will no longer exclude empty or all-NA columns when determining the result dtypes. To retain the old behavior, exclude the relevant entries before the concat operation.\n",
            "  df_concept_all = pandas.concat([df_concept_all, df_summary], axis = 0)\n"
          ]
        },
        {
          "output_type": "stream",
          "name": "stdout",
          "text": [
            "3 - 2021202120212021202120212021202120212021\n",
            "4 - 2021202120212021202120212021202120212021\n"
          ]
        },
        {
          "output_type": "stream",
          "name": "stderr",
          "text": [
            "<ipython-input-20-122c56f937ef>:9: FutureWarning: The behavior of DataFrame concatenation with empty or all-NA entries is deprecated. In a future version, this will no longer exclude empty or all-NA columns when determining the result dtypes. To retain the old behavior, exclude the relevant entries before the concat operation.\n",
            "  df_concept_all = pandas.concat([df_concept_all, df_summary], axis = 0)\n"
          ]
        },
        {
          "output_type": "stream",
          "name": "stdout",
          "text": [
            "5 - 2021202120212021202120212021202120212021\n",
            "6 - 2021202120212021202120212021202120212021\n",
            "7 - 2021202120212021202120212021202120212021\n",
            "8 - 2021202120212021202120212021202120212021\n"
          ]
        },
        {
          "output_type": "stream",
          "name": "stderr",
          "text": [
            "<ipython-input-20-122c56f937ef>:9: FutureWarning: The behavior of DataFrame concatenation with empty or all-NA entries is deprecated. In a future version, this will no longer exclude empty or all-NA columns when determining the result dtypes. To retain the old behavior, exclude the relevant entries before the concat operation.\n",
            "  df_concept_all = pandas.concat([df_concept_all, df_summary], axis = 0)\n"
          ]
        },
        {
          "output_type": "stream",
          "name": "stdout",
          "text": [
            "9 - 2021202120212021202120212021202120212021\n",
            "10 - 2021202120212021202120212021202120212021\n",
            "11 - 2021202120212021202120212021202120212021\n",
            "12 - 2021202120212021202120212021202120212021\n"
          ]
        },
        {
          "output_type": "stream",
          "name": "stderr",
          "text": [
            "<ipython-input-20-122c56f937ef>:9: FutureWarning: The behavior of DataFrame concatenation with empty or all-NA entries is deprecated. In a future version, this will no longer exclude empty or all-NA columns when determining the result dtypes. To retain the old behavior, exclude the relevant entries before the concat operation.\n",
            "  df_concept_all = pandas.concat([df_concept_all, df_summary], axis = 0)\n"
          ]
        },
        {
          "output_type": "stream",
          "name": "stdout",
          "text": [
            "13 - 2021202120212021202120212021202120212021\n",
            "14 - 2021202120212021202120212021202120212021\n",
            "15 - 2021202120212021202120212021202120212021\n",
            "16 - 2021202120212021202120212021202120212021\n",
            "17 - 2021202120212021202120212021202120212021\n",
            "18 - 2021202120212021202120212021202120212021\n",
            "28 - 2021202120212021202120212021202120212021\n"
          ]
        },
        {
          "output_type": "stream",
          "name": "stderr",
          "text": [
            "<ipython-input-20-122c56f937ef>:9: FutureWarning: The behavior of DataFrame concatenation with empty or all-NA entries is deprecated. In a future version, this will no longer exclude empty or all-NA columns when determining the result dtypes. To retain the old behavior, exclude the relevant entries before the concat operation.\n",
            "  df_concept_all = pandas.concat([df_concept_all, df_summary], axis = 0)\n"
          ]
        },
        {
          "output_type": "stream",
          "name": "stdout",
          "text": [
            "29 - 2021202120212021202120212021202120212021\n"
          ]
        },
        {
          "output_type": "stream",
          "name": "stderr",
          "text": [
            "<ipython-input-20-122c56f937ef>:9: FutureWarning: The behavior of DataFrame concatenation with empty or all-NA entries is deprecated. In a future version, this will no longer exclude empty or all-NA columns when determining the result dtypes. To retain the old behavior, exclude the relevant entries before the concat operation.\n",
            "  df_concept_all = pandas.concat([df_concept_all, df_summary], axis = 0)\n"
          ]
        },
        {
          "output_type": "stream",
          "name": "stdout",
          "text": [
            "30 - 2021202120212021202120212021202120212021\n"
          ]
        },
        {
          "output_type": "stream",
          "name": "stderr",
          "text": [
            "<ipython-input-20-122c56f937ef>:9: FutureWarning: The behavior of DataFrame concatenation with empty or all-NA entries is deprecated. In a future version, this will no longer exclude empty or all-NA columns when determining the result dtypes. To retain the old behavior, exclude the relevant entries before the concat operation.\n",
            "  df_concept_all = pandas.concat([df_concept_all, df_summary], axis = 0)\n"
          ]
        },
        {
          "output_type": "stream",
          "name": "stdout",
          "text": [
            "32 - 2021202120212021202120212021202120212021\n",
            "1 - 2020202020202020202020202020202020202020\n"
          ]
        },
        {
          "output_type": "stream",
          "name": "stderr",
          "text": [
            "<ipython-input-20-122c56f937ef>:9: FutureWarning: The behavior of DataFrame concatenation with empty or all-NA entries is deprecated. In a future version, this will no longer exclude empty or all-NA columns when determining the result dtypes. To retain the old behavior, exclude the relevant entries before the concat operation.\n",
            "  df_concept_all = pandas.concat([df_concept_all, df_summary], axis = 0)\n"
          ]
        },
        {
          "output_type": "stream",
          "name": "stdout",
          "text": [
            "2 - 2020202020202020202020202020202020202020\n"
          ]
        },
        {
          "output_type": "stream",
          "name": "stderr",
          "text": [
            "<ipython-input-20-122c56f937ef>:9: FutureWarning: The behavior of DataFrame concatenation with empty or all-NA entries is deprecated. In a future version, this will no longer exclude empty or all-NA columns when determining the result dtypes. To retain the old behavior, exclude the relevant entries before the concat operation.\n",
            "  df_concept_all = pandas.concat([df_concept_all, df_summary], axis = 0)\n"
          ]
        },
        {
          "output_type": "stream",
          "name": "stdout",
          "text": [
            "3 - 2020202020202020202020202020202020202020\n",
            "4 - 2020202020202020202020202020202020202020\n",
            "5 - 2020202020202020202020202020202020202020\n"
          ]
        },
        {
          "output_type": "stream",
          "name": "stderr",
          "text": [
            "<ipython-input-20-122c56f937ef>:9: FutureWarning: The behavior of DataFrame concatenation with empty or all-NA entries is deprecated. In a future version, this will no longer exclude empty or all-NA columns when determining the result dtypes. To retain the old behavior, exclude the relevant entries before the concat operation.\n",
            "  df_concept_all = pandas.concat([df_concept_all, df_summary], axis = 0)\n"
          ]
        },
        {
          "output_type": "stream",
          "name": "stdout",
          "text": [
            "6 - 2020202020202020202020202020202020202020\n",
            "7 - 2020202020202020202020202020202020202020\n",
            "8 - 2020202020202020202020202020202020202020\n",
            "9 - 2020202020202020202020202020202020202020\n",
            "10 - 2020202020202020202020202020202020202020\n",
            "11 - 2020202020202020202020202020202020202020\n",
            "12 - 2020202020202020202020202020202020202020\n",
            "13 - 2020202020202020202020202020202020202020\n",
            "14 - 2020202020202020202020202020202020202020\n",
            "15 - 2020202020202020202020202020202020202020\n",
            "16 - 2020202020202020202020202020202020202020\n",
            "17 - 2020202020202020202020202020202020202020\n",
            "18 - 2020202020202020202020202020202020202020\n"
          ]
        },
        {
          "output_type": "stream",
          "name": "stderr",
          "text": [
            "<ipython-input-20-122c56f937ef>:9: FutureWarning: The behavior of DataFrame concatenation with empty or all-NA entries is deprecated. In a future version, this will no longer exclude empty or all-NA columns when determining the result dtypes. To retain the old behavior, exclude the relevant entries before the concat operation.\n",
            "  df_concept_all = pandas.concat([df_concept_all, df_summary], axis = 0)\n"
          ]
        },
        {
          "output_type": "stream",
          "name": "stdout",
          "text": [
            "28 - 2020202020202020202020202020202020202020\n",
            "29 - 2020202020202020202020202020202020202020\n"
          ]
        },
        {
          "output_type": "stream",
          "name": "stderr",
          "text": [
            "<ipython-input-20-122c56f937ef>:9: FutureWarning: The behavior of DataFrame concatenation with empty or all-NA entries is deprecated. In a future version, this will no longer exclude empty or all-NA columns when determining the result dtypes. To retain the old behavior, exclude the relevant entries before the concat operation.\n",
            "  df_concept_all = pandas.concat([df_concept_all, df_summary], axis = 0)\n",
            "<ipython-input-20-122c56f937ef>:9: FutureWarning: The behavior of DataFrame concatenation with empty or all-NA entries is deprecated. In a future version, this will no longer exclude empty or all-NA columns when determining the result dtypes. To retain the old behavior, exclude the relevant entries before the concat operation.\n",
            "  df_concept_all = pandas.concat([df_concept_all, df_summary], axis = 0)\n"
          ]
        },
        {
          "output_type": "stream",
          "name": "stdout",
          "text": [
            "30 - 2020202020202020202020202020202020202020\n",
            "32 - 2020202020202020202020202020202020202020\n",
            "1 - 2019201920192019201920192019201920192019\n"
          ]
        },
        {
          "output_type": "stream",
          "name": "stderr",
          "text": [
            "<ipython-input-20-122c56f937ef>:9: FutureWarning: The behavior of DataFrame concatenation with empty or all-NA entries is deprecated. In a future version, this will no longer exclude empty or all-NA columns when determining the result dtypes. To retain the old behavior, exclude the relevant entries before the concat operation.\n",
            "  df_concept_all = pandas.concat([df_concept_all, df_summary], axis = 0)\n"
          ]
        },
        {
          "output_type": "stream",
          "name": "stdout",
          "text": [
            "2 - 2019201920192019201920192019201920192019\n",
            "3 - 2019201920192019201920192019201920192019\n",
            "4 - 2019201920192019201920192019201920192019\n",
            "5 - 2019201920192019201920192019201920192019\n",
            "6 - 2019201920192019201920192019201920192019\n",
            "7 - 2019201920192019201920192019201920192019\n"
          ]
        },
        {
          "output_type": "stream",
          "name": "stderr",
          "text": [
            "<ipython-input-20-122c56f937ef>:9: FutureWarning: The behavior of DataFrame concatenation with empty or all-NA entries is deprecated. In a future version, this will no longer exclude empty or all-NA columns when determining the result dtypes. To retain the old behavior, exclude the relevant entries before the concat operation.\n",
            "  df_concept_all = pandas.concat([df_concept_all, df_summary], axis = 0)\n"
          ]
        },
        {
          "output_type": "stream",
          "name": "stdout",
          "text": [
            "8 - 2019201920192019201920192019201920192019\n",
            "9 - 2019201920192019201920192019201920192019\n",
            "10 - 2019201920192019201920192019201920192019\n",
            "11 - 2019201920192019201920192019201920192019\n",
            "12 - 2019201920192019201920192019201920192019\n",
            "13 - 2019201920192019201920192019201920192019\n",
            "14 - 2019201920192019201920192019201920192019\n",
            "15 - 2019201920192019201920192019201920192019\n",
            "16 - 2019201920192019201920192019201920192019\n",
            "17 - 2019201920192019201920192019201920192019\n",
            "18 - 2019201920192019201920192019201920192019\n",
            "28 - 2019201920192019201920192019201920192019\n"
          ]
        },
        {
          "output_type": "stream",
          "name": "stderr",
          "text": [
            "<ipython-input-20-122c56f937ef>:9: FutureWarning: The behavior of DataFrame concatenation with empty or all-NA entries is deprecated. In a future version, this will no longer exclude empty or all-NA columns when determining the result dtypes. To retain the old behavior, exclude the relevant entries before the concat operation.\n",
            "  df_concept_all = pandas.concat([df_concept_all, df_summary], axis = 0)\n"
          ]
        },
        {
          "output_type": "stream",
          "name": "stdout",
          "text": [
            "29 - 2019201920192019201920192019201920192019\n",
            "30 - 2019201920192019201920192019201920192019\n"
          ]
        },
        {
          "output_type": "stream",
          "name": "stderr",
          "text": [
            "<ipython-input-20-122c56f937ef>:9: FutureWarning: The behavior of DataFrame concatenation with empty or all-NA entries is deprecated. In a future version, this will no longer exclude empty or all-NA columns when determining the result dtypes. To retain the old behavior, exclude the relevant entries before the concat operation.\n",
            "  df_concept_all = pandas.concat([df_concept_all, df_summary], axis = 0)\n"
          ]
        },
        {
          "output_type": "stream",
          "name": "stdout",
          "text": [
            "32 - 2019201920192019201920192019201920192019\n"
          ]
        },
        {
          "output_type": "stream",
          "name": "stderr",
          "text": [
            "<ipython-input-20-122c56f937ef>:9: FutureWarning: The behavior of DataFrame concatenation with empty or all-NA entries is deprecated. In a future version, this will no longer exclude empty or all-NA columns when determining the result dtypes. To retain the old behavior, exclude the relevant entries before the concat operation.\n",
            "  df_concept_all = pandas.concat([df_concept_all, df_summary], axis = 0)\n"
          ]
        },
        {
          "output_type": "stream",
          "name": "stdout",
          "text": [
            "1 - 2018201820182018201820182018201820182018\n",
            "2 - 2018201820182018201820182018201820182018\n",
            "3 - 2018201820182018201820182018201820182018\n",
            "4 - 2018201820182018201820182018201820182018\n",
            "5 - 2018201820182018201820182018201820182018\n"
          ]
        },
        {
          "output_type": "stream",
          "name": "stderr",
          "text": [
            "<ipython-input-20-122c56f937ef>:9: FutureWarning: The behavior of DataFrame concatenation with empty or all-NA entries is deprecated. In a future version, this will no longer exclude empty or all-NA columns when determining the result dtypes. To retain the old behavior, exclude the relevant entries before the concat operation.\n",
            "  df_concept_all = pandas.concat([df_concept_all, df_summary], axis = 0)\n"
          ]
        },
        {
          "output_type": "stream",
          "name": "stdout",
          "text": [
            "6 - 2018201820182018201820182018201820182018\n"
          ]
        },
        {
          "output_type": "stream",
          "name": "stderr",
          "text": [
            "<ipython-input-20-122c56f937ef>:9: FutureWarning: The behavior of DataFrame concatenation with empty or all-NA entries is deprecated. In a future version, this will no longer exclude empty or all-NA columns when determining the result dtypes. To retain the old behavior, exclude the relevant entries before the concat operation.\n",
            "  df_concept_all = pandas.concat([df_concept_all, df_summary], axis = 0)\n"
          ]
        },
        {
          "output_type": "stream",
          "name": "stdout",
          "text": [
            "7 - 2018201820182018201820182018201820182018\n",
            "8 - 2018201820182018201820182018201820182018\n",
            "9 - 2018201820182018201820182018201820182018\n",
            "10 - 2018201820182018201820182018201820182018\n",
            "11 - 2018201820182018201820182018201820182018\n",
            "12 - 2018201820182018201820182018201820182018\n",
            "13 - 2018201820182018201820182018201820182018\n",
            "14 - 2018201820182018201820182018201820182018\n",
            "15 - 2018201820182018201820182018201820182018\n",
            "16 - 2018201820182018201820182018201820182018\n",
            "17 - 2018201820182018201820182018201820182018\n",
            "18 - 2018201820182018201820182018201820182018\n"
          ]
        },
        {
          "output_type": "stream",
          "name": "stderr",
          "text": [
            "<ipython-input-20-122c56f937ef>:9: FutureWarning: The behavior of DataFrame concatenation with empty or all-NA entries is deprecated. In a future version, this will no longer exclude empty or all-NA columns when determining the result dtypes. To retain the old behavior, exclude the relevant entries before the concat operation.\n",
            "  df_concept_all = pandas.concat([df_concept_all, df_summary], axis = 0)\n"
          ]
        },
        {
          "output_type": "stream",
          "name": "stdout",
          "text": [
            "28 - 2018201820182018201820182018201820182018\n"
          ]
        },
        {
          "output_type": "stream",
          "name": "stderr",
          "text": [
            "<ipython-input-20-122c56f937ef>:9: FutureWarning: The behavior of DataFrame concatenation with empty or all-NA entries is deprecated. In a future version, this will no longer exclude empty or all-NA columns when determining the result dtypes. To retain the old behavior, exclude the relevant entries before the concat operation.\n",
            "  df_concept_all = pandas.concat([df_concept_all, df_summary], axis = 0)\n"
          ]
        },
        {
          "output_type": "stream",
          "name": "stdout",
          "text": [
            "29 - 2018201820182018201820182018201820182018\n",
            "30 - 2018201820182018201820182018201820182018\n"
          ]
        },
        {
          "output_type": "stream",
          "name": "stderr",
          "text": [
            "<ipython-input-20-122c56f937ef>:9: FutureWarning: The behavior of DataFrame concatenation with empty or all-NA entries is deprecated. In a future version, this will no longer exclude empty or all-NA columns when determining the result dtypes. To retain the old behavior, exclude the relevant entries before the concat operation.\n",
            "  df_concept_all = pandas.concat([df_concept_all, df_summary], axis = 0)\n"
          ]
        },
        {
          "output_type": "stream",
          "name": "stdout",
          "text": [
            "32 - 2018201820182018201820182018201820182018\n"
          ]
        },
        {
          "output_type": "stream",
          "name": "stderr",
          "text": [
            "<ipython-input-20-122c56f937ef>:9: FutureWarning: The behavior of DataFrame concatenation with empty or all-NA entries is deprecated. In a future version, this will no longer exclude empty or all-NA columns when determining the result dtypes. To retain the old behavior, exclude the relevant entries before the concat operation.\n",
            "  df_concept_all = pandas.concat([df_concept_all, df_summary], axis = 0)\n"
          ]
        },
        {
          "output_type": "stream",
          "name": "stdout",
          "text": [
            "1 - 2017201720172017201720172017201720172017\n",
            "2 - 2017201720172017201720172017201720172017\n",
            "3 - 2017201720172017201720172017201720172017\n",
            "4 - 2017201720172017201720172017201720172017\n",
            "5 - 2017201720172017201720172017201720172017\n",
            "6 - 2017201720172017201720172017201720172017\n",
            "7 - 2017201720172017201720172017201720172017\n"
          ]
        },
        {
          "output_type": "stream",
          "name": "stderr",
          "text": [
            "<ipython-input-20-122c56f937ef>:9: FutureWarning: The behavior of DataFrame concatenation with empty or all-NA entries is deprecated. In a future version, this will no longer exclude empty or all-NA columns when determining the result dtypes. To retain the old behavior, exclude the relevant entries before the concat operation.\n",
            "  df_concept_all = pandas.concat([df_concept_all, df_summary], axis = 0)\n"
          ]
        },
        {
          "output_type": "stream",
          "name": "stdout",
          "text": [
            "8 - 2017201720172017201720172017201720172017\n",
            "9 - 2017201720172017201720172017201720172017\n",
            "10 - 2017201720172017201720172017201720172017\n",
            "11 - 2017201720172017201720172017201720172017\n",
            "12 - 2017201720172017201720172017201720172017\n",
            "13 - 2017201720172017201720172017201720172017\n",
            "14 - 2017201720172017201720172017201720172017\n"
          ]
        },
        {
          "output_type": "stream",
          "name": "stderr",
          "text": [
            "<ipython-input-20-122c56f937ef>:9: FutureWarning: The behavior of DataFrame concatenation with empty or all-NA entries is deprecated. In a future version, this will no longer exclude empty or all-NA columns when determining the result dtypes. To retain the old behavior, exclude the relevant entries before the concat operation.\n",
            "  df_concept_all = pandas.concat([df_concept_all, df_summary], axis = 0)\n"
          ]
        },
        {
          "output_type": "stream",
          "name": "stdout",
          "text": [
            "15 - 2017201720172017201720172017201720172017\n",
            "16 - 2017201720172017201720172017201720172017\n",
            "17 - 2017201720172017201720172017201720172017\n",
            "18 - 2017201720172017201720172017201720172017\n",
            "28 - 2017201720172017201720172017201720172017\n",
            "29 - 2017201720172017201720172017201720172017\n"
          ]
        },
        {
          "output_type": "stream",
          "name": "stderr",
          "text": [
            "<ipython-input-20-122c56f937ef>:9: FutureWarning: The behavior of DataFrame concatenation with empty or all-NA entries is deprecated. In a future version, this will no longer exclude empty or all-NA columns when determining the result dtypes. To retain the old behavior, exclude the relevant entries before the concat operation.\n",
            "  df_concept_all = pandas.concat([df_concept_all, df_summary], axis = 0)\n"
          ]
        },
        {
          "output_type": "stream",
          "name": "stdout",
          "text": [
            "30 - 2017201720172017201720172017201720172017\n"
          ]
        },
        {
          "output_type": "stream",
          "name": "stderr",
          "text": [
            "<ipython-input-20-122c56f937ef>:9: FutureWarning: The behavior of DataFrame concatenation with empty or all-NA entries is deprecated. In a future version, this will no longer exclude empty or all-NA columns when determining the result dtypes. To retain the old behavior, exclude the relevant entries before the concat operation.\n",
            "  df_concept_all = pandas.concat([df_concept_all, df_summary], axis = 0)\n"
          ]
        },
        {
          "output_type": "stream",
          "name": "stdout",
          "text": [
            "32 - 2017201720172017201720172017201720172017\n"
          ]
        },
        {
          "output_type": "stream",
          "name": "stderr",
          "text": [
            "<ipython-input-20-122c56f937ef>:9: FutureWarning: The behavior of DataFrame concatenation with empty or all-NA entries is deprecated. In a future version, this will no longer exclude empty or all-NA columns when determining the result dtypes. To retain the old behavior, exclude the relevant entries before the concat operation.\n",
            "  df_concept_all = pandas.concat([df_concept_all, df_summary], axis = 0)\n"
          ]
        },
        {
          "output_type": "stream",
          "name": "stdout",
          "text": [
            "1 - 2016201620162016201620162016201620162016\n"
          ]
        },
        {
          "output_type": "stream",
          "name": "stderr",
          "text": [
            "<ipython-input-20-122c56f937ef>:9: FutureWarning: The behavior of DataFrame concatenation with empty or all-NA entries is deprecated. In a future version, this will no longer exclude empty or all-NA columns when determining the result dtypes. To retain the old behavior, exclude the relevant entries before the concat operation.\n",
            "  df_concept_all = pandas.concat([df_concept_all, df_summary], axis = 0)\n"
          ]
        },
        {
          "output_type": "stream",
          "name": "stdout",
          "text": [
            "2 - 2016201620162016201620162016201620162016\n",
            "3 - 2016201620162016201620162016201620162016\n",
            "4 - 2016201620162016201620162016201620162016\n",
            "5 - 2016201620162016201620162016201620162016\n",
            "6 - 2016201620162016201620162016201620162016\n"
          ]
        },
        {
          "output_type": "stream",
          "name": "stderr",
          "text": [
            "<ipython-input-20-122c56f937ef>:9: FutureWarning: The behavior of DataFrame concatenation with empty or all-NA entries is deprecated. In a future version, this will no longer exclude empty or all-NA columns when determining the result dtypes. To retain the old behavior, exclude the relevant entries before the concat operation.\n",
            "  df_concept_all = pandas.concat([df_concept_all, df_summary], axis = 0)\n"
          ]
        },
        {
          "output_type": "stream",
          "name": "stdout",
          "text": [
            "7 - 2016201620162016201620162016201620162016\n",
            "8 - 2016201620162016201620162016201620162016\n",
            "9 - 2016201620162016201620162016201620162016\n",
            "10 - 2016201620162016201620162016201620162016\n",
            "11 - 2016201620162016201620162016201620162016\n",
            "12 - 2016201620162016201620162016201620162016\n",
            "13 - 2016201620162016201620162016201620162016\n",
            "14 - 2016201620162016201620162016201620162016\n",
            "15 - 2016201620162016201620162016201620162016\n",
            "16 - 2016201620162016201620162016201620162016\n",
            "17 - 2016201620162016201620162016201620162016\n",
            "18 - 2016201620162016201620162016201620162016\n"
          ]
        },
        {
          "output_type": "stream",
          "name": "stderr",
          "text": [
            "<ipython-input-20-122c56f937ef>:9: FutureWarning: The behavior of DataFrame concatenation with empty or all-NA entries is deprecated. In a future version, this will no longer exclude empty or all-NA columns when determining the result dtypes. To retain the old behavior, exclude the relevant entries before the concat operation.\n",
            "  df_concept_all = pandas.concat([df_concept_all, df_summary], axis = 0)\n"
          ]
        },
        {
          "output_type": "stream",
          "name": "stdout",
          "text": [
            "28 - 2016201620162016201620162016201620162016\n"
          ]
        },
        {
          "output_type": "stream",
          "name": "stderr",
          "text": [
            "<ipython-input-20-122c56f937ef>:9: FutureWarning: The behavior of DataFrame concatenation with empty or all-NA entries is deprecated. In a future version, this will no longer exclude empty or all-NA columns when determining the result dtypes. To retain the old behavior, exclude the relevant entries before the concat operation.\n",
            "  df_concept_all = pandas.concat([df_concept_all, df_summary], axis = 0)\n"
          ]
        },
        {
          "output_type": "stream",
          "name": "stdout",
          "text": [
            "29 - 2016201620162016201620162016201620162016\n"
          ]
        },
        {
          "output_type": "stream",
          "name": "stderr",
          "text": [
            "<ipython-input-20-122c56f937ef>:9: FutureWarning: The behavior of DataFrame concatenation with empty or all-NA entries is deprecated. In a future version, this will no longer exclude empty or all-NA columns when determining the result dtypes. To retain the old behavior, exclude the relevant entries before the concat operation.\n",
            "  df_concept_all = pandas.concat([df_concept_all, df_summary], axis = 0)\n"
          ]
        },
        {
          "output_type": "stream",
          "name": "stdout",
          "text": [
            "30 - 2016201620162016201620162016201620162016\n",
            "32 - 2016201620162016201620162016201620162016\n"
          ]
        },
        {
          "output_type": "stream",
          "name": "stderr",
          "text": [
            "<ipython-input-20-122c56f937ef>:9: FutureWarning: The behavior of DataFrame concatenation with empty or all-NA entries is deprecated. In a future version, this will no longer exclude empty or all-NA columns when determining the result dtypes. To retain the old behavior, exclude the relevant entries before the concat operation.\n",
            "  df_concept_all = pandas.concat([df_concept_all, df_summary], axis = 0)\n"
          ]
        }
      ],
      "source": [
        "#years = [2024, 2023, 2022, 2021, 2020, 2019, 2018, 2017, 2016]\n",
        "#weeks = [1,2,3,4,5,6,7,8,9,10,11,12,13,14,15,16,17,18,28,29,30,32]\n",
        "for year in years:\n",
        "    for week in weeks:\n",
        "      summary = requests.get(rf'https://premium.pff.com/api/v1/facet/passing/concept?league=nfl&season={year}&week={week}', cookies = cookies)\n",
        "      df_summary = pandas.DataFrame(summary.json()['passing_concept'])\n",
        "      df_summary[\"Week\"] = week\n",
        "      df_summary[\"Season\"] = year\n",
        "      df_concept_all = pandas.concat([df_concept_all, df_summary], axis = 0)\n",
        "      print(str(week) + \" - \" + str(year)*10)\n",
        "\n",
        "# THIS IS FOR PASSING CONCEPT - 2016-2022"
      ]
    },
    {
      "cell_type": "code",
      "execution_count": null,
      "metadata": {
        "colab": {
          "base_uri": "https://localhost:8080/",
          "height": 17
        },
        "id": "faf4a9HWHzcD",
        "outputId": "6d9c0cac-3082-4274-eccc-44f67a2e33c1"
      },
      "outputs": [
        {
          "output_type": "display_data",
          "data": {
            "text/plain": [
              "<IPython.core.display.Javascript object>"
            ],
            "application/javascript": [
              "\n",
              "    async function download(id, filename, size) {\n",
              "      if (!google.colab.kernel.accessAllowed) {\n",
              "        return;\n",
              "      }\n",
              "      const div = document.createElement('div');\n",
              "      const label = document.createElement('label');\n",
              "      label.textContent = `Downloading \"${filename}\": `;\n",
              "      div.appendChild(label);\n",
              "      const progress = document.createElement('progress');\n",
              "      progress.max = size;\n",
              "      div.appendChild(progress);\n",
              "      document.body.appendChild(div);\n",
              "\n",
              "      const buffers = [];\n",
              "      let downloaded = 0;\n",
              "\n",
              "      const channel = await google.colab.kernel.comms.open(id);\n",
              "      // Send a message to notify the kernel that we're ready.\n",
              "      channel.send({})\n",
              "\n",
              "      for await (const message of channel.messages) {\n",
              "        // Send a message to notify the kernel that we're ready.\n",
              "        channel.send({})\n",
              "        if (message.buffers) {\n",
              "          for (const buffer of message.buffers) {\n",
              "            buffers.push(buffer);\n",
              "            downloaded += buffer.byteLength;\n",
              "            progress.value = downloaded;\n",
              "          }\n",
              "        }\n",
              "      }\n",
              "      const blob = new Blob(buffers, {type: 'application/binary'});\n",
              "      const a = document.createElement('a');\n",
              "      a.href = window.URL.createObjectURL(blob);\n",
              "      a.download = filename;\n",
              "      div.appendChild(a);\n",
              "      a.click();\n",
              "      div.remove();\n",
              "    }\n",
              "  "
            ]
          },
          "metadata": {}
        },
        {
          "output_type": "display_data",
          "data": {
            "text/plain": [
              "<IPython.core.display.Javascript object>"
            ],
            "application/javascript": [
              "download(\"download_199a2be4-d36b-4c7f-b8a9-a2056af286b9\", \"df_concept_all.xlsx\", 5070280)"
            ]
          },
          "metadata": {}
        }
      ],
      "source": [
        "df_concept_all.to_excel(\"df_concept_all.xlsx\", index = False)\n",
        "files.download(\"df_concept_all.xlsx\")"
      ]
    },
    {
      "cell_type": "code",
      "execution_count": null,
      "metadata": {
        "id": "9sQYChT8Jsca"
      },
      "outputs": [],
      "source": [
        "df_allpress_all = pandas.DataFrame()"
      ]
    },
    {
      "cell_type": "code",
      "execution_count": null,
      "metadata": {
        "colab": {
          "base_uri": "https://localhost:8080/"
        },
        "id": "uYMr1qpnJx6a",
        "outputId": "7768d3dc-8edc-4ac6-9466-527a59e2f956"
      },
      "outputs": [
        {
          "output_type": "stream",
          "name": "stdout",
          "text": [
            "1 - 2024202420242024202420242024202420242024\n",
            "2 - 2024202420242024202420242024202420242024\n",
            "3 - 2024202420242024202420242024202420242024\n",
            "4 - 2024202420242024202420242024202420242024\n",
            "5 - 2024202420242024202420242024202420242024\n",
            "6 - 2024202420242024202420242024202420242024\n",
            "7 - 2024202420242024202420242024202420242024\n",
            "8 - 2024202420242024202420242024202420242024\n",
            "9 - 2024202420242024202420242024202420242024\n",
            "10 - 2024202420242024202420242024202420242024\n",
            "11 - 2024202420242024202420242024202420242024\n",
            "12 - 2024202420242024202420242024202420242024\n",
            "13 - 2024202420242024202420242024202420242024\n",
            "14 - 2024202420242024202420242024202420242024\n",
            "15 - 2024202420242024202420242024202420242024\n",
            "16 - 2024202420242024202420242024202420242024\n",
            "17 - 2024202420242024202420242024202420242024\n",
            "18 - 2024202420242024202420242024202420242024\n",
            "28 - 2024202420242024202420242024202420242024\n",
            "29 - 2024202420242024202420242024202420242024\n",
            "30 - 2024202420242024202420242024202420242024\n",
            "32 - 2024202420242024202420242024202420242024\n",
            "1 - 2023202320232023202320232023202320232023\n",
            "2 - 2023202320232023202320232023202320232023\n",
            "3 - 2023202320232023202320232023202320232023\n",
            "4 - 2023202320232023202320232023202320232023\n",
            "5 - 2023202320232023202320232023202320232023\n",
            "6 - 2023202320232023202320232023202320232023\n",
            "7 - 2023202320232023202320232023202320232023\n",
            "8 - 2023202320232023202320232023202320232023\n",
            "9 - 2023202320232023202320232023202320232023\n",
            "10 - 2023202320232023202320232023202320232023\n",
            "11 - 2023202320232023202320232023202320232023\n",
            "12 - 2023202320232023202320232023202320232023\n",
            "13 - 2023202320232023202320232023202320232023\n",
            "14 - 2023202320232023202320232023202320232023\n",
            "15 - 2023202320232023202320232023202320232023\n",
            "16 - 2023202320232023202320232023202320232023\n",
            "17 - 2023202320232023202320232023202320232023\n",
            "18 - 2023202320232023202320232023202320232023\n",
            "28 - 2023202320232023202320232023202320232023\n",
            "29 - 2023202320232023202320232023202320232023\n",
            "30 - 2023202320232023202320232023202320232023\n",
            "32 - 2023202320232023202320232023202320232023\n",
            "1 - 2022202220222022202220222022202220222022\n",
            "2 - 2022202220222022202220222022202220222022\n",
            "3 - 2022202220222022202220222022202220222022\n",
            "4 - 2022202220222022202220222022202220222022\n",
            "5 - 2022202220222022202220222022202220222022\n",
            "6 - 2022202220222022202220222022202220222022\n",
            "7 - 2022202220222022202220222022202220222022\n",
            "8 - 2022202220222022202220222022202220222022\n",
            "9 - 2022202220222022202220222022202220222022\n",
            "10 - 2022202220222022202220222022202220222022\n",
            "11 - 2022202220222022202220222022202220222022\n",
            "12 - 2022202220222022202220222022202220222022\n",
            "13 - 2022202220222022202220222022202220222022\n",
            "14 - 2022202220222022202220222022202220222022\n",
            "15 - 2022202220222022202220222022202220222022\n",
            "16 - 2022202220222022202220222022202220222022\n",
            "17 - 2022202220222022202220222022202220222022\n",
            "18 - 2022202220222022202220222022202220222022\n",
            "28 - 2022202220222022202220222022202220222022\n",
            "29 - 2022202220222022202220222022202220222022\n",
            "30 - 2022202220222022202220222022202220222022\n",
            "32 - 2022202220222022202220222022202220222022\n",
            "1 - 2021202120212021202120212021202120212021\n",
            "2 - 2021202120212021202120212021202120212021\n",
            "3 - 2021202120212021202120212021202120212021\n",
            "4 - 2021202120212021202120212021202120212021\n",
            "5 - 2021202120212021202120212021202120212021\n",
            "6 - 2021202120212021202120212021202120212021\n",
            "7 - 2021202120212021202120212021202120212021\n",
            "8 - 2021202120212021202120212021202120212021\n",
            "9 - 2021202120212021202120212021202120212021\n",
            "10 - 2021202120212021202120212021202120212021\n",
            "11 - 2021202120212021202120212021202120212021\n",
            "12 - 2021202120212021202120212021202120212021\n",
            "13 - 2021202120212021202120212021202120212021\n",
            "14 - 2021202120212021202120212021202120212021\n",
            "15 - 2021202120212021202120212021202120212021\n",
            "16 - 2021202120212021202120212021202120212021\n",
            "17 - 2021202120212021202120212021202120212021\n",
            "18 - 2021202120212021202120212021202120212021\n",
            "28 - 2021202120212021202120212021202120212021\n",
            "29 - 2021202120212021202120212021202120212021\n",
            "30 - 2021202120212021202120212021202120212021\n",
            "32 - 2021202120212021202120212021202120212021\n",
            "1 - 2020202020202020202020202020202020202020\n",
            "2 - 2020202020202020202020202020202020202020\n",
            "3 - 2020202020202020202020202020202020202020\n",
            "4 - 2020202020202020202020202020202020202020\n",
            "5 - 2020202020202020202020202020202020202020\n",
            "6 - 2020202020202020202020202020202020202020\n",
            "7 - 2020202020202020202020202020202020202020\n",
            "8 - 2020202020202020202020202020202020202020\n",
            "9 - 2020202020202020202020202020202020202020\n",
            "10 - 2020202020202020202020202020202020202020\n",
            "11 - 2020202020202020202020202020202020202020\n",
            "12 - 2020202020202020202020202020202020202020\n",
            "13 - 2020202020202020202020202020202020202020\n",
            "14 - 2020202020202020202020202020202020202020\n",
            "15 - 2020202020202020202020202020202020202020\n",
            "16 - 2020202020202020202020202020202020202020\n",
            "17 - 2020202020202020202020202020202020202020\n",
            "18 - 2020202020202020202020202020202020202020\n",
            "28 - 2020202020202020202020202020202020202020\n",
            "29 - 2020202020202020202020202020202020202020\n",
            "30 - 2020202020202020202020202020202020202020\n",
            "32 - 2020202020202020202020202020202020202020\n",
            "1 - 2019201920192019201920192019201920192019\n",
            "2 - 2019201920192019201920192019201920192019\n",
            "3 - 2019201920192019201920192019201920192019\n",
            "4 - 2019201920192019201920192019201920192019\n",
            "5 - 2019201920192019201920192019201920192019\n",
            "6 - 2019201920192019201920192019201920192019\n",
            "7 - 2019201920192019201920192019201920192019\n",
            "8 - 2019201920192019201920192019201920192019\n",
            "9 - 2019201920192019201920192019201920192019\n",
            "10 - 2019201920192019201920192019201920192019\n",
            "11 - 2019201920192019201920192019201920192019\n",
            "12 - 2019201920192019201920192019201920192019\n",
            "13 - 2019201920192019201920192019201920192019\n",
            "14 - 2019201920192019201920192019201920192019\n",
            "15 - 2019201920192019201920192019201920192019\n",
            "16 - 2019201920192019201920192019201920192019\n",
            "17 - 2019201920192019201920192019201920192019\n",
            "18 - 2019201920192019201920192019201920192019\n",
            "28 - 2019201920192019201920192019201920192019\n",
            "29 - 2019201920192019201920192019201920192019\n",
            "30 - 2019201920192019201920192019201920192019\n",
            "32 - 2019201920192019201920192019201920192019\n",
            "1 - 2018201820182018201820182018201820182018\n",
            "2 - 2018201820182018201820182018201820182018\n",
            "3 - 2018201820182018201820182018201820182018\n",
            "4 - 2018201820182018201820182018201820182018\n",
            "5 - 2018201820182018201820182018201820182018\n",
            "6 - 2018201820182018201820182018201820182018\n",
            "7 - 2018201820182018201820182018201820182018\n",
            "8 - 2018201820182018201820182018201820182018\n",
            "9 - 2018201820182018201820182018201820182018\n",
            "10 - 2018201820182018201820182018201820182018\n",
            "11 - 2018201820182018201820182018201820182018\n",
            "12 - 2018201820182018201820182018201820182018\n",
            "13 - 2018201820182018201820182018201820182018\n",
            "14 - 2018201820182018201820182018201820182018\n",
            "15 - 2018201820182018201820182018201820182018\n",
            "16 - 2018201820182018201820182018201820182018\n",
            "17 - 2018201820182018201820182018201820182018\n",
            "18 - 2018201820182018201820182018201820182018\n",
            "28 - 2018201820182018201820182018201820182018\n",
            "29 - 2018201820182018201820182018201820182018\n",
            "30 - 2018201820182018201820182018201820182018\n",
            "32 - 2018201820182018201820182018201820182018\n",
            "1 - 2017201720172017201720172017201720172017\n",
            "2 - 2017201720172017201720172017201720172017\n",
            "3 - 2017201720172017201720172017201720172017\n",
            "4 - 2017201720172017201720172017201720172017\n",
            "5 - 2017201720172017201720172017201720172017\n",
            "6 - 2017201720172017201720172017201720172017\n",
            "7 - 2017201720172017201720172017201720172017\n",
            "8 - 2017201720172017201720172017201720172017\n",
            "9 - 2017201720172017201720172017201720172017\n",
            "10 - 2017201720172017201720172017201720172017\n",
            "11 - 2017201720172017201720172017201720172017\n",
            "12 - 2017201720172017201720172017201720172017\n",
            "13 - 2017201720172017201720172017201720172017\n",
            "14 - 2017201720172017201720172017201720172017\n",
            "15 - 2017201720172017201720172017201720172017\n",
            "16 - 2017201720172017201720172017201720172017\n",
            "17 - 2017201720172017201720172017201720172017\n",
            "18 - 2017201720172017201720172017201720172017\n",
            "28 - 2017201720172017201720172017201720172017\n",
            "29 - 2017201720172017201720172017201720172017\n",
            "30 - 2017201720172017201720172017201720172017\n",
            "32 - 2017201720172017201720172017201720172017\n",
            "1 - 2016201620162016201620162016201620162016\n",
            "2 - 2016201620162016201620162016201620162016\n",
            "3 - 2016201620162016201620162016201620162016\n",
            "4 - 2016201620162016201620162016201620162016\n",
            "5 - 2016201620162016201620162016201620162016\n",
            "6 - 2016201620162016201620162016201620162016\n",
            "7 - 2016201620162016201620162016201620162016\n",
            "8 - 2016201620162016201620162016201620162016\n",
            "9 - 2016201620162016201620162016201620162016\n",
            "10 - 2016201620162016201620162016201620162016\n",
            "11 - 2016201620162016201620162016201620162016\n",
            "12 - 2016201620162016201620162016201620162016\n",
            "13 - 2016201620162016201620162016201620162016\n",
            "14 - 2016201620162016201620162016201620162016\n",
            "15 - 2016201620162016201620162016201620162016\n",
            "16 - 2016201620162016201620162016201620162016\n",
            "17 - 2016201620162016201620162016201620162016\n",
            "18 - 2016201620162016201620162016201620162016\n",
            "28 - 2016201620162016201620162016201620162016\n",
            "29 - 2016201620162016201620162016201620162016\n",
            "30 - 2016201620162016201620162016201620162016\n",
            "32 - 2016201620162016201620162016201620162016\n"
          ]
        }
      ],
      "source": [
        "#years = [2024, 2023, 2022, 2021, 2020, 2019, 2018, 2017, 2016]\n",
        "#weeks = [1,2,3,4,5,6,7,8,9,10,11,12,13,14,15,16,17,18,28,29,30,32]\n",
        "for year in years:\n",
        "    for week in weeks:\n",
        "      summary = requests.get(rf'https://premium.pff.com/api/v1/facet/passing/allowed_pressure?league=nfl&season={year}&week={week}', cookies = cookies)\n",
        "      df_summary = pandas.DataFrame(summary.json()['passing_allowed_pressure'])\n",
        "      df_summary[\"Week\"] = week\n",
        "      df_summary[\"Season\"] = year\n",
        "      df_allpress_all = pandas.concat([df_allpress_all, df_summary], axis = 0)\n",
        "      print(str(week) + \" - \" + str(year)*10)\n",
        "\n",
        "# THIS IS FOR PASSING ALLOWED PRESSURE - 2023"
      ]
    },
    {
      "cell_type": "code",
      "execution_count": null,
      "metadata": {
        "colab": {
          "base_uri": "https://localhost:8080/",
          "height": 17
        },
        "id": "Ls47PKJNKdQa",
        "outputId": "d286a526-d968-4e00-c857-57b3d500de4b"
      },
      "outputs": [
        {
          "output_type": "display_data",
          "data": {
            "text/plain": [
              "<IPython.core.display.Javascript object>"
            ],
            "application/javascript": [
              "\n",
              "    async function download(id, filename, size) {\n",
              "      if (!google.colab.kernel.accessAllowed) {\n",
              "        return;\n",
              "      }\n",
              "      const div = document.createElement('div');\n",
              "      const label = document.createElement('label');\n",
              "      label.textContent = `Downloading \"${filename}\": `;\n",
              "      div.appendChild(label);\n",
              "      const progress = document.createElement('progress');\n",
              "      progress.max = size;\n",
              "      div.appendChild(progress);\n",
              "      document.body.appendChild(div);\n",
              "\n",
              "      const buffers = [];\n",
              "      let downloaded = 0;\n",
              "\n",
              "      const channel = await google.colab.kernel.comms.open(id);\n",
              "      // Send a message to notify the kernel that we're ready.\n",
              "      channel.send({})\n",
              "\n",
              "      for await (const message of channel.messages) {\n",
              "        // Send a message to notify the kernel that we're ready.\n",
              "        channel.send({})\n",
              "        if (message.buffers) {\n",
              "          for (const buffer of message.buffers) {\n",
              "            buffers.push(buffer);\n",
              "            downloaded += buffer.byteLength;\n",
              "            progress.value = downloaded;\n",
              "          }\n",
              "        }\n",
              "      }\n",
              "      const blob = new Blob(buffers, {type: 'application/binary'});\n",
              "      const a = document.createElement('a');\n",
              "      a.href = window.URL.createObjectURL(blob);\n",
              "      a.download = filename;\n",
              "      div.appendChild(a);\n",
              "      a.click();\n",
              "      div.remove();\n",
              "    }\n",
              "  "
            ]
          },
          "metadata": {}
        },
        {
          "output_type": "display_data",
          "data": {
            "text/plain": [
              "<IPython.core.display.Javascript object>"
            ],
            "application/javascript": [
              "download(\"download_7b7bab44-3348-4e89-9b9e-a4f900b0dfde\", \"df_allpress_all.xlsx\", 841444)"
            ]
          },
          "metadata": {}
        }
      ],
      "source": [
        "df_allpress_all.to_excel(\"df_allpress_all.xlsx\", index = False)\n",
        "files.download(\"df_allpress_all.xlsx\")"
      ]
    },
    {
      "cell_type": "code",
      "execution_count": null,
      "metadata": {
        "id": "rv5Gk981neK2"
      },
      "outputs": [],
      "source": [
        "df_receiving_all = pandas.DataFrame()"
      ]
    },
    {
      "cell_type": "code",
      "execution_count": null,
      "metadata": {
        "colab": {
          "base_uri": "https://localhost:8080/"
        },
        "id": "RmkUP_gjnvEC",
        "outputId": "22fe7829-9f92-49d3-cbae-f39f65278c65"
      },
      "outputs": [
        {
          "output_type": "stream",
          "name": "stdout",
          "text": [
            "1 - 2024202420242024202420242024202420242024\n",
            "2 - 2024202420242024202420242024202420242024\n",
            "3 - 2024202420242024202420242024202420242024\n",
            "4 - 2024202420242024202420242024202420242024\n",
            "5 - 2024202420242024202420242024202420242024\n",
            "6 - 2024202420242024202420242024202420242024\n",
            "7 - 2024202420242024202420242024202420242024\n",
            "8 - 2024202420242024202420242024202420242024\n",
            "9 - 2024202420242024202420242024202420242024\n",
            "10 - 2024202420242024202420242024202420242024\n",
            "11 - 2024202420242024202420242024202420242024\n",
            "12 - 2024202420242024202420242024202420242024\n",
            "13 - 2024202420242024202420242024202420242024\n",
            "14 - 2024202420242024202420242024202420242024\n",
            "15 - 2024202420242024202420242024202420242024\n",
            "16 - 2024202420242024202420242024202420242024\n",
            "17 - 2024202420242024202420242024202420242024\n",
            "18 - 2024202420242024202420242024202420242024\n",
            "28 - 2024202420242024202420242024202420242024\n",
            "29 - 2024202420242024202420242024202420242024\n",
            "30 - 2024202420242024202420242024202420242024\n",
            "32 - 2024202420242024202420242024202420242024\n",
            "1 - 2023202320232023202320232023202320232023\n",
            "2 - 2023202320232023202320232023202320232023\n",
            "3 - 2023202320232023202320232023202320232023\n",
            "4 - 2023202320232023202320232023202320232023\n",
            "5 - 2023202320232023202320232023202320232023\n",
            "6 - 2023202320232023202320232023202320232023\n",
            "7 - 2023202320232023202320232023202320232023\n",
            "8 - 2023202320232023202320232023202320232023\n",
            "9 - 2023202320232023202320232023202320232023\n",
            "10 - 2023202320232023202320232023202320232023\n",
            "11 - 2023202320232023202320232023202320232023\n",
            "12 - 2023202320232023202320232023202320232023\n",
            "13 - 2023202320232023202320232023202320232023\n",
            "14 - 2023202320232023202320232023202320232023\n",
            "15 - 2023202320232023202320232023202320232023\n",
            "16 - 2023202320232023202320232023202320232023\n",
            "17 - 2023202320232023202320232023202320232023\n",
            "18 - 2023202320232023202320232023202320232023\n",
            "28 - 2023202320232023202320232023202320232023\n",
            "29 - 2023202320232023202320232023202320232023\n",
            "30 - 2023202320232023202320232023202320232023\n",
            "32 - 2023202320232023202320232023202320232023\n",
            "1 - 2022202220222022202220222022202220222022\n",
            "2 - 2022202220222022202220222022202220222022\n",
            "3 - 2022202220222022202220222022202220222022\n",
            "4 - 2022202220222022202220222022202220222022\n",
            "5 - 2022202220222022202220222022202220222022\n",
            "6 - 2022202220222022202220222022202220222022\n",
            "7 - 2022202220222022202220222022202220222022\n",
            "8 - 2022202220222022202220222022202220222022\n",
            "9 - 2022202220222022202220222022202220222022\n",
            "10 - 2022202220222022202220222022202220222022\n",
            "11 - 2022202220222022202220222022202220222022\n",
            "12 - 2022202220222022202220222022202220222022\n",
            "13 - 2022202220222022202220222022202220222022\n",
            "14 - 2022202220222022202220222022202220222022\n",
            "15 - 2022202220222022202220222022202220222022\n",
            "16 - 2022202220222022202220222022202220222022\n",
            "17 - 2022202220222022202220222022202220222022\n",
            "18 - 2022202220222022202220222022202220222022\n",
            "28 - 2022202220222022202220222022202220222022\n",
            "29 - 2022202220222022202220222022202220222022\n",
            "30 - 2022202220222022202220222022202220222022\n",
            "32 - 2022202220222022202220222022202220222022\n",
            "1 - 2021202120212021202120212021202120212021\n",
            "2 - 2021202120212021202120212021202120212021\n",
            "3 - 2021202120212021202120212021202120212021\n",
            "4 - 2021202120212021202120212021202120212021\n",
            "5 - 2021202120212021202120212021202120212021\n",
            "6 - 2021202120212021202120212021202120212021\n",
            "7 - 2021202120212021202120212021202120212021\n",
            "8 - 2021202120212021202120212021202120212021\n",
            "9 - 2021202120212021202120212021202120212021\n",
            "10 - 2021202120212021202120212021202120212021\n",
            "11 - 2021202120212021202120212021202120212021\n",
            "12 - 2021202120212021202120212021202120212021\n",
            "13 - 2021202120212021202120212021202120212021\n",
            "14 - 2021202120212021202120212021202120212021\n",
            "15 - 2021202120212021202120212021202120212021\n",
            "16 - 2021202120212021202120212021202120212021\n",
            "17 - 2021202120212021202120212021202120212021\n",
            "18 - 2021202120212021202120212021202120212021\n",
            "28 - 2021202120212021202120212021202120212021\n",
            "29 - 2021202120212021202120212021202120212021\n",
            "30 - 2021202120212021202120212021202120212021\n",
            "32 - 2021202120212021202120212021202120212021\n",
            "1 - 2020202020202020202020202020202020202020\n",
            "2 - 2020202020202020202020202020202020202020\n",
            "3 - 2020202020202020202020202020202020202020\n",
            "4 - 2020202020202020202020202020202020202020\n",
            "5 - 2020202020202020202020202020202020202020\n",
            "6 - 2020202020202020202020202020202020202020\n",
            "7 - 2020202020202020202020202020202020202020\n",
            "8 - 2020202020202020202020202020202020202020\n",
            "9 - 2020202020202020202020202020202020202020\n",
            "10 - 2020202020202020202020202020202020202020\n",
            "11 - 2020202020202020202020202020202020202020\n",
            "12 - 2020202020202020202020202020202020202020\n",
            "13 - 2020202020202020202020202020202020202020\n",
            "14 - 2020202020202020202020202020202020202020\n",
            "15 - 2020202020202020202020202020202020202020\n",
            "16 - 2020202020202020202020202020202020202020\n",
            "17 - 2020202020202020202020202020202020202020\n",
            "18 - 2020202020202020202020202020202020202020\n",
            "28 - 2020202020202020202020202020202020202020\n",
            "29 - 2020202020202020202020202020202020202020\n",
            "30 - 2020202020202020202020202020202020202020\n",
            "32 - 2020202020202020202020202020202020202020\n",
            "1 - 2019201920192019201920192019201920192019\n",
            "2 - 2019201920192019201920192019201920192019\n",
            "3 - 2019201920192019201920192019201920192019\n",
            "4 - 2019201920192019201920192019201920192019\n",
            "5 - 2019201920192019201920192019201920192019\n",
            "6 - 2019201920192019201920192019201920192019\n",
            "7 - 2019201920192019201920192019201920192019\n",
            "8 - 2019201920192019201920192019201920192019\n",
            "9 - 2019201920192019201920192019201920192019\n",
            "10 - 2019201920192019201920192019201920192019\n",
            "11 - 2019201920192019201920192019201920192019\n",
            "12 - 2019201920192019201920192019201920192019\n",
            "13 - 2019201920192019201920192019201920192019\n",
            "14 - 2019201920192019201920192019201920192019\n",
            "15 - 2019201920192019201920192019201920192019\n",
            "16 - 2019201920192019201920192019201920192019\n",
            "17 - 2019201920192019201920192019201920192019\n",
            "18 - 2019201920192019201920192019201920192019\n",
            "28 - 2019201920192019201920192019201920192019\n",
            "29 - 2019201920192019201920192019201920192019\n",
            "30 - 2019201920192019201920192019201920192019\n",
            "32 - 2019201920192019201920192019201920192019\n",
            "1 - 2018201820182018201820182018201820182018\n",
            "2 - 2018201820182018201820182018201820182018\n",
            "3 - 2018201820182018201820182018201820182018\n",
            "4 - 2018201820182018201820182018201820182018\n",
            "5 - 2018201820182018201820182018201820182018\n",
            "6 - 2018201820182018201820182018201820182018\n",
            "7 - 2018201820182018201820182018201820182018\n",
            "8 - 2018201820182018201820182018201820182018\n",
            "9 - 2018201820182018201820182018201820182018\n",
            "10 - 2018201820182018201820182018201820182018\n",
            "11 - 2018201820182018201820182018201820182018\n",
            "12 - 2018201820182018201820182018201820182018\n",
            "13 - 2018201820182018201820182018201820182018\n",
            "14 - 2018201820182018201820182018201820182018\n",
            "15 - 2018201820182018201820182018201820182018\n",
            "16 - 2018201820182018201820182018201820182018\n",
            "17 - 2018201820182018201820182018201820182018\n",
            "18 - 2018201820182018201820182018201820182018\n",
            "28 - 2018201820182018201820182018201820182018\n",
            "29 - 2018201820182018201820182018201820182018\n",
            "30 - 2018201820182018201820182018201820182018\n",
            "32 - 2018201820182018201820182018201820182018\n",
            "1 - 2017201720172017201720172017201720172017\n",
            "2 - 2017201720172017201720172017201720172017\n",
            "3 - 2017201720172017201720172017201720172017\n",
            "4 - 2017201720172017201720172017201720172017\n",
            "5 - 2017201720172017201720172017201720172017\n",
            "6 - 2017201720172017201720172017201720172017\n",
            "7 - 2017201720172017201720172017201720172017\n",
            "8 - 2017201720172017201720172017201720172017\n",
            "9 - 2017201720172017201720172017201720172017\n",
            "10 - 2017201720172017201720172017201720172017\n",
            "11 - 2017201720172017201720172017201720172017\n",
            "12 - 2017201720172017201720172017201720172017\n",
            "13 - 2017201720172017201720172017201720172017\n",
            "14 - 2017201720172017201720172017201720172017\n",
            "15 - 2017201720172017201720172017201720172017\n",
            "16 - 2017201720172017201720172017201720172017\n",
            "17 - 2017201720172017201720172017201720172017\n",
            "18 - 2017201720172017201720172017201720172017\n",
            "28 - 2017201720172017201720172017201720172017\n",
            "29 - 2017201720172017201720172017201720172017\n",
            "30 - 2017201720172017201720172017201720172017\n",
            "32 - 2017201720172017201720172017201720172017\n",
            "1 - 2016201620162016201620162016201620162016\n"
          ]
        },
        {
          "output_type": "stream",
          "name": "stderr",
          "text": [
            "<ipython-input-26-993dc78fb8e7>:9: FutureWarning: The behavior of DataFrame concatenation with empty or all-NA entries is deprecated. In a future version, this will no longer exclude empty or all-NA columns when determining the result dtypes. To retain the old behavior, exclude the relevant entries before the concat operation.\n",
            "  df_receiving_all = pandas.concat([df_receiving_all, df_summary], axis = 0)\n"
          ]
        },
        {
          "output_type": "stream",
          "name": "stdout",
          "text": [
            "2 - 2016201620162016201620162016201620162016\n",
            "3 - 2016201620162016201620162016201620162016\n",
            "4 - 2016201620162016201620162016201620162016\n"
          ]
        },
        {
          "output_type": "stream",
          "name": "stderr",
          "text": [
            "<ipython-input-26-993dc78fb8e7>:9: FutureWarning: The behavior of DataFrame concatenation with empty or all-NA entries is deprecated. In a future version, this will no longer exclude empty or all-NA columns when determining the result dtypes. To retain the old behavior, exclude the relevant entries before the concat operation.\n",
            "  df_receiving_all = pandas.concat([df_receiving_all, df_summary], axis = 0)\n"
          ]
        },
        {
          "output_type": "stream",
          "name": "stdout",
          "text": [
            "5 - 2016201620162016201620162016201620162016\n"
          ]
        },
        {
          "output_type": "stream",
          "name": "stderr",
          "text": [
            "<ipython-input-26-993dc78fb8e7>:9: FutureWarning: The behavior of DataFrame concatenation with empty or all-NA entries is deprecated. In a future version, this will no longer exclude empty or all-NA columns when determining the result dtypes. To retain the old behavior, exclude the relevant entries before the concat operation.\n",
            "  df_receiving_all = pandas.concat([df_receiving_all, df_summary], axis = 0)\n"
          ]
        },
        {
          "output_type": "stream",
          "name": "stdout",
          "text": [
            "6 - 2016201620162016201620162016201620162016\n"
          ]
        },
        {
          "output_type": "stream",
          "name": "stderr",
          "text": [
            "<ipython-input-26-993dc78fb8e7>:9: FutureWarning: The behavior of DataFrame concatenation with empty or all-NA entries is deprecated. In a future version, this will no longer exclude empty or all-NA columns when determining the result dtypes. To retain the old behavior, exclude the relevant entries before the concat operation.\n",
            "  df_receiving_all = pandas.concat([df_receiving_all, df_summary], axis = 0)\n"
          ]
        },
        {
          "output_type": "stream",
          "name": "stdout",
          "text": [
            "7 - 2016201620162016201620162016201620162016\n"
          ]
        },
        {
          "output_type": "stream",
          "name": "stderr",
          "text": [
            "<ipython-input-26-993dc78fb8e7>:9: FutureWarning: The behavior of DataFrame concatenation with empty or all-NA entries is deprecated. In a future version, this will no longer exclude empty or all-NA columns when determining the result dtypes. To retain the old behavior, exclude the relevant entries before the concat operation.\n",
            "  df_receiving_all = pandas.concat([df_receiving_all, df_summary], axis = 0)\n"
          ]
        },
        {
          "output_type": "stream",
          "name": "stdout",
          "text": [
            "8 - 2016201620162016201620162016201620162016\n"
          ]
        },
        {
          "output_type": "stream",
          "name": "stderr",
          "text": [
            "<ipython-input-26-993dc78fb8e7>:9: FutureWarning: The behavior of DataFrame concatenation with empty or all-NA entries is deprecated. In a future version, this will no longer exclude empty or all-NA columns when determining the result dtypes. To retain the old behavior, exclude the relevant entries before the concat operation.\n",
            "  df_receiving_all = pandas.concat([df_receiving_all, df_summary], axis = 0)\n"
          ]
        },
        {
          "output_type": "stream",
          "name": "stdout",
          "text": [
            "9 - 2016201620162016201620162016201620162016\n"
          ]
        },
        {
          "output_type": "stream",
          "name": "stderr",
          "text": [
            "<ipython-input-26-993dc78fb8e7>:9: FutureWarning: The behavior of DataFrame concatenation with empty or all-NA entries is deprecated. In a future version, this will no longer exclude empty or all-NA columns when determining the result dtypes. To retain the old behavior, exclude the relevant entries before the concat operation.\n",
            "  df_receiving_all = pandas.concat([df_receiving_all, df_summary], axis = 0)\n"
          ]
        },
        {
          "output_type": "stream",
          "name": "stdout",
          "text": [
            "10 - 2016201620162016201620162016201620162016\n"
          ]
        },
        {
          "output_type": "stream",
          "name": "stderr",
          "text": [
            "<ipython-input-26-993dc78fb8e7>:9: FutureWarning: The behavior of DataFrame concatenation with empty or all-NA entries is deprecated. In a future version, this will no longer exclude empty or all-NA columns when determining the result dtypes. To retain the old behavior, exclude the relevant entries before the concat operation.\n",
            "  df_receiving_all = pandas.concat([df_receiving_all, df_summary], axis = 0)\n"
          ]
        },
        {
          "output_type": "stream",
          "name": "stdout",
          "text": [
            "11 - 2016201620162016201620162016201620162016\n"
          ]
        },
        {
          "output_type": "stream",
          "name": "stderr",
          "text": [
            "<ipython-input-26-993dc78fb8e7>:9: FutureWarning: The behavior of DataFrame concatenation with empty or all-NA entries is deprecated. In a future version, this will no longer exclude empty or all-NA columns when determining the result dtypes. To retain the old behavior, exclude the relevant entries before the concat operation.\n",
            "  df_receiving_all = pandas.concat([df_receiving_all, df_summary], axis = 0)\n"
          ]
        },
        {
          "output_type": "stream",
          "name": "stdout",
          "text": [
            "12 - 2016201620162016201620162016201620162016\n"
          ]
        },
        {
          "output_type": "stream",
          "name": "stderr",
          "text": [
            "<ipython-input-26-993dc78fb8e7>:9: FutureWarning: The behavior of DataFrame concatenation with empty or all-NA entries is deprecated. In a future version, this will no longer exclude empty or all-NA columns when determining the result dtypes. To retain the old behavior, exclude the relevant entries before the concat operation.\n",
            "  df_receiving_all = pandas.concat([df_receiving_all, df_summary], axis = 0)\n"
          ]
        },
        {
          "output_type": "stream",
          "name": "stdout",
          "text": [
            "13 - 2016201620162016201620162016201620162016\n"
          ]
        },
        {
          "output_type": "stream",
          "name": "stderr",
          "text": [
            "<ipython-input-26-993dc78fb8e7>:9: FutureWarning: The behavior of DataFrame concatenation with empty or all-NA entries is deprecated. In a future version, this will no longer exclude empty or all-NA columns when determining the result dtypes. To retain the old behavior, exclude the relevant entries before the concat operation.\n",
            "  df_receiving_all = pandas.concat([df_receiving_all, df_summary], axis = 0)\n"
          ]
        },
        {
          "output_type": "stream",
          "name": "stdout",
          "text": [
            "14 - 2016201620162016201620162016201620162016\n"
          ]
        },
        {
          "output_type": "stream",
          "name": "stderr",
          "text": [
            "<ipython-input-26-993dc78fb8e7>:9: FutureWarning: The behavior of DataFrame concatenation with empty or all-NA entries is deprecated. In a future version, this will no longer exclude empty or all-NA columns when determining the result dtypes. To retain the old behavior, exclude the relevant entries before the concat operation.\n",
            "  df_receiving_all = pandas.concat([df_receiving_all, df_summary], axis = 0)\n"
          ]
        },
        {
          "output_type": "stream",
          "name": "stdout",
          "text": [
            "15 - 2016201620162016201620162016201620162016\n"
          ]
        },
        {
          "output_type": "stream",
          "name": "stderr",
          "text": [
            "<ipython-input-26-993dc78fb8e7>:9: FutureWarning: The behavior of DataFrame concatenation with empty or all-NA entries is deprecated. In a future version, this will no longer exclude empty or all-NA columns when determining the result dtypes. To retain the old behavior, exclude the relevant entries before the concat operation.\n",
            "  df_receiving_all = pandas.concat([df_receiving_all, df_summary], axis = 0)\n"
          ]
        },
        {
          "output_type": "stream",
          "name": "stdout",
          "text": [
            "16 - 2016201620162016201620162016201620162016\n"
          ]
        },
        {
          "output_type": "stream",
          "name": "stderr",
          "text": [
            "<ipython-input-26-993dc78fb8e7>:9: FutureWarning: The behavior of DataFrame concatenation with empty or all-NA entries is deprecated. In a future version, this will no longer exclude empty or all-NA columns when determining the result dtypes. To retain the old behavior, exclude the relevant entries before the concat operation.\n",
            "  df_receiving_all = pandas.concat([df_receiving_all, df_summary], axis = 0)\n"
          ]
        },
        {
          "output_type": "stream",
          "name": "stdout",
          "text": [
            "17 - 2016201620162016201620162016201620162016\n",
            "18 - 2016201620162016201620162016201620162016\n"
          ]
        },
        {
          "output_type": "stream",
          "name": "stderr",
          "text": [
            "<ipython-input-26-993dc78fb8e7>:9: FutureWarning: The behavior of DataFrame concatenation with empty or all-NA entries is deprecated. In a future version, this will no longer exclude empty or all-NA columns when determining the result dtypes. To retain the old behavior, exclude the relevant entries before the concat operation.\n",
            "  df_receiving_all = pandas.concat([df_receiving_all, df_summary], axis = 0)\n"
          ]
        },
        {
          "output_type": "stream",
          "name": "stdout",
          "text": [
            "28 - 2016201620162016201620162016201620162016\n"
          ]
        },
        {
          "output_type": "stream",
          "name": "stderr",
          "text": [
            "<ipython-input-26-993dc78fb8e7>:9: FutureWarning: The behavior of DataFrame concatenation with empty or all-NA entries is deprecated. In a future version, this will no longer exclude empty or all-NA columns when determining the result dtypes. To retain the old behavior, exclude the relevant entries before the concat operation.\n",
            "  df_receiving_all = pandas.concat([df_receiving_all, df_summary], axis = 0)\n"
          ]
        },
        {
          "output_type": "stream",
          "name": "stdout",
          "text": [
            "29 - 2016201620162016201620162016201620162016\n"
          ]
        },
        {
          "output_type": "stream",
          "name": "stderr",
          "text": [
            "<ipython-input-26-993dc78fb8e7>:9: FutureWarning: The behavior of DataFrame concatenation with empty or all-NA entries is deprecated. In a future version, this will no longer exclude empty or all-NA columns when determining the result dtypes. To retain the old behavior, exclude the relevant entries before the concat operation.\n",
            "  df_receiving_all = pandas.concat([df_receiving_all, df_summary], axis = 0)\n"
          ]
        },
        {
          "output_type": "stream",
          "name": "stdout",
          "text": [
            "30 - 2016201620162016201620162016201620162016\n",
            "32 - 2016201620162016201620162016201620162016\n"
          ]
        }
      ],
      "source": [
        "#years = [2024, 2023, 2022, 2021, 2020, 2019, 2018, 2017, 2016]\n",
        "#weeks = [1,2,3,4,5,6,7,8,9,10,11,12,13,14,15,16,17,18,28,29,30,32]\n",
        "for year in years:\n",
        "    for week in weeks:\n",
        "      summary = requests.get(rf'https://premium.pff.com/api/v1/facet/receiving/summary?league=nfl&season={year}&week={week}', cookies = cookies)\n",
        "      df_summary = pandas.DataFrame(summary.json()['receiving_summary'])\n",
        "      df_summary[\"Week\"] = week\n",
        "      df_summary[\"Season\"] = year\n",
        "      df_receiving_all = pandas.concat([df_receiving_all, df_summary], axis = 0)\n",
        "      print(str(week) + \" - \" + str(year)*10)\n",
        "\n",
        "# THIS IS FOR RECEIVING STATS - 2016-22"
      ]
    },
    {
      "cell_type": "code",
      "execution_count": null,
      "metadata": {
        "colab": {
          "base_uri": "https://localhost:8080/",
          "height": 17
        },
        "id": "eO-5S8UUXDFN",
        "outputId": "2b94a567-c96b-486b-8bfe-b79315587d8e"
      },
      "outputs": [
        {
          "output_type": "display_data",
          "data": {
            "text/plain": [
              "<IPython.core.display.Javascript object>"
            ],
            "application/javascript": [
              "\n",
              "    async function download(id, filename, size) {\n",
              "      if (!google.colab.kernel.accessAllowed) {\n",
              "        return;\n",
              "      }\n",
              "      const div = document.createElement('div');\n",
              "      const label = document.createElement('label');\n",
              "      label.textContent = `Downloading \"${filename}\": `;\n",
              "      div.appendChild(label);\n",
              "      const progress = document.createElement('progress');\n",
              "      progress.max = size;\n",
              "      div.appendChild(progress);\n",
              "      document.body.appendChild(div);\n",
              "\n",
              "      const buffers = [];\n",
              "      let downloaded = 0;\n",
              "\n",
              "      const channel = await google.colab.kernel.comms.open(id);\n",
              "      // Send a message to notify the kernel that we're ready.\n",
              "      channel.send({})\n",
              "\n",
              "      for await (const message of channel.messages) {\n",
              "        // Send a message to notify the kernel that we're ready.\n",
              "        channel.send({})\n",
              "        if (message.buffers) {\n",
              "          for (const buffer of message.buffers) {\n",
              "            buffers.push(buffer);\n",
              "            downloaded += buffer.byteLength;\n",
              "            progress.value = downloaded;\n",
              "          }\n",
              "        }\n",
              "      }\n",
              "      const blob = new Blob(buffers, {type: 'application/binary'});\n",
              "      const a = document.createElement('a');\n",
              "      a.href = window.URL.createObjectURL(blob);\n",
              "      a.download = filename;\n",
              "      div.appendChild(a);\n",
              "      a.click();\n",
              "      div.remove();\n",
              "    }\n",
              "  "
            ]
          },
          "metadata": {}
        },
        {
          "output_type": "display_data",
          "data": {
            "text/plain": [
              "<IPython.core.display.Javascript object>"
            ],
            "application/javascript": [
              "download(\"download_a9d89b03-5078-43c5-99f0-0f47a2f85fa4\", \"df_receiving_all.xlsx\", 8811090)"
            ]
          },
          "metadata": {}
        }
      ],
      "source": [
        "df_receiving_all.to_excel(\"df_receiving_all.xlsx\", index = False)\n",
        "files.download(\"df_receiving_all.xlsx\")"
      ]
    },
    {
      "cell_type": "code",
      "execution_count": null,
      "metadata": {
        "id": "QSMA8erq3ILE"
      },
      "outputs": [],
      "source": [
        "df_receiving_depth_all = pandas.DataFrame()"
      ]
    },
    {
      "cell_type": "code",
      "execution_count": null,
      "metadata": {
        "colab": {
          "base_uri": "https://localhost:8080/"
        },
        "id": "rU-DA7LV3JwN",
        "outputId": "6b4bac07-f998-444c-cc4f-47a3fdca5c6a"
      },
      "outputs": [
        {
          "output_type": "stream",
          "name": "stdout",
          "text": [
            "1 - 2024202420242024202420242024202420242024\n",
            "2 - 2024202420242024202420242024202420242024\n"
          ]
        },
        {
          "output_type": "stream",
          "name": "stderr",
          "text": [
            "<ipython-input-29-871837843d1e>:9: FutureWarning: The behavior of DataFrame concatenation with empty or all-NA entries is deprecated. In a future version, this will no longer exclude empty or all-NA columns when determining the result dtypes. To retain the old behavior, exclude the relevant entries before the concat operation.\n",
            "  df_receiving_depth_all = pandas.concat([df_receiving_depth_all, df_summary], axis = 0)\n"
          ]
        },
        {
          "output_type": "stream",
          "name": "stdout",
          "text": [
            "3 - 2024202420242024202420242024202420242024\n"
          ]
        },
        {
          "output_type": "stream",
          "name": "stderr",
          "text": [
            "<ipython-input-29-871837843d1e>:9: FutureWarning: The behavior of DataFrame concatenation with empty or all-NA entries is deprecated. In a future version, this will no longer exclude empty or all-NA columns when determining the result dtypes. To retain the old behavior, exclude the relevant entries before the concat operation.\n",
            "  df_receiving_depth_all = pandas.concat([df_receiving_depth_all, df_summary], axis = 0)\n"
          ]
        },
        {
          "output_type": "stream",
          "name": "stdout",
          "text": [
            "4 - 2024202420242024202420242024202420242024\n"
          ]
        },
        {
          "output_type": "stream",
          "name": "stderr",
          "text": [
            "<ipython-input-29-871837843d1e>:9: FutureWarning: The behavior of DataFrame concatenation with empty or all-NA entries is deprecated. In a future version, this will no longer exclude empty or all-NA columns when determining the result dtypes. To retain the old behavior, exclude the relevant entries before the concat operation.\n",
            "  df_receiving_depth_all = pandas.concat([df_receiving_depth_all, df_summary], axis = 0)\n"
          ]
        },
        {
          "output_type": "stream",
          "name": "stdout",
          "text": [
            "5 - 2024202420242024202420242024202420242024\n"
          ]
        },
        {
          "output_type": "stream",
          "name": "stderr",
          "text": [
            "<ipython-input-29-871837843d1e>:9: FutureWarning: The behavior of DataFrame concatenation with empty or all-NA entries is deprecated. In a future version, this will no longer exclude empty or all-NA columns when determining the result dtypes. To retain the old behavior, exclude the relevant entries before the concat operation.\n",
            "  df_receiving_depth_all = pandas.concat([df_receiving_depth_all, df_summary], axis = 0)\n"
          ]
        },
        {
          "output_type": "stream",
          "name": "stdout",
          "text": [
            "6 - 2024202420242024202420242024202420242024\n"
          ]
        },
        {
          "output_type": "stream",
          "name": "stderr",
          "text": [
            "<ipython-input-29-871837843d1e>:9: FutureWarning: The behavior of DataFrame concatenation with empty or all-NA entries is deprecated. In a future version, this will no longer exclude empty or all-NA columns when determining the result dtypes. To retain the old behavior, exclude the relevant entries before the concat operation.\n",
            "  df_receiving_depth_all = pandas.concat([df_receiving_depth_all, df_summary], axis = 0)\n"
          ]
        },
        {
          "output_type": "stream",
          "name": "stdout",
          "text": [
            "7 - 2024202420242024202420242024202420242024\n"
          ]
        },
        {
          "output_type": "stream",
          "name": "stderr",
          "text": [
            "<ipython-input-29-871837843d1e>:9: FutureWarning: The behavior of DataFrame concatenation with empty or all-NA entries is deprecated. In a future version, this will no longer exclude empty or all-NA columns when determining the result dtypes. To retain the old behavior, exclude the relevant entries before the concat operation.\n",
            "  df_receiving_depth_all = pandas.concat([df_receiving_depth_all, df_summary], axis = 0)\n"
          ]
        },
        {
          "output_type": "stream",
          "name": "stdout",
          "text": [
            "8 - 2024202420242024202420242024202420242024\n",
            "9 - 2024202420242024202420242024202420242024\n"
          ]
        },
        {
          "output_type": "stream",
          "name": "stderr",
          "text": [
            "<ipython-input-29-871837843d1e>:9: FutureWarning: The behavior of DataFrame concatenation with empty or all-NA entries is deprecated. In a future version, this will no longer exclude empty or all-NA columns when determining the result dtypes. To retain the old behavior, exclude the relevant entries before the concat operation.\n",
            "  df_receiving_depth_all = pandas.concat([df_receiving_depth_all, df_summary], axis = 0)\n"
          ]
        },
        {
          "output_type": "stream",
          "name": "stdout",
          "text": [
            "10 - 2024202420242024202420242024202420242024\n"
          ]
        },
        {
          "output_type": "stream",
          "name": "stderr",
          "text": [
            "<ipython-input-29-871837843d1e>:9: FutureWarning: The behavior of DataFrame concatenation with empty or all-NA entries is deprecated. In a future version, this will no longer exclude empty or all-NA columns when determining the result dtypes. To retain the old behavior, exclude the relevant entries before the concat operation.\n",
            "  df_receiving_depth_all = pandas.concat([df_receiving_depth_all, df_summary], axis = 0)\n"
          ]
        },
        {
          "output_type": "stream",
          "name": "stdout",
          "text": [
            "11 - 2024202420242024202420242024202420242024\n"
          ]
        },
        {
          "output_type": "stream",
          "name": "stderr",
          "text": [
            "<ipython-input-29-871837843d1e>:9: FutureWarning: The behavior of DataFrame concatenation with empty or all-NA entries is deprecated. In a future version, this will no longer exclude empty or all-NA columns when determining the result dtypes. To retain the old behavior, exclude the relevant entries before the concat operation.\n",
            "  df_receiving_depth_all = pandas.concat([df_receiving_depth_all, df_summary], axis = 0)\n"
          ]
        },
        {
          "output_type": "stream",
          "name": "stdout",
          "text": [
            "12 - 2024202420242024202420242024202420242024\n"
          ]
        },
        {
          "output_type": "stream",
          "name": "stderr",
          "text": [
            "<ipython-input-29-871837843d1e>:9: FutureWarning: The behavior of DataFrame concatenation with empty or all-NA entries is deprecated. In a future version, this will no longer exclude empty or all-NA columns when determining the result dtypes. To retain the old behavior, exclude the relevant entries before the concat operation.\n",
            "  df_receiving_depth_all = pandas.concat([df_receiving_depth_all, df_summary], axis = 0)\n"
          ]
        },
        {
          "output_type": "stream",
          "name": "stdout",
          "text": [
            "13 - 2024202420242024202420242024202420242024\n"
          ]
        },
        {
          "output_type": "stream",
          "name": "stderr",
          "text": [
            "<ipython-input-29-871837843d1e>:9: FutureWarning: The behavior of DataFrame concatenation with empty or all-NA entries is deprecated. In a future version, this will no longer exclude empty or all-NA columns when determining the result dtypes. To retain the old behavior, exclude the relevant entries before the concat operation.\n",
            "  df_receiving_depth_all = pandas.concat([df_receiving_depth_all, df_summary], axis = 0)\n"
          ]
        },
        {
          "output_type": "stream",
          "name": "stdout",
          "text": [
            "14 - 2024202420242024202420242024202420242024\n"
          ]
        },
        {
          "output_type": "stream",
          "name": "stderr",
          "text": [
            "<ipython-input-29-871837843d1e>:9: FutureWarning: The behavior of DataFrame concatenation with empty or all-NA entries is deprecated. In a future version, this will no longer exclude empty or all-NA columns when determining the result dtypes. To retain the old behavior, exclude the relevant entries before the concat operation.\n",
            "  df_receiving_depth_all = pandas.concat([df_receiving_depth_all, df_summary], axis = 0)\n"
          ]
        },
        {
          "output_type": "stream",
          "name": "stdout",
          "text": [
            "15 - 2024202420242024202420242024202420242024\n"
          ]
        },
        {
          "output_type": "stream",
          "name": "stderr",
          "text": [
            "<ipython-input-29-871837843d1e>:9: FutureWarning: The behavior of DataFrame concatenation with empty or all-NA entries is deprecated. In a future version, this will no longer exclude empty or all-NA columns when determining the result dtypes. To retain the old behavior, exclude the relevant entries before the concat operation.\n",
            "  df_receiving_depth_all = pandas.concat([df_receiving_depth_all, df_summary], axis = 0)\n"
          ]
        },
        {
          "output_type": "stream",
          "name": "stdout",
          "text": [
            "16 - 2024202420242024202420242024202420242024\n"
          ]
        },
        {
          "output_type": "stream",
          "name": "stderr",
          "text": [
            "<ipython-input-29-871837843d1e>:9: FutureWarning: The behavior of DataFrame concatenation with empty or all-NA entries is deprecated. In a future version, this will no longer exclude empty or all-NA columns when determining the result dtypes. To retain the old behavior, exclude the relevant entries before the concat operation.\n",
            "  df_receiving_depth_all = pandas.concat([df_receiving_depth_all, df_summary], axis = 0)\n"
          ]
        },
        {
          "output_type": "stream",
          "name": "stdout",
          "text": [
            "17 - 2024202420242024202420242024202420242024\n"
          ]
        },
        {
          "output_type": "stream",
          "name": "stderr",
          "text": [
            "<ipython-input-29-871837843d1e>:9: FutureWarning: The behavior of DataFrame concatenation with empty or all-NA entries is deprecated. In a future version, this will no longer exclude empty or all-NA columns when determining the result dtypes. To retain the old behavior, exclude the relevant entries before the concat operation.\n",
            "  df_receiving_depth_all = pandas.concat([df_receiving_depth_all, df_summary], axis = 0)\n"
          ]
        },
        {
          "output_type": "stream",
          "name": "stdout",
          "text": [
            "18 - 2024202420242024202420242024202420242024\n"
          ]
        },
        {
          "output_type": "stream",
          "name": "stderr",
          "text": [
            "<ipython-input-29-871837843d1e>:9: FutureWarning: The behavior of DataFrame concatenation with empty or all-NA entries is deprecated. In a future version, this will no longer exclude empty or all-NA columns when determining the result dtypes. To retain the old behavior, exclude the relevant entries before the concat operation.\n",
            "  df_receiving_depth_all = pandas.concat([df_receiving_depth_all, df_summary], axis = 0)\n"
          ]
        },
        {
          "output_type": "stream",
          "name": "stdout",
          "text": [
            "28 - 2024202420242024202420242024202420242024\n"
          ]
        },
        {
          "output_type": "stream",
          "name": "stderr",
          "text": [
            "<ipython-input-29-871837843d1e>:9: FutureWarning: The behavior of DataFrame concatenation with empty or all-NA entries is deprecated. In a future version, this will no longer exclude empty or all-NA columns when determining the result dtypes. To retain the old behavior, exclude the relevant entries before the concat operation.\n",
            "  df_receiving_depth_all = pandas.concat([df_receiving_depth_all, df_summary], axis = 0)\n"
          ]
        },
        {
          "output_type": "stream",
          "name": "stdout",
          "text": [
            "29 - 2024202420242024202420242024202420242024\n"
          ]
        },
        {
          "output_type": "stream",
          "name": "stderr",
          "text": [
            "<ipython-input-29-871837843d1e>:9: FutureWarning: The behavior of DataFrame concatenation with empty or all-NA entries is deprecated. In a future version, this will no longer exclude empty or all-NA columns when determining the result dtypes. To retain the old behavior, exclude the relevant entries before the concat operation.\n",
            "  df_receiving_depth_all = pandas.concat([df_receiving_depth_all, df_summary], axis = 0)\n"
          ]
        },
        {
          "output_type": "stream",
          "name": "stdout",
          "text": [
            "30 - 2024202420242024202420242024202420242024\n"
          ]
        },
        {
          "output_type": "stream",
          "name": "stderr",
          "text": [
            "<ipython-input-29-871837843d1e>:9: FutureWarning: The behavior of DataFrame concatenation with empty or all-NA entries is deprecated. In a future version, this will no longer exclude empty or all-NA columns when determining the result dtypes. To retain the old behavior, exclude the relevant entries before the concat operation.\n",
            "  df_receiving_depth_all = pandas.concat([df_receiving_depth_all, df_summary], axis = 0)\n"
          ]
        },
        {
          "output_type": "stream",
          "name": "stdout",
          "text": [
            "32 - 2024202420242024202420242024202420242024\n"
          ]
        },
        {
          "output_type": "stream",
          "name": "stderr",
          "text": [
            "<ipython-input-29-871837843d1e>:9: FutureWarning: The behavior of DataFrame concatenation with empty or all-NA entries is deprecated. In a future version, this will no longer exclude empty or all-NA columns when determining the result dtypes. To retain the old behavior, exclude the relevant entries before the concat operation.\n",
            "  df_receiving_depth_all = pandas.concat([df_receiving_depth_all, df_summary], axis = 0)\n"
          ]
        },
        {
          "output_type": "stream",
          "name": "stdout",
          "text": [
            "1 - 2023202320232023202320232023202320232023\n"
          ]
        },
        {
          "output_type": "stream",
          "name": "stderr",
          "text": [
            "<ipython-input-29-871837843d1e>:9: FutureWarning: The behavior of DataFrame concatenation with empty or all-NA entries is deprecated. In a future version, this will no longer exclude empty or all-NA columns when determining the result dtypes. To retain the old behavior, exclude the relevant entries before the concat operation.\n",
            "  df_receiving_depth_all = pandas.concat([df_receiving_depth_all, df_summary], axis = 0)\n"
          ]
        },
        {
          "output_type": "stream",
          "name": "stdout",
          "text": [
            "2 - 2023202320232023202320232023202320232023\n"
          ]
        },
        {
          "output_type": "stream",
          "name": "stderr",
          "text": [
            "<ipython-input-29-871837843d1e>:9: FutureWarning: The behavior of DataFrame concatenation with empty or all-NA entries is deprecated. In a future version, this will no longer exclude empty or all-NA columns when determining the result dtypes. To retain the old behavior, exclude the relevant entries before the concat operation.\n",
            "  df_receiving_depth_all = pandas.concat([df_receiving_depth_all, df_summary], axis = 0)\n"
          ]
        },
        {
          "output_type": "stream",
          "name": "stdout",
          "text": [
            "3 - 2023202320232023202320232023202320232023\n"
          ]
        },
        {
          "output_type": "stream",
          "name": "stderr",
          "text": [
            "<ipython-input-29-871837843d1e>:9: FutureWarning: The behavior of DataFrame concatenation with empty or all-NA entries is deprecated. In a future version, this will no longer exclude empty or all-NA columns when determining the result dtypes. To retain the old behavior, exclude the relevant entries before the concat operation.\n",
            "  df_receiving_depth_all = pandas.concat([df_receiving_depth_all, df_summary], axis = 0)\n"
          ]
        },
        {
          "output_type": "stream",
          "name": "stdout",
          "text": [
            "4 - 2023202320232023202320232023202320232023\n"
          ]
        },
        {
          "output_type": "stream",
          "name": "stderr",
          "text": [
            "<ipython-input-29-871837843d1e>:9: FutureWarning: The behavior of DataFrame concatenation with empty or all-NA entries is deprecated. In a future version, this will no longer exclude empty or all-NA columns when determining the result dtypes. To retain the old behavior, exclude the relevant entries before the concat operation.\n",
            "  df_receiving_depth_all = pandas.concat([df_receiving_depth_all, df_summary], axis = 0)\n"
          ]
        },
        {
          "output_type": "stream",
          "name": "stdout",
          "text": [
            "5 - 2023202320232023202320232023202320232023\n"
          ]
        },
        {
          "output_type": "stream",
          "name": "stderr",
          "text": [
            "<ipython-input-29-871837843d1e>:9: FutureWarning: The behavior of DataFrame concatenation with empty or all-NA entries is deprecated. In a future version, this will no longer exclude empty or all-NA columns when determining the result dtypes. To retain the old behavior, exclude the relevant entries before the concat operation.\n",
            "  df_receiving_depth_all = pandas.concat([df_receiving_depth_all, df_summary], axis = 0)\n"
          ]
        },
        {
          "output_type": "stream",
          "name": "stdout",
          "text": [
            "6 - 2023202320232023202320232023202320232023\n",
            "7 - 2023202320232023202320232023202320232023\n"
          ]
        },
        {
          "output_type": "stream",
          "name": "stderr",
          "text": [
            "<ipython-input-29-871837843d1e>:9: FutureWarning: The behavior of DataFrame concatenation with empty or all-NA entries is deprecated. In a future version, this will no longer exclude empty or all-NA columns when determining the result dtypes. To retain the old behavior, exclude the relevant entries before the concat operation.\n",
            "  df_receiving_depth_all = pandas.concat([df_receiving_depth_all, df_summary], axis = 0)\n"
          ]
        },
        {
          "output_type": "stream",
          "name": "stdout",
          "text": [
            "8 - 2023202320232023202320232023202320232023\n"
          ]
        },
        {
          "output_type": "stream",
          "name": "stderr",
          "text": [
            "<ipython-input-29-871837843d1e>:9: FutureWarning: The behavior of DataFrame concatenation with empty or all-NA entries is deprecated. In a future version, this will no longer exclude empty or all-NA columns when determining the result dtypes. To retain the old behavior, exclude the relevant entries before the concat operation.\n",
            "  df_receiving_depth_all = pandas.concat([df_receiving_depth_all, df_summary], axis = 0)\n"
          ]
        },
        {
          "output_type": "stream",
          "name": "stdout",
          "text": [
            "9 - 2023202320232023202320232023202320232023\n"
          ]
        },
        {
          "output_type": "stream",
          "name": "stderr",
          "text": [
            "<ipython-input-29-871837843d1e>:9: FutureWarning: The behavior of DataFrame concatenation with empty or all-NA entries is deprecated. In a future version, this will no longer exclude empty or all-NA columns when determining the result dtypes. To retain the old behavior, exclude the relevant entries before the concat operation.\n",
            "  df_receiving_depth_all = pandas.concat([df_receiving_depth_all, df_summary], axis = 0)\n"
          ]
        },
        {
          "output_type": "stream",
          "name": "stdout",
          "text": [
            "10 - 2023202320232023202320232023202320232023\n"
          ]
        },
        {
          "output_type": "stream",
          "name": "stderr",
          "text": [
            "<ipython-input-29-871837843d1e>:9: FutureWarning: The behavior of DataFrame concatenation with empty or all-NA entries is deprecated. In a future version, this will no longer exclude empty or all-NA columns when determining the result dtypes. To retain the old behavior, exclude the relevant entries before the concat operation.\n",
            "  df_receiving_depth_all = pandas.concat([df_receiving_depth_all, df_summary], axis = 0)\n"
          ]
        },
        {
          "output_type": "stream",
          "name": "stdout",
          "text": [
            "11 - 2023202320232023202320232023202320232023\n"
          ]
        },
        {
          "output_type": "stream",
          "name": "stderr",
          "text": [
            "<ipython-input-29-871837843d1e>:9: FutureWarning: The behavior of DataFrame concatenation with empty or all-NA entries is deprecated. In a future version, this will no longer exclude empty or all-NA columns when determining the result dtypes. To retain the old behavior, exclude the relevant entries before the concat operation.\n",
            "  df_receiving_depth_all = pandas.concat([df_receiving_depth_all, df_summary], axis = 0)\n"
          ]
        },
        {
          "output_type": "stream",
          "name": "stdout",
          "text": [
            "12 - 2023202320232023202320232023202320232023\n"
          ]
        },
        {
          "output_type": "stream",
          "name": "stderr",
          "text": [
            "<ipython-input-29-871837843d1e>:9: FutureWarning: The behavior of DataFrame concatenation with empty or all-NA entries is deprecated. In a future version, this will no longer exclude empty or all-NA columns when determining the result dtypes. To retain the old behavior, exclude the relevant entries before the concat operation.\n",
            "  df_receiving_depth_all = pandas.concat([df_receiving_depth_all, df_summary], axis = 0)\n"
          ]
        },
        {
          "output_type": "stream",
          "name": "stdout",
          "text": [
            "13 - 2023202320232023202320232023202320232023\n"
          ]
        },
        {
          "output_type": "stream",
          "name": "stderr",
          "text": [
            "<ipython-input-29-871837843d1e>:9: FutureWarning: The behavior of DataFrame concatenation with empty or all-NA entries is deprecated. In a future version, this will no longer exclude empty or all-NA columns when determining the result dtypes. To retain the old behavior, exclude the relevant entries before the concat operation.\n",
            "  df_receiving_depth_all = pandas.concat([df_receiving_depth_all, df_summary], axis = 0)\n"
          ]
        },
        {
          "output_type": "stream",
          "name": "stdout",
          "text": [
            "14 - 2023202320232023202320232023202320232023\n"
          ]
        },
        {
          "output_type": "stream",
          "name": "stderr",
          "text": [
            "<ipython-input-29-871837843d1e>:9: FutureWarning: The behavior of DataFrame concatenation with empty or all-NA entries is deprecated. In a future version, this will no longer exclude empty or all-NA columns when determining the result dtypes. To retain the old behavior, exclude the relevant entries before the concat operation.\n",
            "  df_receiving_depth_all = pandas.concat([df_receiving_depth_all, df_summary], axis = 0)\n"
          ]
        },
        {
          "output_type": "stream",
          "name": "stdout",
          "text": [
            "15 - 2023202320232023202320232023202320232023\n"
          ]
        },
        {
          "output_type": "stream",
          "name": "stderr",
          "text": [
            "<ipython-input-29-871837843d1e>:9: FutureWarning: The behavior of DataFrame concatenation with empty or all-NA entries is deprecated. In a future version, this will no longer exclude empty or all-NA columns when determining the result dtypes. To retain the old behavior, exclude the relevant entries before the concat operation.\n",
            "  df_receiving_depth_all = pandas.concat([df_receiving_depth_all, df_summary], axis = 0)\n"
          ]
        },
        {
          "output_type": "stream",
          "name": "stdout",
          "text": [
            "16 - 2023202320232023202320232023202320232023\n",
            "17 - 2023202320232023202320232023202320232023\n"
          ]
        },
        {
          "output_type": "stream",
          "name": "stderr",
          "text": [
            "<ipython-input-29-871837843d1e>:9: FutureWarning: The behavior of DataFrame concatenation with empty or all-NA entries is deprecated. In a future version, this will no longer exclude empty or all-NA columns when determining the result dtypes. To retain the old behavior, exclude the relevant entries before the concat operation.\n",
            "  df_receiving_depth_all = pandas.concat([df_receiving_depth_all, df_summary], axis = 0)\n"
          ]
        },
        {
          "output_type": "stream",
          "name": "stdout",
          "text": [
            "18 - 2023202320232023202320232023202320232023\n"
          ]
        },
        {
          "output_type": "stream",
          "name": "stderr",
          "text": [
            "<ipython-input-29-871837843d1e>:9: FutureWarning: The behavior of DataFrame concatenation with empty or all-NA entries is deprecated. In a future version, this will no longer exclude empty or all-NA columns when determining the result dtypes. To retain the old behavior, exclude the relevant entries before the concat operation.\n",
            "  df_receiving_depth_all = pandas.concat([df_receiving_depth_all, df_summary], axis = 0)\n"
          ]
        },
        {
          "output_type": "stream",
          "name": "stdout",
          "text": [
            "28 - 2023202320232023202320232023202320232023\n"
          ]
        },
        {
          "output_type": "stream",
          "name": "stderr",
          "text": [
            "<ipython-input-29-871837843d1e>:9: FutureWarning: The behavior of DataFrame concatenation with empty or all-NA entries is deprecated. In a future version, this will no longer exclude empty or all-NA columns when determining the result dtypes. To retain the old behavior, exclude the relevant entries before the concat operation.\n",
            "  df_receiving_depth_all = pandas.concat([df_receiving_depth_all, df_summary], axis = 0)\n"
          ]
        },
        {
          "output_type": "stream",
          "name": "stdout",
          "text": [
            "29 - 2023202320232023202320232023202320232023\n"
          ]
        },
        {
          "output_type": "stream",
          "name": "stderr",
          "text": [
            "<ipython-input-29-871837843d1e>:9: FutureWarning: The behavior of DataFrame concatenation with empty or all-NA entries is deprecated. In a future version, this will no longer exclude empty or all-NA columns when determining the result dtypes. To retain the old behavior, exclude the relevant entries before the concat operation.\n",
            "  df_receiving_depth_all = pandas.concat([df_receiving_depth_all, df_summary], axis = 0)\n"
          ]
        },
        {
          "output_type": "stream",
          "name": "stdout",
          "text": [
            "30 - 2023202320232023202320232023202320232023\n"
          ]
        },
        {
          "output_type": "stream",
          "name": "stderr",
          "text": [
            "<ipython-input-29-871837843d1e>:9: FutureWarning: The behavior of DataFrame concatenation with empty or all-NA entries is deprecated. In a future version, this will no longer exclude empty or all-NA columns when determining the result dtypes. To retain the old behavior, exclude the relevant entries before the concat operation.\n",
            "  df_receiving_depth_all = pandas.concat([df_receiving_depth_all, df_summary], axis = 0)\n"
          ]
        },
        {
          "output_type": "stream",
          "name": "stdout",
          "text": [
            "32 - 2023202320232023202320232023202320232023\n"
          ]
        },
        {
          "output_type": "stream",
          "name": "stderr",
          "text": [
            "<ipython-input-29-871837843d1e>:9: FutureWarning: The behavior of DataFrame concatenation with empty or all-NA entries is deprecated. In a future version, this will no longer exclude empty or all-NA columns when determining the result dtypes. To retain the old behavior, exclude the relevant entries before the concat operation.\n",
            "  df_receiving_depth_all = pandas.concat([df_receiving_depth_all, df_summary], axis = 0)\n"
          ]
        },
        {
          "output_type": "stream",
          "name": "stdout",
          "text": [
            "1 - 2022202220222022202220222022202220222022\n",
            "2 - 2022202220222022202220222022202220222022\n"
          ]
        },
        {
          "output_type": "stream",
          "name": "stderr",
          "text": [
            "<ipython-input-29-871837843d1e>:9: FutureWarning: The behavior of DataFrame concatenation with empty or all-NA entries is deprecated. In a future version, this will no longer exclude empty or all-NA columns when determining the result dtypes. To retain the old behavior, exclude the relevant entries before the concat operation.\n",
            "  df_receiving_depth_all = pandas.concat([df_receiving_depth_all, df_summary], axis = 0)\n"
          ]
        },
        {
          "output_type": "stream",
          "name": "stdout",
          "text": [
            "3 - 2022202220222022202220222022202220222022\n"
          ]
        },
        {
          "output_type": "stream",
          "name": "stderr",
          "text": [
            "<ipython-input-29-871837843d1e>:9: FutureWarning: The behavior of DataFrame concatenation with empty or all-NA entries is deprecated. In a future version, this will no longer exclude empty or all-NA columns when determining the result dtypes. To retain the old behavior, exclude the relevant entries before the concat operation.\n",
            "  df_receiving_depth_all = pandas.concat([df_receiving_depth_all, df_summary], axis = 0)\n"
          ]
        },
        {
          "output_type": "stream",
          "name": "stdout",
          "text": [
            "4 - 2022202220222022202220222022202220222022\n"
          ]
        },
        {
          "output_type": "stream",
          "name": "stderr",
          "text": [
            "<ipython-input-29-871837843d1e>:9: FutureWarning: The behavior of DataFrame concatenation with empty or all-NA entries is deprecated. In a future version, this will no longer exclude empty or all-NA columns when determining the result dtypes. To retain the old behavior, exclude the relevant entries before the concat operation.\n",
            "  df_receiving_depth_all = pandas.concat([df_receiving_depth_all, df_summary], axis = 0)\n"
          ]
        },
        {
          "output_type": "stream",
          "name": "stdout",
          "text": [
            "5 - 2022202220222022202220222022202220222022\n"
          ]
        },
        {
          "output_type": "stream",
          "name": "stderr",
          "text": [
            "<ipython-input-29-871837843d1e>:9: FutureWarning: The behavior of DataFrame concatenation with empty or all-NA entries is deprecated. In a future version, this will no longer exclude empty or all-NA columns when determining the result dtypes. To retain the old behavior, exclude the relevant entries before the concat operation.\n",
            "  df_receiving_depth_all = pandas.concat([df_receiving_depth_all, df_summary], axis = 0)\n"
          ]
        },
        {
          "output_type": "stream",
          "name": "stdout",
          "text": [
            "6 - 2022202220222022202220222022202220222022\n"
          ]
        },
        {
          "output_type": "stream",
          "name": "stderr",
          "text": [
            "<ipython-input-29-871837843d1e>:9: FutureWarning: The behavior of DataFrame concatenation with empty or all-NA entries is deprecated. In a future version, this will no longer exclude empty or all-NA columns when determining the result dtypes. To retain the old behavior, exclude the relevant entries before the concat operation.\n",
            "  df_receiving_depth_all = pandas.concat([df_receiving_depth_all, df_summary], axis = 0)\n"
          ]
        },
        {
          "output_type": "stream",
          "name": "stdout",
          "text": [
            "7 - 2022202220222022202220222022202220222022\n"
          ]
        },
        {
          "output_type": "stream",
          "name": "stderr",
          "text": [
            "<ipython-input-29-871837843d1e>:9: FutureWarning: The behavior of DataFrame concatenation with empty or all-NA entries is deprecated. In a future version, this will no longer exclude empty or all-NA columns when determining the result dtypes. To retain the old behavior, exclude the relevant entries before the concat operation.\n",
            "  df_receiving_depth_all = pandas.concat([df_receiving_depth_all, df_summary], axis = 0)\n"
          ]
        },
        {
          "output_type": "stream",
          "name": "stdout",
          "text": [
            "8 - 2022202220222022202220222022202220222022\n"
          ]
        },
        {
          "output_type": "stream",
          "name": "stderr",
          "text": [
            "<ipython-input-29-871837843d1e>:9: FutureWarning: The behavior of DataFrame concatenation with empty or all-NA entries is deprecated. In a future version, this will no longer exclude empty or all-NA columns when determining the result dtypes. To retain the old behavior, exclude the relevant entries before the concat operation.\n",
            "  df_receiving_depth_all = pandas.concat([df_receiving_depth_all, df_summary], axis = 0)\n"
          ]
        },
        {
          "output_type": "stream",
          "name": "stdout",
          "text": [
            "9 - 2022202220222022202220222022202220222022\n"
          ]
        },
        {
          "output_type": "stream",
          "name": "stderr",
          "text": [
            "<ipython-input-29-871837843d1e>:9: FutureWarning: The behavior of DataFrame concatenation with empty or all-NA entries is deprecated. In a future version, this will no longer exclude empty or all-NA columns when determining the result dtypes. To retain the old behavior, exclude the relevant entries before the concat operation.\n",
            "  df_receiving_depth_all = pandas.concat([df_receiving_depth_all, df_summary], axis = 0)\n"
          ]
        },
        {
          "output_type": "stream",
          "name": "stdout",
          "text": [
            "10 - 2022202220222022202220222022202220222022\n"
          ]
        },
        {
          "output_type": "stream",
          "name": "stderr",
          "text": [
            "<ipython-input-29-871837843d1e>:9: FutureWarning: The behavior of DataFrame concatenation with empty or all-NA entries is deprecated. In a future version, this will no longer exclude empty or all-NA columns when determining the result dtypes. To retain the old behavior, exclude the relevant entries before the concat operation.\n",
            "  df_receiving_depth_all = pandas.concat([df_receiving_depth_all, df_summary], axis = 0)\n"
          ]
        },
        {
          "output_type": "stream",
          "name": "stdout",
          "text": [
            "11 - 2022202220222022202220222022202220222022\n"
          ]
        },
        {
          "output_type": "stream",
          "name": "stderr",
          "text": [
            "<ipython-input-29-871837843d1e>:9: FutureWarning: The behavior of DataFrame concatenation with empty or all-NA entries is deprecated. In a future version, this will no longer exclude empty or all-NA columns when determining the result dtypes. To retain the old behavior, exclude the relevant entries before the concat operation.\n",
            "  df_receiving_depth_all = pandas.concat([df_receiving_depth_all, df_summary], axis = 0)\n"
          ]
        },
        {
          "output_type": "stream",
          "name": "stdout",
          "text": [
            "12 - 2022202220222022202220222022202220222022\n",
            "13 - 2022202220222022202220222022202220222022\n"
          ]
        },
        {
          "output_type": "stream",
          "name": "stderr",
          "text": [
            "<ipython-input-29-871837843d1e>:9: FutureWarning: The behavior of DataFrame concatenation with empty or all-NA entries is deprecated. In a future version, this will no longer exclude empty or all-NA columns when determining the result dtypes. To retain the old behavior, exclude the relevant entries before the concat operation.\n",
            "  df_receiving_depth_all = pandas.concat([df_receiving_depth_all, df_summary], axis = 0)\n"
          ]
        },
        {
          "output_type": "stream",
          "name": "stdout",
          "text": [
            "14 - 2022202220222022202220222022202220222022\n"
          ]
        },
        {
          "output_type": "stream",
          "name": "stderr",
          "text": [
            "<ipython-input-29-871837843d1e>:9: FutureWarning: The behavior of DataFrame concatenation with empty or all-NA entries is deprecated. In a future version, this will no longer exclude empty or all-NA columns when determining the result dtypes. To retain the old behavior, exclude the relevant entries before the concat operation.\n",
            "  df_receiving_depth_all = pandas.concat([df_receiving_depth_all, df_summary], axis = 0)\n"
          ]
        },
        {
          "output_type": "stream",
          "name": "stdout",
          "text": [
            "15 - 2022202220222022202220222022202220222022\n"
          ]
        },
        {
          "output_type": "stream",
          "name": "stderr",
          "text": [
            "<ipython-input-29-871837843d1e>:9: FutureWarning: The behavior of DataFrame concatenation with empty or all-NA entries is deprecated. In a future version, this will no longer exclude empty or all-NA columns when determining the result dtypes. To retain the old behavior, exclude the relevant entries before the concat operation.\n",
            "  df_receiving_depth_all = pandas.concat([df_receiving_depth_all, df_summary], axis = 0)\n"
          ]
        },
        {
          "output_type": "stream",
          "name": "stdout",
          "text": [
            "16 - 2022202220222022202220222022202220222022\n"
          ]
        },
        {
          "output_type": "stream",
          "name": "stderr",
          "text": [
            "<ipython-input-29-871837843d1e>:9: FutureWarning: The behavior of DataFrame concatenation with empty or all-NA entries is deprecated. In a future version, this will no longer exclude empty or all-NA columns when determining the result dtypes. To retain the old behavior, exclude the relevant entries before the concat operation.\n",
            "  df_receiving_depth_all = pandas.concat([df_receiving_depth_all, df_summary], axis = 0)\n"
          ]
        },
        {
          "output_type": "stream",
          "name": "stdout",
          "text": [
            "17 - 2022202220222022202220222022202220222022\n"
          ]
        },
        {
          "output_type": "stream",
          "name": "stderr",
          "text": [
            "<ipython-input-29-871837843d1e>:9: FutureWarning: The behavior of DataFrame concatenation with empty or all-NA entries is deprecated. In a future version, this will no longer exclude empty or all-NA columns when determining the result dtypes. To retain the old behavior, exclude the relevant entries before the concat operation.\n",
            "  df_receiving_depth_all = pandas.concat([df_receiving_depth_all, df_summary], axis = 0)\n"
          ]
        },
        {
          "output_type": "stream",
          "name": "stdout",
          "text": [
            "18 - 2022202220222022202220222022202220222022\n"
          ]
        },
        {
          "output_type": "stream",
          "name": "stderr",
          "text": [
            "<ipython-input-29-871837843d1e>:9: FutureWarning: The behavior of DataFrame concatenation with empty or all-NA entries is deprecated. In a future version, this will no longer exclude empty or all-NA columns when determining the result dtypes. To retain the old behavior, exclude the relevant entries before the concat operation.\n",
            "  df_receiving_depth_all = pandas.concat([df_receiving_depth_all, df_summary], axis = 0)\n"
          ]
        },
        {
          "output_type": "stream",
          "name": "stdout",
          "text": [
            "28 - 2022202220222022202220222022202220222022\n"
          ]
        },
        {
          "output_type": "stream",
          "name": "stderr",
          "text": [
            "<ipython-input-29-871837843d1e>:9: FutureWarning: The behavior of DataFrame concatenation with empty or all-NA entries is deprecated. In a future version, this will no longer exclude empty or all-NA columns when determining the result dtypes. To retain the old behavior, exclude the relevant entries before the concat operation.\n",
            "  df_receiving_depth_all = pandas.concat([df_receiving_depth_all, df_summary], axis = 0)\n"
          ]
        },
        {
          "output_type": "stream",
          "name": "stdout",
          "text": [
            "29 - 2022202220222022202220222022202220222022\n"
          ]
        },
        {
          "output_type": "stream",
          "name": "stderr",
          "text": [
            "<ipython-input-29-871837843d1e>:9: FutureWarning: The behavior of DataFrame concatenation with empty or all-NA entries is deprecated. In a future version, this will no longer exclude empty or all-NA columns when determining the result dtypes. To retain the old behavior, exclude the relevant entries before the concat operation.\n",
            "  df_receiving_depth_all = pandas.concat([df_receiving_depth_all, df_summary], axis = 0)\n"
          ]
        },
        {
          "output_type": "stream",
          "name": "stdout",
          "text": [
            "30 - 2022202220222022202220222022202220222022\n"
          ]
        },
        {
          "output_type": "stream",
          "name": "stderr",
          "text": [
            "<ipython-input-29-871837843d1e>:9: FutureWarning: The behavior of DataFrame concatenation with empty or all-NA entries is deprecated. In a future version, this will no longer exclude empty or all-NA columns when determining the result dtypes. To retain the old behavior, exclude the relevant entries before the concat operation.\n",
            "  df_receiving_depth_all = pandas.concat([df_receiving_depth_all, df_summary], axis = 0)\n"
          ]
        },
        {
          "output_type": "stream",
          "name": "stdout",
          "text": [
            "32 - 2022202220222022202220222022202220222022\n"
          ]
        },
        {
          "output_type": "stream",
          "name": "stderr",
          "text": [
            "<ipython-input-29-871837843d1e>:9: FutureWarning: The behavior of DataFrame concatenation with empty or all-NA entries is deprecated. In a future version, this will no longer exclude empty or all-NA columns when determining the result dtypes. To retain the old behavior, exclude the relevant entries before the concat operation.\n",
            "  df_receiving_depth_all = pandas.concat([df_receiving_depth_all, df_summary], axis = 0)\n"
          ]
        },
        {
          "output_type": "stream",
          "name": "stdout",
          "text": [
            "1 - 2021202120212021202120212021202120212021\n"
          ]
        },
        {
          "output_type": "stream",
          "name": "stderr",
          "text": [
            "<ipython-input-29-871837843d1e>:9: FutureWarning: The behavior of DataFrame concatenation with empty or all-NA entries is deprecated. In a future version, this will no longer exclude empty or all-NA columns when determining the result dtypes. To retain the old behavior, exclude the relevant entries before the concat operation.\n",
            "  df_receiving_depth_all = pandas.concat([df_receiving_depth_all, df_summary], axis = 0)\n"
          ]
        },
        {
          "output_type": "stream",
          "name": "stdout",
          "text": [
            "2 - 2021202120212021202120212021202120212021\n"
          ]
        },
        {
          "output_type": "stream",
          "name": "stderr",
          "text": [
            "<ipython-input-29-871837843d1e>:9: FutureWarning: The behavior of DataFrame concatenation with empty or all-NA entries is deprecated. In a future version, this will no longer exclude empty or all-NA columns when determining the result dtypes. To retain the old behavior, exclude the relevant entries before the concat operation.\n",
            "  df_receiving_depth_all = pandas.concat([df_receiving_depth_all, df_summary], axis = 0)\n"
          ]
        },
        {
          "output_type": "stream",
          "name": "stdout",
          "text": [
            "3 - 2021202120212021202120212021202120212021\n"
          ]
        },
        {
          "output_type": "stream",
          "name": "stderr",
          "text": [
            "<ipython-input-29-871837843d1e>:9: FutureWarning: The behavior of DataFrame concatenation with empty or all-NA entries is deprecated. In a future version, this will no longer exclude empty or all-NA columns when determining the result dtypes. To retain the old behavior, exclude the relevant entries before the concat operation.\n",
            "  df_receiving_depth_all = pandas.concat([df_receiving_depth_all, df_summary], axis = 0)\n"
          ]
        },
        {
          "output_type": "stream",
          "name": "stdout",
          "text": [
            "4 - 2021202120212021202120212021202120212021\n"
          ]
        },
        {
          "output_type": "stream",
          "name": "stderr",
          "text": [
            "<ipython-input-29-871837843d1e>:9: FutureWarning: The behavior of DataFrame concatenation with empty or all-NA entries is deprecated. In a future version, this will no longer exclude empty or all-NA columns when determining the result dtypes. To retain the old behavior, exclude the relevant entries before the concat operation.\n",
            "  df_receiving_depth_all = pandas.concat([df_receiving_depth_all, df_summary], axis = 0)\n"
          ]
        },
        {
          "output_type": "stream",
          "name": "stdout",
          "text": [
            "5 - 2021202120212021202120212021202120212021\n"
          ]
        },
        {
          "output_type": "stream",
          "name": "stderr",
          "text": [
            "<ipython-input-29-871837843d1e>:9: FutureWarning: The behavior of DataFrame concatenation with empty or all-NA entries is deprecated. In a future version, this will no longer exclude empty or all-NA columns when determining the result dtypes. To retain the old behavior, exclude the relevant entries before the concat operation.\n",
            "  df_receiving_depth_all = pandas.concat([df_receiving_depth_all, df_summary], axis = 0)\n"
          ]
        },
        {
          "output_type": "stream",
          "name": "stdout",
          "text": [
            "6 - 2021202120212021202120212021202120212021\n"
          ]
        },
        {
          "output_type": "stream",
          "name": "stderr",
          "text": [
            "<ipython-input-29-871837843d1e>:9: FutureWarning: The behavior of DataFrame concatenation with empty or all-NA entries is deprecated. In a future version, this will no longer exclude empty or all-NA columns when determining the result dtypes. To retain the old behavior, exclude the relevant entries before the concat operation.\n",
            "  df_receiving_depth_all = pandas.concat([df_receiving_depth_all, df_summary], axis = 0)\n"
          ]
        },
        {
          "output_type": "stream",
          "name": "stdout",
          "text": [
            "7 - 2021202120212021202120212021202120212021\n",
            "8 - 2021202120212021202120212021202120212021\n"
          ]
        },
        {
          "output_type": "stream",
          "name": "stderr",
          "text": [
            "<ipython-input-29-871837843d1e>:9: FutureWarning: The behavior of DataFrame concatenation with empty or all-NA entries is deprecated. In a future version, this will no longer exclude empty or all-NA columns when determining the result dtypes. To retain the old behavior, exclude the relevant entries before the concat operation.\n",
            "  df_receiving_depth_all = pandas.concat([df_receiving_depth_all, df_summary], axis = 0)\n"
          ]
        },
        {
          "output_type": "stream",
          "name": "stdout",
          "text": [
            "9 - 2021202120212021202120212021202120212021\n"
          ]
        },
        {
          "output_type": "stream",
          "name": "stderr",
          "text": [
            "<ipython-input-29-871837843d1e>:9: FutureWarning: The behavior of DataFrame concatenation with empty or all-NA entries is deprecated. In a future version, this will no longer exclude empty or all-NA columns when determining the result dtypes. To retain the old behavior, exclude the relevant entries before the concat operation.\n",
            "  df_receiving_depth_all = pandas.concat([df_receiving_depth_all, df_summary], axis = 0)\n"
          ]
        },
        {
          "output_type": "stream",
          "name": "stdout",
          "text": [
            "10 - 2021202120212021202120212021202120212021\n"
          ]
        },
        {
          "output_type": "stream",
          "name": "stderr",
          "text": [
            "<ipython-input-29-871837843d1e>:9: FutureWarning: The behavior of DataFrame concatenation with empty or all-NA entries is deprecated. In a future version, this will no longer exclude empty or all-NA columns when determining the result dtypes. To retain the old behavior, exclude the relevant entries before the concat operation.\n",
            "  df_receiving_depth_all = pandas.concat([df_receiving_depth_all, df_summary], axis = 0)\n"
          ]
        },
        {
          "output_type": "stream",
          "name": "stdout",
          "text": [
            "11 - 2021202120212021202120212021202120212021\n"
          ]
        },
        {
          "output_type": "stream",
          "name": "stderr",
          "text": [
            "<ipython-input-29-871837843d1e>:9: FutureWarning: The behavior of DataFrame concatenation with empty or all-NA entries is deprecated. In a future version, this will no longer exclude empty or all-NA columns when determining the result dtypes. To retain the old behavior, exclude the relevant entries before the concat operation.\n",
            "  df_receiving_depth_all = pandas.concat([df_receiving_depth_all, df_summary], axis = 0)\n"
          ]
        },
        {
          "output_type": "stream",
          "name": "stdout",
          "text": [
            "12 - 2021202120212021202120212021202120212021\n",
            "13 - 2021202120212021202120212021202120212021\n"
          ]
        },
        {
          "output_type": "stream",
          "name": "stderr",
          "text": [
            "<ipython-input-29-871837843d1e>:9: FutureWarning: The behavior of DataFrame concatenation with empty or all-NA entries is deprecated. In a future version, this will no longer exclude empty or all-NA columns when determining the result dtypes. To retain the old behavior, exclude the relevant entries before the concat operation.\n",
            "  df_receiving_depth_all = pandas.concat([df_receiving_depth_all, df_summary], axis = 0)\n"
          ]
        },
        {
          "output_type": "stream",
          "name": "stdout",
          "text": [
            "14 - 2021202120212021202120212021202120212021\n"
          ]
        },
        {
          "output_type": "stream",
          "name": "stderr",
          "text": [
            "<ipython-input-29-871837843d1e>:9: FutureWarning: The behavior of DataFrame concatenation with empty or all-NA entries is deprecated. In a future version, this will no longer exclude empty or all-NA columns when determining the result dtypes. To retain the old behavior, exclude the relevant entries before the concat operation.\n",
            "  df_receiving_depth_all = pandas.concat([df_receiving_depth_all, df_summary], axis = 0)\n"
          ]
        },
        {
          "output_type": "stream",
          "name": "stdout",
          "text": [
            "15 - 2021202120212021202120212021202120212021\n"
          ]
        },
        {
          "output_type": "stream",
          "name": "stderr",
          "text": [
            "<ipython-input-29-871837843d1e>:9: FutureWarning: The behavior of DataFrame concatenation with empty or all-NA entries is deprecated. In a future version, this will no longer exclude empty or all-NA columns when determining the result dtypes. To retain the old behavior, exclude the relevant entries before the concat operation.\n",
            "  df_receiving_depth_all = pandas.concat([df_receiving_depth_all, df_summary], axis = 0)\n"
          ]
        },
        {
          "output_type": "stream",
          "name": "stdout",
          "text": [
            "16 - 2021202120212021202120212021202120212021\n"
          ]
        },
        {
          "output_type": "stream",
          "name": "stderr",
          "text": [
            "<ipython-input-29-871837843d1e>:9: FutureWarning: The behavior of DataFrame concatenation with empty or all-NA entries is deprecated. In a future version, this will no longer exclude empty or all-NA columns when determining the result dtypes. To retain the old behavior, exclude the relevant entries before the concat operation.\n",
            "  df_receiving_depth_all = pandas.concat([df_receiving_depth_all, df_summary], axis = 0)\n"
          ]
        },
        {
          "output_type": "stream",
          "name": "stdout",
          "text": [
            "17 - 2021202120212021202120212021202120212021\n"
          ]
        },
        {
          "output_type": "stream",
          "name": "stderr",
          "text": [
            "<ipython-input-29-871837843d1e>:9: FutureWarning: The behavior of DataFrame concatenation with empty or all-NA entries is deprecated. In a future version, this will no longer exclude empty or all-NA columns when determining the result dtypes. To retain the old behavior, exclude the relevant entries before the concat operation.\n",
            "  df_receiving_depth_all = pandas.concat([df_receiving_depth_all, df_summary], axis = 0)\n"
          ]
        },
        {
          "output_type": "stream",
          "name": "stdout",
          "text": [
            "18 - 2021202120212021202120212021202120212021\n"
          ]
        },
        {
          "output_type": "stream",
          "name": "stderr",
          "text": [
            "<ipython-input-29-871837843d1e>:9: FutureWarning: The behavior of DataFrame concatenation with empty or all-NA entries is deprecated. In a future version, this will no longer exclude empty or all-NA columns when determining the result dtypes. To retain the old behavior, exclude the relevant entries before the concat operation.\n",
            "  df_receiving_depth_all = pandas.concat([df_receiving_depth_all, df_summary], axis = 0)\n"
          ]
        },
        {
          "output_type": "stream",
          "name": "stdout",
          "text": [
            "28 - 2021202120212021202120212021202120212021\n"
          ]
        },
        {
          "output_type": "stream",
          "name": "stderr",
          "text": [
            "<ipython-input-29-871837843d1e>:9: FutureWarning: The behavior of DataFrame concatenation with empty or all-NA entries is deprecated. In a future version, this will no longer exclude empty or all-NA columns when determining the result dtypes. To retain the old behavior, exclude the relevant entries before the concat operation.\n",
            "  df_receiving_depth_all = pandas.concat([df_receiving_depth_all, df_summary], axis = 0)\n"
          ]
        },
        {
          "output_type": "stream",
          "name": "stdout",
          "text": [
            "29 - 2021202120212021202120212021202120212021\n"
          ]
        },
        {
          "output_type": "stream",
          "name": "stderr",
          "text": [
            "<ipython-input-29-871837843d1e>:9: FutureWarning: The behavior of DataFrame concatenation with empty or all-NA entries is deprecated. In a future version, this will no longer exclude empty or all-NA columns when determining the result dtypes. To retain the old behavior, exclude the relevant entries before the concat operation.\n",
            "  df_receiving_depth_all = pandas.concat([df_receiving_depth_all, df_summary], axis = 0)\n"
          ]
        },
        {
          "output_type": "stream",
          "name": "stdout",
          "text": [
            "30 - 2021202120212021202120212021202120212021\n"
          ]
        },
        {
          "output_type": "stream",
          "name": "stderr",
          "text": [
            "<ipython-input-29-871837843d1e>:9: FutureWarning: The behavior of DataFrame concatenation with empty or all-NA entries is deprecated. In a future version, this will no longer exclude empty or all-NA columns when determining the result dtypes. To retain the old behavior, exclude the relevant entries before the concat operation.\n",
            "  df_receiving_depth_all = pandas.concat([df_receiving_depth_all, df_summary], axis = 0)\n"
          ]
        },
        {
          "output_type": "stream",
          "name": "stdout",
          "text": [
            "32 - 2021202120212021202120212021202120212021\n"
          ]
        },
        {
          "output_type": "stream",
          "name": "stderr",
          "text": [
            "<ipython-input-29-871837843d1e>:9: FutureWarning: The behavior of DataFrame concatenation with empty or all-NA entries is deprecated. In a future version, this will no longer exclude empty or all-NA columns when determining the result dtypes. To retain the old behavior, exclude the relevant entries before the concat operation.\n",
            "  df_receiving_depth_all = pandas.concat([df_receiving_depth_all, df_summary], axis = 0)\n"
          ]
        },
        {
          "output_type": "stream",
          "name": "stdout",
          "text": [
            "1 - 2020202020202020202020202020202020202020\n"
          ]
        },
        {
          "output_type": "stream",
          "name": "stderr",
          "text": [
            "<ipython-input-29-871837843d1e>:9: FutureWarning: The behavior of DataFrame concatenation with empty or all-NA entries is deprecated. In a future version, this will no longer exclude empty or all-NA columns when determining the result dtypes. To retain the old behavior, exclude the relevant entries before the concat operation.\n",
            "  df_receiving_depth_all = pandas.concat([df_receiving_depth_all, df_summary], axis = 0)\n"
          ]
        },
        {
          "output_type": "stream",
          "name": "stdout",
          "text": [
            "2 - 2020202020202020202020202020202020202020\n"
          ]
        },
        {
          "output_type": "stream",
          "name": "stderr",
          "text": [
            "<ipython-input-29-871837843d1e>:9: FutureWarning: The behavior of DataFrame concatenation with empty or all-NA entries is deprecated. In a future version, this will no longer exclude empty or all-NA columns when determining the result dtypes. To retain the old behavior, exclude the relevant entries before the concat operation.\n",
            "  df_receiving_depth_all = pandas.concat([df_receiving_depth_all, df_summary], axis = 0)\n"
          ]
        },
        {
          "output_type": "stream",
          "name": "stdout",
          "text": [
            "3 - 2020202020202020202020202020202020202020\n"
          ]
        },
        {
          "output_type": "stream",
          "name": "stderr",
          "text": [
            "<ipython-input-29-871837843d1e>:9: FutureWarning: The behavior of DataFrame concatenation with empty or all-NA entries is deprecated. In a future version, this will no longer exclude empty or all-NA columns when determining the result dtypes. To retain the old behavior, exclude the relevant entries before the concat operation.\n",
            "  df_receiving_depth_all = pandas.concat([df_receiving_depth_all, df_summary], axis = 0)\n"
          ]
        },
        {
          "output_type": "stream",
          "name": "stdout",
          "text": [
            "4 - 2020202020202020202020202020202020202020\n"
          ]
        },
        {
          "output_type": "stream",
          "name": "stderr",
          "text": [
            "<ipython-input-29-871837843d1e>:9: FutureWarning: The behavior of DataFrame concatenation with empty or all-NA entries is deprecated. In a future version, this will no longer exclude empty or all-NA columns when determining the result dtypes. To retain the old behavior, exclude the relevant entries before the concat operation.\n",
            "  df_receiving_depth_all = pandas.concat([df_receiving_depth_all, df_summary], axis = 0)\n"
          ]
        },
        {
          "output_type": "stream",
          "name": "stdout",
          "text": [
            "5 - 2020202020202020202020202020202020202020\n"
          ]
        },
        {
          "output_type": "stream",
          "name": "stderr",
          "text": [
            "<ipython-input-29-871837843d1e>:9: FutureWarning: The behavior of DataFrame concatenation with empty or all-NA entries is deprecated. In a future version, this will no longer exclude empty or all-NA columns when determining the result dtypes. To retain the old behavior, exclude the relevant entries before the concat operation.\n",
            "  df_receiving_depth_all = pandas.concat([df_receiving_depth_all, df_summary], axis = 0)\n"
          ]
        },
        {
          "output_type": "stream",
          "name": "stdout",
          "text": [
            "6 - 2020202020202020202020202020202020202020\n"
          ]
        },
        {
          "output_type": "stream",
          "name": "stderr",
          "text": [
            "<ipython-input-29-871837843d1e>:9: FutureWarning: The behavior of DataFrame concatenation with empty or all-NA entries is deprecated. In a future version, this will no longer exclude empty or all-NA columns when determining the result dtypes. To retain the old behavior, exclude the relevant entries before the concat operation.\n",
            "  df_receiving_depth_all = pandas.concat([df_receiving_depth_all, df_summary], axis = 0)\n"
          ]
        },
        {
          "output_type": "stream",
          "name": "stdout",
          "text": [
            "7 - 2020202020202020202020202020202020202020\n"
          ]
        },
        {
          "output_type": "stream",
          "name": "stderr",
          "text": [
            "<ipython-input-29-871837843d1e>:9: FutureWarning: The behavior of DataFrame concatenation with empty or all-NA entries is deprecated. In a future version, this will no longer exclude empty or all-NA columns when determining the result dtypes. To retain the old behavior, exclude the relevant entries before the concat operation.\n",
            "  df_receiving_depth_all = pandas.concat([df_receiving_depth_all, df_summary], axis = 0)\n"
          ]
        },
        {
          "output_type": "stream",
          "name": "stdout",
          "text": [
            "8 - 2020202020202020202020202020202020202020\n"
          ]
        },
        {
          "output_type": "stream",
          "name": "stderr",
          "text": [
            "<ipython-input-29-871837843d1e>:9: FutureWarning: The behavior of DataFrame concatenation with empty or all-NA entries is deprecated. In a future version, this will no longer exclude empty or all-NA columns when determining the result dtypes. To retain the old behavior, exclude the relevant entries before the concat operation.\n",
            "  df_receiving_depth_all = pandas.concat([df_receiving_depth_all, df_summary], axis = 0)\n"
          ]
        },
        {
          "output_type": "stream",
          "name": "stdout",
          "text": [
            "9 - 2020202020202020202020202020202020202020\n"
          ]
        },
        {
          "output_type": "stream",
          "name": "stderr",
          "text": [
            "<ipython-input-29-871837843d1e>:9: FutureWarning: The behavior of DataFrame concatenation with empty or all-NA entries is deprecated. In a future version, this will no longer exclude empty or all-NA columns when determining the result dtypes. To retain the old behavior, exclude the relevant entries before the concat operation.\n",
            "  df_receiving_depth_all = pandas.concat([df_receiving_depth_all, df_summary], axis = 0)\n"
          ]
        },
        {
          "output_type": "stream",
          "name": "stdout",
          "text": [
            "10 - 2020202020202020202020202020202020202020\n"
          ]
        },
        {
          "output_type": "stream",
          "name": "stderr",
          "text": [
            "<ipython-input-29-871837843d1e>:9: FutureWarning: The behavior of DataFrame concatenation with empty or all-NA entries is deprecated. In a future version, this will no longer exclude empty or all-NA columns when determining the result dtypes. To retain the old behavior, exclude the relevant entries before the concat operation.\n",
            "  df_receiving_depth_all = pandas.concat([df_receiving_depth_all, df_summary], axis = 0)\n"
          ]
        },
        {
          "output_type": "stream",
          "name": "stdout",
          "text": [
            "11 - 2020202020202020202020202020202020202020\n"
          ]
        },
        {
          "output_type": "stream",
          "name": "stderr",
          "text": [
            "<ipython-input-29-871837843d1e>:9: FutureWarning: The behavior of DataFrame concatenation with empty or all-NA entries is deprecated. In a future version, this will no longer exclude empty or all-NA columns when determining the result dtypes. To retain the old behavior, exclude the relevant entries before the concat operation.\n",
            "  df_receiving_depth_all = pandas.concat([df_receiving_depth_all, df_summary], axis = 0)\n"
          ]
        },
        {
          "output_type": "stream",
          "name": "stdout",
          "text": [
            "12 - 2020202020202020202020202020202020202020\n"
          ]
        },
        {
          "output_type": "stream",
          "name": "stderr",
          "text": [
            "<ipython-input-29-871837843d1e>:9: FutureWarning: The behavior of DataFrame concatenation with empty or all-NA entries is deprecated. In a future version, this will no longer exclude empty or all-NA columns when determining the result dtypes. To retain the old behavior, exclude the relevant entries before the concat operation.\n",
            "  df_receiving_depth_all = pandas.concat([df_receiving_depth_all, df_summary], axis = 0)\n"
          ]
        },
        {
          "output_type": "stream",
          "name": "stdout",
          "text": [
            "13 - 2020202020202020202020202020202020202020\n"
          ]
        },
        {
          "output_type": "stream",
          "name": "stderr",
          "text": [
            "<ipython-input-29-871837843d1e>:9: FutureWarning: The behavior of DataFrame concatenation with empty or all-NA entries is deprecated. In a future version, this will no longer exclude empty or all-NA columns when determining the result dtypes. To retain the old behavior, exclude the relevant entries before the concat operation.\n",
            "  df_receiving_depth_all = pandas.concat([df_receiving_depth_all, df_summary], axis = 0)\n"
          ]
        },
        {
          "output_type": "stream",
          "name": "stdout",
          "text": [
            "14 - 2020202020202020202020202020202020202020\n"
          ]
        },
        {
          "output_type": "stream",
          "name": "stderr",
          "text": [
            "<ipython-input-29-871837843d1e>:9: FutureWarning: The behavior of DataFrame concatenation with empty or all-NA entries is deprecated. In a future version, this will no longer exclude empty or all-NA columns when determining the result dtypes. To retain the old behavior, exclude the relevant entries before the concat operation.\n",
            "  df_receiving_depth_all = pandas.concat([df_receiving_depth_all, df_summary], axis = 0)\n"
          ]
        },
        {
          "output_type": "stream",
          "name": "stdout",
          "text": [
            "15 - 2020202020202020202020202020202020202020\n"
          ]
        },
        {
          "output_type": "stream",
          "name": "stderr",
          "text": [
            "<ipython-input-29-871837843d1e>:9: FutureWarning: The behavior of DataFrame concatenation with empty or all-NA entries is deprecated. In a future version, this will no longer exclude empty or all-NA columns when determining the result dtypes. To retain the old behavior, exclude the relevant entries before the concat operation.\n",
            "  df_receiving_depth_all = pandas.concat([df_receiving_depth_all, df_summary], axis = 0)\n"
          ]
        },
        {
          "output_type": "stream",
          "name": "stdout",
          "text": [
            "16 - 2020202020202020202020202020202020202020\n",
            "17 - 2020202020202020202020202020202020202020\n",
            "18 - 2020202020202020202020202020202020202020\n"
          ]
        },
        {
          "output_type": "stream",
          "name": "stderr",
          "text": [
            "<ipython-input-29-871837843d1e>:9: FutureWarning: The behavior of DataFrame concatenation with empty or all-NA entries is deprecated. In a future version, this will no longer exclude empty or all-NA columns when determining the result dtypes. To retain the old behavior, exclude the relevant entries before the concat operation.\n",
            "  df_receiving_depth_all = pandas.concat([df_receiving_depth_all, df_summary], axis = 0)\n"
          ]
        },
        {
          "output_type": "stream",
          "name": "stdout",
          "text": [
            "28 - 2020202020202020202020202020202020202020\n"
          ]
        },
        {
          "output_type": "stream",
          "name": "stderr",
          "text": [
            "<ipython-input-29-871837843d1e>:9: FutureWarning: The behavior of DataFrame concatenation with empty or all-NA entries is deprecated. In a future version, this will no longer exclude empty or all-NA columns when determining the result dtypes. To retain the old behavior, exclude the relevant entries before the concat operation.\n",
            "  df_receiving_depth_all = pandas.concat([df_receiving_depth_all, df_summary], axis = 0)\n"
          ]
        },
        {
          "output_type": "stream",
          "name": "stdout",
          "text": [
            "29 - 2020202020202020202020202020202020202020\n"
          ]
        },
        {
          "output_type": "stream",
          "name": "stderr",
          "text": [
            "<ipython-input-29-871837843d1e>:9: FutureWarning: The behavior of DataFrame concatenation with empty or all-NA entries is deprecated. In a future version, this will no longer exclude empty or all-NA columns when determining the result dtypes. To retain the old behavior, exclude the relevant entries before the concat operation.\n",
            "  df_receiving_depth_all = pandas.concat([df_receiving_depth_all, df_summary], axis = 0)\n"
          ]
        },
        {
          "output_type": "stream",
          "name": "stdout",
          "text": [
            "30 - 2020202020202020202020202020202020202020\n"
          ]
        },
        {
          "output_type": "stream",
          "name": "stderr",
          "text": [
            "<ipython-input-29-871837843d1e>:9: FutureWarning: The behavior of DataFrame concatenation with empty or all-NA entries is deprecated. In a future version, this will no longer exclude empty or all-NA columns when determining the result dtypes. To retain the old behavior, exclude the relevant entries before the concat operation.\n",
            "  df_receiving_depth_all = pandas.concat([df_receiving_depth_all, df_summary], axis = 0)\n"
          ]
        },
        {
          "output_type": "stream",
          "name": "stdout",
          "text": [
            "32 - 2020202020202020202020202020202020202020\n",
            "1 - 2019201920192019201920192019201920192019\n"
          ]
        },
        {
          "output_type": "stream",
          "name": "stderr",
          "text": [
            "<ipython-input-29-871837843d1e>:9: FutureWarning: The behavior of DataFrame concatenation with empty or all-NA entries is deprecated. In a future version, this will no longer exclude empty or all-NA columns when determining the result dtypes. To retain the old behavior, exclude the relevant entries before the concat operation.\n",
            "  df_receiving_depth_all = pandas.concat([df_receiving_depth_all, df_summary], axis = 0)\n"
          ]
        },
        {
          "output_type": "stream",
          "name": "stdout",
          "text": [
            "2 - 2019201920192019201920192019201920192019\n",
            "3 - 2019201920192019201920192019201920192019\n"
          ]
        },
        {
          "output_type": "stream",
          "name": "stderr",
          "text": [
            "<ipython-input-29-871837843d1e>:9: FutureWarning: The behavior of DataFrame concatenation with empty or all-NA entries is deprecated. In a future version, this will no longer exclude empty or all-NA columns when determining the result dtypes. To retain the old behavior, exclude the relevant entries before the concat operation.\n",
            "  df_receiving_depth_all = pandas.concat([df_receiving_depth_all, df_summary], axis = 0)\n"
          ]
        },
        {
          "output_type": "stream",
          "name": "stdout",
          "text": [
            "4 - 2019201920192019201920192019201920192019\n"
          ]
        },
        {
          "output_type": "stream",
          "name": "stderr",
          "text": [
            "<ipython-input-29-871837843d1e>:9: FutureWarning: The behavior of DataFrame concatenation with empty or all-NA entries is deprecated. In a future version, this will no longer exclude empty or all-NA columns when determining the result dtypes. To retain the old behavior, exclude the relevant entries before the concat operation.\n",
            "  df_receiving_depth_all = pandas.concat([df_receiving_depth_all, df_summary], axis = 0)\n"
          ]
        },
        {
          "output_type": "stream",
          "name": "stdout",
          "text": [
            "5 - 2019201920192019201920192019201920192019\n"
          ]
        },
        {
          "output_type": "stream",
          "name": "stderr",
          "text": [
            "<ipython-input-29-871837843d1e>:9: FutureWarning: The behavior of DataFrame concatenation with empty or all-NA entries is deprecated. In a future version, this will no longer exclude empty or all-NA columns when determining the result dtypes. To retain the old behavior, exclude the relevant entries before the concat operation.\n",
            "  df_receiving_depth_all = pandas.concat([df_receiving_depth_all, df_summary], axis = 0)\n"
          ]
        },
        {
          "output_type": "stream",
          "name": "stdout",
          "text": [
            "6 - 2019201920192019201920192019201920192019\n"
          ]
        },
        {
          "output_type": "stream",
          "name": "stderr",
          "text": [
            "<ipython-input-29-871837843d1e>:9: FutureWarning: The behavior of DataFrame concatenation with empty or all-NA entries is deprecated. In a future version, this will no longer exclude empty or all-NA columns when determining the result dtypes. To retain the old behavior, exclude the relevant entries before the concat operation.\n",
            "  df_receiving_depth_all = pandas.concat([df_receiving_depth_all, df_summary], axis = 0)\n"
          ]
        },
        {
          "output_type": "stream",
          "name": "stdout",
          "text": [
            "7 - 2019201920192019201920192019201920192019\n"
          ]
        },
        {
          "output_type": "stream",
          "name": "stderr",
          "text": [
            "<ipython-input-29-871837843d1e>:9: FutureWarning: The behavior of DataFrame concatenation with empty or all-NA entries is deprecated. In a future version, this will no longer exclude empty or all-NA columns when determining the result dtypes. To retain the old behavior, exclude the relevant entries before the concat operation.\n",
            "  df_receiving_depth_all = pandas.concat([df_receiving_depth_all, df_summary], axis = 0)\n"
          ]
        },
        {
          "output_type": "stream",
          "name": "stdout",
          "text": [
            "8 - 2019201920192019201920192019201920192019\n"
          ]
        },
        {
          "output_type": "stream",
          "name": "stderr",
          "text": [
            "<ipython-input-29-871837843d1e>:9: FutureWarning: The behavior of DataFrame concatenation with empty or all-NA entries is deprecated. In a future version, this will no longer exclude empty or all-NA columns when determining the result dtypes. To retain the old behavior, exclude the relevant entries before the concat operation.\n",
            "  df_receiving_depth_all = pandas.concat([df_receiving_depth_all, df_summary], axis = 0)\n"
          ]
        },
        {
          "output_type": "stream",
          "name": "stdout",
          "text": [
            "9 - 2019201920192019201920192019201920192019\n"
          ]
        },
        {
          "output_type": "stream",
          "name": "stderr",
          "text": [
            "<ipython-input-29-871837843d1e>:9: FutureWarning: The behavior of DataFrame concatenation with empty or all-NA entries is deprecated. In a future version, this will no longer exclude empty or all-NA columns when determining the result dtypes. To retain the old behavior, exclude the relevant entries before the concat operation.\n",
            "  df_receiving_depth_all = pandas.concat([df_receiving_depth_all, df_summary], axis = 0)\n"
          ]
        },
        {
          "output_type": "stream",
          "name": "stdout",
          "text": [
            "10 - 2019201920192019201920192019201920192019\n"
          ]
        },
        {
          "output_type": "stream",
          "name": "stderr",
          "text": [
            "<ipython-input-29-871837843d1e>:9: FutureWarning: The behavior of DataFrame concatenation with empty or all-NA entries is deprecated. In a future version, this will no longer exclude empty or all-NA columns when determining the result dtypes. To retain the old behavior, exclude the relevant entries before the concat operation.\n",
            "  df_receiving_depth_all = pandas.concat([df_receiving_depth_all, df_summary], axis = 0)\n"
          ]
        },
        {
          "output_type": "stream",
          "name": "stdout",
          "text": [
            "11 - 2019201920192019201920192019201920192019\n"
          ]
        },
        {
          "output_type": "stream",
          "name": "stderr",
          "text": [
            "<ipython-input-29-871837843d1e>:9: FutureWarning: The behavior of DataFrame concatenation with empty or all-NA entries is deprecated. In a future version, this will no longer exclude empty or all-NA columns when determining the result dtypes. To retain the old behavior, exclude the relevant entries before the concat operation.\n",
            "  df_receiving_depth_all = pandas.concat([df_receiving_depth_all, df_summary], axis = 0)\n"
          ]
        },
        {
          "output_type": "stream",
          "name": "stdout",
          "text": [
            "12 - 2019201920192019201920192019201920192019\n"
          ]
        },
        {
          "output_type": "stream",
          "name": "stderr",
          "text": [
            "<ipython-input-29-871837843d1e>:9: FutureWarning: The behavior of DataFrame concatenation with empty or all-NA entries is deprecated. In a future version, this will no longer exclude empty or all-NA columns when determining the result dtypes. To retain the old behavior, exclude the relevant entries before the concat operation.\n",
            "  df_receiving_depth_all = pandas.concat([df_receiving_depth_all, df_summary], axis = 0)\n"
          ]
        },
        {
          "output_type": "stream",
          "name": "stdout",
          "text": [
            "13 - 2019201920192019201920192019201920192019\n"
          ]
        },
        {
          "output_type": "stream",
          "name": "stderr",
          "text": [
            "<ipython-input-29-871837843d1e>:9: FutureWarning: The behavior of DataFrame concatenation with empty or all-NA entries is deprecated. In a future version, this will no longer exclude empty or all-NA columns when determining the result dtypes. To retain the old behavior, exclude the relevant entries before the concat operation.\n",
            "  df_receiving_depth_all = pandas.concat([df_receiving_depth_all, df_summary], axis = 0)\n"
          ]
        },
        {
          "output_type": "stream",
          "name": "stdout",
          "text": [
            "14 - 2019201920192019201920192019201920192019\n"
          ]
        },
        {
          "output_type": "stream",
          "name": "stderr",
          "text": [
            "<ipython-input-29-871837843d1e>:9: FutureWarning: The behavior of DataFrame concatenation with empty or all-NA entries is deprecated. In a future version, this will no longer exclude empty or all-NA columns when determining the result dtypes. To retain the old behavior, exclude the relevant entries before the concat operation.\n",
            "  df_receiving_depth_all = pandas.concat([df_receiving_depth_all, df_summary], axis = 0)\n"
          ]
        },
        {
          "output_type": "stream",
          "name": "stdout",
          "text": [
            "15 - 2019201920192019201920192019201920192019\n"
          ]
        },
        {
          "output_type": "stream",
          "name": "stderr",
          "text": [
            "<ipython-input-29-871837843d1e>:9: FutureWarning: The behavior of DataFrame concatenation with empty or all-NA entries is deprecated. In a future version, this will no longer exclude empty or all-NA columns when determining the result dtypes. To retain the old behavior, exclude the relevant entries before the concat operation.\n",
            "  df_receiving_depth_all = pandas.concat([df_receiving_depth_all, df_summary], axis = 0)\n"
          ]
        },
        {
          "output_type": "stream",
          "name": "stdout",
          "text": [
            "16 - 2019201920192019201920192019201920192019\n"
          ]
        },
        {
          "output_type": "stream",
          "name": "stderr",
          "text": [
            "<ipython-input-29-871837843d1e>:9: FutureWarning: The behavior of DataFrame concatenation with empty or all-NA entries is deprecated. In a future version, this will no longer exclude empty or all-NA columns when determining the result dtypes. To retain the old behavior, exclude the relevant entries before the concat operation.\n",
            "  df_receiving_depth_all = pandas.concat([df_receiving_depth_all, df_summary], axis = 0)\n"
          ]
        },
        {
          "output_type": "stream",
          "name": "stdout",
          "text": [
            "17 - 2019201920192019201920192019201920192019\n",
            "18 - 2019201920192019201920192019201920192019\n"
          ]
        },
        {
          "output_type": "stream",
          "name": "stderr",
          "text": [
            "<ipython-input-29-871837843d1e>:9: FutureWarning: The behavior of DataFrame concatenation with empty or all-NA entries is deprecated. In a future version, this will no longer exclude empty or all-NA columns when determining the result dtypes. To retain the old behavior, exclude the relevant entries before the concat operation.\n",
            "  df_receiving_depth_all = pandas.concat([df_receiving_depth_all, df_summary], axis = 0)\n"
          ]
        },
        {
          "output_type": "stream",
          "name": "stdout",
          "text": [
            "28 - 2019201920192019201920192019201920192019\n"
          ]
        },
        {
          "output_type": "stream",
          "name": "stderr",
          "text": [
            "<ipython-input-29-871837843d1e>:9: FutureWarning: The behavior of DataFrame concatenation with empty or all-NA entries is deprecated. In a future version, this will no longer exclude empty or all-NA columns when determining the result dtypes. To retain the old behavior, exclude the relevant entries before the concat operation.\n",
            "  df_receiving_depth_all = pandas.concat([df_receiving_depth_all, df_summary], axis = 0)\n"
          ]
        },
        {
          "output_type": "stream",
          "name": "stdout",
          "text": [
            "29 - 2019201920192019201920192019201920192019\n"
          ]
        },
        {
          "output_type": "stream",
          "name": "stderr",
          "text": [
            "<ipython-input-29-871837843d1e>:9: FutureWarning: The behavior of DataFrame concatenation with empty or all-NA entries is deprecated. In a future version, this will no longer exclude empty or all-NA columns when determining the result dtypes. To retain the old behavior, exclude the relevant entries before the concat operation.\n",
            "  df_receiving_depth_all = pandas.concat([df_receiving_depth_all, df_summary], axis = 0)\n"
          ]
        },
        {
          "output_type": "stream",
          "name": "stdout",
          "text": [
            "30 - 2019201920192019201920192019201920192019\n"
          ]
        },
        {
          "output_type": "stream",
          "name": "stderr",
          "text": [
            "<ipython-input-29-871837843d1e>:9: FutureWarning: The behavior of DataFrame concatenation with empty or all-NA entries is deprecated. In a future version, this will no longer exclude empty or all-NA columns when determining the result dtypes. To retain the old behavior, exclude the relevant entries before the concat operation.\n",
            "  df_receiving_depth_all = pandas.concat([df_receiving_depth_all, df_summary], axis = 0)\n"
          ]
        },
        {
          "output_type": "stream",
          "name": "stdout",
          "text": [
            "32 - 2019201920192019201920192019201920192019\n"
          ]
        },
        {
          "output_type": "stream",
          "name": "stderr",
          "text": [
            "<ipython-input-29-871837843d1e>:9: FutureWarning: The behavior of DataFrame concatenation with empty or all-NA entries is deprecated. In a future version, this will no longer exclude empty or all-NA columns when determining the result dtypes. To retain the old behavior, exclude the relevant entries before the concat operation.\n",
            "  df_receiving_depth_all = pandas.concat([df_receiving_depth_all, df_summary], axis = 0)\n"
          ]
        },
        {
          "output_type": "stream",
          "name": "stdout",
          "text": [
            "1 - 2018201820182018201820182018201820182018\n",
            "2 - 2018201820182018201820182018201820182018\n"
          ]
        },
        {
          "output_type": "stream",
          "name": "stderr",
          "text": [
            "<ipython-input-29-871837843d1e>:9: FutureWarning: The behavior of DataFrame concatenation with empty or all-NA entries is deprecated. In a future version, this will no longer exclude empty or all-NA columns when determining the result dtypes. To retain the old behavior, exclude the relevant entries before the concat operation.\n",
            "  df_receiving_depth_all = pandas.concat([df_receiving_depth_all, df_summary], axis = 0)\n"
          ]
        },
        {
          "output_type": "stream",
          "name": "stdout",
          "text": [
            "3 - 2018201820182018201820182018201820182018\n"
          ]
        },
        {
          "output_type": "stream",
          "name": "stderr",
          "text": [
            "<ipython-input-29-871837843d1e>:9: FutureWarning: The behavior of DataFrame concatenation with empty or all-NA entries is deprecated. In a future version, this will no longer exclude empty or all-NA columns when determining the result dtypes. To retain the old behavior, exclude the relevant entries before the concat operation.\n",
            "  df_receiving_depth_all = pandas.concat([df_receiving_depth_all, df_summary], axis = 0)\n"
          ]
        },
        {
          "output_type": "stream",
          "name": "stdout",
          "text": [
            "4 - 2018201820182018201820182018201820182018\n"
          ]
        },
        {
          "output_type": "stream",
          "name": "stderr",
          "text": [
            "<ipython-input-29-871837843d1e>:9: FutureWarning: The behavior of DataFrame concatenation with empty or all-NA entries is deprecated. In a future version, this will no longer exclude empty or all-NA columns when determining the result dtypes. To retain the old behavior, exclude the relevant entries before the concat operation.\n",
            "  df_receiving_depth_all = pandas.concat([df_receiving_depth_all, df_summary], axis = 0)\n"
          ]
        },
        {
          "output_type": "stream",
          "name": "stdout",
          "text": [
            "5 - 2018201820182018201820182018201820182018\n"
          ]
        },
        {
          "output_type": "stream",
          "name": "stderr",
          "text": [
            "<ipython-input-29-871837843d1e>:9: FutureWarning: The behavior of DataFrame concatenation with empty or all-NA entries is deprecated. In a future version, this will no longer exclude empty or all-NA columns when determining the result dtypes. To retain the old behavior, exclude the relevant entries before the concat operation.\n",
            "  df_receiving_depth_all = pandas.concat([df_receiving_depth_all, df_summary], axis = 0)\n"
          ]
        },
        {
          "output_type": "stream",
          "name": "stdout",
          "text": [
            "6 - 2018201820182018201820182018201820182018\n"
          ]
        },
        {
          "output_type": "stream",
          "name": "stderr",
          "text": [
            "<ipython-input-29-871837843d1e>:9: FutureWarning: The behavior of DataFrame concatenation with empty or all-NA entries is deprecated. In a future version, this will no longer exclude empty or all-NA columns when determining the result dtypes. To retain the old behavior, exclude the relevant entries before the concat operation.\n",
            "  df_receiving_depth_all = pandas.concat([df_receiving_depth_all, df_summary], axis = 0)\n"
          ]
        },
        {
          "output_type": "stream",
          "name": "stdout",
          "text": [
            "7 - 2018201820182018201820182018201820182018\n",
            "8 - 2018201820182018201820182018201820182018\n"
          ]
        },
        {
          "output_type": "stream",
          "name": "stderr",
          "text": [
            "<ipython-input-29-871837843d1e>:9: FutureWarning: The behavior of DataFrame concatenation with empty or all-NA entries is deprecated. In a future version, this will no longer exclude empty or all-NA columns when determining the result dtypes. To retain the old behavior, exclude the relevant entries before the concat operation.\n",
            "  df_receiving_depth_all = pandas.concat([df_receiving_depth_all, df_summary], axis = 0)\n"
          ]
        },
        {
          "output_type": "stream",
          "name": "stdout",
          "text": [
            "9 - 2018201820182018201820182018201820182018\n"
          ]
        },
        {
          "output_type": "stream",
          "name": "stderr",
          "text": [
            "<ipython-input-29-871837843d1e>:9: FutureWarning: The behavior of DataFrame concatenation with empty or all-NA entries is deprecated. In a future version, this will no longer exclude empty or all-NA columns when determining the result dtypes. To retain the old behavior, exclude the relevant entries before the concat operation.\n",
            "  df_receiving_depth_all = pandas.concat([df_receiving_depth_all, df_summary], axis = 0)\n"
          ]
        },
        {
          "output_type": "stream",
          "name": "stdout",
          "text": [
            "10 - 2018201820182018201820182018201820182018\n"
          ]
        },
        {
          "output_type": "stream",
          "name": "stderr",
          "text": [
            "<ipython-input-29-871837843d1e>:9: FutureWarning: The behavior of DataFrame concatenation with empty or all-NA entries is deprecated. In a future version, this will no longer exclude empty or all-NA columns when determining the result dtypes. To retain the old behavior, exclude the relevant entries before the concat operation.\n",
            "  df_receiving_depth_all = pandas.concat([df_receiving_depth_all, df_summary], axis = 0)\n"
          ]
        },
        {
          "output_type": "stream",
          "name": "stdout",
          "text": [
            "11 - 2018201820182018201820182018201820182018\n"
          ]
        },
        {
          "output_type": "stream",
          "name": "stderr",
          "text": [
            "<ipython-input-29-871837843d1e>:9: FutureWarning: The behavior of DataFrame concatenation with empty or all-NA entries is deprecated. In a future version, this will no longer exclude empty or all-NA columns when determining the result dtypes. To retain the old behavior, exclude the relevant entries before the concat operation.\n",
            "  df_receiving_depth_all = pandas.concat([df_receiving_depth_all, df_summary], axis = 0)\n"
          ]
        },
        {
          "output_type": "stream",
          "name": "stdout",
          "text": [
            "12 - 2018201820182018201820182018201820182018\n",
            "13 - 2018201820182018201820182018201820182018\n"
          ]
        },
        {
          "output_type": "stream",
          "name": "stderr",
          "text": [
            "<ipython-input-29-871837843d1e>:9: FutureWarning: The behavior of DataFrame concatenation with empty or all-NA entries is deprecated. In a future version, this will no longer exclude empty or all-NA columns when determining the result dtypes. To retain the old behavior, exclude the relevant entries before the concat operation.\n",
            "  df_receiving_depth_all = pandas.concat([df_receiving_depth_all, df_summary], axis = 0)\n"
          ]
        },
        {
          "output_type": "stream",
          "name": "stdout",
          "text": [
            "14 - 2018201820182018201820182018201820182018\n"
          ]
        },
        {
          "output_type": "stream",
          "name": "stderr",
          "text": [
            "<ipython-input-29-871837843d1e>:9: FutureWarning: The behavior of DataFrame concatenation with empty or all-NA entries is deprecated. In a future version, this will no longer exclude empty or all-NA columns when determining the result dtypes. To retain the old behavior, exclude the relevant entries before the concat operation.\n",
            "  df_receiving_depth_all = pandas.concat([df_receiving_depth_all, df_summary], axis = 0)\n"
          ]
        },
        {
          "output_type": "stream",
          "name": "stdout",
          "text": [
            "15 - 2018201820182018201820182018201820182018\n"
          ]
        },
        {
          "output_type": "stream",
          "name": "stderr",
          "text": [
            "<ipython-input-29-871837843d1e>:9: FutureWarning: The behavior of DataFrame concatenation with empty or all-NA entries is deprecated. In a future version, this will no longer exclude empty or all-NA columns when determining the result dtypes. To retain the old behavior, exclude the relevant entries before the concat operation.\n",
            "  df_receiving_depth_all = pandas.concat([df_receiving_depth_all, df_summary], axis = 0)\n"
          ]
        },
        {
          "output_type": "stream",
          "name": "stdout",
          "text": [
            "16 - 2018201820182018201820182018201820182018\n"
          ]
        },
        {
          "output_type": "stream",
          "name": "stderr",
          "text": [
            "<ipython-input-29-871837843d1e>:9: FutureWarning: The behavior of DataFrame concatenation with empty or all-NA entries is deprecated. In a future version, this will no longer exclude empty or all-NA columns when determining the result dtypes. To retain the old behavior, exclude the relevant entries before the concat operation.\n",
            "  df_receiving_depth_all = pandas.concat([df_receiving_depth_all, df_summary], axis = 0)\n"
          ]
        },
        {
          "output_type": "stream",
          "name": "stdout",
          "text": [
            "17 - 2018201820182018201820182018201820182018\n",
            "18 - 2018201820182018201820182018201820182018\n"
          ]
        },
        {
          "output_type": "stream",
          "name": "stderr",
          "text": [
            "<ipython-input-29-871837843d1e>:9: FutureWarning: The behavior of DataFrame concatenation with empty or all-NA entries is deprecated. In a future version, this will no longer exclude empty or all-NA columns when determining the result dtypes. To retain the old behavior, exclude the relevant entries before the concat operation.\n",
            "  df_receiving_depth_all = pandas.concat([df_receiving_depth_all, df_summary], axis = 0)\n"
          ]
        },
        {
          "output_type": "stream",
          "name": "stdout",
          "text": [
            "28 - 2018201820182018201820182018201820182018\n"
          ]
        },
        {
          "output_type": "stream",
          "name": "stderr",
          "text": [
            "<ipython-input-29-871837843d1e>:9: FutureWarning: The behavior of DataFrame concatenation with empty or all-NA entries is deprecated. In a future version, this will no longer exclude empty or all-NA columns when determining the result dtypes. To retain the old behavior, exclude the relevant entries before the concat operation.\n",
            "  df_receiving_depth_all = pandas.concat([df_receiving_depth_all, df_summary], axis = 0)\n"
          ]
        },
        {
          "output_type": "stream",
          "name": "stdout",
          "text": [
            "29 - 2018201820182018201820182018201820182018\n"
          ]
        },
        {
          "output_type": "stream",
          "name": "stderr",
          "text": [
            "<ipython-input-29-871837843d1e>:9: FutureWarning: The behavior of DataFrame concatenation with empty or all-NA entries is deprecated. In a future version, this will no longer exclude empty or all-NA columns when determining the result dtypes. To retain the old behavior, exclude the relevant entries before the concat operation.\n",
            "  df_receiving_depth_all = pandas.concat([df_receiving_depth_all, df_summary], axis = 0)\n"
          ]
        },
        {
          "output_type": "stream",
          "name": "stdout",
          "text": [
            "30 - 2018201820182018201820182018201820182018\n"
          ]
        },
        {
          "output_type": "stream",
          "name": "stderr",
          "text": [
            "<ipython-input-29-871837843d1e>:9: FutureWarning: The behavior of DataFrame concatenation with empty or all-NA entries is deprecated. In a future version, this will no longer exclude empty or all-NA columns when determining the result dtypes. To retain the old behavior, exclude the relevant entries before the concat operation.\n",
            "  df_receiving_depth_all = pandas.concat([df_receiving_depth_all, df_summary], axis = 0)\n"
          ]
        },
        {
          "output_type": "stream",
          "name": "stdout",
          "text": [
            "32 - 2018201820182018201820182018201820182018\n"
          ]
        },
        {
          "output_type": "stream",
          "name": "stderr",
          "text": [
            "<ipython-input-29-871837843d1e>:9: FutureWarning: The behavior of DataFrame concatenation with empty or all-NA entries is deprecated. In a future version, this will no longer exclude empty or all-NA columns when determining the result dtypes. To retain the old behavior, exclude the relevant entries before the concat operation.\n",
            "  df_receiving_depth_all = pandas.concat([df_receiving_depth_all, df_summary], axis = 0)\n"
          ]
        },
        {
          "output_type": "stream",
          "name": "stdout",
          "text": [
            "1 - 2017201720172017201720172017201720172017\n"
          ]
        },
        {
          "output_type": "stream",
          "name": "stderr",
          "text": [
            "<ipython-input-29-871837843d1e>:9: FutureWarning: The behavior of DataFrame concatenation with empty or all-NA entries is deprecated. In a future version, this will no longer exclude empty or all-NA columns when determining the result dtypes. To retain the old behavior, exclude the relevant entries before the concat operation.\n",
            "  df_receiving_depth_all = pandas.concat([df_receiving_depth_all, df_summary], axis = 0)\n"
          ]
        },
        {
          "output_type": "stream",
          "name": "stdout",
          "text": [
            "2 - 2017201720172017201720172017201720172017\n"
          ]
        },
        {
          "output_type": "stream",
          "name": "stderr",
          "text": [
            "<ipython-input-29-871837843d1e>:9: FutureWarning: The behavior of DataFrame concatenation with empty or all-NA entries is deprecated. In a future version, this will no longer exclude empty or all-NA columns when determining the result dtypes. To retain the old behavior, exclude the relevant entries before the concat operation.\n",
            "  df_receiving_depth_all = pandas.concat([df_receiving_depth_all, df_summary], axis = 0)\n"
          ]
        },
        {
          "output_type": "stream",
          "name": "stdout",
          "text": [
            "3 - 2017201720172017201720172017201720172017\n"
          ]
        },
        {
          "output_type": "stream",
          "name": "stderr",
          "text": [
            "<ipython-input-29-871837843d1e>:9: FutureWarning: The behavior of DataFrame concatenation with empty or all-NA entries is deprecated. In a future version, this will no longer exclude empty or all-NA columns when determining the result dtypes. To retain the old behavior, exclude the relevant entries before the concat operation.\n",
            "  df_receiving_depth_all = pandas.concat([df_receiving_depth_all, df_summary], axis = 0)\n"
          ]
        },
        {
          "output_type": "stream",
          "name": "stdout",
          "text": [
            "4 - 2017201720172017201720172017201720172017\n"
          ]
        },
        {
          "output_type": "stream",
          "name": "stderr",
          "text": [
            "<ipython-input-29-871837843d1e>:9: FutureWarning: The behavior of DataFrame concatenation with empty or all-NA entries is deprecated. In a future version, this will no longer exclude empty or all-NA columns when determining the result dtypes. To retain the old behavior, exclude the relevant entries before the concat operation.\n",
            "  df_receiving_depth_all = pandas.concat([df_receiving_depth_all, df_summary], axis = 0)\n"
          ]
        },
        {
          "output_type": "stream",
          "name": "stdout",
          "text": [
            "5 - 2017201720172017201720172017201720172017\n"
          ]
        },
        {
          "output_type": "stream",
          "name": "stderr",
          "text": [
            "<ipython-input-29-871837843d1e>:9: FutureWarning: The behavior of DataFrame concatenation with empty or all-NA entries is deprecated. In a future version, this will no longer exclude empty or all-NA columns when determining the result dtypes. To retain the old behavior, exclude the relevant entries before the concat operation.\n",
            "  df_receiving_depth_all = pandas.concat([df_receiving_depth_all, df_summary], axis = 0)\n"
          ]
        },
        {
          "output_type": "stream",
          "name": "stdout",
          "text": [
            "6 - 2017201720172017201720172017201720172017\n",
            "7 - 2017201720172017201720172017201720172017\n"
          ]
        },
        {
          "output_type": "stream",
          "name": "stderr",
          "text": [
            "<ipython-input-29-871837843d1e>:9: FutureWarning: The behavior of DataFrame concatenation with empty or all-NA entries is deprecated. In a future version, this will no longer exclude empty or all-NA columns when determining the result dtypes. To retain the old behavior, exclude the relevant entries before the concat operation.\n",
            "  df_receiving_depth_all = pandas.concat([df_receiving_depth_all, df_summary], axis = 0)\n"
          ]
        },
        {
          "output_type": "stream",
          "name": "stdout",
          "text": [
            "8 - 2017201720172017201720172017201720172017\n"
          ]
        },
        {
          "output_type": "stream",
          "name": "stderr",
          "text": [
            "<ipython-input-29-871837843d1e>:9: FutureWarning: The behavior of DataFrame concatenation with empty or all-NA entries is deprecated. In a future version, this will no longer exclude empty or all-NA columns when determining the result dtypes. To retain the old behavior, exclude the relevant entries before the concat operation.\n",
            "  df_receiving_depth_all = pandas.concat([df_receiving_depth_all, df_summary], axis = 0)\n"
          ]
        },
        {
          "output_type": "stream",
          "name": "stdout",
          "text": [
            "9 - 2017201720172017201720172017201720172017\n"
          ]
        },
        {
          "output_type": "stream",
          "name": "stderr",
          "text": [
            "<ipython-input-29-871837843d1e>:9: FutureWarning: The behavior of DataFrame concatenation with empty or all-NA entries is deprecated. In a future version, this will no longer exclude empty or all-NA columns when determining the result dtypes. To retain the old behavior, exclude the relevant entries before the concat operation.\n",
            "  df_receiving_depth_all = pandas.concat([df_receiving_depth_all, df_summary], axis = 0)\n"
          ]
        },
        {
          "output_type": "stream",
          "name": "stdout",
          "text": [
            "10 - 2017201720172017201720172017201720172017\n"
          ]
        },
        {
          "output_type": "stream",
          "name": "stderr",
          "text": [
            "<ipython-input-29-871837843d1e>:9: FutureWarning: The behavior of DataFrame concatenation with empty or all-NA entries is deprecated. In a future version, this will no longer exclude empty or all-NA columns when determining the result dtypes. To retain the old behavior, exclude the relevant entries before the concat operation.\n",
            "  df_receiving_depth_all = pandas.concat([df_receiving_depth_all, df_summary], axis = 0)\n"
          ]
        },
        {
          "output_type": "stream",
          "name": "stdout",
          "text": [
            "11 - 2017201720172017201720172017201720172017\n",
            "12 - 2017201720172017201720172017201720172017\n"
          ]
        },
        {
          "output_type": "stream",
          "name": "stderr",
          "text": [
            "<ipython-input-29-871837843d1e>:9: FutureWarning: The behavior of DataFrame concatenation with empty or all-NA entries is deprecated. In a future version, this will no longer exclude empty or all-NA columns when determining the result dtypes. To retain the old behavior, exclude the relevant entries before the concat operation.\n",
            "  df_receiving_depth_all = pandas.concat([df_receiving_depth_all, df_summary], axis = 0)\n"
          ]
        },
        {
          "output_type": "stream",
          "name": "stdout",
          "text": [
            "13 - 2017201720172017201720172017201720172017\n",
            "14 - 2017201720172017201720172017201720172017\n"
          ]
        },
        {
          "output_type": "stream",
          "name": "stderr",
          "text": [
            "<ipython-input-29-871837843d1e>:9: FutureWarning: The behavior of DataFrame concatenation with empty or all-NA entries is deprecated. In a future version, this will no longer exclude empty or all-NA columns when determining the result dtypes. To retain the old behavior, exclude the relevant entries before the concat operation.\n",
            "  df_receiving_depth_all = pandas.concat([df_receiving_depth_all, df_summary], axis = 0)\n"
          ]
        },
        {
          "output_type": "stream",
          "name": "stdout",
          "text": [
            "15 - 2017201720172017201720172017201720172017\n",
            "16 - 2017201720172017201720172017201720172017\n"
          ]
        },
        {
          "output_type": "stream",
          "name": "stderr",
          "text": [
            "<ipython-input-29-871837843d1e>:9: FutureWarning: The behavior of DataFrame concatenation with empty or all-NA entries is deprecated. In a future version, this will no longer exclude empty or all-NA columns when determining the result dtypes. To retain the old behavior, exclude the relevant entries before the concat operation.\n",
            "  df_receiving_depth_all = pandas.concat([df_receiving_depth_all, df_summary], axis = 0)\n"
          ]
        },
        {
          "output_type": "stream",
          "name": "stdout",
          "text": [
            "17 - 2017201720172017201720172017201720172017\n",
            "18 - 2017201720172017201720172017201720172017\n"
          ]
        },
        {
          "output_type": "stream",
          "name": "stderr",
          "text": [
            "<ipython-input-29-871837843d1e>:9: FutureWarning: The behavior of DataFrame concatenation with empty or all-NA entries is deprecated. In a future version, this will no longer exclude empty or all-NA columns when determining the result dtypes. To retain the old behavior, exclude the relevant entries before the concat operation.\n",
            "  df_receiving_depth_all = pandas.concat([df_receiving_depth_all, df_summary], axis = 0)\n"
          ]
        },
        {
          "output_type": "stream",
          "name": "stdout",
          "text": [
            "28 - 2017201720172017201720172017201720172017\n"
          ]
        },
        {
          "output_type": "stream",
          "name": "stderr",
          "text": [
            "<ipython-input-29-871837843d1e>:9: FutureWarning: The behavior of DataFrame concatenation with empty or all-NA entries is deprecated. In a future version, this will no longer exclude empty or all-NA columns when determining the result dtypes. To retain the old behavior, exclude the relevant entries before the concat operation.\n",
            "  df_receiving_depth_all = pandas.concat([df_receiving_depth_all, df_summary], axis = 0)\n"
          ]
        },
        {
          "output_type": "stream",
          "name": "stdout",
          "text": [
            "29 - 2017201720172017201720172017201720172017\n"
          ]
        },
        {
          "output_type": "stream",
          "name": "stderr",
          "text": [
            "<ipython-input-29-871837843d1e>:9: FutureWarning: The behavior of DataFrame concatenation with empty or all-NA entries is deprecated. In a future version, this will no longer exclude empty or all-NA columns when determining the result dtypes. To retain the old behavior, exclude the relevant entries before the concat operation.\n",
            "  df_receiving_depth_all = pandas.concat([df_receiving_depth_all, df_summary], axis = 0)\n"
          ]
        },
        {
          "output_type": "stream",
          "name": "stdout",
          "text": [
            "30 - 2017201720172017201720172017201720172017\n"
          ]
        },
        {
          "output_type": "stream",
          "name": "stderr",
          "text": [
            "<ipython-input-29-871837843d1e>:9: FutureWarning: The behavior of DataFrame concatenation with empty or all-NA entries is deprecated. In a future version, this will no longer exclude empty or all-NA columns when determining the result dtypes. To retain the old behavior, exclude the relevant entries before the concat operation.\n",
            "  df_receiving_depth_all = pandas.concat([df_receiving_depth_all, df_summary], axis = 0)\n"
          ]
        },
        {
          "output_type": "stream",
          "name": "stdout",
          "text": [
            "32 - 2017201720172017201720172017201720172017\n",
            "1 - 2016201620162016201620162016201620162016\n"
          ]
        },
        {
          "output_type": "stream",
          "name": "stderr",
          "text": [
            "<ipython-input-29-871837843d1e>:9: FutureWarning: The behavior of DataFrame concatenation with empty or all-NA entries is deprecated. In a future version, this will no longer exclude empty or all-NA columns when determining the result dtypes. To retain the old behavior, exclude the relevant entries before the concat operation.\n",
            "  df_receiving_depth_all = pandas.concat([df_receiving_depth_all, df_summary], axis = 0)\n"
          ]
        },
        {
          "output_type": "stream",
          "name": "stdout",
          "text": [
            "2 - 2016201620162016201620162016201620162016\n"
          ]
        },
        {
          "output_type": "stream",
          "name": "stderr",
          "text": [
            "<ipython-input-29-871837843d1e>:9: FutureWarning: The behavior of DataFrame concatenation with empty or all-NA entries is deprecated. In a future version, this will no longer exclude empty or all-NA columns when determining the result dtypes. To retain the old behavior, exclude the relevant entries before the concat operation.\n",
            "  df_receiving_depth_all = pandas.concat([df_receiving_depth_all, df_summary], axis = 0)\n"
          ]
        },
        {
          "output_type": "stream",
          "name": "stdout",
          "text": [
            "3 - 2016201620162016201620162016201620162016\n",
            "4 - 2016201620162016201620162016201620162016\n"
          ]
        },
        {
          "output_type": "stream",
          "name": "stderr",
          "text": [
            "<ipython-input-29-871837843d1e>:9: FutureWarning: The behavior of DataFrame concatenation with empty or all-NA entries is deprecated. In a future version, this will no longer exclude empty or all-NA columns when determining the result dtypes. To retain the old behavior, exclude the relevant entries before the concat operation.\n",
            "  df_receiving_depth_all = pandas.concat([df_receiving_depth_all, df_summary], axis = 0)\n"
          ]
        },
        {
          "output_type": "stream",
          "name": "stdout",
          "text": [
            "5 - 2016201620162016201620162016201620162016\n"
          ]
        },
        {
          "output_type": "stream",
          "name": "stderr",
          "text": [
            "<ipython-input-29-871837843d1e>:9: FutureWarning: The behavior of DataFrame concatenation with empty or all-NA entries is deprecated. In a future version, this will no longer exclude empty or all-NA columns when determining the result dtypes. To retain the old behavior, exclude the relevant entries before the concat operation.\n",
            "  df_receiving_depth_all = pandas.concat([df_receiving_depth_all, df_summary], axis = 0)\n"
          ]
        },
        {
          "output_type": "stream",
          "name": "stdout",
          "text": [
            "6 - 2016201620162016201620162016201620162016\n"
          ]
        },
        {
          "output_type": "stream",
          "name": "stderr",
          "text": [
            "<ipython-input-29-871837843d1e>:9: FutureWarning: The behavior of DataFrame concatenation with empty or all-NA entries is deprecated. In a future version, this will no longer exclude empty or all-NA columns when determining the result dtypes. To retain the old behavior, exclude the relevant entries before the concat operation.\n",
            "  df_receiving_depth_all = pandas.concat([df_receiving_depth_all, df_summary], axis = 0)\n"
          ]
        },
        {
          "output_type": "stream",
          "name": "stdout",
          "text": [
            "7 - 2016201620162016201620162016201620162016\n"
          ]
        },
        {
          "output_type": "stream",
          "name": "stderr",
          "text": [
            "<ipython-input-29-871837843d1e>:9: FutureWarning: The behavior of DataFrame concatenation with empty or all-NA entries is deprecated. In a future version, this will no longer exclude empty or all-NA columns when determining the result dtypes. To retain the old behavior, exclude the relevant entries before the concat operation.\n",
            "  df_receiving_depth_all = pandas.concat([df_receiving_depth_all, df_summary], axis = 0)\n"
          ]
        },
        {
          "output_type": "stream",
          "name": "stdout",
          "text": [
            "8 - 2016201620162016201620162016201620162016\n"
          ]
        },
        {
          "output_type": "stream",
          "name": "stderr",
          "text": [
            "<ipython-input-29-871837843d1e>:9: FutureWarning: The behavior of DataFrame concatenation with empty or all-NA entries is deprecated. In a future version, this will no longer exclude empty or all-NA columns when determining the result dtypes. To retain the old behavior, exclude the relevant entries before the concat operation.\n",
            "  df_receiving_depth_all = pandas.concat([df_receiving_depth_all, df_summary], axis = 0)\n"
          ]
        },
        {
          "output_type": "stream",
          "name": "stdout",
          "text": [
            "9 - 2016201620162016201620162016201620162016\n"
          ]
        },
        {
          "output_type": "stream",
          "name": "stderr",
          "text": [
            "<ipython-input-29-871837843d1e>:9: FutureWarning: The behavior of DataFrame concatenation with empty or all-NA entries is deprecated. In a future version, this will no longer exclude empty or all-NA columns when determining the result dtypes. To retain the old behavior, exclude the relevant entries before the concat operation.\n",
            "  df_receiving_depth_all = pandas.concat([df_receiving_depth_all, df_summary], axis = 0)\n"
          ]
        },
        {
          "output_type": "stream",
          "name": "stdout",
          "text": [
            "10 - 2016201620162016201620162016201620162016\n"
          ]
        },
        {
          "output_type": "stream",
          "name": "stderr",
          "text": [
            "<ipython-input-29-871837843d1e>:9: FutureWarning: The behavior of DataFrame concatenation with empty or all-NA entries is deprecated. In a future version, this will no longer exclude empty or all-NA columns when determining the result dtypes. To retain the old behavior, exclude the relevant entries before the concat operation.\n",
            "  df_receiving_depth_all = pandas.concat([df_receiving_depth_all, df_summary], axis = 0)\n"
          ]
        },
        {
          "output_type": "stream",
          "name": "stdout",
          "text": [
            "11 - 2016201620162016201620162016201620162016\n"
          ]
        },
        {
          "output_type": "stream",
          "name": "stderr",
          "text": [
            "<ipython-input-29-871837843d1e>:9: FutureWarning: The behavior of DataFrame concatenation with empty or all-NA entries is deprecated. In a future version, this will no longer exclude empty or all-NA columns when determining the result dtypes. To retain the old behavior, exclude the relevant entries before the concat operation.\n",
            "  df_receiving_depth_all = pandas.concat([df_receiving_depth_all, df_summary], axis = 0)\n"
          ]
        },
        {
          "output_type": "stream",
          "name": "stdout",
          "text": [
            "12 - 2016201620162016201620162016201620162016\n"
          ]
        },
        {
          "output_type": "stream",
          "name": "stderr",
          "text": [
            "<ipython-input-29-871837843d1e>:9: FutureWarning: The behavior of DataFrame concatenation with empty or all-NA entries is deprecated. In a future version, this will no longer exclude empty or all-NA columns when determining the result dtypes. To retain the old behavior, exclude the relevant entries before the concat operation.\n",
            "  df_receiving_depth_all = pandas.concat([df_receiving_depth_all, df_summary], axis = 0)\n"
          ]
        },
        {
          "output_type": "stream",
          "name": "stdout",
          "text": [
            "13 - 2016201620162016201620162016201620162016\n"
          ]
        },
        {
          "output_type": "stream",
          "name": "stderr",
          "text": [
            "<ipython-input-29-871837843d1e>:9: FutureWarning: The behavior of DataFrame concatenation with empty or all-NA entries is deprecated. In a future version, this will no longer exclude empty or all-NA columns when determining the result dtypes. To retain the old behavior, exclude the relevant entries before the concat operation.\n",
            "  df_receiving_depth_all = pandas.concat([df_receiving_depth_all, df_summary], axis = 0)\n"
          ]
        },
        {
          "output_type": "stream",
          "name": "stdout",
          "text": [
            "14 - 2016201620162016201620162016201620162016\n"
          ]
        },
        {
          "output_type": "stream",
          "name": "stderr",
          "text": [
            "<ipython-input-29-871837843d1e>:9: FutureWarning: The behavior of DataFrame concatenation with empty or all-NA entries is deprecated. In a future version, this will no longer exclude empty or all-NA columns when determining the result dtypes. To retain the old behavior, exclude the relevant entries before the concat operation.\n",
            "  df_receiving_depth_all = pandas.concat([df_receiving_depth_all, df_summary], axis = 0)\n"
          ]
        },
        {
          "output_type": "stream",
          "name": "stdout",
          "text": [
            "15 - 2016201620162016201620162016201620162016\n"
          ]
        },
        {
          "output_type": "stream",
          "name": "stderr",
          "text": [
            "<ipython-input-29-871837843d1e>:9: FutureWarning: The behavior of DataFrame concatenation with empty or all-NA entries is deprecated. In a future version, this will no longer exclude empty or all-NA columns when determining the result dtypes. To retain the old behavior, exclude the relevant entries before the concat operation.\n",
            "  df_receiving_depth_all = pandas.concat([df_receiving_depth_all, df_summary], axis = 0)\n"
          ]
        },
        {
          "output_type": "stream",
          "name": "stdout",
          "text": [
            "16 - 2016201620162016201620162016201620162016\n"
          ]
        },
        {
          "output_type": "stream",
          "name": "stderr",
          "text": [
            "<ipython-input-29-871837843d1e>:9: FutureWarning: The behavior of DataFrame concatenation with empty or all-NA entries is deprecated. In a future version, this will no longer exclude empty or all-NA columns when determining the result dtypes. To retain the old behavior, exclude the relevant entries before the concat operation.\n",
            "  df_receiving_depth_all = pandas.concat([df_receiving_depth_all, df_summary], axis = 0)\n"
          ]
        },
        {
          "output_type": "stream",
          "name": "stdout",
          "text": [
            "17 - 2016201620162016201620162016201620162016\n",
            "18 - 2016201620162016201620162016201620162016\n"
          ]
        },
        {
          "output_type": "stream",
          "name": "stderr",
          "text": [
            "<ipython-input-29-871837843d1e>:9: FutureWarning: The behavior of DataFrame concatenation with empty or all-NA entries is deprecated. In a future version, this will no longer exclude empty or all-NA columns when determining the result dtypes. To retain the old behavior, exclude the relevant entries before the concat operation.\n",
            "  df_receiving_depth_all = pandas.concat([df_receiving_depth_all, df_summary], axis = 0)\n"
          ]
        },
        {
          "output_type": "stream",
          "name": "stdout",
          "text": [
            "28 - 2016201620162016201620162016201620162016\n"
          ]
        },
        {
          "output_type": "stream",
          "name": "stderr",
          "text": [
            "<ipython-input-29-871837843d1e>:9: FutureWarning: The behavior of DataFrame concatenation with empty or all-NA entries is deprecated. In a future version, this will no longer exclude empty or all-NA columns when determining the result dtypes. To retain the old behavior, exclude the relevant entries before the concat operation.\n",
            "  df_receiving_depth_all = pandas.concat([df_receiving_depth_all, df_summary], axis = 0)\n"
          ]
        },
        {
          "output_type": "stream",
          "name": "stdout",
          "text": [
            "29 - 2016201620162016201620162016201620162016\n"
          ]
        },
        {
          "output_type": "stream",
          "name": "stderr",
          "text": [
            "<ipython-input-29-871837843d1e>:9: FutureWarning: The behavior of DataFrame concatenation with empty or all-NA entries is deprecated. In a future version, this will no longer exclude empty or all-NA columns when determining the result dtypes. To retain the old behavior, exclude the relevant entries before the concat operation.\n",
            "  df_receiving_depth_all = pandas.concat([df_receiving_depth_all, df_summary], axis = 0)\n"
          ]
        },
        {
          "output_type": "stream",
          "name": "stdout",
          "text": [
            "30 - 2016201620162016201620162016201620162016\n",
            "32 - 2016201620162016201620162016201620162016\n"
          ]
        },
        {
          "output_type": "stream",
          "name": "stderr",
          "text": [
            "<ipython-input-29-871837843d1e>:9: FutureWarning: The behavior of DataFrame concatenation with empty or all-NA entries is deprecated. In a future version, this will no longer exclude empty or all-NA columns when determining the result dtypes. To retain the old behavior, exclude the relevant entries before the concat operation.\n",
            "  df_receiving_depth_all = pandas.concat([df_receiving_depth_all, df_summary], axis = 0)\n"
          ]
        }
      ],
      "source": [
        "#years = [2024, 2023, 2022, 2021, 2020, 2019, 2018, 2017, 2016]\n",
        "#weeks = [1,2,3,4,5,6,7,8,9,10,11,12,13,14,15,16,17,18,28,29,30,32]\n",
        "for year in years:\n",
        "    for week in weeks:\n",
        "      summary = requests.get(rf'https://premium.pff.com/api/v1/facet/receiving/depth?league=nfl&season={year}&week={week}', cookies = cookies)\n",
        "      df_summary = pandas.DataFrame(summary.json()['receiving_depth'])\n",
        "      df_summary[\"Week\"] = week\n",
        "      df_summary[\"Season\"] = year\n",
        "      df_receiving_depth_all = pandas.concat([df_receiving_depth_all, df_summary], axis = 0)\n",
        "      print(str(week) + \" - \" + str(year)*10)\n",
        "\n",
        "# THIS IS FOR RECEIVING DEPTH - 2016-22"
      ]
    },
    {
      "cell_type": "code",
      "execution_count": null,
      "metadata": {
        "id": "u9KVBoeB3QT_"
      },
      "outputs": [],
      "source": [
        "df_receiving_depth_all.to_excel(\"df_receiving_depth_all.xlsx\", index = False)"
      ]
    },
    {
      "cell_type": "code",
      "execution_count": null,
      "metadata": {
        "id": "a5Ew_FMg8Biq",
        "colab": {
          "base_uri": "https://localhost:8080/",
          "height": 17
        },
        "outputId": "128b3f19-e7fa-4ca1-f4c3-bfac5b4a883f"
      },
      "outputs": [
        {
          "output_type": "display_data",
          "data": {
            "text/plain": [
              "<IPython.core.display.Javascript object>"
            ],
            "application/javascript": [
              "\n",
              "    async function download(id, filename, size) {\n",
              "      if (!google.colab.kernel.accessAllowed) {\n",
              "        return;\n",
              "      }\n",
              "      const div = document.createElement('div');\n",
              "      const label = document.createElement('label');\n",
              "      label.textContent = `Downloading \"${filename}\": `;\n",
              "      div.appendChild(label);\n",
              "      const progress = document.createElement('progress');\n",
              "      progress.max = size;\n",
              "      div.appendChild(progress);\n",
              "      document.body.appendChild(div);\n",
              "\n",
              "      const buffers = [];\n",
              "      let downloaded = 0;\n",
              "\n",
              "      const channel = await google.colab.kernel.comms.open(id);\n",
              "      // Send a message to notify the kernel that we're ready.\n",
              "      channel.send({})\n",
              "\n",
              "      for await (const message of channel.messages) {\n",
              "        // Send a message to notify the kernel that we're ready.\n",
              "        channel.send({})\n",
              "        if (message.buffers) {\n",
              "          for (const buffer of message.buffers) {\n",
              "            buffers.push(buffer);\n",
              "            downloaded += buffer.byteLength;\n",
              "            progress.value = downloaded;\n",
              "          }\n",
              "        }\n",
              "      }\n",
              "      const blob = new Blob(buffers, {type: 'application/binary'});\n",
              "      const a = document.createElement('a');\n",
              "      a.href = window.URL.createObjectURL(blob);\n",
              "      a.download = filename;\n",
              "      div.appendChild(a);\n",
              "      a.click();\n",
              "      div.remove();\n",
              "    }\n",
              "  "
            ]
          },
          "metadata": {}
        },
        {
          "output_type": "display_data",
          "data": {
            "text/plain": [
              "<IPython.core.display.Javascript object>"
            ],
            "application/javascript": [
              "download(\"download_cbc2ffa1-8cfe-4a5b-9be4-1288b8faeae4\", \"df_receiving_depth_all.xlsx\", 59907311)"
            ]
          },
          "metadata": {}
        }
      ],
      "source": [
        "files.download(\"df_receiving_depth_all.xlsx\")"
      ]
    },
    {
      "cell_type": "code",
      "execution_count": null,
      "metadata": {
        "id": "OdVfuhMSDYw3"
      },
      "outputs": [],
      "source": [
        "df_rushing_stats = pandas.DataFrame()"
      ]
    },
    {
      "cell_type": "code",
      "execution_count": null,
      "metadata": {
        "colab": {
          "base_uri": "https://localhost:8080/"
        },
        "id": "tWZXY8pNG1x8",
        "outputId": "f6aa3602-78c8-4cd9-e3f2-5ae18b47df98"
      },
      "outputs": [
        {
          "output_type": "stream",
          "name": "stdout",
          "text": [
            "1 - 2024202420242024202420242024202420242024\n",
            "2 - 2024202420242024202420242024202420242024\n",
            "3 - 2024202420242024202420242024202420242024\n",
            "4 - 2024202420242024202420242024202420242024\n",
            "5 - 2024202420242024202420242024202420242024\n",
            "6 - 2024202420242024202420242024202420242024\n",
            "7 - 2024202420242024202420242024202420242024\n",
            "8 - 2024202420242024202420242024202420242024\n",
            "9 - 2024202420242024202420242024202420242024\n",
            "10 - 2024202420242024202420242024202420242024\n",
            "11 - 2024202420242024202420242024202420242024\n",
            "12 - 2024202420242024202420242024202420242024\n",
            "13 - 2024202420242024202420242024202420242024\n",
            "14 - 2024202420242024202420242024202420242024\n",
            "15 - 2024202420242024202420242024202420242024\n",
            "16 - 2024202420242024202420242024202420242024\n",
            "17 - 2024202420242024202420242024202420242024\n",
            "18 - 2024202420242024202420242024202420242024\n",
            "28 - 2024202420242024202420242024202420242024\n",
            "29 - 2024202420242024202420242024202420242024\n",
            "30 - 2024202420242024202420242024202420242024\n",
            "32 - 2024202420242024202420242024202420242024\n",
            "1 - 2023202320232023202320232023202320232023\n",
            "2 - 2023202320232023202320232023202320232023\n",
            "3 - 2023202320232023202320232023202320232023\n",
            "4 - 2023202320232023202320232023202320232023\n",
            "5 - 2023202320232023202320232023202320232023\n",
            "6 - 2023202320232023202320232023202320232023\n",
            "7 - 2023202320232023202320232023202320232023\n",
            "8 - 2023202320232023202320232023202320232023\n",
            "9 - 2023202320232023202320232023202320232023\n",
            "10 - 2023202320232023202320232023202320232023\n",
            "11 - 2023202320232023202320232023202320232023\n",
            "12 - 2023202320232023202320232023202320232023\n",
            "13 - 2023202320232023202320232023202320232023\n",
            "14 - 2023202320232023202320232023202320232023\n",
            "15 - 2023202320232023202320232023202320232023\n",
            "16 - 2023202320232023202320232023202320232023\n",
            "17 - 2023202320232023202320232023202320232023\n",
            "18 - 2023202320232023202320232023202320232023\n",
            "28 - 2023202320232023202320232023202320232023\n",
            "29 - 2023202320232023202320232023202320232023\n",
            "30 - 2023202320232023202320232023202320232023\n",
            "32 - 2023202320232023202320232023202320232023\n",
            "1 - 2022202220222022202220222022202220222022\n",
            "2 - 2022202220222022202220222022202220222022\n",
            "3 - 2022202220222022202220222022202220222022\n",
            "4 - 2022202220222022202220222022202220222022\n",
            "5 - 2022202220222022202220222022202220222022\n",
            "6 - 2022202220222022202220222022202220222022\n",
            "7 - 2022202220222022202220222022202220222022\n",
            "8 - 2022202220222022202220222022202220222022\n",
            "9 - 2022202220222022202220222022202220222022\n",
            "10 - 2022202220222022202220222022202220222022\n",
            "11 - 2022202220222022202220222022202220222022\n",
            "12 - 2022202220222022202220222022202220222022\n",
            "13 - 2022202220222022202220222022202220222022\n",
            "14 - 2022202220222022202220222022202220222022\n",
            "15 - 2022202220222022202220222022202220222022\n",
            "16 - 2022202220222022202220222022202220222022\n",
            "17 - 2022202220222022202220222022202220222022\n",
            "18 - 2022202220222022202220222022202220222022\n",
            "28 - 2022202220222022202220222022202220222022\n",
            "29 - 2022202220222022202220222022202220222022\n",
            "30 - 2022202220222022202220222022202220222022\n",
            "32 - 2022202220222022202220222022202220222022\n",
            "1 - 2021202120212021202120212021202120212021\n",
            "2 - 2021202120212021202120212021202120212021\n",
            "3 - 2021202120212021202120212021202120212021\n",
            "4 - 2021202120212021202120212021202120212021\n",
            "5 - 2021202120212021202120212021202120212021\n",
            "6 - 2021202120212021202120212021202120212021\n",
            "7 - 2021202120212021202120212021202120212021\n",
            "8 - 2021202120212021202120212021202120212021\n",
            "9 - 2021202120212021202120212021202120212021\n",
            "10 - 2021202120212021202120212021202120212021\n",
            "11 - 2021202120212021202120212021202120212021\n",
            "12 - 2021202120212021202120212021202120212021\n",
            "13 - 2021202120212021202120212021202120212021\n",
            "14 - 2021202120212021202120212021202120212021\n",
            "15 - 2021202120212021202120212021202120212021\n",
            "16 - 2021202120212021202120212021202120212021\n",
            "17 - 2021202120212021202120212021202120212021\n",
            "18 - 2021202120212021202120212021202120212021\n",
            "28 - 2021202120212021202120212021202120212021\n",
            "29 - 2021202120212021202120212021202120212021\n",
            "30 - 2021202120212021202120212021202120212021\n",
            "32 - 2021202120212021202120212021202120212021\n",
            "1 - 2020202020202020202020202020202020202020\n",
            "2 - 2020202020202020202020202020202020202020\n",
            "3 - 2020202020202020202020202020202020202020\n",
            "4 - 2020202020202020202020202020202020202020\n",
            "5 - 2020202020202020202020202020202020202020\n",
            "6 - 2020202020202020202020202020202020202020\n",
            "7 - 2020202020202020202020202020202020202020\n",
            "8 - 2020202020202020202020202020202020202020\n",
            "9 - 2020202020202020202020202020202020202020\n",
            "10 - 2020202020202020202020202020202020202020\n",
            "11 - 2020202020202020202020202020202020202020\n",
            "12 - 2020202020202020202020202020202020202020\n",
            "13 - 2020202020202020202020202020202020202020\n",
            "14 - 2020202020202020202020202020202020202020\n",
            "15 - 2020202020202020202020202020202020202020\n",
            "16 - 2020202020202020202020202020202020202020\n",
            "17 - 2020202020202020202020202020202020202020\n",
            "18 - 2020202020202020202020202020202020202020\n",
            "28 - 2020202020202020202020202020202020202020\n",
            "29 - 2020202020202020202020202020202020202020\n",
            "30 - 2020202020202020202020202020202020202020\n",
            "32 - 2020202020202020202020202020202020202020\n",
            "1 - 2019201920192019201920192019201920192019\n",
            "2 - 2019201920192019201920192019201920192019\n",
            "3 - 2019201920192019201920192019201920192019\n",
            "4 - 2019201920192019201920192019201920192019\n",
            "5 - 2019201920192019201920192019201920192019\n",
            "6 - 2019201920192019201920192019201920192019\n",
            "7 - 2019201920192019201920192019201920192019\n",
            "8 - 2019201920192019201920192019201920192019\n",
            "9 - 2019201920192019201920192019201920192019\n",
            "10 - 2019201920192019201920192019201920192019\n",
            "11 - 2019201920192019201920192019201920192019\n",
            "12 - 2019201920192019201920192019201920192019\n",
            "13 - 2019201920192019201920192019201920192019\n",
            "14 - 2019201920192019201920192019201920192019\n",
            "15 - 2019201920192019201920192019201920192019\n",
            "16 - 2019201920192019201920192019201920192019\n",
            "17 - 2019201920192019201920192019201920192019\n",
            "18 - 2019201920192019201920192019201920192019\n",
            "28 - 2019201920192019201920192019201920192019\n",
            "29 - 2019201920192019201920192019201920192019\n",
            "30 - 2019201920192019201920192019201920192019\n",
            "32 - 2019201920192019201920192019201920192019\n",
            "1 - 2018201820182018201820182018201820182018\n",
            "2 - 2018201820182018201820182018201820182018\n",
            "3 - 2018201820182018201820182018201820182018\n",
            "4 - 2018201820182018201820182018201820182018\n",
            "5 - 2018201820182018201820182018201820182018\n",
            "6 - 2018201820182018201820182018201820182018\n",
            "7 - 2018201820182018201820182018201820182018\n",
            "8 - 2018201820182018201820182018201820182018\n",
            "9 - 2018201820182018201820182018201820182018\n",
            "10 - 2018201820182018201820182018201820182018\n",
            "11 - 2018201820182018201820182018201820182018\n",
            "12 - 2018201820182018201820182018201820182018\n",
            "13 - 2018201820182018201820182018201820182018\n",
            "14 - 2018201820182018201820182018201820182018\n",
            "15 - 2018201820182018201820182018201820182018\n",
            "16 - 2018201820182018201820182018201820182018\n",
            "17 - 2018201820182018201820182018201820182018\n",
            "18 - 2018201820182018201820182018201820182018\n",
            "28 - 2018201820182018201820182018201820182018\n",
            "29 - 2018201820182018201820182018201820182018\n",
            "30 - 2018201820182018201820182018201820182018\n",
            "32 - 2018201820182018201820182018201820182018\n",
            "1 - 2017201720172017201720172017201720172017\n",
            "2 - 2017201720172017201720172017201720172017\n",
            "3 - 2017201720172017201720172017201720172017\n",
            "4 - 2017201720172017201720172017201720172017\n",
            "5 - 2017201720172017201720172017201720172017\n",
            "6 - 2017201720172017201720172017201720172017\n",
            "7 - 2017201720172017201720172017201720172017\n",
            "8 - 2017201720172017201720172017201720172017\n",
            "9 - 2017201720172017201720172017201720172017\n",
            "10 - 2017201720172017201720172017201720172017\n",
            "11 - 2017201720172017201720172017201720172017\n",
            "12 - 2017201720172017201720172017201720172017\n",
            "13 - 2017201720172017201720172017201720172017\n",
            "14 - 2017201720172017201720172017201720172017\n",
            "15 - 2017201720172017201720172017201720172017\n",
            "16 - 2017201720172017201720172017201720172017\n",
            "17 - 2017201720172017201720172017201720172017\n",
            "18 - 2017201720172017201720172017201720172017\n",
            "28 - 2017201720172017201720172017201720172017\n",
            "29 - 2017201720172017201720172017201720172017\n",
            "30 - 2017201720172017201720172017201720172017\n",
            "32 - 2017201720172017201720172017201720172017\n",
            "1 - 2016201620162016201620162016201620162016\n",
            "2 - 2016201620162016201620162016201620162016\n",
            "3 - 2016201620162016201620162016201620162016\n",
            "4 - 2016201620162016201620162016201620162016\n",
            "5 - 2016201620162016201620162016201620162016\n",
            "6 - 2016201620162016201620162016201620162016\n",
            "7 - 2016201620162016201620162016201620162016\n",
            "8 - 2016201620162016201620162016201620162016\n",
            "9 - 2016201620162016201620162016201620162016\n",
            "10 - 2016201620162016201620162016201620162016\n",
            "11 - 2016201620162016201620162016201620162016\n",
            "12 - 2016201620162016201620162016201620162016\n",
            "13 - 2016201620162016201620162016201620162016\n",
            "14 - 2016201620162016201620162016201620162016\n",
            "15 - 2016201620162016201620162016201620162016\n",
            "16 - 2016201620162016201620162016201620162016\n",
            "17 - 2016201620162016201620162016201620162016\n",
            "18 - 2016201620162016201620162016201620162016\n",
            "28 - 2016201620162016201620162016201620162016\n",
            "29 - 2016201620162016201620162016201620162016\n",
            "30 - 2016201620162016201620162016201620162016\n",
            "32 - 2016201620162016201620162016201620162016\n"
          ]
        }
      ],
      "source": [
        "#years = [2016,2017,2018,2019,2020,2021,2022,2023,2024]\n",
        "#weeks = [1,2,3,4,5,6,7,8,9,10,11,12,13,14,15,16,17,18,28,29,30,31,32]\n",
        "for year in years:\n",
        "    for week in weeks:\n",
        "      summary = requests.get(rf'https://premium.pff.com/api/v1/facet/rushing/summary?league=nfl&season={year}&week={week}', cookies = cookies)\n",
        "      df_summary = pandas.DataFrame(summary.json()['rushing_summary'])\n",
        "      df_summary[\"Week\"] = week\n",
        "      df_summary[\"Season\"] = year\n",
        "      df_rushing_stats = pandas.concat([df_rushing_stats, df_summary], axis = 0)\n",
        "      print(str(week) + \" - \" + str(year)*10)\n",
        "\n",
        "# THIS IS FOR RUSHING STATS - 2016-22"
      ]
    },
    {
      "cell_type": "code",
      "execution_count": null,
      "metadata": {
        "colab": {
          "base_uri": "https://localhost:8080/",
          "height": 17
        },
        "id": "xmHZ46hbLkd4",
        "outputId": "6e52108a-1702-487e-f81c-db0f046cf5b7"
      },
      "outputs": [
        {
          "output_type": "display_data",
          "data": {
            "text/plain": [
              "<IPython.core.display.Javascript object>"
            ],
            "application/javascript": [
              "\n",
              "    async function download(id, filename, size) {\n",
              "      if (!google.colab.kernel.accessAllowed) {\n",
              "        return;\n",
              "      }\n",
              "      const div = document.createElement('div');\n",
              "      const label = document.createElement('label');\n",
              "      label.textContent = `Downloading \"${filename}\": `;\n",
              "      div.appendChild(label);\n",
              "      const progress = document.createElement('progress');\n",
              "      progress.max = size;\n",
              "      div.appendChild(progress);\n",
              "      document.body.appendChild(div);\n",
              "\n",
              "      const buffers = [];\n",
              "      let downloaded = 0;\n",
              "\n",
              "      const channel = await google.colab.kernel.comms.open(id);\n",
              "      // Send a message to notify the kernel that we're ready.\n",
              "      channel.send({})\n",
              "\n",
              "      for await (const message of channel.messages) {\n",
              "        // Send a message to notify the kernel that we're ready.\n",
              "        channel.send({})\n",
              "        if (message.buffers) {\n",
              "          for (const buffer of message.buffers) {\n",
              "            buffers.push(buffer);\n",
              "            downloaded += buffer.byteLength;\n",
              "            progress.value = downloaded;\n",
              "          }\n",
              "        }\n",
              "      }\n",
              "      const blob = new Blob(buffers, {type: 'application/binary'});\n",
              "      const a = document.createElement('a');\n",
              "      a.href = window.URL.createObjectURL(blob);\n",
              "      a.download = filename;\n",
              "      div.appendChild(a);\n",
              "      a.click();\n",
              "      div.remove();\n",
              "    }\n",
              "  "
            ]
          },
          "metadata": {}
        },
        {
          "output_type": "display_data",
          "data": {
            "text/plain": [
              "<IPython.core.display.Javascript object>"
            ],
            "application/javascript": [
              "download(\"download_2db28ee6-4d2d-4bc4-bd28-136cd67814e6\", \"df_rushing_stats.xlsx\", 4563616)"
            ]
          },
          "metadata": {}
        }
      ],
      "source": [
        "df_rushing_stats.to_excel(\"df_rushing_stats.xlsx\", index = False)\n",
        "files.download(\"df_rushing_stats.xlsx\")"
      ]
    },
    {
      "cell_type": "code",
      "execution_count": null,
      "metadata": {
        "id": "YMRjRBRYzEkV"
      },
      "outputs": [],
      "source": [
        "df_receiver_scheme = pandas.DataFrame()"
      ]
    },
    {
      "cell_type": "code",
      "execution_count": null,
      "metadata": {
        "colab": {
          "base_uri": "https://localhost:8080/"
        },
        "id": "5LnbQ4qFzHP2",
        "outputId": "8e48fa14-eed4-49cf-e4f5-ed0dcc0f1916"
      },
      "outputs": [
        {
          "output_type": "stream",
          "name": "stdout",
          "text": [
            "1 - 2024202420242024202420242024202420242024\n",
            "2 - 2024202420242024202420242024202420242024\n",
            "3 - 2024202420242024202420242024202420242024\n",
            "4 - 2024202420242024202420242024202420242024\n",
            "5 - 2024202420242024202420242024202420242024\n",
            "6 - 2024202420242024202420242024202420242024\n",
            "7 - 2024202420242024202420242024202420242024\n",
            "8 - 2024202420242024202420242024202420242024\n",
            "9 - 2024202420242024202420242024202420242024\n",
            "10 - 2024202420242024202420242024202420242024\n",
            "11 - 2024202420242024202420242024202420242024\n",
            "12 - 2024202420242024202420242024202420242024\n",
            "13 - 2024202420242024202420242024202420242024\n",
            "14 - 2024202420242024202420242024202420242024\n",
            "15 - 2024202420242024202420242024202420242024\n",
            "16 - 2024202420242024202420242024202420242024\n",
            "17 - 2024202420242024202420242024202420242024\n",
            "18 - 2024202420242024202420242024202420242024\n",
            "28 - 2024202420242024202420242024202420242024\n",
            "29 - 2024202420242024202420242024202420242024\n",
            "30 - 2024202420242024202420242024202420242024\n",
            "32 - 2024202420242024202420242024202420242024\n",
            "1 - 2023202320232023202320232023202320232023\n",
            "2 - 2023202320232023202320232023202320232023\n",
            "3 - 2023202320232023202320232023202320232023\n",
            "4 - 2023202320232023202320232023202320232023\n",
            "5 - 2023202320232023202320232023202320232023\n",
            "6 - 2023202320232023202320232023202320232023\n",
            "7 - 2023202320232023202320232023202320232023\n",
            "8 - 2023202320232023202320232023202320232023\n",
            "9 - 2023202320232023202320232023202320232023\n",
            "10 - 2023202320232023202320232023202320232023\n",
            "11 - 2023202320232023202320232023202320232023\n",
            "12 - 2023202320232023202320232023202320232023\n",
            "13 - 2023202320232023202320232023202320232023\n",
            "14 - 2023202320232023202320232023202320232023\n",
            "15 - 2023202320232023202320232023202320232023\n",
            "16 - 2023202320232023202320232023202320232023\n",
            "17 - 2023202320232023202320232023202320232023\n",
            "18 - 2023202320232023202320232023202320232023\n",
            "28 - 2023202320232023202320232023202320232023\n",
            "29 - 2023202320232023202320232023202320232023\n",
            "30 - 2023202320232023202320232023202320232023\n",
            "32 - 2023202320232023202320232023202320232023\n",
            "1 - 2022202220222022202220222022202220222022\n",
            "2 - 2022202220222022202220222022202220222022\n",
            "3 - 2022202220222022202220222022202220222022\n",
            "4 - 2022202220222022202220222022202220222022\n",
            "5 - 2022202220222022202220222022202220222022\n",
            "6 - 2022202220222022202220222022202220222022\n",
            "7 - 2022202220222022202220222022202220222022\n",
            "8 - 2022202220222022202220222022202220222022\n",
            "9 - 2022202220222022202220222022202220222022\n",
            "10 - 2022202220222022202220222022202220222022\n",
            "11 - 2022202220222022202220222022202220222022\n",
            "12 - 2022202220222022202220222022202220222022\n",
            "13 - 2022202220222022202220222022202220222022\n",
            "14 - 2022202220222022202220222022202220222022\n",
            "15 - 2022202220222022202220222022202220222022\n",
            "16 - 2022202220222022202220222022202220222022\n",
            "17 - 2022202220222022202220222022202220222022\n",
            "18 - 2022202220222022202220222022202220222022\n",
            "28 - 2022202220222022202220222022202220222022\n",
            "29 - 2022202220222022202220222022202220222022\n",
            "30 - 2022202220222022202220222022202220222022\n",
            "32 - 2022202220222022202220222022202220222022\n",
            "1 - 2021202120212021202120212021202120212021\n",
            "2 - 2021202120212021202120212021202120212021\n",
            "3 - 2021202120212021202120212021202120212021\n",
            "4 - 2021202120212021202120212021202120212021\n",
            "5 - 2021202120212021202120212021202120212021\n",
            "6 - 2021202120212021202120212021202120212021\n",
            "7 - 2021202120212021202120212021202120212021\n",
            "8 - 2021202120212021202120212021202120212021\n",
            "9 - 2021202120212021202120212021202120212021\n",
            "10 - 2021202120212021202120212021202120212021\n",
            "11 - 2021202120212021202120212021202120212021\n",
            "12 - 2021202120212021202120212021202120212021\n",
            "13 - 2021202120212021202120212021202120212021\n",
            "14 - 2021202120212021202120212021202120212021\n",
            "15 - 2021202120212021202120212021202120212021\n",
            "16 - 2021202120212021202120212021202120212021\n",
            "17 - 2021202120212021202120212021202120212021\n",
            "18 - 2021202120212021202120212021202120212021\n",
            "28 - 2021202120212021202120212021202120212021\n",
            "29 - 2021202120212021202120212021202120212021\n",
            "30 - 2021202120212021202120212021202120212021\n",
            "32 - 2021202120212021202120212021202120212021\n",
            "1 - 2020202020202020202020202020202020202020\n",
            "2 - 2020202020202020202020202020202020202020\n",
            "3 - 2020202020202020202020202020202020202020\n",
            "4 - 2020202020202020202020202020202020202020\n",
            "5 - 2020202020202020202020202020202020202020\n",
            "6 - 2020202020202020202020202020202020202020\n",
            "7 - 2020202020202020202020202020202020202020\n",
            "8 - 2020202020202020202020202020202020202020\n",
            "9 - 2020202020202020202020202020202020202020\n",
            "10 - 2020202020202020202020202020202020202020\n",
            "11 - 2020202020202020202020202020202020202020\n",
            "12 - 2020202020202020202020202020202020202020\n",
            "13 - 2020202020202020202020202020202020202020\n",
            "14 - 2020202020202020202020202020202020202020\n",
            "15 - 2020202020202020202020202020202020202020\n",
            "16 - 2020202020202020202020202020202020202020\n",
            "17 - 2020202020202020202020202020202020202020\n",
            "18 - 2020202020202020202020202020202020202020\n",
            "28 - 2020202020202020202020202020202020202020\n",
            "29 - 2020202020202020202020202020202020202020\n",
            "30 - 2020202020202020202020202020202020202020\n",
            "32 - 2020202020202020202020202020202020202020\n",
            "1 - 2019201920192019201920192019201920192019\n",
            "2 - 2019201920192019201920192019201920192019\n",
            "3 - 2019201920192019201920192019201920192019\n",
            "4 - 2019201920192019201920192019201920192019\n",
            "5 - 2019201920192019201920192019201920192019\n",
            "6 - 2019201920192019201920192019201920192019\n",
            "7 - 2019201920192019201920192019201920192019\n",
            "8 - 2019201920192019201920192019201920192019\n",
            "9 - 2019201920192019201920192019201920192019\n",
            "10 - 2019201920192019201920192019201920192019\n",
            "11 - 2019201920192019201920192019201920192019\n",
            "12 - 2019201920192019201920192019201920192019\n",
            "13 - 2019201920192019201920192019201920192019\n",
            "14 - 2019201920192019201920192019201920192019\n",
            "15 - 2019201920192019201920192019201920192019\n",
            "16 - 2019201920192019201920192019201920192019\n",
            "17 - 2019201920192019201920192019201920192019\n",
            "18 - 2019201920192019201920192019201920192019\n",
            "28 - 2019201920192019201920192019201920192019\n",
            "29 - 2019201920192019201920192019201920192019\n",
            "30 - 2019201920192019201920192019201920192019\n",
            "32 - 2019201920192019201920192019201920192019\n",
            "1 - 2018201820182018201820182018201820182018\n",
            "2 - 2018201820182018201820182018201820182018\n",
            "3 - 2018201820182018201820182018201820182018\n",
            "4 - 2018201820182018201820182018201820182018\n",
            "5 - 2018201820182018201820182018201820182018\n",
            "6 - 2018201820182018201820182018201820182018\n",
            "7 - 2018201820182018201820182018201820182018\n",
            "8 - 2018201820182018201820182018201820182018\n",
            "9 - 2018201820182018201820182018201820182018\n",
            "10 - 2018201820182018201820182018201820182018\n",
            "11 - 2018201820182018201820182018201820182018\n",
            "12 - 2018201820182018201820182018201820182018\n",
            "13 - 2018201820182018201820182018201820182018\n",
            "14 - 2018201820182018201820182018201820182018\n",
            "15 - 2018201820182018201820182018201820182018\n",
            "16 - 2018201820182018201820182018201820182018\n",
            "17 - 2018201820182018201820182018201820182018\n",
            "18 - 2018201820182018201820182018201820182018\n",
            "28 - 2018201820182018201820182018201820182018\n",
            "29 - 2018201820182018201820182018201820182018\n",
            "30 - 2018201820182018201820182018201820182018\n",
            "32 - 2018201820182018201820182018201820182018\n",
            "1 - 2017201720172017201720172017201720172017\n",
            "2 - 2017201720172017201720172017201720172017\n",
            "3 - 2017201720172017201720172017201720172017\n",
            "4 - 2017201720172017201720172017201720172017\n",
            "5 - 2017201720172017201720172017201720172017\n",
            "6 - 2017201720172017201720172017201720172017\n",
            "7 - 2017201720172017201720172017201720172017\n",
            "8 - 2017201720172017201720172017201720172017\n",
            "9 - 2017201720172017201720172017201720172017\n",
            "10 - 2017201720172017201720172017201720172017\n",
            "11 - 2017201720172017201720172017201720172017\n",
            "12 - 2017201720172017201720172017201720172017\n",
            "13 - 2017201720172017201720172017201720172017\n",
            "14 - 2017201720172017201720172017201720172017\n",
            "15 - 2017201720172017201720172017201720172017\n",
            "16 - 2017201720172017201720172017201720172017\n",
            "17 - 2017201720172017201720172017201720172017\n",
            "18 - 2017201720172017201720172017201720172017\n",
            "28 - 2017201720172017201720172017201720172017\n",
            "29 - 2017201720172017201720172017201720172017\n",
            "30 - 2017201720172017201720172017201720172017\n",
            "32 - 2017201720172017201720172017201720172017\n",
            "1 - 2016201620162016201620162016201620162016\n"
          ]
        },
        {
          "output_type": "stream",
          "name": "stderr",
          "text": [
            "<ipython-input-43-7c2040d9e562>:10: FutureWarning: The behavior of DataFrame concatenation with empty or all-NA entries is deprecated. In a future version, this will no longer exclude empty or all-NA columns when determining the result dtypes. To retain the old behavior, exclude the relevant entries before the concat operation.\n",
            "  df_receiver_scheme = pandas.concat([df_receiver_scheme, df_summary], axis = 0)\n"
          ]
        },
        {
          "output_type": "stream",
          "name": "stdout",
          "text": [
            "2 - 2016201620162016201620162016201620162016\n",
            "3 - 2016201620162016201620162016201620162016\n",
            "4 - 2016201620162016201620162016201620162016\n"
          ]
        },
        {
          "output_type": "stream",
          "name": "stderr",
          "text": [
            "<ipython-input-43-7c2040d9e562>:10: FutureWarning: The behavior of DataFrame concatenation with empty or all-NA entries is deprecated. In a future version, this will no longer exclude empty or all-NA columns when determining the result dtypes. To retain the old behavior, exclude the relevant entries before the concat operation.\n",
            "  df_receiver_scheme = pandas.concat([df_receiver_scheme, df_summary], axis = 0)\n"
          ]
        },
        {
          "output_type": "stream",
          "name": "stdout",
          "text": [
            "5 - 2016201620162016201620162016201620162016\n"
          ]
        },
        {
          "output_type": "stream",
          "name": "stderr",
          "text": [
            "<ipython-input-43-7c2040d9e562>:10: FutureWarning: The behavior of DataFrame concatenation with empty or all-NA entries is deprecated. In a future version, this will no longer exclude empty or all-NA columns when determining the result dtypes. To retain the old behavior, exclude the relevant entries before the concat operation.\n",
            "  df_receiver_scheme = pandas.concat([df_receiver_scheme, df_summary], axis = 0)\n"
          ]
        },
        {
          "output_type": "stream",
          "name": "stdout",
          "text": [
            "6 - 2016201620162016201620162016201620162016\n"
          ]
        },
        {
          "output_type": "stream",
          "name": "stderr",
          "text": [
            "<ipython-input-43-7c2040d9e562>:10: FutureWarning: The behavior of DataFrame concatenation with empty or all-NA entries is deprecated. In a future version, this will no longer exclude empty or all-NA columns when determining the result dtypes. To retain the old behavior, exclude the relevant entries before the concat operation.\n",
            "  df_receiver_scheme = pandas.concat([df_receiver_scheme, df_summary], axis = 0)\n"
          ]
        },
        {
          "output_type": "stream",
          "name": "stdout",
          "text": [
            "7 - 2016201620162016201620162016201620162016\n"
          ]
        },
        {
          "output_type": "stream",
          "name": "stderr",
          "text": [
            "<ipython-input-43-7c2040d9e562>:10: FutureWarning: The behavior of DataFrame concatenation with empty or all-NA entries is deprecated. In a future version, this will no longer exclude empty or all-NA columns when determining the result dtypes. To retain the old behavior, exclude the relevant entries before the concat operation.\n",
            "  df_receiver_scheme = pandas.concat([df_receiver_scheme, df_summary], axis = 0)\n"
          ]
        },
        {
          "output_type": "stream",
          "name": "stdout",
          "text": [
            "8 - 2016201620162016201620162016201620162016\n"
          ]
        },
        {
          "output_type": "stream",
          "name": "stderr",
          "text": [
            "<ipython-input-43-7c2040d9e562>:10: FutureWarning: The behavior of DataFrame concatenation with empty or all-NA entries is deprecated. In a future version, this will no longer exclude empty or all-NA columns when determining the result dtypes. To retain the old behavior, exclude the relevant entries before the concat operation.\n",
            "  df_receiver_scheme = pandas.concat([df_receiver_scheme, df_summary], axis = 0)\n"
          ]
        },
        {
          "output_type": "stream",
          "name": "stdout",
          "text": [
            "9 - 2016201620162016201620162016201620162016\n"
          ]
        },
        {
          "output_type": "stream",
          "name": "stderr",
          "text": [
            "<ipython-input-43-7c2040d9e562>:10: FutureWarning: The behavior of DataFrame concatenation with empty or all-NA entries is deprecated. In a future version, this will no longer exclude empty or all-NA columns when determining the result dtypes. To retain the old behavior, exclude the relevant entries before the concat operation.\n",
            "  df_receiver_scheme = pandas.concat([df_receiver_scheme, df_summary], axis = 0)\n"
          ]
        },
        {
          "output_type": "stream",
          "name": "stdout",
          "text": [
            "10 - 2016201620162016201620162016201620162016\n"
          ]
        },
        {
          "output_type": "stream",
          "name": "stderr",
          "text": [
            "<ipython-input-43-7c2040d9e562>:10: FutureWarning: The behavior of DataFrame concatenation with empty or all-NA entries is deprecated. In a future version, this will no longer exclude empty or all-NA columns when determining the result dtypes. To retain the old behavior, exclude the relevant entries before the concat operation.\n",
            "  df_receiver_scheme = pandas.concat([df_receiver_scheme, df_summary], axis = 0)\n"
          ]
        },
        {
          "output_type": "stream",
          "name": "stdout",
          "text": [
            "11 - 2016201620162016201620162016201620162016\n"
          ]
        },
        {
          "output_type": "stream",
          "name": "stderr",
          "text": [
            "<ipython-input-43-7c2040d9e562>:10: FutureWarning: The behavior of DataFrame concatenation with empty or all-NA entries is deprecated. In a future version, this will no longer exclude empty or all-NA columns when determining the result dtypes. To retain the old behavior, exclude the relevant entries before the concat operation.\n",
            "  df_receiver_scheme = pandas.concat([df_receiver_scheme, df_summary], axis = 0)\n"
          ]
        },
        {
          "output_type": "stream",
          "name": "stdout",
          "text": [
            "12 - 2016201620162016201620162016201620162016\n"
          ]
        },
        {
          "output_type": "stream",
          "name": "stderr",
          "text": [
            "<ipython-input-43-7c2040d9e562>:10: FutureWarning: The behavior of DataFrame concatenation with empty or all-NA entries is deprecated. In a future version, this will no longer exclude empty or all-NA columns when determining the result dtypes. To retain the old behavior, exclude the relevant entries before the concat operation.\n",
            "  df_receiver_scheme = pandas.concat([df_receiver_scheme, df_summary], axis = 0)\n"
          ]
        },
        {
          "output_type": "stream",
          "name": "stdout",
          "text": [
            "13 - 2016201620162016201620162016201620162016\n"
          ]
        },
        {
          "output_type": "stream",
          "name": "stderr",
          "text": [
            "<ipython-input-43-7c2040d9e562>:10: FutureWarning: The behavior of DataFrame concatenation with empty or all-NA entries is deprecated. In a future version, this will no longer exclude empty or all-NA columns when determining the result dtypes. To retain the old behavior, exclude the relevant entries before the concat operation.\n",
            "  df_receiver_scheme = pandas.concat([df_receiver_scheme, df_summary], axis = 0)\n"
          ]
        },
        {
          "output_type": "stream",
          "name": "stdout",
          "text": [
            "14 - 2016201620162016201620162016201620162016\n"
          ]
        },
        {
          "output_type": "stream",
          "name": "stderr",
          "text": [
            "<ipython-input-43-7c2040d9e562>:10: FutureWarning: The behavior of DataFrame concatenation with empty or all-NA entries is deprecated. In a future version, this will no longer exclude empty or all-NA columns when determining the result dtypes. To retain the old behavior, exclude the relevant entries before the concat operation.\n",
            "  df_receiver_scheme = pandas.concat([df_receiver_scheme, df_summary], axis = 0)\n"
          ]
        },
        {
          "output_type": "stream",
          "name": "stdout",
          "text": [
            "15 - 2016201620162016201620162016201620162016\n"
          ]
        },
        {
          "output_type": "stream",
          "name": "stderr",
          "text": [
            "<ipython-input-43-7c2040d9e562>:10: FutureWarning: The behavior of DataFrame concatenation with empty or all-NA entries is deprecated. In a future version, this will no longer exclude empty or all-NA columns when determining the result dtypes. To retain the old behavior, exclude the relevant entries before the concat operation.\n",
            "  df_receiver_scheme = pandas.concat([df_receiver_scheme, df_summary], axis = 0)\n"
          ]
        },
        {
          "output_type": "stream",
          "name": "stdout",
          "text": [
            "16 - 2016201620162016201620162016201620162016\n"
          ]
        },
        {
          "output_type": "stream",
          "name": "stderr",
          "text": [
            "<ipython-input-43-7c2040d9e562>:10: FutureWarning: The behavior of DataFrame concatenation with empty or all-NA entries is deprecated. In a future version, this will no longer exclude empty or all-NA columns when determining the result dtypes. To retain the old behavior, exclude the relevant entries before the concat operation.\n",
            "  df_receiver_scheme = pandas.concat([df_receiver_scheme, df_summary], axis = 0)\n"
          ]
        },
        {
          "output_type": "stream",
          "name": "stdout",
          "text": [
            "17 - 2016201620162016201620162016201620162016\n",
            "18 - 2016201620162016201620162016201620162016\n"
          ]
        },
        {
          "output_type": "stream",
          "name": "stderr",
          "text": [
            "<ipython-input-43-7c2040d9e562>:10: FutureWarning: The behavior of DataFrame concatenation with empty or all-NA entries is deprecated. In a future version, this will no longer exclude empty or all-NA columns when determining the result dtypes. To retain the old behavior, exclude the relevant entries before the concat operation.\n",
            "  df_receiver_scheme = pandas.concat([df_receiver_scheme, df_summary], axis = 0)\n"
          ]
        },
        {
          "output_type": "stream",
          "name": "stdout",
          "text": [
            "28 - 2016201620162016201620162016201620162016\n"
          ]
        },
        {
          "output_type": "stream",
          "name": "stderr",
          "text": [
            "<ipython-input-43-7c2040d9e562>:10: FutureWarning: The behavior of DataFrame concatenation with empty or all-NA entries is deprecated. In a future version, this will no longer exclude empty or all-NA columns when determining the result dtypes. To retain the old behavior, exclude the relevant entries before the concat operation.\n",
            "  df_receiver_scheme = pandas.concat([df_receiver_scheme, df_summary], axis = 0)\n"
          ]
        },
        {
          "output_type": "stream",
          "name": "stdout",
          "text": [
            "29 - 2016201620162016201620162016201620162016\n"
          ]
        },
        {
          "output_type": "stream",
          "name": "stderr",
          "text": [
            "<ipython-input-43-7c2040d9e562>:10: FutureWarning: The behavior of DataFrame concatenation with empty or all-NA entries is deprecated. In a future version, this will no longer exclude empty or all-NA columns when determining the result dtypes. To retain the old behavior, exclude the relevant entries before the concat operation.\n",
            "  df_receiver_scheme = pandas.concat([df_receiver_scheme, df_summary], axis = 0)\n"
          ]
        },
        {
          "output_type": "stream",
          "name": "stdout",
          "text": [
            "30 - 2016201620162016201620162016201620162016\n",
            "32 - 2016201620162016201620162016201620162016\n"
          ]
        }
      ],
      "source": [
        "#years = [2024, 2023, 2022, 2021, 2020, 2019, 2018, 2017, 2016]\n",
        "#weeks = [1,2,3,4,5,6,7,8,9,10,11,12,13,14,15,16,17,18,28,29,30,32]\n",
        "\n",
        "for year in years:\n",
        "    for week in weeks:\n",
        "      summary = requests.get(rf'https://premium.pff.com/api/v1/facet/receiving/scheme?league=nfl&season={year}&week={week}', cookies = cookies)\n",
        "      df_summary = pandas.DataFrame(summary.json()['receiving_scheme'])\n",
        "      df_summary[\"Week\"] = week\n",
        "      df_summary[\"Season\"] = year\n",
        "      df_receiver_scheme = pandas.concat([df_receiver_scheme, df_summary], axis = 0)\n",
        "      print(str(week) + \" - \" + str(year)*10)\n",
        "\n"
      ]
    },
    {
      "cell_type": "code",
      "execution_count": null,
      "metadata": {
        "colab": {
          "base_uri": "https://localhost:8080/",
          "height": 17
        },
        "id": "zDS6oc-ZC6l7",
        "outputId": "39818e14-fa4d-4c6d-a7f4-60362f22d39f"
      },
      "outputs": [
        {
          "output_type": "display_data",
          "data": {
            "text/plain": [
              "<IPython.core.display.Javascript object>"
            ],
            "application/javascript": [
              "\n",
              "    async function download(id, filename, size) {\n",
              "      if (!google.colab.kernel.accessAllowed) {\n",
              "        return;\n",
              "      }\n",
              "      const div = document.createElement('div');\n",
              "      const label = document.createElement('label');\n",
              "      label.textContent = `Downloading \"${filename}\": `;\n",
              "      div.appendChild(label);\n",
              "      const progress = document.createElement('progress');\n",
              "      progress.max = size;\n",
              "      div.appendChild(progress);\n",
              "      document.body.appendChild(div);\n",
              "\n",
              "      const buffers = [];\n",
              "      let downloaded = 0;\n",
              "\n",
              "      const channel = await google.colab.kernel.comms.open(id);\n",
              "      // Send a message to notify the kernel that we're ready.\n",
              "      channel.send({})\n",
              "\n",
              "      for await (const message of channel.messages) {\n",
              "        // Send a message to notify the kernel that we're ready.\n",
              "        channel.send({})\n",
              "        if (message.buffers) {\n",
              "          for (const buffer of message.buffers) {\n",
              "            buffers.push(buffer);\n",
              "            downloaded += buffer.byteLength;\n",
              "            progress.value = downloaded;\n",
              "          }\n",
              "        }\n",
              "      }\n",
              "      const blob = new Blob(buffers, {type: 'application/binary'});\n",
              "      const a = document.createElement('a');\n",
              "      a.href = window.URL.createObjectURL(blob);\n",
              "      a.download = filename;\n",
              "      div.appendChild(a);\n",
              "      a.click();\n",
              "      div.remove();\n",
              "    }\n",
              "  "
            ]
          },
          "metadata": {}
        },
        {
          "output_type": "display_data",
          "data": {
            "text/plain": [
              "<IPython.core.display.Javascript object>"
            ],
            "application/javascript": [
              "download(\"download_0ee73309-fd8b-45c7-a6b7-5a750e0f2280\", \"df_receiver_scheme.xlsx\", 11495088)"
            ]
          },
          "metadata": {}
        }
      ],
      "source": [
        "df_receiver_scheme.to_excel(\"df_receiver_scheme.xlsx\", index = False)\n",
        "files.download(\"df_receiver_scheme.xlsx\")"
      ]
    }
  ],
  "metadata": {
    "accelerator": "GPU",
    "colab": {
      "gpuType": "A100",
      "machine_shape": "hm",
      "provenance": []
    },
    "kernelspec": {
      "display_name": "Python 3",
      "name": "python3"
    },
    "language_info": {
      "name": "python"
    }
  },
  "nbformat": 4,
  "nbformat_minor": 0
}